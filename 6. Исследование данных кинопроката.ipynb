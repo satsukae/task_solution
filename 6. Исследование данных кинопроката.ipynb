{
 "cells": [
  {
   "cell_type": "markdown",
   "metadata": {
    "id": "sIfNaMOxgFyK",
    "tags": []
   },
   "source": [
    "## Исследование данных о российском кинопрокате\n",
    "\n"
   ]
  },
  {
   "cell_type": "markdown",
   "metadata": {},
   "source": [
    "`Суть проекта` - Даны данные от Министерства культуры РФ. По ним нужно:\n",
    "   - Изучить рынок российского кинопроката<br>\n",
    "   - Выявить различные закономерности или их отсутствие <br>\n",
    "\n",
    "`Конечная цель проекта` - Оценка влияния различных факторов и действий на те или иные кинофильмы."
   ]
  },
  {
   "cell_type": "markdown",
   "metadata": {
    "id": "3bSlkCsbgFyL",
    "tags": []
   },
   "source": [
    "### Шаг 1. Откройте файлы с данными и объедините их в один датафрейм. \n",
    "\n",
    "Объедините данные таким образом, чтобы все объекты из датасета `mkrf_movies` обязательно вошли в получившийся датафрейм. "
   ]
  },
  {
   "cell_type": "markdown",
   "metadata": {},
   "source": [
    "Во время перевода столбца puNumber в целочисленный формат была ошибка, т.к в нем встречалось 'нет' в одной из ячеек. Нашел эту ячейку и удалил строку связанную с ней а затем объединил две таблицы по puNumber путем методом `merge` с параметром `inner` поскольку главная цель проекта - выявить тренды российского кинопроката, поэтому значения где не известны сборы в российских кинотеатрах никак не помогут для выявления трендов"
   ]
  },
  {
   "cell_type": "code",
   "execution_count": 251,
   "metadata": {},
   "outputs": [],
   "source": [
    "import numpy as np\n",
    "import datetime\n",
    "import matplotlib.pyplot as plt\n",
    "import pandas as pd\n",
    "import seaborn as sb\n",
    "import re\n",
    "\n",
    "%matplotlib inline\n",
    "pd.options.display.float_format ='{:,.3f}'.format"
   ]
  },
  {
   "cell_type": "code",
   "execution_count": 245,
   "metadata": {},
   "outputs": [
    {
     "name": "stdout",
     "output_type": "stream",
     "text": [
      "<class 'pandas.core.frame.DataFrame'>\n",
      "RangeIndex: 7486 entries, 0 to 7485\n",
      "Data columns (total 15 columns):\n",
      " #   Column                 Non-Null Count  Dtype  \n",
      "---  ------                 --------------  -----  \n",
      " 0   title                  7486 non-null   object \n",
      " 1   puNumber               7486 non-null   object \n",
      " 2   show_start_date        7486 non-null   object \n",
      " 3   type                   7486 non-null   object \n",
      " 4   film_studio            7468 non-null   object \n",
      " 5   production_country     7484 non-null   object \n",
      " 6   director               7477 non-null   object \n",
      " 7   producer               6918 non-null   object \n",
      " 8   age_restriction        7486 non-null   object \n",
      " 9   refundable_support     332 non-null    float64\n",
      " 10  nonrefundable_support  332 non-null    float64\n",
      " 11  budget                 332 non-null    float64\n",
      " 12  financing_source       332 non-null    object \n",
      " 13  ratings                6519 non-null   object \n",
      " 14  genres                 6510 non-null   object \n",
      "dtypes: float64(3), object(12)\n",
      "memory usage: 877.4+ KB\n",
      "\n",
      "<class 'pandas.core.frame.DataFrame'>\n",
      "RangeIndex: 3158 entries, 0 to 3157\n",
      "Data columns (total 2 columns):\n",
      " #   Column      Non-Null Count  Dtype  \n",
      "---  ------      --------------  -----  \n",
      " 0   puNumber    3158 non-null   int64  \n",
      " 1   box_office  3158 non-null   float64\n",
      "dtypes: float64(1), int64(1)\n",
      "memory usage: 49.5 KB\n"
     ]
    }
   ],
   "source": [
    "data = pd.read_csv('mkrf_movies.csv')\n",
    "data_2 = pd.read_csv('mkrf_shows.csv')\n",
    "data.info()\n",
    "print()\n",
    "data_2.info()"
   ]
  },
  {
   "cell_type": "markdown",
   "metadata": {},
   "source": [
    "`Dtype`, относящийся  к puNumber разный в `mkrf_movies` и `mkrf_shows`, из-за наличия пропуска в первой таблице"
   ]
  },
  {
   "cell_type": "code",
   "execution_count": 246,
   "metadata": {},
   "outputs": [
    {
     "name": "stdout",
     "output_type": "stream",
     "text": [
      "Кол-во до:7486\n",
      "Кол-во после:7486\n"
     ]
    }
   ],
   "source": [
    "print('Кол-во до:' + str(data['puNumber'].count()))\n",
    "data['puNumber'] = data['puNumber'].replace(' ', '')\n",
    "print('Кол-во после:' + str(data['puNumber'].count()))"
   ]
  },
  {
   "cell_type": "code",
   "execution_count": 247,
   "metadata": {},
   "outputs": [],
   "source": [
    "data.loc[data['puNumber'] == 'нет', 'puNumber'] = 0"
   ]
  },
  {
   "cell_type": "markdown",
   "metadata": {},
   "source": [
    "Пропуск был заменен на `0`"
   ]
  },
  {
   "cell_type": "code",
   "execution_count": 248,
   "metadata": {},
   "outputs": [
    {
     "name": "stdout",
     "output_type": "stream",
     "text": [
      "<class 'pandas.core.frame.DataFrame'>\n",
      "RangeIndex: 7486 entries, 0 to 7485\n",
      "Data columns (total 15 columns):\n",
      " #   Column                 Non-Null Count  Dtype  \n",
      "---  ------                 --------------  -----  \n",
      " 0   title                  7486 non-null   object \n",
      " 1   puNumber               7486 non-null   int64  \n",
      " 2   show_start_date        7486 non-null   object \n",
      " 3   type                   7486 non-null   object \n",
      " 4   film_studio            7468 non-null   object \n",
      " 5   production_country     7484 non-null   object \n",
      " 6   director               7477 non-null   object \n",
      " 7   producer               6918 non-null   object \n",
      " 8   age_restriction        7486 non-null   object \n",
      " 9   refundable_support     332 non-null    float64\n",
      " 10  nonrefundable_support  332 non-null    float64\n",
      " 11  budget                 332 non-null    float64\n",
      " 12  financing_source       332 non-null    object \n",
      " 13  ratings                6519 non-null   object \n",
      " 14  genres                 6510 non-null   object \n",
      "dtypes: float64(3), int64(1), object(11)\n",
      "memory usage: 877.4+ KB\n"
     ]
    }
   ],
   "source": [
    "data['puNumber'] = data['puNumber'].astype('int64')\n",
    "data.info()"
   ]
  },
  {
   "cell_type": "markdown",
   "metadata": {},
   "source": [
    "Как видно, количество строк не изменилось, теперь можно заняться объединением"
   ]
  },
  {
   "cell_type": "code",
   "execution_count": 249,
   "metadata": {},
   "outputs": [
    {
     "data": {
      "text/html": [
       "<div>\n",
       "<style scoped>\n",
       "    .dataframe tbody tr th:only-of-type {\n",
       "        vertical-align: middle;\n",
       "    }\n",
       "\n",
       "    .dataframe tbody tr th {\n",
       "        vertical-align: top;\n",
       "    }\n",
       "\n",
       "    .dataframe thead th {\n",
       "        text-align: right;\n",
       "    }\n",
       "</style>\n",
       "<table border=\"1\" class=\"dataframe\">\n",
       "  <thead>\n",
       "    <tr style=\"text-align: right;\">\n",
       "      <th></th>\n",
       "      <th>title</th>\n",
       "      <th>puNumber</th>\n",
       "      <th>show_start_date</th>\n",
       "      <th>type</th>\n",
       "      <th>film_studio</th>\n",
       "      <th>production_country</th>\n",
       "      <th>director</th>\n",
       "      <th>producer</th>\n",
       "      <th>age_restriction</th>\n",
       "      <th>refundable_support</th>\n",
       "      <th>nonrefundable_support</th>\n",
       "      <th>budget</th>\n",
       "      <th>financing_source</th>\n",
       "      <th>ratings</th>\n",
       "      <th>genres</th>\n",
       "      <th>box_office</th>\n",
       "    </tr>\n",
       "  </thead>\n",
       "  <tbody>\n",
       "    <tr>\n",
       "      <th>0</th>\n",
       "      <td>Открытый простор</td>\n",
       "      <td>221048915</td>\n",
       "      <td>2015-11-27T12:00:00.000Z</td>\n",
       "      <td>Художественный</td>\n",
       "      <td>Тачстоун Пикчерз, Кобальт Пикчерз, Бикон Пикче...</td>\n",
       "      <td>США</td>\n",
       "      <td>Кевин Костнер</td>\n",
       "      <td>Дэвид Валдес, Кевин Костнер, Джейк Эбертс</td>\n",
       "      <td>«18+» - запрещено для детей</td>\n",
       "      <td>NaN</td>\n",
       "      <td>NaN</td>\n",
       "      <td>NaN</td>\n",
       "      <td>NaN</td>\n",
       "      <td>7.2</td>\n",
       "      <td>боевик,драма,мелодрама</td>\n",
       "      <td>NaN</td>\n",
       "    </tr>\n",
       "    <tr>\n",
       "      <th>1</th>\n",
       "      <td>Особо важное задание</td>\n",
       "      <td>111013716</td>\n",
       "      <td>2016-09-13T12:00:00.000Z</td>\n",
       "      <td>Художественный</td>\n",
       "      <td>Киностудия \"Мосфильм\"</td>\n",
       "      <td>СССР</td>\n",
       "      <td>Е.Матвеев</td>\n",
       "      <td>NaN</td>\n",
       "      <td>«6+» - для детей старше 6 лет</td>\n",
       "      <td>NaN</td>\n",
       "      <td>NaN</td>\n",
       "      <td>NaN</td>\n",
       "      <td>NaN</td>\n",
       "      <td>6.6</td>\n",
       "      <td>драма,военный</td>\n",
       "      <td>NaN</td>\n",
       "    </tr>\n",
       "    <tr>\n",
       "      <th>2</th>\n",
       "      <td>Особо опасен</td>\n",
       "      <td>221038416</td>\n",
       "      <td>2016-10-10T12:00:00.000Z</td>\n",
       "      <td>Художественный</td>\n",
       "      <td>Юниверсал Пикчерз, Кикстарт Продакшнз, Марк Пл...</td>\n",
       "      <td>США</td>\n",
       "      <td>Тимур Бекмамбетов</td>\n",
       "      <td>Джим Лемли, Джейсон Нетер, Марк Е.Платт, Яйн Смит</td>\n",
       "      <td>«18+» - запрещено для детей</td>\n",
       "      <td>NaN</td>\n",
       "      <td>NaN</td>\n",
       "      <td>NaN</td>\n",
       "      <td>NaN</td>\n",
       "      <td>6.8</td>\n",
       "      <td>фантастика,боевик,триллер</td>\n",
       "      <td>NaN</td>\n",
       "    </tr>\n",
       "    <tr>\n",
       "      <th>3</th>\n",
       "      <td>Особо опасен</td>\n",
       "      <td>221026916</td>\n",
       "      <td>2016-06-10T12:00:00.000Z</td>\n",
       "      <td>Художественный</td>\n",
       "      <td>Юниверсал Пикчерз, Кикстарт Продакшнз, Марк Пл...</td>\n",
       "      <td>США</td>\n",
       "      <td>Тимур Бекмамбетов</td>\n",
       "      <td>Джим Лемли, Джейсон Нетер, Марк Е.Платт, Яйн Смит</td>\n",
       "      <td>«18+» - запрещено для детей</td>\n",
       "      <td>NaN</td>\n",
       "      <td>NaN</td>\n",
       "      <td>NaN</td>\n",
       "      <td>NaN</td>\n",
       "      <td>6.8</td>\n",
       "      <td>фантастика,боевик,триллер</td>\n",
       "      <td>NaN</td>\n",
       "    </tr>\n",
       "    <tr>\n",
       "      <th>4</th>\n",
       "      <td>Особо опасен</td>\n",
       "      <td>221030815</td>\n",
       "      <td>2015-07-29T12:00:00.000Z</td>\n",
       "      <td>Художественный</td>\n",
       "      <td>Юниверсал Пикчерз, Кикстарт Продакшнз, Марк Пл...</td>\n",
       "      <td>США</td>\n",
       "      <td>Тимур Бекмамбетов</td>\n",
       "      <td>Джим Лемли, Джейсон Нетер, Марк Е.Платт, Яйн Смит</td>\n",
       "      <td>«18+» - запрещено для детей</td>\n",
       "      <td>NaN</td>\n",
       "      <td>NaN</td>\n",
       "      <td>NaN</td>\n",
       "      <td>NaN</td>\n",
       "      <td>6.8</td>\n",
       "      <td>фантастика,боевик,триллер</td>\n",
       "      <td>NaN</td>\n",
       "    </tr>\n",
       "    <tr>\n",
       "      <th>...</th>\n",
       "      <td>...</td>\n",
       "      <td>...</td>\n",
       "      <td>...</td>\n",
       "      <td>...</td>\n",
       "      <td>...</td>\n",
       "      <td>...</td>\n",
       "      <td>...</td>\n",
       "      <td>...</td>\n",
       "      <td>...</td>\n",
       "      <td>...</td>\n",
       "      <td>...</td>\n",
       "      <td>...</td>\n",
       "      <td>...</td>\n",
       "      <td>...</td>\n",
       "      <td>...</td>\n",
       "      <td>...</td>\n",
       "    </tr>\n",
       "    <tr>\n",
       "      <th>7481</th>\n",
       "      <td>Сад художника: Американский импрессионизм</td>\n",
       "      <td>126008019</td>\n",
       "      <td>2019-12-23T12:00:00.000Z</td>\n",
       "      <td>Прочие</td>\n",
       "      <td>Севен Артс Продакшнз</td>\n",
       "      <td>Великобритания</td>\n",
       "      <td>Фил Грабски</td>\n",
       "      <td>Фил Грабски</td>\n",
       "      <td>«12+» - для детей старше 12 лет</td>\n",
       "      <td>NaN</td>\n",
       "      <td>NaN</td>\n",
       "      <td>NaN</td>\n",
       "      <td>NaN</td>\n",
       "      <td>NaN</td>\n",
       "      <td>NaN</td>\n",
       "      <td>NaN</td>\n",
       "    </tr>\n",
       "    <tr>\n",
       "      <th>7482</th>\n",
       "      <td>Звериная ярость</td>\n",
       "      <td>121037819</td>\n",
       "      <td>2019-12-24T12:00:00.000Z</td>\n",
       "      <td>Художественный</td>\n",
       "      <td>Дэниел Гродник Продакшнз, Вандерфилм Медиа Кор...</td>\n",
       "      <td>США</td>\n",
       "      <td>Ник Пауэлл</td>\n",
       "      <td>Джефф Боулер, Дэниэл Гродник, Луильо Руис, Брэ...</td>\n",
       "      <td>«16+» - для детей старше 16 лет</td>\n",
       "      <td>NaN</td>\n",
       "      <td>NaN</td>\n",
       "      <td>NaN</td>\n",
       "      <td>NaN</td>\n",
       "      <td>5.4</td>\n",
       "      <td>боевик,триллер</td>\n",
       "      <td>NaN</td>\n",
       "    </tr>\n",
       "    <tr>\n",
       "      <th>7483</th>\n",
       "      <td>Щенячий патруль: Скорей спешим на помощь!</td>\n",
       "      <td>124010819</td>\n",
       "      <td>2019-12-28T12:00:00.000Z</td>\n",
       "      <td>Художественный</td>\n",
       "      <td>Никелодеон Анимейшн Студиос, Спин Мастер</td>\n",
       "      <td>США - Канада</td>\n",
       "      <td>Чарльз Е.Бастьен</td>\n",
       "      <td>Дженнифер Додж</td>\n",
       "      <td>«0+» - для любой зрительской аудитории</td>\n",
       "      <td>NaN</td>\n",
       "      <td>NaN</td>\n",
       "      <td>NaN</td>\n",
       "      <td>NaN</td>\n",
       "      <td>NaN</td>\n",
       "      <td>NaN</td>\n",
       "      <td>NaN</td>\n",
       "    </tr>\n",
       "    <tr>\n",
       "      <th>7484</th>\n",
       "      <td>Машины песенки. Серия \"Испанские мотивы\"</td>\n",
       "      <td>124010619</td>\n",
       "      <td>2019-12-30T12:00:00.000Z</td>\n",
       "      <td>Анимационный</td>\n",
       "      <td>Анимаккорд Лтд., ООО Студия \"АНИМАККОРД\"</td>\n",
       "      <td>Республика Кипр, Россия</td>\n",
       "      <td>А.Беляев</td>\n",
       "      <td>Д.Ловейко</td>\n",
       "      <td>«0+» - для любой зрительской аудитории</td>\n",
       "      <td>NaN</td>\n",
       "      <td>NaN</td>\n",
       "      <td>NaN</td>\n",
       "      <td>NaN</td>\n",
       "      <td>NaN</td>\n",
       "      <td>NaN</td>\n",
       "      <td>NaN</td>\n",
       "    </tr>\n",
       "    <tr>\n",
       "      <th>7485</th>\n",
       "      <td>Машины песенки. Серия \"Когда цветут кактусы\"</td>\n",
       "      <td>124010719</td>\n",
       "      <td>2019-12-30T12:00:00.000Z</td>\n",
       "      <td>Анимационный</td>\n",
       "      <td>Анимаккорд Лтд., ООО Студия \"АНИМАККОРД\"</td>\n",
       "      <td>Республика Кипр, Россия</td>\n",
       "      <td>И.Трусов</td>\n",
       "      <td>Д.Ловейко</td>\n",
       "      <td>«0+» - для любой зрительской аудитории</td>\n",
       "      <td>NaN</td>\n",
       "      <td>NaN</td>\n",
       "      <td>NaN</td>\n",
       "      <td>NaN</td>\n",
       "      <td>6.3</td>\n",
       "      <td>комедия,вестерн</td>\n",
       "      <td>NaN</td>\n",
       "    </tr>\n",
       "  </tbody>\n",
       "</table>\n",
       "<p>7486 rows × 16 columns</p>\n",
       "</div>"
      ],
      "text/plain": [
       "                                             title   puNumber  \\\n",
       "0                                 Открытый простор  221048915   \n",
       "1                             Особо важное задание  111013716   \n",
       "2                                     Особо опасен  221038416   \n",
       "3                                     Особо опасен  221026916   \n",
       "4                                     Особо опасен  221030815   \n",
       "...                                            ...        ...   \n",
       "7481     Сад художника: Американский импрессионизм  126008019   \n",
       "7482                               Звериная ярость  121037819   \n",
       "7483     Щенячий патруль: Скорей спешим на помощь!  124010819   \n",
       "7484      Машины песенки. Серия \"Испанские мотивы\"  124010619   \n",
       "7485  Машины песенки. Серия \"Когда цветут кактусы\"  124010719   \n",
       "\n",
       "               show_start_date             type  \\\n",
       "0     2015-11-27T12:00:00.000Z   Художественный   \n",
       "1     2016-09-13T12:00:00.000Z   Художественный   \n",
       "2     2016-10-10T12:00:00.000Z   Художественный   \n",
       "3     2016-06-10T12:00:00.000Z   Художественный   \n",
       "4     2015-07-29T12:00:00.000Z   Художественный   \n",
       "...                        ...              ...   \n",
       "7481  2019-12-23T12:00:00.000Z           Прочие   \n",
       "7482  2019-12-24T12:00:00.000Z   Художественный   \n",
       "7483  2019-12-28T12:00:00.000Z   Художественный   \n",
       "7484  2019-12-30T12:00:00.000Z     Анимационный   \n",
       "7485  2019-12-30T12:00:00.000Z     Анимационный   \n",
       "\n",
       "                                            film_studio  \\\n",
       "0     Тачстоун Пикчерз, Кобальт Пикчерз, Бикон Пикче...   \n",
       "1                                 Киностудия \"Мосфильм\"   \n",
       "2     Юниверсал Пикчерз, Кикстарт Продакшнз, Марк Пл...   \n",
       "3     Юниверсал Пикчерз, Кикстарт Продакшнз, Марк Пл...   \n",
       "4     Юниверсал Пикчерз, Кикстарт Продакшнз, Марк Пл...   \n",
       "...                                                 ...   \n",
       "7481                               Севен Артс Продакшнз   \n",
       "7482  Дэниел Гродник Продакшнз, Вандерфилм Медиа Кор...   \n",
       "7483           Никелодеон Анимейшн Студиос, Спин Мастер   \n",
       "7484           Анимаккорд Лтд., ООО Студия \"АНИМАККОРД\"   \n",
       "7485           Анимаккорд Лтд., ООО Студия \"АНИМАККОРД\"   \n",
       "\n",
       "           production_country           director  \\\n",
       "0                         США      Кевин Костнер   \n",
       "1                        СССР          Е.Матвеев   \n",
       "2                         США  Тимур Бекмамбетов   \n",
       "3                         США  Тимур Бекмамбетов   \n",
       "4                         США  Тимур Бекмамбетов   \n",
       "...                       ...                ...   \n",
       "7481           Великобритания        Фил Грабски   \n",
       "7482                      США         Ник Пауэлл   \n",
       "7483             США - Канада   Чарльз Е.Бастьен   \n",
       "7484  Республика Кипр, Россия           А.Беляев   \n",
       "7485  Республика Кипр, Россия           И.Трусов   \n",
       "\n",
       "                                               producer  \\\n",
       "0             Дэвид Валдес, Кевин Костнер, Джейк Эбертс   \n",
       "1                                                   NaN   \n",
       "2     Джим Лемли, Джейсон Нетер, Марк Е.Платт, Яйн Смит   \n",
       "3     Джим Лемли, Джейсон Нетер, Марк Е.Платт, Яйн Смит   \n",
       "4     Джим Лемли, Джейсон Нетер, Марк Е.Платт, Яйн Смит   \n",
       "...                                                 ...   \n",
       "7481                                        Фил Грабски   \n",
       "7482  Джефф Боулер, Дэниэл Гродник, Луильо Руис, Брэ...   \n",
       "7483                                     Дженнифер Додж   \n",
       "7484                                          Д.Ловейко   \n",
       "7485                                          Д.Ловейко   \n",
       "\n",
       "                             age_restriction  refundable_support  \\\n",
       "0                «18+» - запрещено для детей                 NaN   \n",
       "1              «6+» - для детей старше 6 лет                 NaN   \n",
       "2                «18+» - запрещено для детей                 NaN   \n",
       "3                «18+» - запрещено для детей                 NaN   \n",
       "4                «18+» - запрещено для детей                 NaN   \n",
       "...                                      ...                 ...   \n",
       "7481         «12+» - для детей старше 12 лет                 NaN   \n",
       "7482         «16+» - для детей старше 16 лет                 NaN   \n",
       "7483  «0+» - для любой зрительской аудитории                 NaN   \n",
       "7484  «0+» - для любой зрительской аудитории                 NaN   \n",
       "7485  «0+» - для любой зрительской аудитории                 NaN   \n",
       "\n",
       "      nonrefundable_support  budget financing_source ratings  \\\n",
       "0                       NaN     NaN              NaN     7.2   \n",
       "1                       NaN     NaN              NaN     6.6   \n",
       "2                       NaN     NaN              NaN     6.8   \n",
       "3                       NaN     NaN              NaN     6.8   \n",
       "4                       NaN     NaN              NaN     6.8   \n",
       "...                     ...     ...              ...     ...   \n",
       "7481                    NaN     NaN              NaN     NaN   \n",
       "7482                    NaN     NaN              NaN     5.4   \n",
       "7483                    NaN     NaN              NaN     NaN   \n",
       "7484                    NaN     NaN              NaN     NaN   \n",
       "7485                    NaN     NaN              NaN     6.3   \n",
       "\n",
       "                         genres  box_office  \n",
       "0        боевик,драма,мелодрама         NaN  \n",
       "1                 драма,военный         NaN  \n",
       "2     фантастика,боевик,триллер         NaN  \n",
       "3     фантастика,боевик,триллер         NaN  \n",
       "4     фантастика,боевик,триллер         NaN  \n",
       "...                         ...         ...  \n",
       "7481                        NaN         NaN  \n",
       "7482             боевик,триллер         NaN  \n",
       "7483                        NaN         NaN  \n",
       "7484                        NaN         NaN  \n",
       "7485            комедия,вестерн         NaN  \n",
       "\n",
       "[7486 rows x 16 columns]"
      ]
     },
     "metadata": {},
     "output_type": "display_data"
    }
   ],
   "source": [
    "data = data.merge(data_2, how = 'outer', on = 'puNumber')\n",
    "display(data)"
   ]
  },
  {
   "cell_type": "markdown",
   "metadata": {
    "id": "KLDGpPG0gFyM"
   },
   "source": [
    "### Шаг 2. Предобработка данных"
   ]
  },
  {
   "cell_type": "markdown",
   "metadata": {
    "id": "ssWwKXsxgFyO"
   },
   "source": [
    "#### Шаг 2.1. Проверьте типы данных\n",
    "\n",
    "- Проверьте типы данных в датафрейме и преобразуйте их там, где это необходимо."
   ]
  },
  {
   "cell_type": "code",
   "execution_count": 178,
   "metadata": {
    "id": "kVGSplJOgFyO"
   },
   "outputs": [
    {
     "name": "stdout",
     "output_type": "stream",
     "text": [
      "<class 'pandas.core.frame.DataFrame'>\n",
      "Int64Index: 7486 entries, 0 to 7485\n",
      "Data columns (total 16 columns):\n",
      " #   Column                 Non-Null Count  Dtype  \n",
      "---  ------                 --------------  -----  \n",
      " 0   title                  7486 non-null   object \n",
      " 1   puNumber               7486 non-null   int64  \n",
      " 2   show_start_date        7486 non-null   object \n",
      " 3   type                   7486 non-null   object \n",
      " 4   film_studio            7468 non-null   object \n",
      " 5   production_country     7484 non-null   object \n",
      " 6   director               7477 non-null   object \n",
      " 7   producer               6918 non-null   object \n",
      " 8   age_restriction        7486 non-null   object \n",
      " 9   refundable_support     332 non-null    float64\n",
      " 10  nonrefundable_support  332 non-null    float64\n",
      " 11  budget                 332 non-null    float64\n",
      " 12  financing_source       332 non-null    object \n",
      " 13  ratings                6519 non-null   object \n",
      " 14  genres                 6510 non-null   object \n",
      " 15  box_office             3158 non-null   float64\n",
      "dtypes: float64(4), int64(1), object(11)\n",
      "memory usage: 994.2+ KB\n"
     ]
    }
   ],
   "source": [
    "data.info()"
   ]
  },
  {
   "cell_type": "markdown",
   "metadata": {},
   "source": [
    "Изучив таблицу и представленные мне данные, а так же с помощью метода `.info()` выявил, что:<br>\n",
    "`show_start_date` - Представлен в `object` типе, а должен в типе `datetime`.<br>\n",
    "`film_studio` - Встречаются пропуски.<br>\n",
    "`production_country` - Аналогично как и с `film_studio`.<br>\n",
    "`director` - Так же встречаются пропуски.<br>\n",
    "`producer` - Так же встречаются пропуски.<br>\n",
    "`refundable_support` - Очень много пропусков, в дальнейшем надо будет их заполнить а так же перевести из типа `float64` в тип `int64`.<br>\n",
    "`nonrefundable_support` - Аналогично с `refundable_support`.<br>\n",
    "`budget` - Так же встречаются пропуски и неправильный `Dtype`.<br>\n",
    "`financing_source` - Так же встречаются пропуски, однако `Dtype` верный.<br>\n",
    "`ratings` - Есть пропуски, так же лучше перевести в тип `float64`.<br>\n",
    "`genres` - Имеются пропуски. Тип верный.<br>\n",
    "`box_office` - Сборы в рублях, нужно перевести в тип `int64`<br>"
   ]
  },
  {
   "cell_type": "markdown",
   "metadata": {},
   "source": [
    "- Преобразование типов данных и анализ пропусков"
   ]
  },
  {
   "cell_type": "code",
   "execution_count": 179,
   "metadata": {},
   "outputs": [
    {
     "data": {
      "text/plain": [
       "title                   0.000\n",
       "puNumber                0.000\n",
       "show_start_date         0.000\n",
       "type                    0.000\n",
       "film_studio             0.002\n",
       "production_country      0.000\n",
       "director                0.001\n",
       "producer                0.076\n",
       "age_restriction         0.000\n",
       "refundable_support      0.956\n",
       "nonrefundable_support   0.956\n",
       "budget                  0.956\n",
       "financing_source        0.956\n",
       "ratings                 0.129\n",
       "genres                  0.130\n",
       "box_office              0.578\n",
       "dtype: float64"
      ]
     },
     "execution_count": 179,
     "metadata": {},
     "output_type": "execute_result"
    }
   ],
   "source": [
    "data.isna().mean()"
   ]
  },
  {
   "cell_type": "code",
   "execution_count": 252,
   "metadata": {},
   "outputs": [
    {
     "data": {
      "text/plain": [
       "Text(0.5, 1.0, 'Объем пропусков в наборе данных')"
      ]
     },
     "execution_count": 252,
     "metadata": {},
     "output_type": "execute_result"
    },
    {
     "data": {
      "image/png": "[encoded data removed]",
      "text/plain": [
       "<Figure size 640x480 with 1 Axes>"
      ]
     },
     "metadata": {},
     "output_type": "display_data"
    }
   ],
   "source": [
    "sb.heatmap(data.isna().transpose(), cbar=False).set_title('Объем пропусков в наборе данных')"
   ]
  },
  {
   "cell_type": "markdown",
   "metadata": {},
   "source": [
    "Как можно увидеть, `refundable_support`, `nonrefundable_support`, `budget`, `financing_source ` уровень пропусков равен 95%+, однако если обратиться к описанию данных, можно понять, что данные столбцы являются отображением того, сколько было выделенно РФ на эти фильмы. От сюда следует, что 95% фильмов не имели финансирования от РФ. Эти пропуски можно заполнить нулями кроме последнего.<br>\n",
    "\n",
    "В столбце `ratings` доля пропусков равна 13%, скорее всего проблема связана с некорректным взятием рейтинга или технической ошибкой. Такие пропуски можно заполнить нулями и не учитывать эти строки в дальнейшем анализе.\n",
    "\n",
    "`genres` так же имеет 13% пропусков и так же не известно с чем они связаны. \n",
    "\n",
    "`box_office` показывает сколько собрал тот или иной фильм в Российских кинотеатрах. 58% пропусков показывает, что большинство фильмов не показывалось в Российских кинотеатрах, либо данные просто не вписали.\n",
    "\n",
    "Так же пропуски имеются у столбцов `film_studio`, `production_country`, `director` и `producer`, в размере 0,24%, 0,026%, 0,12% и 7,5% соответственно. У всех четырёх показателей доля пропусков незначительна и связана скорее всего с какой-то технической ошибкой, либо ошибкой при заполнении данных."
   ]
  },
  {
   "cell_type": "code",
   "execution_count": 180,
   "metadata": {},
   "outputs": [
    {
     "data": {
      "text/plain": [
       "0      2015-11-27 12:00:00\n",
       "1      2016-09-13 12:00:00\n",
       "2      2016-10-10 12:00:00\n",
       "3      2016-06-10 12:00:00\n",
       "4      2015-07-29 12:00:00\n",
       "               ...        \n",
       "7481   2019-12-23 12:00:00\n",
       "7482   2019-12-24 12:00:00\n",
       "7483   2019-12-28 12:00:00\n",
       "7484   2019-12-30 12:00:00\n",
       "7485   2019-12-30 12:00:00\n",
       "Name: show_start_date, Length: 7486, dtype: datetime64[ns]"
      ]
     },
     "metadata": {},
     "output_type": "display_data"
    }
   ],
   "source": [
    "data['show_start_date'] = pd.to_datetime(data['show_start_date'], format = '%Y-%m-%dT%H:%M:%S')\n",
    "data['show_start_date'] = pd.DatetimeIndex(data['show_start_date']).floor('S').tz_localize(None)\n",
    "display(data['show_start_date'])"
   ]
  },
  {
   "cell_type": "code",
   "execution_count": 181,
   "metadata": {
    "scrolled": true
   },
   "outputs": [
    {
     "data": {
      "text/plain": [
       "array([7.2, 6.6, 6.8, 7.7, 8.3, 8. , 7.8, 8.1, 7.1, 6. , 7.4, 5.8, 8.7,\n",
       "       6.3, 6.9, 5. , 4.3, 7.3, 7. , 6.4, nan, 8.2, 7.5, 6.7, 7.9, 5.9,\n",
       "       6.2, 5.6, 6.5, 2.4, 7.6, 6.1, 8.6, 8.5, 8.8, 5.5, 5.1, 5.7, 5.4,\n",
       "       4.4, 4.5, 5.3, 4.1, 8.4, 2.6, 3.8, 4.6, 4.8, 4. , 3. , 1.6, 4.2,\n",
       "       5.2, 4.7, 4.9, 3.9, 2.7, 3.3, 2.9, 3.7, 1.4, 3.1, 3.5, 3.2, 2.8,\n",
       "       1.5, 2.1, 2.5, 9.2, 3.4, 1.1, 3.6, 1. , 1.3, 1.9, 1.8, 1.2, 1.7,\n",
       "       9. , 8.9, 9.1])"
      ]
     },
     "execution_count": 181,
     "metadata": {},
     "output_type": "execute_result"
    }
   ],
   "source": [
    "#Преобразование процентов и заполнение пропусков нулями\n",
    "data['ratings'] = pd.to_numeric(data['ratings'], errors='coerce')\n",
    "data['ratings'] = data['ratings'].fillna(0).astype('float64')\n",
    "data['ratings'] = data.loc[data['ratings']!= 0, 'ratings']\n",
    "data['ratings'].unique()"
   ]
  },
  {
   "cell_type": "code",
   "execution_count": 182,
   "metadata": {},
   "outputs": [
    {
     "data": {
      "text/plain": [
       "title                   0.000\n",
       "puNumber                0.000\n",
       "show_start_date         0.000\n",
       "type                    0.000\n",
       "film_studio             0.000\n",
       "production_country      0.000\n",
       "director                0.000\n",
       "producer                0.000\n",
       "age_restriction         0.000\n",
       "refundable_support      0.956\n",
       "nonrefundable_support   0.956\n",
       "budget                  0.956\n",
       "financing_source        0.956\n",
       "ratings                 0.133\n",
       "genres                  0.000\n",
       "box_office              0.578\n",
       "dtype: float64"
      ]
     },
     "execution_count": 182,
     "metadata": {},
     "output_type": "execute_result"
    }
   ],
   "source": [
    "#Преобразование оставшихся столбцов\n",
    "data[['film_studio', 'production_country', 'director', 'producer', 'genres']] = data[['film_studio', 'production_country', 'director', 'producer', 'genres']].fillna('unknown')\n",
    "data.isna().mean()"
   ]
  },
  {
   "cell_type": "markdown",
   "metadata": {
    "id": "4c6k1t9ygFyQ"
   },
   "source": [
    "#### Шаг 2.3. Изучите дубликаты в датафрейме\n",
    "- Проверьте, есть ли в данных дубликаты. Опишите причины, которые могли повлиять на появление дублей."
   ]
  },
  {
   "cell_type": "code",
   "execution_count": 183,
   "metadata": {
    "id": "aKck8RIdgFyQ"
   },
   "outputs": [
    {
     "data": {
      "text/plain": [
       "0"
      ]
     },
     "execution_count": 183,
     "metadata": {},
     "output_type": "execute_result"
    }
   ],
   "source": [
    "data.duplicated().sum()"
   ]
  },
  {
   "cell_type": "markdown",
   "metadata": {},
   "source": [
    "Хоть явных дубликатов и не обнаружилось по всем столбцам, однако дубликаты всё равно имеются, но надо взять два определенных столбца."
   ]
  },
  {
   "cell_type": "code",
   "execution_count": 184,
   "metadata": {},
   "outputs": [
    {
     "name": "stdout",
     "output_type": "stream",
     "text": [
      "До исправления:  683\n",
      "Доля дубликатов:  9.123697568795084\n",
      "После исправления:  0\n"
     ]
    }
   ],
   "source": [
    "print('До исправления: ', data.duplicated(subset=['title', 'director']).sum())\n",
    "print('Доля дубликатов: ', (data.duplicated(subset=['title', 'director']).sum()/len(data['title']))*100)\n",
    "data = data.drop_duplicates(subset=['title', 'director'])\n",
    "print('После исправления: ', data.duplicated(subset=['title', 'director']).sum())"
   ]
  },
  {
   "cell_type": "markdown",
   "metadata": {},
   "source": [
    "Явные дубликаты были удалены в количестве 683 штук, это всего 9.12% от общей выборки, не сильно критично ниже проверю на неявные дубликаты.\n",
    "\n",
    "Для начала определил в каких столбцах уместно искать неявные дубликаты:\n",
    "`type`, `production_country`, `age_restriction`, `financing_source`, в них и буду искать неявные дубликаты."
   ]
  },
  {
   "cell_type": "code",
   "execution_count": 185,
   "metadata": {},
   "outputs": [
    {
     "data": {
      "text/html": [
       "<div>\n",
       "<style scoped>\n",
       "    .dataframe tbody tr th:only-of-type {\n",
       "        vertical-align: middle;\n",
       "    }\n",
       "\n",
       "    .dataframe tbody tr th {\n",
       "        vertical-align: top;\n",
       "    }\n",
       "\n",
       "    .dataframe thead th {\n",
       "        text-align: right;\n",
       "    }\n",
       "</style>\n",
       "<table border=\"1\" class=\"dataframe\">\n",
       "  <thead>\n",
       "    <tr style=\"text-align: right;\">\n",
       "      <th></th>\n",
       "      <th>title</th>\n",
       "      <th>puNumber</th>\n",
       "      <th>show_start_date</th>\n",
       "      <th>type</th>\n",
       "      <th>film_studio</th>\n",
       "      <th>production_country</th>\n",
       "      <th>director</th>\n",
       "      <th>producer</th>\n",
       "      <th>age_restriction</th>\n",
       "      <th>refundable_support</th>\n",
       "      <th>nonrefundable_support</th>\n",
       "      <th>budget</th>\n",
       "      <th>financing_source</th>\n",
       "      <th>ratings</th>\n",
       "      <th>genres</th>\n",
       "      <th>box_office</th>\n",
       "    </tr>\n",
       "  </thead>\n",
       "  <tbody>\n",
       "    <tr>\n",
       "      <th>0</th>\n",
       "      <td>Открытый простор</td>\n",
       "      <td>221048915</td>\n",
       "      <td>2015-11-27 12:00:00</td>\n",
       "      <td>Художественный</td>\n",
       "      <td>Тачстоун Пикчерз, Кобальт Пикчерз, Бикон Пикче...</td>\n",
       "      <td>США</td>\n",
       "      <td>Кевин Костнер</td>\n",
       "      <td>Дэвид Валдес, Кевин Костнер, Джейк Эбертс</td>\n",
       "      <td>«18+» - запрещено для детей</td>\n",
       "      <td>NaN</td>\n",
       "      <td>NaN</td>\n",
       "      <td>NaN</td>\n",
       "      <td>NaN</td>\n",
       "      <td>7.200</td>\n",
       "      <td>боевик,драма,мелодрама</td>\n",
       "      <td>NaN</td>\n",
       "    </tr>\n",
       "    <tr>\n",
       "      <th>1</th>\n",
       "      <td>Особо важное задание</td>\n",
       "      <td>111013716</td>\n",
       "      <td>2016-09-13 12:00:00</td>\n",
       "      <td>Художественный</td>\n",
       "      <td>Киностудия \"Мосфильм\"</td>\n",
       "      <td>СССР</td>\n",
       "      <td>Е.Матвеев</td>\n",
       "      <td>unknown</td>\n",
       "      <td>«6+» - для детей старше 6 лет</td>\n",
       "      <td>NaN</td>\n",
       "      <td>NaN</td>\n",
       "      <td>NaN</td>\n",
       "      <td>NaN</td>\n",
       "      <td>6.600</td>\n",
       "      <td>драма,военный</td>\n",
       "      <td>NaN</td>\n",
       "    </tr>\n",
       "    <tr>\n",
       "      <th>2</th>\n",
       "      <td>Особо опасен</td>\n",
       "      <td>221038416</td>\n",
       "      <td>2016-10-10 12:00:00</td>\n",
       "      <td>Художественный</td>\n",
       "      <td>Юниверсал Пикчерз, Кикстарт Продакшнз, Марк Пл...</td>\n",
       "      <td>США</td>\n",
       "      <td>Тимур Бекмамбетов</td>\n",
       "      <td>Джим Лемли, Джейсон Нетер, Марк Е.Платт, Яйн Смит</td>\n",
       "      <td>«18+» - запрещено для детей</td>\n",
       "      <td>NaN</td>\n",
       "      <td>NaN</td>\n",
       "      <td>NaN</td>\n",
       "      <td>NaN</td>\n",
       "      <td>6.800</td>\n",
       "      <td>фантастика,боевик,триллер</td>\n",
       "      <td>NaN</td>\n",
       "    </tr>\n",
       "    <tr>\n",
       "      <th>5</th>\n",
       "      <td>Остановился поезд</td>\n",
       "      <td>111013816</td>\n",
       "      <td>2016-09-13 12:00:00</td>\n",
       "      <td>Художественный</td>\n",
       "      <td>Киностудия \"Мосфильм\"</td>\n",
       "      <td>СССР</td>\n",
       "      <td>В.Абдрашитов</td>\n",
       "      <td>unknown</td>\n",
       "      <td>«6+» - для детей старше 6 лет</td>\n",
       "      <td>NaN</td>\n",
       "      <td>NaN</td>\n",
       "      <td>NaN</td>\n",
       "      <td>NaN</td>\n",
       "      <td>7.700</td>\n",
       "      <td>драма</td>\n",
       "      <td>NaN</td>\n",
       "    </tr>\n",
       "    <tr>\n",
       "      <th>6</th>\n",
       "      <td>Любовь и голуби</td>\n",
       "      <td>111007013</td>\n",
       "      <td>2013-10-18 12:00:00</td>\n",
       "      <td>Художественный</td>\n",
       "      <td>Киностудия \"Мосфильм\"</td>\n",
       "      <td>СССР</td>\n",
       "      <td>В.Меньшов</td>\n",
       "      <td>unknown</td>\n",
       "      <td>«12+» - для детей старше 12 лет</td>\n",
       "      <td>NaN</td>\n",
       "      <td>NaN</td>\n",
       "      <td>NaN</td>\n",
       "      <td>NaN</td>\n",
       "      <td>8.300</td>\n",
       "      <td>мелодрама,комедия</td>\n",
       "      <td>2,700.000</td>\n",
       "    </tr>\n",
       "    <tr>\n",
       "      <th>...</th>\n",
       "      <td>...</td>\n",
       "      <td>...</td>\n",
       "      <td>...</td>\n",
       "      <td>...</td>\n",
       "      <td>...</td>\n",
       "      <td>...</td>\n",
       "      <td>...</td>\n",
       "      <td>...</td>\n",
       "      <td>...</td>\n",
       "      <td>...</td>\n",
       "      <td>...</td>\n",
       "      <td>...</td>\n",
       "      <td>...</td>\n",
       "      <td>...</td>\n",
       "      <td>...</td>\n",
       "      <td>...</td>\n",
       "    </tr>\n",
       "    <tr>\n",
       "      <th>7481</th>\n",
       "      <td>Сад художника: Американский импрессионизм</td>\n",
       "      <td>126008019</td>\n",
       "      <td>2019-12-23 12:00:00</td>\n",
       "      <td>Прочие</td>\n",
       "      <td>Севен Артс Продакшнз</td>\n",
       "      <td>Великобритания</td>\n",
       "      <td>Фил Грабски</td>\n",
       "      <td>Фил Грабски</td>\n",
       "      <td>«12+» - для детей старше 12 лет</td>\n",
       "      <td>NaN</td>\n",
       "      <td>NaN</td>\n",
       "      <td>NaN</td>\n",
       "      <td>NaN</td>\n",
       "      <td>NaN</td>\n",
       "      <td>unknown</td>\n",
       "      <td>NaN</td>\n",
       "    </tr>\n",
       "    <tr>\n",
       "      <th>7482</th>\n",
       "      <td>Звериная ярость</td>\n",
       "      <td>121037819</td>\n",
       "      <td>2019-12-24 12:00:00</td>\n",
       "      <td>Художественный</td>\n",
       "      <td>Дэниел Гродник Продакшнз, Вандерфилм Медиа Кор...</td>\n",
       "      <td>США</td>\n",
       "      <td>Ник Пауэлл</td>\n",
       "      <td>Джефф Боулер, Дэниэл Гродник, Луильо Руис, Брэ...</td>\n",
       "      <td>«16+» - для детей старше 16 лет</td>\n",
       "      <td>NaN</td>\n",
       "      <td>NaN</td>\n",
       "      <td>NaN</td>\n",
       "      <td>NaN</td>\n",
       "      <td>5.400</td>\n",
       "      <td>боевик,триллер</td>\n",
       "      <td>NaN</td>\n",
       "    </tr>\n",
       "    <tr>\n",
       "      <th>7483</th>\n",
       "      <td>Щенячий патруль: Скорей спешим на помощь!</td>\n",
       "      <td>124010819</td>\n",
       "      <td>2019-12-28 12:00:00</td>\n",
       "      <td>Художественный</td>\n",
       "      <td>Никелодеон Анимейшн Студиос, Спин Мастер</td>\n",
       "      <td>США - Канада</td>\n",
       "      <td>Чарльз Е.Бастьен</td>\n",
       "      <td>Дженнифер Додж</td>\n",
       "      <td>«0+» - для любой зрительской аудитории</td>\n",
       "      <td>NaN</td>\n",
       "      <td>NaN</td>\n",
       "      <td>NaN</td>\n",
       "      <td>NaN</td>\n",
       "      <td>NaN</td>\n",
       "      <td>unknown</td>\n",
       "      <td>NaN</td>\n",
       "    </tr>\n",
       "    <tr>\n",
       "      <th>7484</th>\n",
       "      <td>Машины песенки. Серия \"Испанские мотивы\"</td>\n",
       "      <td>124010619</td>\n",
       "      <td>2019-12-30 12:00:00</td>\n",
       "      <td>Анимационный</td>\n",
       "      <td>Анимаккорд Лтд., ООО Студия \"АНИМАККОРД\"</td>\n",
       "      <td>Республика Кипр, Россия</td>\n",
       "      <td>А.Беляев</td>\n",
       "      <td>Д.Ловейко</td>\n",
       "      <td>«0+» - для любой зрительской аудитории</td>\n",
       "      <td>NaN</td>\n",
       "      <td>NaN</td>\n",
       "      <td>NaN</td>\n",
       "      <td>NaN</td>\n",
       "      <td>NaN</td>\n",
       "      <td>unknown</td>\n",
       "      <td>NaN</td>\n",
       "    </tr>\n",
       "    <tr>\n",
       "      <th>7485</th>\n",
       "      <td>Машины песенки. Серия \"Когда цветут кактусы\"</td>\n",
       "      <td>124010719</td>\n",
       "      <td>2019-12-30 12:00:00</td>\n",
       "      <td>Анимационный</td>\n",
       "      <td>Анимаккорд Лтд., ООО Студия \"АНИМАККОРД\"</td>\n",
       "      <td>Республика Кипр, Россия</td>\n",
       "      <td>И.Трусов</td>\n",
       "      <td>Д.Ловейко</td>\n",
       "      <td>«0+» - для любой зрительской аудитории</td>\n",
       "      <td>NaN</td>\n",
       "      <td>NaN</td>\n",
       "      <td>NaN</td>\n",
       "      <td>NaN</td>\n",
       "      <td>6.300</td>\n",
       "      <td>комедия,вестерн</td>\n",
       "      <td>NaN</td>\n",
       "    </tr>\n",
       "  </tbody>\n",
       "</table>\n",
       "<p>6803 rows × 16 columns</p>\n",
       "</div>"
      ],
      "text/plain": [
       "                                             title   puNumber  \\\n",
       "0                                 Открытый простор  221048915   \n",
       "1                             Особо важное задание  111013716   \n",
       "2                                     Особо опасен  221038416   \n",
       "5                                Остановился поезд  111013816   \n",
       "6                                  Любовь и голуби  111007013   \n",
       "...                                            ...        ...   \n",
       "7481     Сад художника: Американский импрессионизм  126008019   \n",
       "7482                               Звериная ярость  121037819   \n",
       "7483     Щенячий патруль: Скорей спешим на помощь!  124010819   \n",
       "7484      Машины песенки. Серия \"Испанские мотивы\"  124010619   \n",
       "7485  Машины песенки. Серия \"Когда цветут кактусы\"  124010719   \n",
       "\n",
       "         show_start_date             type  \\\n",
       "0    2015-11-27 12:00:00   Художественный   \n",
       "1    2016-09-13 12:00:00   Художественный   \n",
       "2    2016-10-10 12:00:00   Художественный   \n",
       "5    2016-09-13 12:00:00   Художественный   \n",
       "6    2013-10-18 12:00:00   Художественный   \n",
       "...                  ...              ...   \n",
       "7481 2019-12-23 12:00:00           Прочие   \n",
       "7482 2019-12-24 12:00:00   Художественный   \n",
       "7483 2019-12-28 12:00:00   Художественный   \n",
       "7484 2019-12-30 12:00:00     Анимационный   \n",
       "7485 2019-12-30 12:00:00     Анимационный   \n",
       "\n",
       "                                            film_studio  \\\n",
       "0     Тачстоун Пикчерз, Кобальт Пикчерз, Бикон Пикче...   \n",
       "1                                 Киностудия \"Мосфильм\"   \n",
       "2     Юниверсал Пикчерз, Кикстарт Продакшнз, Марк Пл...   \n",
       "5                                 Киностудия \"Мосфильм\"   \n",
       "6                                 Киностудия \"Мосфильм\"   \n",
       "...                                                 ...   \n",
       "7481                               Севен Артс Продакшнз   \n",
       "7482  Дэниел Гродник Продакшнз, Вандерфилм Медиа Кор...   \n",
       "7483           Никелодеон Анимейшн Студиос, Спин Мастер   \n",
       "7484           Анимаккорд Лтд., ООО Студия \"АНИМАККОРД\"   \n",
       "7485           Анимаккорд Лтд., ООО Студия \"АНИМАККОРД\"   \n",
       "\n",
       "           production_country           director  \\\n",
       "0                         США      Кевин Костнер   \n",
       "1                        СССР          Е.Матвеев   \n",
       "2                         США  Тимур Бекмамбетов   \n",
       "5                        СССР       В.Абдрашитов   \n",
       "6                        СССР          В.Меньшов   \n",
       "...                       ...                ...   \n",
       "7481           Великобритания        Фил Грабски   \n",
       "7482                      США         Ник Пауэлл   \n",
       "7483             США - Канада   Чарльз Е.Бастьен   \n",
       "7484  Республика Кипр, Россия           А.Беляев   \n",
       "7485  Республика Кипр, Россия           И.Трусов   \n",
       "\n",
       "                                               producer  \\\n",
       "0             Дэвид Валдес, Кевин Костнер, Джейк Эбертс   \n",
       "1                                               unknown   \n",
       "2     Джим Лемли, Джейсон Нетер, Марк Е.Платт, Яйн Смит   \n",
       "5                                               unknown   \n",
       "6                                               unknown   \n",
       "...                                                 ...   \n",
       "7481                                        Фил Грабски   \n",
       "7482  Джефф Боулер, Дэниэл Гродник, Луильо Руис, Брэ...   \n",
       "7483                                     Дженнифер Додж   \n",
       "7484                                          Д.Ловейко   \n",
       "7485                                          Д.Ловейко   \n",
       "\n",
       "                             age_restriction  refundable_support  \\\n",
       "0                «18+» - запрещено для детей                 NaN   \n",
       "1              «6+» - для детей старше 6 лет                 NaN   \n",
       "2                «18+» - запрещено для детей                 NaN   \n",
       "5              «6+» - для детей старше 6 лет                 NaN   \n",
       "6            «12+» - для детей старше 12 лет                 NaN   \n",
       "...                                      ...                 ...   \n",
       "7481         «12+» - для детей старше 12 лет                 NaN   \n",
       "7482         «16+» - для детей старше 16 лет                 NaN   \n",
       "7483  «0+» - для любой зрительской аудитории                 NaN   \n",
       "7484  «0+» - для любой зрительской аудитории                 NaN   \n",
       "7485  «0+» - для любой зрительской аудитории                 NaN   \n",
       "\n",
       "      nonrefundable_support  budget financing_source  ratings  \\\n",
       "0                       NaN     NaN              NaN    7.200   \n",
       "1                       NaN     NaN              NaN    6.600   \n",
       "2                       NaN     NaN              NaN    6.800   \n",
       "5                       NaN     NaN              NaN    7.700   \n",
       "6                       NaN     NaN              NaN    8.300   \n",
       "...                     ...     ...              ...      ...   \n",
       "7481                    NaN     NaN              NaN      NaN   \n",
       "7482                    NaN     NaN              NaN    5.400   \n",
       "7483                    NaN     NaN              NaN      NaN   \n",
       "7484                    NaN     NaN              NaN      NaN   \n",
       "7485                    NaN     NaN              NaN    6.300   \n",
       "\n",
       "                         genres  box_office  \n",
       "0        боевик,драма,мелодрама         NaN  \n",
       "1                 драма,военный         NaN  \n",
       "2     фантастика,боевик,триллер         NaN  \n",
       "5                         драма         NaN  \n",
       "6             мелодрама,комедия   2,700.000  \n",
       "...                         ...         ...  \n",
       "7481                    unknown         NaN  \n",
       "7482             боевик,триллер         NaN  \n",
       "7483                    unknown         NaN  \n",
       "7484                    unknown         NaN  \n",
       "7485            комедия,вестерн         NaN  \n",
       "\n",
       "[6803 rows x 16 columns]"
      ]
     },
     "metadata": {},
     "output_type": "display_data"
    }
   ],
   "source": [
    "display(data)"
   ]
  },
  {
   "cell_type": "markdown",
   "metadata": {},
   "source": [
    "К столбцам с категориальными переменными относятся: `type`, `title`, `film_studio`, `production_country`, `director`, `producer`, `age_restriction`, `financing_source`, `genres`. Проверим их на уникальность:"
   ]
  },
  {
   "cell_type": "code",
   "execution_count": 186,
   "metadata": {
    "scrolled": true
   },
   "outputs": [
    {
     "name": "stdout",
     "output_type": "stream",
     "text": [
      "['Художественный' 'Анимационный' 'Прочие' 'Документальный'\n",
      " 'Научно-популярный' ' Художественный' ' Анимационный'\n",
      " 'Музыкально-развлекательный']\n",
      "\n",
      " ['Открытый простор' 'Особо важное задание' 'Особо опасен' ...\n",
      " 'Щенячий патруль: Скорей спешим на помощь!'\n",
      " 'Машины песенки. Серия \"Испанские мотивы\"'\n",
      " 'Машины песенки. Серия \"Когда цветут кактусы\"']\n",
      "\n",
      " ['Тачстоун Пикчерз, Кобальт Пикчерз, Бикон Пикчерз, Тиг Продакшнз'\n",
      " 'Киностудия \"Мосфильм\"'\n",
      " 'Юниверсал Пикчерз, Кикстарт Продакшнз, Марк Платт Продакшнз, Рилейтивити Медиа, Спайгласс Интертейнмент, Стилкин Филмз, Топ Кау Продакшнз'\n",
      " ...\n",
      " 'Дэниел Гродник Продакшнз, Вандерфилм Медиа Корпорэйшн, Импринт Интертейнмент, Вор Хорс Интертейнмент, Пимиента '\n",
      " 'Никелодеон Анимейшн Студиос, Спин Мастер'\n",
      " 'Анимаккорд Лтд., ООО Студия \"АНИМАККОРД\"']\n",
      "\n",
      " ['США' 'СССР' 'Франция' 'СССР, Венгрия' 'Германия-Великобритания'\n",
      " 'Великобритания - Италия' 'Чехословакия' 'США - Франция - Турция'\n",
      " 'Новая Зеландия' 'Канада - Франция - Испания' 'США-Германия'\n",
      " 'США - Великобритания' 'Великобритания' 'США - Германия'\n",
      " 'Франция - Мексика - США' 'Россия, Казахстан, США' 'СССР, Швеция'\n",
      " 'СССР, Франция, Англия, Куба, ГДР' 'Германия'\n",
      " 'Великобритания-США-Германия-КНР' 'СССР, ЧССР, Западный Берлин, ПНР'\n",
      " 'СССР, Италия' 'Гонконг, КНР' 'США - Франция'\n",
      " 'США - Япония - Франция - Великобритания'\n",
      " 'Гонконг - Сингапур - Таиланд - Великобритания' 'США-Канада'\n",
      " 'Франция - Италия - Великобритания - США' 'Франция - США'\n",
      " 'Ирландия-Великобритания-Германия' 'Чехия' 'США-Австралия'\n",
      " 'СССР, Финляндия' 'США-Франция-Великобритания-Австрия' 'США - Бельгия'\n",
      " 'США - Ирландия - Великобритания' 'Великобритания - США'\n",
      " 'Люксембург - Нидерланды - Испания - Великобритания - США - Италия'\n",
      " 'Великобритания - Франция - США' 'Новая Зеландия - США'\n",
      " 'США - Великобритания - Чехия' 'Канада - Франция - Великобритания'\n",
      " 'Ирландия' 'Великобритания - Германия - США'\n",
      " 'США - Франция - Великобритания' 'Япония' 'СССР, Польша'\n",
      " 'Франция - Испания' 'Канада-Франция' 'Германия - Италия - США'\n",
      " 'Аргентина - Бразилия' 'Дания - Швейцария - Бельгия - Франция'\n",
      " 'США - Испания' 'Германия - США'\n",
      " 'Франция - Австрия - Германия - Италия - США' 'Австрия'\n",
      " 'США - Канада - Германия' 'США - Канада' 'СССР - Швейцария - Франция'\n",
      " 'Россия - Казахстан' 'Гонконг' 'Италия' 'США - ОАЭ' 'Россия'\n",
      " 'США - Франция - Испания - Великобритания' 'Великобритания - Франция'\n",
      " 'США-Италия-Испания-Аргентина' 'Франция-Великобритания' 'КНР - Гонконг'\n",
      " 'Франция - Италия - Швейцария' 'США - Новая Зеландия' 'Франция - Бельгия'\n",
      " 'КНР' 'Германия - Великобритания - Австрия'\n",
      " 'Великобритания - Израиль - Франция - Япония - США' 'Швеция' 'Испания'\n",
      " 'Дания' 'Франция - Бельгия - Люксембург' 'США - Индия - ОАЭ'\n",
      " 'Германия-Канада-Великобритания-Швейцария-Франция' 'Мексика - Чили'\n",
      " 'Аргентина' 'Бразилия' 'Чили' 'Австралия' 'Португалия - Франция'\n",
      " 'США - ЮАР' 'Исландия-Ирландия-Германия' 'США-Индонезия' 'Южная Корея'\n",
      " 'Мексика - Испания - Дания - США' 'Великобритания-США' 'Франция - Италия'\n",
      " 'США-Франция' 'США - Венгрия - Великобритания' 'Бельгия-Франция-Италия'\n",
      " 'Чехия - Германия' 'Германия - Франция' 'США-Нидерланды' 'Украина'\n",
      " 'Великобритания - Германия' 'Франция-Бельгия' 'США-Франция-Испания'\n",
      " 'Италия - Франция' 'Канада' 'Швеция-Франция-Дания'\n",
      " 'Германия-Франция-Польша' 'Франция-Великобритания - Германия'\n",
      " 'США - Бразилия - Франция - Австралия - Великобритания - Германия'\n",
      " 'Германия-Австрия' 'Германия-Италия- Шри-Ланка'\n",
      " 'Великобритания - Испания' 'США - Великобритания - Канада - Швеция'\n",
      " 'Босния и Герцеговина - Франция - Великобритания - Германия - Словения - Бельгия - Сербия'\n",
      " 'Великобритания - Франция - Италия - США' 'США-ОАЭ' 'Испания - Франция'\n",
      " 'США-Великобритания' 'США-ЮАР' 'Великобритания-Австралия - США'\n",
      " 'Норвегия - Швеция - Дания - Германия' 'Норвегия' 'Швейцария'\n",
      " 'Греция - Германия - Франция' 'Норвения' 'Южная Корея - США'\n",
      " 'Чили - Франция - США' 'Австрия - Германия - Франция' 'Швеция - Дания'\n",
      " 'Великобритания - Франция - Бельгия - Италия' 'Франция - Германия'\n",
      " 'Грузия - Франция - Люксембург'\n",
      " 'США - Франция - Великобритания - Бразилия ' 'США - КНР'\n",
      " 'Мексика - Франция' 'США - Германия - Гонконг - Сингапур'\n",
      " 'Финляндия - Австрия - Россия' 'Испания - Куба' 'Великобритания - ЮАР'\n",
      " 'Великобритания - Ирландия' 'Израиль'\n",
      " 'Бразилия - Германия - Порртугалия - Франция '\n",
      " 'Франция - Канада - Бельгия' 'Франция-Испания'\n",
      " 'Испания - Канада - Япония' 'Иран' 'Швеция-Куба'\n",
      " 'США-Великобритания-Ирландия' 'Гонконг - КНР' 'Нидерланды'\n",
      " 'Испания - Канада' 'Япония-Великобритания'\n",
      " 'Великобритания - Норвегия - Дания - Германия'\n",
      " 'Финляндия - Франция - Германия'\n",
      " 'Мексика - Франция - Нидерланды - Германия' 'США - Индия'\n",
      " 'США-Великобритания-Индия' 'США-Канада-Бельгия' 'Республика Узбекистан'\n",
      " 'Италия ' 'Турция'\n",
      " 'Сербия - Словения - Хорватия - Черногория - Македония' 'Киргизия'\n",
      " 'Германия - Нидерланды - Беларусь - Россия - Латвия' 'Индия'\n",
      " 'Нидерланды - Россия - Германия'\n",
      " 'Великобритания - Нидерланды - Франция - Хорватия' 'Канада - Южная Корея'\n",
      " 'Великобритания - Польша - КНР - Индия - Норвегия'\n",
      " 'Япония - Франция - США - Южная Корея - Турция'\n",
      " 'Мексика - Аргентина - Великобритания' 'Израиль - Франция'\n",
      " 'Польша - Португалия - Франция - Великобритания' 'Австралия - США'\n",
      " 'США - Великобритания ' 'Франция - Люксембург - Бельгия' 'Армения'\n",
      " 'Бельгия - Люксембург - Франция - Швейцария'\n",
      " 'США - Великобритания - Канада' 'Норвегия - Швеция' 'Канада - Франция'\n",
      " 'КНР - Гонконг - США' 'США - Сингапур - Малайзия - Индонезия'\n",
      " 'Германия - Россия' 'Япония - Канада'\n",
      " 'Финляндия - Дания - Германия - Ирландия'\n",
      " 'Франция - Люксембург - Германия - Бельгия - Швейцария - Великобритания '\n",
      " 'Канада - США' 'США-Италия-Испания' 'США-Испания'\n",
      " 'США - Швейцария - Франция' 'Испания - США - Колумбия' 'Канада-ЮАР'\n",
      " 'Франция - Россия' 'Германия - Финляндия - Австралия' 'Дания - Швеция'\n",
      " 'Бельгия' 'Германия - Франция - Австрия' 'Франция-Индия' 'ЮАР'\n",
      " 'Франция-Перу' 'Франция - Канада' 'Республика Беларусь'\n",
      " 'Великобритания - Австрия - Франция - США' 'Австрия-Германия-Франция'\n",
      " 'США-Россия' 'Германия-США' 'США - Южная Корея' 'Канада - КНР'\n",
      " 'Дания - Швеция - Италия - Франция - Германия'\n",
      " 'Франция-Италия-Испания-Венгрия' 'Франция - Германия - Бельгия'\n",
      " 'Франция-Великобритания-Чехия' 'Румыния - Франция - Бельгия'\n",
      " 'Болгария - Франция - Изриль'\n",
      " 'Израиль - Германия - Польша - Бельгия - Франция - Люксембург'\n",
      " 'Россия, Германия, Франция, Бельгия' 'Индонезия' 'Франция - Португалия'\n",
      " 'Великобритания - Пуэрто-Рико' 'СССР, ФРГ, Западный Берлин'\n",
      " 'Россия, Республика Беларусь' 'США, Великобритания' 'Франция - Австрия'\n",
      " 'Бельгия-Нидерланды' 'Великобритания - США - Индия'\n",
      " 'США - Великобритания - Австралия'\n",
      " 'Канада - Франция - США - ОАЭ - Великобритания'\n",
      " 'США - Австралия - Франция'\n",
      " 'Дания-Франция-Бельгия-Германия-Великобритания' 'Испания - Аргентина'\n",
      " 'Исландия - Финляндия' 'Россия-Польша-Голландия-Словакия'\n",
      " 'Дания - Германия - Швеция' 'Южная Корея - США - Канада' 'Таиланд'\n",
      " 'США-Мальта' 'США -Германия'\n",
      " 'Великобритания - Германия - Франция - Кипр - США' 'Мексика'\n",
      " 'США - Великобритания - Ирландия' 'США - Украина'\n",
      " 'США - Финляндия - Испания - Великобритания - Франция'\n",
      " 'Австралия-Великобритания'\n",
      " 'США - Канада - Афганистан - Бельгия - Франция'\n",
      " 'США - Великобритания - Германия - Новая Зеландия - Бельгия - Франция'\n",
      " 'Франция-Канада'\n",
      " 'Ирландия - Финляндия - Бельгия - Великобритания - США - Швейцария'\n",
      " 'Малайзия - США' 'Германия - Италия' 'США - Франция - Бельгия - Италия'\n",
      " 'Франция - Ирландия - Швеция' 'Азербайджан-Россия'\n",
      " 'Великобритания - Италия - Швейцария' 'США - Германия - Великобритания'\n",
      " 'Германия - Бельгия - США -Франция' 'США-Китай' 'Чили - Испания'\n",
      " 'Франция - Швейцария' 'Канада - Испания' 'США - Румыния - Великобритания'\n",
      " 'США - Япония' 'США - Россия - Франция' 'Франция-США' 'Парагвай'\n",
      " 'Германия - Канада' 'США - Канада - Великобритания' 'Финляндия - Канада'\n",
      " 'Уругвай-Мексика-Германия ' 'США - Чили'\n",
      " 'Германия - Аргентина - Нидерланды - Чили' 'США - Канада - Индонезия'\n",
      " 'Армения - Казахстан' 'Финляндия' 'Испания - Италия - Франция'\n",
      " 'Бельгия - Испания - Канада - Нидерланды'\n",
      " 'Великобритания - Франция - Швеция - Бельгия'\n",
      " 'Мексика - Эквадор - Канада - США - Франция - Малайзия - Италия - Аргентина - Германия - Индия  '\n",
      " 'Франция - Бенльгия' 'Индия - Великобритания'\n",
      " 'Япония - Великобритания - Франция' 'Испания - Уругвай - Аргентина'\n",
      " 'Франция - Италия - Бельгия - Люксембург'\n",
      " 'Франция - Украина - Грузия - Армения' 'Сербия - Германия - Венгрия'\n",
      " 'Франция-Польша' 'Франция ' 'Румыния-США' 'Россия-Азербайджан'\n",
      " 'США - Нидерланды - Бельгия - Венгрия - Греция - Канада'\n",
      " 'Германия - Франция - Люксембург' 'США - Россия'\n",
      " 'Великобритания - США - Франция' 'США - Австралия - Дания'\n",
      " 'Бельгия-Франция' 'США-Мексика'\n",
      " 'Норвегия - Азербайджан - Россия - Колумбия - Великобритания - Венгрия - Румыния - Франция - Грузия'\n",
      " 'СЩА' 'Бразилия - Испания' 'Россия, Франция, Латвия'\n",
      " 'Нидерланды - США - Германия - Канада - Франция - Ирландия - Великобритания'\n",
      " 'Уругвай - Колумбия' 'США - Испания - Болгария' 'Армения - Германия'\n",
      " 'США - Великобритания- Франция - Швеция' 'США - Мексика'\n",
      " 'Австралия-Турция-США' 'Швеция - Германия' 'Польша - Италия - Россия'\n",
      " 'Франция - Бразилия' 'США - Канада - КНР' 'СССР, Венгрия, ЧССР, ГДР'\n",
      " 'Бельгия - Германия - Люксембург' 'СССР  ' 'СССР ' ' СССР '\n",
      " 'США - Австралия' 'Бразилия - США' 'США - Великобритания - Канада - КНР'\n",
      " 'Франция - Чили'\n",
      " 'Франция - США - Великобритания - Колумбия - Бельгия - Россия'\n",
      " 'Дания - Великобритания - ЮАР' 'СССР   ' 'Россия-США-Канада-Люксембург'\n",
      " 'Россия - Республика Кипр' 'Германия - США - Швеция - Франция'\n",
      " 'Великобритания-Германия-Канада-ЮАР' ' СССР   ' 'СССР     '\n",
      " 'Ирландия, Канада'\n",
      " 'Япония - Великобритания - Швейцария - Ирландия - Дания - Франция - Польша - Австралия - Канада  '\n",
      " 'Великобритания, Канада' 'Бельгия - США' 'Великобритания - США - Россия'\n",
      " 'Россия-Украина' 'Германия - США - Великобритания - Израиль'\n",
      " 'Канада - Германия' 'США- Ю.Корея' 'Индия - Мексика'\n",
      " 'Великобритания - Франция - Республика Кипр - Швейцария - США - Сербия'\n",
      " 'Испания - Аргентина - Индия - США'\n",
      " 'Норвегия - Исландия - США - Великобритания '\n",
      " 'Турция - Германя - Франция' 'Германия - Великобритания'\n",
      " 'Австралия - Германия' 'Мексика - Испания'\n",
      " 'Великобритания - США - Германия - Бельгия' 'США - Чехия - Франция'\n",
      " 'Россия - Италия' 'Франция-Россия' 'Норвегия - Дания - Швеция'\n",
      " 'Франция - Швейцария - Германия' 'Грузия - Украина'\n",
      " 'Россия - Эстония - Финляндия - Беларусь' 'США - Франция - ЮАР'\n",
      " 'Великобритания - США - Швейцария' 'Канада-США'\n",
      " 'Мексика - Нидерланды - Германия - Франция' 'США - Испания - Франция'\n",
      " 'США - Великобритания - КНР' 'США-Франция-Канада'\n",
      " 'Япония, Великобритания, Австрия, Германия, Ю.Корея'\n",
      " 'Великобритания - Ирландия - США' 'Бельгия - Италия - Франция '\n",
      " 'Швейцария-Германия-ЮАР' 'Великобритания - США - Германия'\n",
      " 'Германия - Исландия' 'Испания - США' 'СССР    ' 'Хорватия'\n",
      " 'Финляндия - Исландия - Швеция' 'Канада - США - Германия - Франция'\n",
      " 'США - Великобритания - Испания' 'Ирландия-Великобритания'\n",
      " 'Аргентина - Испания' 'Австрия - Германия' ' СССР'\n",
      " 'Германия - Швейцария - Франция - Южная Корея - США'\n",
      " 'Украина - Нидерланды' 'Венгрия - Германия - Швеция'\n",
      " 'Германия - Франция -  Польша - Турция - Канада - Италия - Россия '\n",
      " 'СССР, Афганистан' 'СССР, Монголия' 'Россия-Кипр'\n",
      " 'Россия, Грузия, Испания'\n",
      " 'Великобритания - Нидерланды - Германия - Франция - Бельгия - Австрия '\n",
      " 'Испания - Великобритания - Франция' 'Дания - Норвегия - Великобритания'\n",
      " 'Бельгия - Франция - Люксембург'\n",
      " 'Италия - Франция - Швейцария - Великобритания'\n",
      " 'Франция - Бельгия - Великобритания - Испания - Германия - США'\n",
      " 'Швейцария - Израиль - Франция - Великобритания'\n",
      " 'Великобритания - США - Канада - Нидерланды - Франция' 'Россия, Италия'\n",
      " 'СССР, Албания' 'Россия, Украина, Республика Беларусь, Литва'\n",
      " 'Финляндия - Великобритания - Германия' 'Россия, Украина, Польша'\n",
      " 'Франция - Италия - Бельгия - КНР'\n",
      " 'Германия - Бельгия - Люксембург - Ирландия' 'КНР - Сингапур'\n",
      " 'Франция - Бельгия - Великобритания - США - Нидерланды - Канада'\n",
      " 'США - Россия - Польша - Германия - Пуэрто Рико'\n",
      " 'Франция - Бельгия - Канада' 'США ' 'Мексика - США'\n",
      " 'США - Гонконг - КНР ' 'Греция - Россия'\n",
      " 'Ирландия - Дания - Бельгия - Люксембург - Франция' 'Эстония - Россия'\n",
      " 'Великобритания - Исландия - Испания - Швейцария - США'\n",
      " 'Австралия - Великобритания - Бельгия - Индия'\n",
      " 'Швеция - Германия - Франция - Норвегия'\n",
      " 'Нидерланды - Бельгия - Германия - Ирландия'\n",
      " 'Нидерланды - Великобритания - Бельгия' 'США - Колумбия - Испания'\n",
      " 'Франция-Испания-Бельгия-Панама' 'США-Великобритания-Чехия-Румыния'\n",
      " 'Аргентина - Уругвай - Россия - Германия - Франция - Нидерланды'\n",
      " 'Швеция - Франция - Норвегия - Дания' 'Италия-Франция-Великобритания'\n",
      " 'Великобритания, Франция' 'Австралия, США' 'Венесуэла'\n",
      " 'Великобритания - США - Австралия - Ирландия - Германия - Куба - Канада'\n",
      " 'Южная Корея - КНР' 'Аргентина - Мексика - Бразилия - Франция - США'\n",
      " 'Швеция - США' 'Франция - Германия - Турция - Катар' 'Франция-Китай'\n",
      " 'Россия, Германия, Великобритания' 'Великобритания - Италия - Испания'\n",
      " 'Италия - Россия' 'Япония - КНР - Южная Корея' 'Россия, Германия'\n",
      " 'Россия-Ирландия' 'Македония - Франция - Великобритания'\n",
      " 'Франция - Бразилия - Италия' 'Россия-США' 'Армения-Россия'\n",
      " 'Россия, Румыния' 'Франция -  Бельгия' 'Грузия-Франция' 'ЮАР - США'\n",
      " 'Великобритания-США-Франция'\n",
      " 'Великобритания - США - Германия - Канада - Австралия' 'США-Ирландия'\n",
      " 'Россия, Республика Кипр' 'Германия - Люксембург - Франция'\n",
      " 'Россия-Франция' 'США - Нидерланды - Финляндия - Великобритания - Италия'\n",
      " 'Республика Кипр' 'Венгрия' 'Франция - США - Норвегия - Дания'\n",
      " 'Германия - Австрия - Ирландия' 'США - Финляндия' 'Италия-Великобритания'\n",
      " 'Россия, Испания' 'США - Великобритания - Болгария'\n",
      " 'Великобритания - Люксембург' 'Индия - США'\n",
      " 'США - Канада - Россия - Франция - Чили - Ирландия' 'Грузия-Россия'\n",
      " 'Дания - Австрия - Ирландия - Финляндия - Норвегия - Швеция - Нидерланды'\n",
      " 'США-КНР' 'Грузия' 'Австралия - Ирландия' 'Великобритания - Канада'\n",
      " 'Италия - Аргентина - Словения '\n",
      " 'Испания - Франция - Нидерланды - Германия - Бельгия - Великобритания - Канада'\n",
      " 'Франция - Чехия - Бельгия' 'Великобритания - Франция - Германия - США'\n",
      " 'Ирландия - Великобритания - Франция - США - Германия - Нидерланды'\n",
      " 'США - Канада - Япония - КНР' 'Италия-Франция'\n",
      " 'США - Великобритания - Исландия' 'Великобритания-Франция'\n",
      " 'Франция - Германия - Нидерланды' 'Иран '\n",
      " 'Франция - Германия - Швеция - США - Чехия - Словакия - Великобритания - Нидерланды'\n",
      " 'Франция - Канада - Н.Зеландия - США - Нидерланды - Германия - Швеция - Россия'\n",
      " 'Турция - США'\n",
      " 'Великобритания - США - Канада - Бельгия - Нидерланды - Австрия - Германия'\n",
      " 'Израиль - Франция - Германия - Палестина - США - Австрия - Великобритания'\n",
      " 'Аргентина - Франция - Испания' 'СССР, Россия'\n",
      " 'Великобритания - Франция - Италия - Индия - Дания - КНР - Бангладеш - Камбоджа - Гаити - Уганда'\n",
      " 'Италия - Франция - Швейцария' 'Ирландия - Великобритания - Канада'\n",
      " 'Перу' 'США - Норвегия' 'Испания-Канада' 'Китай-Гонконг'\n",
      " 'США - Германия - КНР' 'Великобритания - Новая Зеландия'\n",
      " 'Франция - Дания - Швеция - КНР'\n",
      " 'США - Великобритания - Германия - Бельгия - Дания'\n",
      " 'США - Франция - Канада - Германия - Австралия - Индия' 'unknown'\n",
      " 'СССР, Румыния, Франция' 'СССР, ГДР' 'Австралия-Ирландия' 'США - Китай'\n",
      " 'Великобритания - Франция - Австрия - Швеция' 'Россия, Таджикистан'\n",
      " 'Нидерланды - Бельгия - Болгария' 'Великобритания - Канада - США'\n",
      " 'Франция - Бельгия - Испания' 'Китай-Гонконг-США'\n",
      " 'Франция - Великобритания' 'США - Вьетнам' 'США - Германия - Франция'\n",
      " 'Германия - Франция - Бельгия' 'США - Италия'\n",
      " 'Германия - Дания - Испания - Швеция - Канада - Эстония - Франция'\n",
      " 'Княжество Андорра - Украина' 'Германия - Люксембург - Бельгия'\n",
      " 'Великобритания - Россия - Украина - США'\n",
      " 'Германия - Бельгия - Люксембург - Норвегия'\n",
      " 'США - Австралия - Новая Зеландия - Великобритания'\n",
      " 'США - Франция - Канада - Великобритания' 'Испания-Колумбия'\n",
      " 'Великобритания - Чехия - Франция' 'Россия, Украина' 'Исландия'\n",
      " 'Великобритания - Франция - Венгрия' 'Россия, Франция, Германия, Бельгия'\n",
      " 'Франция - Македония'\n",
      " 'Нидерланды - Франция - Германия - Бельгия - Швеция - Великобритания'\n",
      " 'Испания - США - Великобритания - Канада' 'Германия - Австрия'\n",
      " 'Республика Казахстан' 'Франция - Испания - Дания - Венгрия - Швейцария'\n",
      " 'Франция-КНР' 'США - Пуэрто-Рико - Франция ' 'Мексика - Тайвань - США'\n",
      " 'Великобритания - Испания - Непал - Индия - Венгрия - Гонконг - Германия - Дания - Бахрейн'\n",
      " 'Великобритания - Аргентина - США - Франция - Россия - Испания'\n",
      " 'КНР - США' 'Италия - США' 'Финляндия - Швеция - Германия'\n",
      " 'Канада- Испания' 'Франция - Бельгия - Чехия' 'Франция-Бельгия-Канада'\n",
      " 'Франция - Германия - США' 'США - Дания' 'Индия - КНР'\n",
      " 'Чехия-Великобритания-США' 'США-ФРГ-Россия'\n",
      " 'Ирландия-Нидерланды-Франция-США-Великобритания'\n",
      " 'Россия, Грузия, Хорватия, Испания' 'Финляндия - Швеция - Норвегия'\n",
      " 'Сербия - Великобритания - США'\n",
      " 'США - Великобритания - Франция - Гонконг' 'Швейцария - Франция'\n",
      " 'Швейцария - Великобритания' 'ОАЭ - США'\n",
      " 'США - Франция - Германия - Канада - Австралия ' 'Германия - Австралия'\n",
      " 'Иран, Франция' 'США - Великобритания - Новая Зеландия' 'США-Колумбия'\n",
      " 'США-Франция-Ирландия' 'Великобритания - Франция - Бельгия'\n",
      " 'США - Великобритания - Япония' 'США - Франция - Германия'\n",
      " 'Польша - Ирландия' 'Ирландия - Великобритания - Франция - США'\n",
      " 'США - Бельгия - Великобритания' 'СССР, ВНР'\n",
      " 'Испания - Франция - США - Великобритания - Бельгия'\n",
      " 'Франция - Дания - США' 'США - Гонконг' 'Бразилия - К;анада'\n",
      " 'Франция-Германия' 'США - Колумбия'\n",
      " 'США - Ирландия - Великобритания - Франция'\n",
      " 'Великобритания - США - Канада' 'Польша - Франция'\n",
      " 'Канада - США - Нидерланды - Великобритания - Аргентина'\n",
      " 'Великобритания - Дания' 'Франция - Бельгия - Япония' 'Россия,  Испания'\n",
      " 'Франция -Бельгия' 'США - Канада - Германия - Франция'\n",
      " 'США-Канада-Франция' 'Россия - Германия' 'Россия-Италия'\n",
      " 'Китай - Гонконг' 'Германия-Австрия-Франция-Италия' 'США-Япония'\n",
      " 'США - Германия - Канада' 'Испания-Мексика'\n",
      " 'США - Япония - Канада - Великобритания - Германия - Франция'\n",
      " 'США -Великобритания - Австралия' 'Россия-Украина-Германия'\n",
      " 'Израиль - Франция - Великобритания - Германия' 'Корея'\n",
      " 'Россия - Болгария' 'США-Индия' 'Германия-Канада-Франция-Бельгия'\n",
      " 'Германия-Кения' 'Франция - Монако' 'Франция-Испания-Швейцария'\n",
      " 'Австрия-Франция-Германия' 'Румыния' 'США-Великобритания-Франция'\n",
      " 'Канада-Великобритания' 'Канада-Бразилия-Япония'\n",
      " 'Германия - Дания - Норвегия' 'Дания - Германия' 'СССР - Италия'\n",
      " 'СССР - ГДР - Польша - Италия' 'США - Испания - Франция - Великобритания'\n",
      " 'Китай' 'Мексика-Аргентина'\n",
      " 'Германия - Великобритания - Италия - Испания'\n",
      " 'Франция-Германия-Великобритания' 'Россия - Германия - Швейцария'\n",
      " 'Франция-Австралия' 'Голландия' 'Швейцария-Франция' 'Россия-Белоруссия'\n",
      " 'Франция - Испания - Тайвань' 'США-Южная Корея-Новая Зеландия'\n",
      " 'Великобритания-Венгрия' 'Россия-Германия'\n",
      " 'Великобритания-Франция-Германия' 'Франция-Германия-Италия'\n",
      " 'Швеция-Финляндия-Франция-Норвегия' 'Франция-Италия' 'Германия-Израиль'\n",
      " 'Швеция - Германия - Дания - Норвегия' 'США-Бельгия'\n",
      " 'Франция-Гонконг-Ирландия' 'Эстония' 'Литва-Россия-Украина'\n",
      " 'Германия - Италия - Франция' 'Великобритания - Австрия - Германия'\n",
      " 'Бельгия - Франция' 'Россия-Казахстан' 'Испания - Мальта'\n",
      " 'Франция-Россия-Румыния-Италия-Бельгия' 'Россия - Польша'\n",
      " 'Испания - Мексика' 'США-Аргентина' 'Великобритания '\n",
      " 'Израиль-США-Франция' 'США - Новая Зеландия - Япония'\n",
      " 'Франция - Чехия - Великобритания' 'Россия-Польша'\n",
      " 'Германия-Франция-Великобритания' 'США-Германия-Канада'\n",
      " 'США-Гонконг-Китай' 'США - Великобритания - Германия'\n",
      " 'США-Канада-Австралия' 'Япония-США-Франция' 'Франция-Испания-Германия'\n",
      " 'США - Хорватия - Босния-Герцеговина'\n",
      " 'Великобритания - Чехия - Франция - Италия' 'США - Германия - Нидерланды'\n",
      " 'Германия - Франция - Канада'\n",
      " 'Франция-Грузия-Германия-Россия-Украина-Бельгия'\n",
      " 'Великобритания - Франция - Италия' 'Россия - США'\n",
      " 'Франция - Италия - Иран' 'Россия - Азербайджан' 'Греция' 'Дания - США'\n",
      " 'США-Великобритания-Новая Зеландия' 'США-Германия-Австралия'\n",
      " 'США-Канада-Италия' 'США - Япония - Германия' 'Австралия-США'\n",
      " 'Франция - Великобритания - Багамские острова - США'\n",
      " 'Швейцария - Люксембург' 'Швейцария - Австрия' 'Германия - Швейцария'\n",
      " 'Дания-Швеция-Франция-Германия' 'Польша' 'Швейцария-Австрия'\n",
      " 'Бразилия - Канада - США' 'Нидерланды - Россия' 'Португалия'\n",
      " 'Франция-Аргентина' 'Швеция-Франция' 'Франция-Украина'\n",
      " 'Германия-Украина-Нидерланды' 'Италия-Швейцария'\n",
      " 'США-Германия-Великобритания' 'Латвия - Россия'\n",
      " 'Германия-Франция-Великобритания-США' 'Канада - Италия'\n",
      " 'США - Объединенные Арабские Эмираты' 'США-Венгрия' 'Малайзия'\n",
      " 'Россия - Германия - Украина' 'США - Австралия - Мексика'\n",
      " 'Литва - Венгрия' 'Германия - Китай' 'Казахстан' 'Республика Корея'\n",
      " 'США - Германия - Франция - Великобритания - Канада '\n",
      " 'Бельгия - Германия - Люксембург - Франция' 'Франция - Греция'\n",
      " 'Италия - Канада' 'США - Великобритания - Франция' 'США-Италия-Греция'\n",
      " 'Германия - США - Великобритания - Ирландия'\n",
      " 'Великобритания - Франция - Германия' 'Германия - Нидерланды - ЮАР'\n",
      " 'США-Япония-Германия-Великобритания-Нидерланды'\n",
      " 'США-Япония-Германия-Великобритания' 'Германия - Франция - Польша'\n",
      " 'Таиланд-Великобритания-Франция-Германия-Испания-Нидерланды'\n",
      " 'Германия-Италия-Швейцария'\n",
      " 'Дания - Швеция - Великобритания - Франция - Германия - Нидерланды - Норвегия - Финляндия'\n",
      " 'Франция - Великобритания - Нидерланды - Люксембург'\n",
      " 'Нидерланды-Великобритания-Франция-Италия-Япония'\n",
      " 'Финляндия-Дания-Германия-Ирландия' 'Испания-Аргентина'\n",
      " 'Великобритания - Нидерланды - Франция - США' 'Канада - Мексика'\n",
      " 'США, Франция' 'Канада-Южная Корея-США'\n",
      " 'Великобритания - Франция - Бельгия - США' 'КНР - Канада - США'\n",
      " 'Италия - Франция - Германия' 'Швеция - Германия - Франция - Дания'\n",
      " 'Франция - США - Бельгия' 'Украина - Германия - Латвия - Эстония'\n",
      " 'Австрия - Люксембург' 'Великобритания - КНР' 'Монголия'\n",
      " 'Франция - Дания' 'Швеция - Дания - Финляндия'\n",
      " 'Сингапур - Великобритания - Индонезия - Канада - США'\n",
      " 'США - Германия - Япония' 'Таиланд - США' 'Франция - Нидерланды'\n",
      " 'Великобритания - Румыния' 'США - Мальта'\n",
      " 'Великобритания - Германия - Нидерланды - Дания'\n",
      " 'Франция - Германия - Литва - Нидерланды - Россия' 'США - ЮАР - Гонконг'\n",
      " 'Австралия - Колумбия' 'Великобритания - Польша'\n",
      " 'США - Великобритания - Швеция' 'Франция - Швеция - Дания - Норвегия'\n",
      " 'Болгария - США' 'СССР, ФРГ' 'Бельгия - Нидерланды - Франция'\n",
      " 'Финляндия - Германия' 'Болгария'\n",
      " 'Грузия - Россия - Украина - Хорватия - Германия' 'Франция - Люксембург'\n",
      " 'Франция - Германия - Австрия' 'Норвегия - США' 'Германия-Швеция'\n",
      " 'Франция - Германия - Италия' 'Франция-Германия-Австрия' 'КНР-США'\n",
      " 'Великобритания - Ирландия - США ' 'Дания - Латвия - Россия - США'\n",
      " 'Финляндия - Польша' 'Германия - Бельгия'\n",
      " 'Германия - США - Франция - Испания'\n",
      " 'Бельгия-Германия-Канада-Франция-США-Великобритания'\n",
      " 'Нидерланды - Бельгия - Люксембург' 'Канада-Германия'\n",
      " 'Люксембург - Бельгия - Франция' 'США-Великобритания-Австралия'\n",
      " 'Великобритания, Новая Зеландия' 'Бельгия, Великобритания, США'\n",
      " 'Великобритания, Австралия' 'Исландия, Бельгия'\n",
      " 'Испания - Швейцария - Великобритания - Германия - Новая Зеландия - Нидерланды - Канада'\n",
      " 'Франция, Бельгия' 'Великобритания, США' 'Киргизия-Россия'\n",
      " 'Германия, США' 'Великобритания, США, Испания'\n",
      " 'Италия - Швейцария - Германия' 'Россия, Армения' 'Франция, Германия'\n",
      " 'Китай, Канада, США' 'Германия, Австралия' 'КНР, США'\n",
      " 'США, Великобритания, Люксембург' 'Испания, Ирландия, Бельгия, Франция'\n",
      " 'Великобритания - Гонконг - Венгрия - США - Ирландия' 'США - Пуэрто Рико'\n",
      " 'Аргентина - Испания - Уругвай'\n",
      " 'Израиль - Германия - Франция - Швейцария'\n",
      " 'Великобритания - Мексика - США' 'Испания - Болгария - США'\n",
      " 'Россия-Словакия-Чехия'\n",
      " 'Швейцария - КНР - США - Россия - Республика Корея - Великобритания'\n",
      " 'Россия, Нидерланды, Финляндия'\n",
      " 'Испания - Бельгия - Франция - Португалия - Великобритания'\n",
      " 'Бразилия - Португалия - Франция' 'Швеция - Норвегия'\n",
      " 'Франция - Польша - Бельгия' 'CША' 'Китай, США'\n",
      " 'Италия, Франция, Германия' 'Германия - Австрия - Франция'\n",
      " 'Чехия - Словакия - Хорватия' 'Россия, Польша, Финляндия'\n",
      " 'Россия, Латвия, Чешская Республика'\n",
      " 'Франция - Великобритания - Камбоджа - США - КНР' 'Чехия - Испания - США'\n",
      " 'Германия - Люксембург - Дания' 'Великобритания - Испания - Германия'\n",
      " 'Дания - Исландия'\n",
      " 'Великобритания - Испания - Италия - Латвия - Франция - Эстония'\n",
      " 'Польша - Франция - Великобритания' 'Дания, Норвегия, Венгрия, Чехия'\n",
      " 'Дания - Франция - Германия - Швеция' 'Великобритания, Швеция, США'\n",
      " 'Канада, Франция, Италия, Швейцария, США' 'США, Индия'\n",
      " 'США - Великобритания - Германия - - Швеция - Канада' 'Италия, Франция'\n",
      " 'Республика Беларусь, Германия, США, Россия'\n",
      " 'Италия-Швейцария-Франция-Германия '\n",
      " 'Россия - Франция - Великобритания - Латвия' 'Россия-Беларусь'\n",
      " 'Франция - Испания - Румыния - США - Бельгия' 'Италия-США'\n",
      " 'Россия, Австрия' 'Ирландия - Великобритания - США'\n",
      " 'Швейцария, Великобритания, Франция, США, Ирландия'\n",
      " 'Мексика, Франция, Германия, Дания, Швеция' 'Нидерланды, Бельгия'\n",
      " 'Швеция, Норвегия, Финляндия, Франция' 'Испания, Франция, Италия'\n",
      " 'Испания-Франция-Греция-Индия-США-Россия-Великобритания'\n",
      " 'Великобритания - Япония - США' 'Дания, Канада, Норвегия, Австралия, США'\n",
      " 'Аргентина, Испания' 'Россия, Германия, Казахстан, Польша, Китай'\n",
      " 'Португалия, Франция, Польша, США' 'США - Канада - Аргентина' 'Ливан-США'\n",
      " 'Япония - США' 'США, Гонконг '\n",
      " 'Франция - Россия - Швейцария - Румыния - Венгрия' 'Аргентина-Испания'\n",
      " 'Россия, Сербия' 'США - Болгария - Мексика'\n",
      " 'США - Великобритания - Швейцария - Франция' 'Таиланд - КНР - США'\n",
      " 'Великобритания, Нидерланды, Польша, Швейцария, Франция' 'Ирландия - США'\n",
      " 'Германия - Франция - Великобритания - Польша - США'\n",
      " 'США - Австралия - Индия' 'Франция - КНР' 'Великобритания - Израиль'\n",
      " 'Великобритания - Норвегия - Кения - Хорватия'\n",
      " 'США - Бразилия - Великобритания - Канада' 'Германия, Бельгия'\n",
      " 'Австралия, Канада' 'США, Великобритания, Франция' 'Кения, Германия'\n",
      " 'Нидерланды, Бельгия, Люксембург' 'Колумбия' 'Латвия - Франция'\n",
      " 'Ирландия, Великобритания' 'Франция - Израиль - Германия'\n",
      " 'Швеция, Франция, Великобритания' 'Бельгия - Люксембург'\n",
      " 'Германия - Бельгия - Великобритания'\n",
      " 'Испания, Франция, Великобритания, Дания, Бельгия, Германия'\n",
      " 'Румыния, ЮАР, Иран, Франция, Канада, Великобритания' 'Германия, Франция'\n",
      " 'США, Япония' 'США, Великобритания, Ирландия, Люксембург'\n",
      " 'Республика Армения' 'США, Франция, Япония' 'Япония, США' 'Канада, США'\n",
      " 'Республика Кипр - Россия'\n",
      " 'Дания - Франция - Италия - Бельгия - Нидерланды' 'Россия - Грузия'\n",
      " 'Италия, Германия' 'Норвегия, Швеция, Дания' 'Республика Кипр, Россия'\n",
      " 'КНР, Индия, Гонконг, США' 'Израиль, Украина' 'США, Россия'\n",
      " 'США - КНР - Индия - Ю.Корея' 'США - Швеция' 'Россия-Китай'\n",
      " 'Канада, Великобритания' 'Канада, США, Каймановы острова'\n",
      " 'Бразилия, Уругвай, Дания, Норвегия, Чили, Швеция'\n",
      " 'Пуэрто-Рико, Великобритания, США' 'Уругвай - Аргентина - Испания'\n",
      " 'США - Великобритания - Италия - Израиль - Сербия - Индия'\n",
      " 'США - Канада - Франция - Индия' 'Великобритания - Россия - КНР'\n",
      " 'Франция, Новая Зеландия' 'Франция, Люксембург, Бельгия'\n",
      " 'Канада, США, Норвегия' 'Италия, Испания'\n",
      " 'Испания - Германия - Нидерланды' 'Бразилия - США - КНР '\n",
      " 'Великобритания, Германия, Дания, США' '2019'\n",
      " 'Италия - Фрация - Бразилия - Германия' 'Норвегия - Швеция - Россия'\n",
      " 'Великобритания, Япония, США' 'Сша, Канада' 'Бельгия, Канада'\n",
      " 'Великобритания - Австралия - США' 'США, Канада' 'КНР - США '\n",
      " 'Франция - Финляндия' 'Колумбия - США' 'Великобритания, Франция, Бельгия'\n",
      " 'Норвегия - Нидерланды' 'Великобритания, Канада, США'\n",
      " 'Япония, Великобритания' 'Италия - Бельгия - Франция'\n",
      " 'Россия, Бельгия, Финляндия' 'США, Украина' 'Франция, Норвегия'\n",
      " 'Великобритания, Южная Корея, Канада, США, Индия, Китай, Япония'\n",
      " 'Канада - Норвегия' 'Республика Кипр-Россия' 'Германия, Россия'\n",
      " 'Польша - Франция - Испания - Бразилия - Швеция'\n",
      " 'Австрия, Великобритания, Германия' 'Франция - Сенегал - Бельгия'\n",
      " 'Франция, Бельгия, Люксембург' 'Финляндия, Латвия' 'Пакистан'\n",
      " 'Германия, Франция, США' 'Германия - Великобритания - США'\n",
      " 'КНР - Франция' 'Дания, Норвегия, Швеция, Исландия'\n",
      " 'Республика Кипр, США, Россия' 'Новая Зеландия - КНР'\n",
      " 'Дания - Канада - Швеция - Франция - Германия - Великобритания - США']\n",
      "\n",
      " ['Кевин Костнер' 'Е.Матвеев' 'Тимур Бекмамбетов' ... 'Ник Пауэлл'\n",
      " 'А.Беляев' 'И.Трусов']\n",
      "\n",
      " ['Дэвид Валдес, Кевин Костнер, Джейк Эбертс' 'unknown'\n",
      " 'Джим Лемли, Джейсон Нетер, Марк Е.Платт, Яйн Смит' ...\n",
      " 'Поппи Бегум, Ник Пойнц'\n",
      " 'Джефф Боулер, Дэниэл Гродник, Луильо Руис, Брэт Саксон, Кирк Шоу'\n",
      " 'Дженнифер Додж']\n",
      "\n",
      " ['«18+» - запрещено для детей' '«6+» - для детей старше 6 лет'\n",
      " '«12+» - для детей старше 12 лет' '«16+» - для детей старше 16 лет'\n",
      " '«0+» - для любой зрительской аудитории']\n",
      "\n",
      " [nan 'Министерство культуры' 'Фонд кино'\n",
      " 'Министерство культуры, Фонд кино']\n",
      "\n",
      " ['боевик,драма,мелодрама' 'драма,военный' 'фантастика,боевик,триллер'\n",
      " 'драма' 'мелодрама,комедия' 'мюзикл,мелодрама,комедия' 'комедия,криминал'\n",
      " 'боевик,триллер,детектив' 'боевик,драма,приключения' 'драма,спорт'\n",
      " 'триллер,драма,мелодрама' 'комедия,мелодрама' 'драма,мелодрама,комедия'\n",
      " 'драма,мелодрама' 'драма,история' 'драма,мелодрама,семейный'\n",
      " 'комедия,мелодрама,криминал' 'комедия' 'боевик,драма,криминал'\n",
      " 'драма,комедия' 'ужасы,фантастика,комедия'\n",
      " 'мультфильм,короткометражка,мелодрама' 'драма,криминал'\n",
      " 'мультфильм,фантастика,фэнтези' 'триллер,драма,криминал'\n",
      " 'драма,мелодрама,биография' 'драма,комедия,военный'\n",
      " 'фантастика,драма,детектив' 'мюзикл,семейный' 'unknown'\n",
      " 'военный,приключения,драма' 'документальный,драма'\n",
      " 'драма,биография,история' 'боевик,триллер,драма' 'фэнтези,боевик'\n",
      " 'боевик,комедия,криминал' 'мюзикл,комедия,детский'\n",
      " 'комедия,мелодрама,драма' 'мультфильм,фэнтези,комедия' 'комедия,история'\n",
      " 'мелодрама' 'драма,биография,музыка' 'фэнтези,драма,мелодрама'\n",
      " 'триллер,военный' 'драма,мелодрама,военный' 'мюзикл,драма,мелодрама'\n",
      " 'мюзикл,комедия' 'мультфильм,приключения,семейный' 'ужасы,триллер'\n",
      " 'боевик,драма,военный' 'драма,боевик' 'мультфильм,драма,комедия'\n",
      " 'триллер,криминал' 'военный,биография,драма' 'комедия,семейный' 'военный'\n",
      " 'драма,семейный,биография' 'фэнтези,приключения,семейный'\n",
      " 'драма,криминал,биография' 'ужасы,триллер,детектив'\n",
      " 'боевик,история,драма' 'ужасы,триллер,драма' 'драма,криминал,спорт'\n",
      " 'документальный,короткометражка' 'триллер,драма'\n",
      " 'криминал,детектив,приключения' 'драма,комедия,криминал'\n",
      " 'драма,комедия,вестерн' 'драма,мелодрама,детектив' 'мелодрама,биография'\n",
      " 'фэнтези,мелодрама,драма' 'драма,мелодрама,история'\n",
      " 'комедия,приключения,история' 'приключения' 'драма,семейный'\n",
      " 'криминал,детектив' 'мультфильм,короткометражка,ужасы'\n",
      " 'фантастика,триллер,драма' 'фэнтези,мелодрама,комедия' 'драма,биография'\n",
      " 'комедия,криминал,история' 'триллер,драма,детектив'\n",
      " 'фантастика,комедия,приключения' 'фэнтези,семейный'\n",
      " 'ужасы,фантастика,боевик' 'мелодрама,криминал'\n",
      " 'комедия,приключения,мелодрама' 'боевик,триллер,приключения'\n",
      " 'боевик,приключения' 'боевик,триллер,криминал'\n",
      " 'документальный,военный,история' 'драма,музыка' 'боевик,драма'\n",
      " 'приключения,боевик' 'драма,военный,биография'\n",
      " 'триллер,драма,приключения' 'аниме,мультфильм,фэнтези'\n",
      " 'триллер,детектив,драма' 'боевик,триллер,мелодрама' 'боевик,история'\n",
      " 'приключения,история' 'драма,комедия,приключения'\n",
      " 'фэнтези,комедия,приключения' 'драма,вестерн' 'документальный,музыка'\n",
      " 'мелодрама,драма' 'триллер,криминал,детектив' 'ужасы'\n",
      " 'боевик,комедия,приключения' 'мультфильм,фэнтези,боевик'\n",
      " 'боевик,фэнтези,драма' 'фэнтези,драма' 'фэнтези,боевик,комедия'\n",
      " 'приключения,детский,комедия' 'документальный' 'боевик,триллер,комедия'\n",
      " 'мелодрама,комедия,криминал' 'драма,детектив' 'мюзикл,ужасы,триллер'\n",
      " 'детектив,триллер,ужасы' 'ужасы,фэнтези' 'ужасы,фэнтези,триллер'\n",
      " 'мультфильм,драма' 'ужасы,боевик,фантастика' 'боевик' 'фантастика,боевик'\n",
      " 'мелодрама,комедия,приключения' 'триллер,детектив'\n",
      " 'мюзикл,мелодрама,фэнтези' 'криминал' 'триллер,комедия,криминал'\n",
      " 'боевик,приключения,триллер' 'триллер,драма,военный'\n",
      " 'комедия,семейный,музыка' 'комедия,фантастика,мелодрама'\n",
      " 'фантастика,триллер,криминал' 'комедия,драма' 'боевик,военный'\n",
      " 'ужасы,фантастика,триллер' 'фантастика,драма,мелодрама'\n",
      " 'фэнтези,драма,детектив' 'боевик,триллер' 'боевик,драма,история'\n",
      " 'мультфильм,мюзикл,фэнтези' 'для взрослых,драма,мелодрама'\n",
      " 'мультфильм,боевик,детектив' 'фантастика,мелодрама,боевик'\n",
      " 'ужасы,фантастика,детектив' 'фантастика,боевик,приключения'\n",
      " 'мелодрама,комедия,спорт' 'комедия,боевик,приключения'\n",
      " 'документальный,приключения' 'мультфильм,короткометражка,детский'\n",
      " 'комедия,приключения' 'ужасы,драма' 'ужасы,фэнтези,боевик'\n",
      " 'мультфильм,фэнтези,детский' 'мюзикл,боевик,драма'\n",
      " 'семейный,комедия,драма' 'концерт,музыка' 'фэнтези,боевик,драма'\n",
      " 'драма,комедия,музыка' 'фантастика,фэнтези,боевик'\n",
      " 'фэнтези,комедия,семейный' 'фэнтези,драма,комедия'\n",
      " 'мультфильм,мюзикл,драма' 'триллер' 'боевик,криминал,триллер'\n",
      " 'мультфильм,приключения,драма' 'мелодрама,музыка'\n",
      " 'документальный,музыка,концерт' 'мультфильм,семейный'\n",
      " 'мультфильм,комедия,приключения' 'мультфильм,комедия,семейный'\n",
      " 'фантастика,драма' 'фэнтези,боевик,приключения' 'мультфильм,приключения'\n",
      " 'драма,военный,история' 'история' 'драма,приключения,военный'\n",
      " 'документальный,короткометражка,семейный' 'мелодрама,история,триллер'\n",
      " 'ужасы,детектив' 'мюзикл,комедия,приключения' 'драма,спорт,биография'\n",
      " 'фантастика,боевик,комедия' 'фантастика,приключения,детектив'\n",
      " 'короткометражка,драма,военный' 'драма,мультфильм' 'приключения,семейный'\n",
      " 'детектив' 'триллер,приключения' 'аниме,мультфильм,боевик'\n",
      " 'драма,комедия,биография' 'драма,комедия,спорт'\n",
      " 'боевик,мелодрама,комедия' 'семейный,комедия' 'фэнтези,боевик,триллер'\n",
      " 'документальный,фэнтези,семейный' 'фантастика,фэнтези,драма'\n",
      " 'ужасы,комедия,фэнтези' 'документальный,биография,музыка'\n",
      " 'фантастика,боевик,фэнтези' 'ужасы,боевик,триллер'\n",
      " 'комедия,криминал,семейный' 'приключения,драма' 'криминал,драма,триллер'\n",
      " 'драма,детектив,криминал' 'фэнтези,приключения,комедия' 'комедия,спорт'\n",
      " 'мюзикл,фэнтези,мелодрама' 'мультфильм,фэнтези,приключения'\n",
      " 'фантастика,фэнтези,приключения' 'фэнтези' 'фэнтези,приключения,боевик'\n",
      " 'фантастика,боевик,драма' 'криминал,драма' 'криминал,триллер,драма'\n",
      " 'драма,мелодрама,приключения' 'детский,комедия' 'фантастика,драма,боевик'\n",
      " 'мультфильм,семейный,фэнтези' 'концерт,музыка,документальный'\n",
      " 'ужасы,комедия,приключения' 'драма,мелодрама,криминал'\n",
      " 'ужасы,фантастика,фэнтези' 'боевик,комедия'\n",
      " 'мультфильм,фантастика,комедия' 'триллер,ужасы'\n",
      " 'мультфильм,мюзикл,комедия' 'мелодрама,фэнтези,триллер'\n",
      " 'детский,приключения,комедия' 'комедия,детектив'\n",
      " 'аниме,мультфильм,мелодрама' 'документальный,драма,семейный'\n",
      " 'документальный,биография,история' 'военный,боевик,драма' 'ужасы,комедия'\n",
      " 'комедия,приключения,семейный' 'приключения,биография,история'\n",
      " 'детский,приключения,семейный' 'спорт,драма,биография'\n",
      " 'аниме,мультфильм,ужасы' 'фантастика,боевик,криминал' 'мюзикл,драма'\n",
      " 'драма,криминал,детектив' 'аниме,мультфильм,драма'\n",
      " 'драма,триллер,приключения' 'триллер,криминал,драма'\n",
      " 'фэнтези,комедия,драма' 'мультфильм,комедия' 'драма,комедия,история'\n",
      " 'комедия,биография,история' 'мультфильм,фантастика,приключения'\n",
      " 'аниме,мультфильм,фантастика' 'мультфильм,фэнтези,семейный'\n",
      " 'мультфильм,боевик,комедия' 'комедия,криминал,спорт'\n",
      " 'документальный,мюзикл' 'мелодрама,комедия,музыка' 'биография'\n",
      " 'триллер,криминал,комедия' 'фантастика,драма,комедия'\n",
      " 'комедия,драма,мелодрама' 'фантастика,приключения,боевик'\n",
      " 'мультфильм,фэнтези,драма' 'триллер,комедия'\n",
      " 'драма,приключения,биография' 'фантастика,комедия'\n",
      " 'мелодрама,драма,комедия' 'боевик,криминал' 'драма,криминал,боевик'\n",
      " 'мультфильм,мюзикл,детский' 'драма,фэнтези' 'документальный,семейный'\n",
      " 'фэнтези,драма,приключения' 'ужасы,комедия,фантастика'\n",
      " 'драма,мелодрама,музыка' 'фэнтези,драма,семейный'\n",
      " 'триллер,мелодрама,драма' 'вестерн,боевик,драма'\n",
      " 'мультфильм,короткометражка,комедия' 'триллер,драма,история'\n",
      " 'ужасы,фантастика' 'ужасы,мелодрама,комедия' 'фэнтези,приключения'\n",
      " 'фантастика,триллер' 'ужасы,боевик,фэнтези' 'мультфильм,комедия,детский'\n",
      " 'триллер,драма,биография' 'мультфильм,ужасы,фэнтези'\n",
      " 'мультфильм,ужасы,фантастика' 'ужасы,боевик,комедия'\n",
      " 'драма,биография,спорт' 'мультфильм' 'мелодрама,комедия,драма'\n",
      " 'приключения,фантастика,семейный' 'комедия,криминал,детектив'\n",
      " 'ужасы,триллер,комедия' 'криминал,комедия,триллер'\n",
      " 'семейный,приключения,комедия' 'мультфильм,драма,приключения'\n",
      " 'ужасы,драма,детектив' 'драма,приключения,фэнтези'\n",
      " 'фантастика,мультфильм,драма' 'драма,триллер,детектив'\n",
      " 'драма,история,музыка' 'детский' 'триллер,боевик,криминал'\n",
      " 'драма,фантастика' 'комедия,драма,семейный' 'боевик,драма,комедия'\n",
      " 'комедия,ужасы' 'драма,фантастика,триллер' 'фантастика,драма,триллер'\n",
      " 'история,спорт,драма' 'документальный,биография' 'биография,история'\n",
      " 'спорт,драма' 'боевик,фэнтези' 'мультфильм,фэнтези'\n",
      " 'документальный,комедия,история' 'криминал,комедия,боевик'\n",
      " 'фэнтези,приключения,драма' 'музыка,концерт' 'триллер,драма,боевик'\n",
      " 'комедия,криминал,боевик' 'комедия,фантастика,боевик'\n",
      " 'вестерн,приключения,боевик' 'аниме,мультфильм,комедия'\n",
      " 'детектив,криминал,триллер' 'мультфильм,комедия,криминал'\n",
      " 'комедия,приключения,детектив' 'мелодрама,фантастика,драма'\n",
      " 'драма,комедия,семейный' 'приключения,фантастика'\n",
      " 'триллер,детектив,ужасы' 'комедия,приключения,фэнтези'\n",
      " 'фэнтези,триллер,драма' 'мелодрама,приключения,боевик'\n",
      " 'детектив,триллер,криминал' 'фэнтези,семейный,мелодрама' 'военный,драма'\n",
      " 'документальный,приключения,семейный' 'криминал,комедия,драма'\n",
      " 'комедия,фантастика' 'история,биография,драма' 'мелодрама,драма,музыка'\n",
      " 'боевик,мелодрама' 'комедия,криминал,триллер' 'детектив,триллер,боевик'\n",
      " 'комедия,боевик,криминал' 'комедия,вестерн' 'детский,мелодрама,семейный'\n",
      " 'короткометражка,мультфильм' 'комедия,фэнтези' 'фантастика,драма,ужасы'\n",
      " 'триллер,драма,ужасы' 'драма,фэнтези,история'\n",
      " 'комедия,драма,короткометражка' 'фэнтези,триллер,приключения' 'семейный'\n",
      " 'комедия,криминал,драма' 'комедия,фэнтези,ужасы'\n",
      " 'короткометражка,комедия,криминал' 'фантастика' 'триллер,ужасы,драма'\n",
      " 'мелодрама,драма,фэнтези' 'фантастика,приключения,драма'\n",
      " 'боевик,детектив' 'военный,драма,боевик' 'комедия,мелодрама,фэнтези'\n",
      " 'вестерн,криминал,триллер' 'драма,история,триллер'\n",
      " 'мультфильм,фантастика,боевик' 'детектив,драма,криминал'\n",
      " 'приключения,история,драма' 'мультфильм,семейный,детский'\n",
      " 'биография,драма,история' 'триллер,криминал,боевик' 'история,мелодрама'\n",
      " 'приключения,детский' 'музыка,приключения,концерт'\n",
      " 'военный,драма,комедия' 'фэнтези,боевик,военный'\n",
      " 'фантастика,детектив,боевик' 'мультфильм,фэнтези,история'\n",
      " 'биография,мелодрама,драма' 'документальный,биография,спорт'\n",
      " 'фантастика,комедия,детектив' 'музыка,концерт,документальный'\n",
      " 'триллер,боевик,приключения' 'триллер,драма,комедия' 'детектив,криминал'\n",
      " 'мультфильм,приключения,фэнтези' 'мелодрама,приключения' 'комедия,музыка'\n",
      " 'мелодрама,комедия,ужасы' 'драма,криминал,приключения'\n",
      " 'приключения,детектив,мелодрама' 'драма,криминал,фантастика'\n",
      " 'фэнтези,драма,биография' 'детектив,фантастика,криминал'\n",
      " 'триллер,драма,фантастика' 'ужасы,комедия,боевик' 'мелодрама,история'\n",
      " 'триллер,боевик' 'фильм-нуар,триллер,детектив'\n",
      " 'комедия,криминал,приключения' 'ужасы,триллер,мелодрама'\n",
      " 'военный,драма,история' 'драма,спорт,история'\n",
      " 'документальный,драма,история' 'триллер,мелодрама,детектив'\n",
      " 'детский,семейный' 'мюзикл,семейный,драма' 'биография,военный,драма'\n",
      " 'мультфильм,детский' 'боевик,криминал,драма' 'детектив,фэнтези,триллер'\n",
      " 'драма,боевик,приключения' 'драма,мелодрама,фэнтези'\n",
      " 'детектив,история,драма' 'фэнтези,боевик,ужасы' 'ужасы,фэнтези,мелодрама'\n",
      " 'ужасы,приключения' 'боевик,фантастика' 'ужасы,мелодрама,детектив'\n",
      " 'фантастика,триллер,приключения' 'боевик,приключения,история'\n",
      " 'приключения,боевик,триллер' 'детектив,ужасы,криминал' 'семейный,фэнтези'\n",
      " 'мюзикл,мелодрама' 'драма,военный,приключения'\n",
      " 'фантастика,драма,приключения' 'приключения,семейный,драма'\n",
      " 'история,драма,боевик' 'мультфильм,приключения,комедия'\n",
      " 'криминал,драма,комедия' 'ужасы,комедия,драма'\n",
      " 'комедия,семейный,приключения' 'мюзикл,фэнтези,драма'\n",
      " 'драма,вестерн,боевик' 'фантастика,триллер,детектив'\n",
      " 'драма,история,детектив' 'короткометражка,биография'\n",
      " 'мультфильм,приключения,фантастика' 'комедия,триллер'\n",
      " 'мультфильм,приключения,детектив' 'драма,триллер'\n",
      " 'ужасы,триллер,криминал' 'документальный,криминал,военный'\n",
      " 'ужасы,фэнтези,драма' 'фэнтези,комедия' 'ужасы,фэнтези,комедия'\n",
      " 'комедия,музыка,драма' 'мультфильм,приключения,военный'\n",
      " 'мюзикл,фэнтези,комедия' 'боевик,фантастика,приключения'\n",
      " 'триллер,ужасы,криминал' 'ужасы,фантастика,драма'\n",
      " 'фантастика,приключения,семейный' 'короткометражка,музыка'\n",
      " 'мелодрама,детектив,комедия' 'документальный,триллер,биография'\n",
      " 'боевик,фантастика,триллер' 'спорт,драма,комедия'\n",
      " 'фэнтези,мелодрама,приключения' 'триллер,детектив,криминал'\n",
      " 'короткометражка,мелодрама' 'мультфильм,семейный,спорт'\n",
      " 'комедия,фэнтези,мелодрама' 'драма,спорт,комедия'\n",
      " 'история,драма,мелодрама' 'драма,боевик,криминал' 'драма,комедия,триллер'\n",
      " 'аниме,мультфильм' 'документальный,ужасы' 'мультфильм,короткометражка'\n",
      " 'драма,история,военный' 'мультфильм,короткометражка,фэнтези'\n",
      " 'комедия,военный,музыка' 'биография,история,драма'\n",
      " 'ужасы,драма,мелодрама' 'драма,комедия,детектив'\n",
      " 'комедия,семейный,фантастика' 'мультфильм,семейный,комедия'\n",
      " 'история,детектив' 'приключения,мелодрама,детектив'\n",
      " 'мюзикл,комедия,мелодрама' 'драма,фантастика,ужасы'\n",
      " 'мультфильм,ужасы,комедия' 'для взрослых,драма,комедия'\n",
      " 'ужасы,комедия,музыка' 'комедия,история,драма'\n",
      " 'семейный,детектив,детский' 'короткометражка,драма'\n",
      " 'документальный,новости,драма' 'триллер,мелодрама' 'ужасы,драма,вестерн'\n",
      " 'мюзикл,фэнтези,семейный' 'вестерн,драма,триллер'\n",
      " 'приключения,вестерн,боевик' 'семейный,комедия,музыка'\n",
      " 'боевик,драма,вестерн' 'ужасы,драма,триллер' 'фантастика,мелодрама'\n",
      " 'комедия,криминал,биография' 'семейный,мультфильм,комедия'\n",
      " 'комедия,драма,криминал' 'фантастика,боевик,военный'\n",
      " 'приключения,биография,драма' 'приключения,триллер,биография'\n",
      " 'криминал,боевик,триллер' 'боевик,вестерн,приключения' 'история,драма'\n",
      " 'фантастика,фэнтези,комедия' 'мультфильм,детский,комедия'\n",
      " 'мелодрама,комедия,триллер' 'документальный,боевик,приключения'\n",
      " 'драма,приключения' 'мелодрама,военный,драма' 'триллер,фэнтези'\n",
      " 'драма,триллер,биография' 'фэнтези,боевик,семейный'\n",
      " 'фантастика,триллер,комедия' 'документальный,фэнтези'\n",
      " 'комедия,мультфильм,фантастика' 'криминал,биография,комедия'\n",
      " 'биография,спорт,драма' 'приключения,военный' 'мультфильм,семейный,драма'\n",
      " 'документальный,фэнтези,драма' 'комедия,боевик,фантастика'\n",
      " 'семейный,приключения,военный' 'триллер,ужасы,детектив' 'короткометражка'\n",
      " 'мелодрама,триллер,история' 'документальный,история'\n",
      " 'мультфильм,приключения,детский' 'драма,комедия,мультфильм'\n",
      " 'военный,детектив' 'семейный,приключения,документальный'\n",
      " 'детский,фэнтези' 'документальный,комедия' 'комедия,биография'\n",
      " 'криминал,комедия' 'спорт,мелодрама,криминал' 'фантастика,комедия,боевик'\n",
      " 'боевик,приключения,детектив' 'детектив,триллер,драма'\n",
      " 'документальный,фантастика' 'мелодрама,комедия,семейный'\n",
      " 'мультфильм,мелодрама,комедия' 'драма,спорт,семейный'\n",
      " 'фантастика,мелодрама,фэнтези' 'мюзикл,комедия,музыка'\n",
      " 'фантастика,триллер,мелодрама' 'приключения,комедия,фэнтези'\n",
      " 'фэнтези,боевик,детектив' 'фэнтези,боевик,мелодрама' 'комедия,военный'\n",
      " 'драма,спорт,боевик' 'мультфильм,боевик,триллер' 'мелодрама,семейный'\n",
      " 'фантастика,боевик,детектив' 'драма,приключения,история'\n",
      " 'документальный,драма,музыка' 'фантастика,триллер,боевик'\n",
      " 'фэнтези,боевик,вестерн' 'драма,комедия,мелодрама'\n",
      " 'ужасы,фэнтези,приключения' 'триллер,фэнтези,драма'\n",
      " 'мультфильм,мюзикл,мелодрама' 'ужасы,триллер,фантастика'\n",
      " 'триллер,мелодрама,комедия' 'ужасы,комедия,семейный'\n",
      " 'комедия,приключения,музыка' 'документальный,комедия,криминал'\n",
      " 'мелодрама,детектив' 'детский,приключения,фантастика'\n",
      " 'короткометражка,боевик,драма' 'боевик,комедия,семейный'\n",
      " 'фантастика,боевик,мелодрама' 'фэнтези,триллер,мелодрама'\n",
      " 'драма,детектив,история' 'боевик,криминал,детектив'\n",
      " 'мультфильм,фэнтези,мелодрама' 'мелодрама,драма,боевик'\n",
      " 'драма,вестерн,приключения' 'драма,приключения,мелодрама'\n",
      " 'фэнтези,боевик,криминал' 'фантастика,комедия,семейный'\n",
      " 'детский,фэнтези,приключения' 'ужасы,боевик'\n",
      " 'фантастика,мелодрама,комедия' 'семейный,спорт,боевик'\n",
      " 'триллер,биография,драма' 'ужасы,драма,комедия'\n",
      " 'мультфильм,фэнтези,триллер' 'мюзикл' 'боевик,спорт,драма'\n",
      " 'комедия,приключения,вестерн' 'документальный,ужасы,боевик'\n",
      " 'фантастика,боевик,семейный' 'военный,история' 'ужасы,боевик,криминал'\n",
      " 'детектив,триллер' 'драма,семейный,комедия' 'драма,детектив,приключения'\n",
      " 'драма,криминал,история' 'приключения,триллер' 'боевик,драма,биография'\n",
      " 'драма,приключения,триллер' 'комедия,фэнтези,приключения'\n",
      " 'фантастика,боевик,ужасы' 'драма,комедия,фантастика'\n",
      " 'детектив,криминал,драма' 'боевик,триллер,фэнтези'\n",
      " 'приключения,детектив,семейный' 'ужасы,комедия,криминал'\n",
      " 'мультфильм,биография,драма' 'история,боевик,фэнтези'\n",
      " 'детектив,криминал,боевик' 'приключения,фэнтези'\n",
      " 'комедия,приключения,спорт' 'драма,биография,мюзикл'\n",
      " 'комедия,семейный,фэнтези' 'детектив,драма,триллер'\n",
      " 'боевик,приключения,семейный' 'биография,спорт,комедия'\n",
      " 'фантастика,приключения,военный' 'документальный,драма,биография'\n",
      " 'детектив,приключения,драма' 'аниме,мультфильм,приключения'\n",
      " 'семейный,приключения' 'ужасы,фэнтези,детектив' 'семейный,документальный'\n",
      " 'драма,приключения,семейный' 'приключения,история,военный'\n",
      " 'фэнтези,мелодрама' 'фэнтези,триллер,детектив'\n",
      " 'документальный,спорт,биография' 'комедия,триллер,драма' 'драма,ужасы'\n",
      " 'биография,музыка,драма' 'фэнтези,ужасы' 'детектив,мелодрама,фэнтези'\n",
      " 'боевик,военный,история' 'биография,драма,криминал'\n",
      " 'триллер,мелодрама,криминал' 'семейный,мелодрама' 'биография,драма'\n",
      " 'военный,история,драма' 'фантастика,детектив,фэнтези'\n",
      " 'детектив,приключения,триллер' 'фантастика,приключения'\n",
      " 'мультфильм,короткометражка,мюзикл' 'мультфильм,детский,семейный'\n",
      " 'документальный,драма,комедия' 'комедия,приключения,криминал'\n",
      " 'документальный,семейный,музыка' 'мелодрама,музыка,драма'\n",
      " 'детектив,фантастика,триллер' 'драма,мелодрама,триллер'\n",
      " 'биография,драма,военный' 'приключения,фантастика,драма'\n",
      " 'детектив,фильм-нуар,комедия' 'документальный,спорт'\n",
      " 'триллер,фантастика,драма' 'биография,документальный'\n",
      " 'ужасы,фантастика,мелодрама' 'детектив,комедия'\n",
      " 'история,биография,военный' 'криминал,мелодрама' 'драма,криминал,вестерн'\n",
      " 'мелодрама,семейный,приключения' 'триллер,ужасы,мелодрама'\n",
      " 'фэнтези,драма,фильм-нуар' 'детектив,мелодрама' 'комедия,драма,биография'\n",
      " 'драма,военный,боевик' 'драма,комедия,ужасы' 'фантастика,драма,криминал'\n",
      " 'документальный,музыка,биография' 'мультфильм,боевик,приключения'\n",
      " 'короткометражка,фантастика' 'мультфильм,мелодрама,драма'\n",
      " 'боевик,военный,драма' 'фэнтези,семейный,приключения'\n",
      " 'детский,мультфильм,приключения' 'семейный,фэнтези,комедия'\n",
      " 'фэнтези,ужасы,триллер' 'ужасы,триллер,приключения'\n",
      " 'драма,боевик,история' 'фэнтези,комедия,детектив' 'история,приключения'\n",
      " 'аниме,мультфильм,короткометражка' 'драма,военный,триллер'\n",
      " 'биография,криминал,триллер' 'фантастика,фэнтези,детектив'\n",
      " 'вестерн,биография,драма' 'биография,музыка,мюзикл'\n",
      " 'драма,история,биография' 'приключения,драма,фантастика'\n",
      " 'комедия,фэнтези,криминал' 'биография,спорт,история'\n",
      " 'драма,криминал,семейный' 'детектив,боевик,история'\n",
      " 'ужасы,комедия,детектив' 'триллер,приключения,драма'\n",
      " 'фэнтези,комедия,криминал' 'триллер,криминал,приключения'\n",
      " 'комедия,детектив,приключения' 'фэнтези,драма,ужасы'\n",
      " 'ужасы,драма,военный' 'реальное ТВ' 'аниме,мультфильм,детектив'\n",
      " 'приключения,фэнтези,семейный' 'драма,биография,комедия'\n",
      " 'триллер,комедия,ужасы' 'музыка,мелодрама,фэнтези' 'мультфильм,история'\n",
      " 'мультфильм,комедия,фантастика' 'биография,криминал,драма'\n",
      " 'комедия,мелодрама,фантастика' 'криминал,боевик,комедия'\n",
      " 'история,криминал' 'детектив,комедия,драма' 'триллер,фантастика,боевик'\n",
      " 'криминал,боевик' 'комедия,драма,военный' 'драма,триллер,криминал'\n",
      " 'мультфильм,мелодрама,приключения' 'фантастика,фэнтези,триллер'\n",
      " 'короткометражка,драма,триллер' 'военный,боевик,история'\n",
      " 'боевик,драма,триллер' 'документальный,военный,драма'\n",
      " 'драма,криминал,фильм-нуар' 'мультфильм,детский,приключения'\n",
      " 'мелодрама,история,драма']\n"
     ]
    }
   ],
   "source": [
    "print(data['type'].unique())\n",
    "print('\\n',data['title'].unique())\n",
    "print('\\n',data['film_studio'].unique())\n",
    "print('\\n',data['production_country'].unique())\n",
    "print('\\n',data['director'].unique())\n",
    "print('\\n',data['producer'].unique())\n",
    "print('\\n',data['age_restriction'].unique())\n",
    "print('\\n',data['financing_source'].unique())\n",
    "print('\\n',data['genres'].unique())"
   ]
  },
  {
   "cell_type": "markdown",
   "metadata": {},
   "source": [
    "Одна из главных проблем - в таких столбцах как `production_county`, `producer`, `genres`, `director` страны, продюсеры и режисеры, и жанры имеюстя такие разделители: `-` или `,` из-за чего невозможно отнести тот или иной фильм к какой-либо конкретной категории а так же сделать проверку на неявные дубликаты."
   ]
  },
  {
   "cell_type": "markdown",
   "metadata": {},
   "source": [
    "Для начала определил в каких столбцах уместно искать неявные дубликаты:\n",
    "`type`, `production_country`, `age_restriction`, `financing_source`, в них и буду искать неявные дубликаты."
   ]
  },
  {
   "cell_type": "code",
   "execution_count": 187,
   "metadata": {},
   "outputs": [
    {
     "name": "stdout",
     "output_type": "stream",
     "text": [
      "До исправления: ['Художественный' 'Анимационный' 'Прочие' 'Документальный'\n",
      " 'Научно-популярный' ' Художественный' ' Анимационный'\n",
      " 'Музыкально-развлекательный']\n",
      "\n",
      "Поисле исправления:  ['Художественный' 'Анимационный' 'Прочие' 'Документальный'\n",
      " 'Научно-популярный' 'Музыкально-развлекательный']\n",
      "\n",
      "Проверяю сохранились ли строки:  count               6803\n",
      "unique                 6\n",
      "top       Художественный\n",
      "freq                5303\n",
      "Name: type, dtype: object\n"
     ]
    }
   ],
   "source": [
    "print('До исправления:', data['type'].unique())   #Есть 2 дубликата\n",
    "data.loc[data['type'] == ' Анимационный', 'type'] = 'Анимационный'\n",
    "data.loc[data['type'] == ' Художественный', 'type'] = 'Художественный'\n",
    "print('\\nПоисле исправления: ', data['type'].unique())\n",
    "print('\\nПроверяю сохранились ли строки: ', data['type'].describe())   \n"
   ]
  },
  {
   "cell_type": "code",
   "execution_count": 188,
   "metadata": {
    "scrolled": true,
    "tags": []
   },
   "outputs": [
    {
     "data": {
      "text/plain": [
       "array(['США', 'СССР', 'Франция', 'СССР, Венгрия',\n",
       "       'Германия-Великобритания', 'Великобритания - Италия',\n",
       "       'Чехословакия', 'США - Франция - Турция', 'Новая Зеландия',\n",
       "       'Канада - Франция - Испания', 'США-Германия',\n",
       "       'США - Великобритания', 'Великобритания', 'США - Германия',\n",
       "       'Франция - Мексика - США', 'Россия, Казахстан, США',\n",
       "       'СССР, Швеция', 'СССР, Франция, Англия, Куба, ГДР', 'Германия',\n",
       "       'Великобритания-США-Германия-КНР',\n",
       "       'СССР, ЧССР, Западный Берлин, ПНР', 'СССР, Италия', 'Гонконг, КНР',\n",
       "       'США - Франция', 'США - Япония - Франция - Великобритания',\n",
       "       'Гонконг - Сингапур - Таиланд - Великобритания', 'США-Канада',\n",
       "       'Франция - Италия - Великобритания - США', 'Франция - США',\n",
       "       'Ирландия-Великобритания-Германия', 'Чехия', 'США-Австралия',\n",
       "       'СССР, Финляндия', 'США-Франция-Великобритания-Австрия',\n",
       "       'США - Бельгия', 'США - Ирландия - Великобритания',\n",
       "       'Великобритания - США',\n",
       "       'Люксембург - Нидерланды - Испания - Великобритания - США - Италия',\n",
       "       'Великобритания - Франция - США', 'Новая Зеландия - США',\n",
       "       'США - Великобритания - Чехия',\n",
       "       'Канада - Франция - Великобритания', 'Ирландия',\n",
       "       'Великобритания - Германия - США',\n",
       "       'США - Франция - Великобритания', 'Япония', 'СССР, Польша',\n",
       "       'Франция - Испания', 'Канада-Франция', 'Германия - Италия - США',\n",
       "       'Аргентина - Бразилия', 'Дания - Швейцария - Бельгия - Франция',\n",
       "       'США - Испания', 'Германия - США',\n",
       "       'Франция - Австрия - Германия - Италия - США', 'Австрия',\n",
       "       'США - Канада - Германия', 'США - Канада',\n",
       "       'СССР - Швейцария - Франция', 'Россия - Казахстан', 'Гонконг',\n",
       "       'Италия', 'США - ОАЭ', 'Россия',\n",
       "       'США - Франция - Испания - Великобритания',\n",
       "       'Великобритания - Франция', 'США-Италия-Испания-Аргентина',\n",
       "       'Франция-Великобритания', 'КНР - Гонконг',\n",
       "       'Франция - Италия - Швейцария', 'США - Новая Зеландия',\n",
       "       'Франция - Бельгия', 'КНР', 'Германия - Великобритания - Австрия',\n",
       "       'Великобритания - Израиль - Франция - Япония - США', 'Швеция',\n",
       "       'Испания', 'Дания', 'Франция - Бельгия - Люксембург',\n",
       "       'США - Индия - ОАЭ',\n",
       "       'Германия-Канада-Великобритания-Швейцария-Франция',\n",
       "       'Мексика - Чили', 'Аргентина', 'Бразилия', 'Чили', 'Австралия',\n",
       "       'Португалия - Франция', 'США - ЮАР', 'Исландия-Ирландия-Германия',\n",
       "       'США-Индонезия', 'Южная Корея', 'Мексика - Испания - Дания - США',\n",
       "       'Великобритания-США', 'Франция - Италия', 'США-Франция',\n",
       "       'США - Венгрия - Великобритания', 'Бельгия-Франция-Италия',\n",
       "       'Чехия - Германия', 'Германия - Франция', 'США-Нидерланды',\n",
       "       'Украина', 'Великобритания - Германия', 'Франция-Бельгия',\n",
       "       'США-Франция-Испания', 'Италия - Франция', 'Канада',\n",
       "       'Швеция-Франция-Дания', 'Германия-Франция-Польша',\n",
       "       'Франция-Великобритания - Германия',\n",
       "       'США - Бразилия - Франция - Австралия - Великобритания - Германия',\n",
       "       'Германия-Австрия', 'Германия-Италия- Шри-Ланка',\n",
       "       'Великобритания - Испания',\n",
       "       'США - Великобритания - Канада - Швеция',\n",
       "       'Босния и Герцеговина - Франция - Великобритания - Германия - Словения - Бельгия - Сербия',\n",
       "       'Великобритания - Франция - Италия - США', 'США-ОАЭ',\n",
       "       'Испания - Франция', 'США-Великобритания', 'США-ЮАР',\n",
       "       'Великобритания-Австралия - США',\n",
       "       'Норвегия - Швеция - Дания - Германия', 'Норвегия', 'Швейцария',\n",
       "       'Греция - Германия - Франция', 'Норвения', 'Южная Корея - США',\n",
       "       'Чили - Франция - США', 'Австрия - Германия - Франция',\n",
       "       'Швеция - Дания', 'Великобритания - Франция - Бельгия - Италия',\n",
       "       'Франция - Германия', 'Грузия - Франция - Люксембург',\n",
       "       'США - Франция - Великобритания - Бразилия ', 'США - КНР',\n",
       "       'Мексика - Франция', 'США - Германия - Гонконг - Сингапур',\n",
       "       'Финляндия - Австрия - Россия', 'Испания - Куба',\n",
       "       'Великобритания - ЮАР', 'Великобритания - Ирландия', 'Израиль',\n",
       "       'Бразилия - Германия - Порртугалия - Франция ',\n",
       "       'Франция - Канада - Бельгия', 'Франция-Испания',\n",
       "       'Испания - Канада - Япония', 'Иран', 'Швеция-Куба',\n",
       "       'США-Великобритания-Ирландия', 'Гонконг - КНР', 'Нидерланды',\n",
       "       'Испания - Канада', 'Япония-Великобритания',\n",
       "       'Великобритания - Норвегия - Дания - Германия',\n",
       "       'Финляндия - Франция - Германия',\n",
       "       'Мексика - Франция - Нидерланды - Германия', 'США - Индия',\n",
       "       'США-Великобритания-Индия', 'США-Канада-Бельгия',\n",
       "       'Республика Узбекистан', 'Италия ', 'Турция',\n",
       "       'Сербия - Словения - Хорватия - Черногория - Македония',\n",
       "       'Киргизия', 'Германия - Нидерланды - Беларусь - Россия - Латвия',\n",
       "       'Индия', 'Нидерланды - Россия - Германия',\n",
       "       'Великобритания - Нидерланды - Франция - Хорватия',\n",
       "       'Канада - Южная Корея',\n",
       "       'Великобритания - Польша - КНР - Индия - Норвегия',\n",
       "       'Япония - Франция - США - Южная Корея - Турция',\n",
       "       'Мексика - Аргентина - Великобритания', 'Израиль - Франция',\n",
       "       'Польша - Португалия - Франция - Великобритания',\n",
       "       'Австралия - США', 'США - Великобритания ',\n",
       "       'Франция - Люксембург - Бельгия', 'Армения',\n",
       "       'Бельгия - Люксембург - Франция - Швейцария',\n",
       "       'США - Великобритания - Канада', 'Норвегия - Швеция',\n",
       "       'Канада - Франция', 'КНР - Гонконг - США',\n",
       "       'США - Сингапур - Малайзия - Индонезия', 'Германия - Россия',\n",
       "       'Япония - Канада', 'Финляндия - Дания - Германия - Ирландия',\n",
       "       'Франция - Люксембург - Германия - Бельгия - Швейцария - Великобритания ',\n",
       "       'Канада - США', 'США-Италия-Испания', 'США-Испания',\n",
       "       'США - Швейцария - Франция', 'Испания - США - Колумбия',\n",
       "       'Канада-ЮАР', 'Франция - Россия',\n",
       "       'Германия - Финляндия - Австралия', 'Дания - Швеция', 'Бельгия',\n",
       "       'Германия - Франция - Австрия', 'Франция-Индия', 'ЮАР',\n",
       "       'Франция-Перу', 'Франция - Канада', 'Республика Беларусь',\n",
       "       'Великобритания - Австрия - Франция - США',\n",
       "       'Австрия-Германия-Франция', 'США-Россия', 'Германия-США',\n",
       "       'США - Южная Корея', 'Канада - КНР',\n",
       "       'Дания - Швеция - Италия - Франция - Германия',\n",
       "       'Франция-Италия-Испания-Венгрия', 'Франция - Германия - Бельгия',\n",
       "       'Франция-Великобритания-Чехия', 'Румыния - Франция - Бельгия',\n",
       "       'Болгария - Франция - Изриль',\n",
       "       'Израиль - Германия - Польша - Бельгия - Франция - Люксембург',\n",
       "       'Россия, Германия, Франция, Бельгия', 'Индонезия',\n",
       "       'Франция - Португалия', 'Великобритания - Пуэрто-Рико',\n",
       "       'СССР, ФРГ, Западный Берлин', 'Россия, Республика Беларусь',\n",
       "       'США, Великобритания', 'Франция - Австрия', 'Бельгия-Нидерланды',\n",
       "       'Великобритания - США - Индия', 'США - Великобритания - Австралия',\n",
       "       'Канада - Франция - США - ОАЭ - Великобритания',\n",
       "       'США - Австралия - Франция',\n",
       "       'Дания-Франция-Бельгия-Германия-Великобритания',\n",
       "       'Испания - Аргентина', 'Исландия - Финляндия',\n",
       "       'Россия-Польша-Голландия-Словакия', 'Дания - Германия - Швеция',\n",
       "       'Южная Корея - США - Канада', 'Таиланд', 'США-Мальта',\n",
       "       'США -Германия',\n",
       "       'Великобритания - Германия - Франция - Кипр - США', 'Мексика',\n",
       "       'США - Великобритания - Ирландия', 'США - Украина',\n",
       "       'США - Финляндия - Испания - Великобритания - Франция',\n",
       "       'Австралия-Великобритания',\n",
       "       'США - Канада - Афганистан - Бельгия - Франция',\n",
       "       'США - Великобритания - Германия - Новая Зеландия - Бельгия - Франция',\n",
       "       'Франция-Канада',\n",
       "       'Ирландия - Финляндия - Бельгия - Великобритания - США - Швейцария',\n",
       "       'Малайзия - США', 'Германия - Италия',\n",
       "       'США - Франция - Бельгия - Италия', 'Франция - Ирландия - Швеция',\n",
       "       'Азербайджан-Россия', 'Великобритания - Италия - Швейцария',\n",
       "       'США - Германия - Великобритания',\n",
       "       'Германия - Бельгия - США -Франция', 'США-Китай', 'Чили - Испания',\n",
       "       'Франция - Швейцария', 'Канада - Испания',\n",
       "       'США - Румыния - Великобритания', 'США - Япония',\n",
       "       'США - Россия - Франция', 'Франция-США', 'Парагвай',\n",
       "       'Германия - Канада', 'США - Канада - Великобритания',\n",
       "       'Финляндия - Канада', 'Уругвай-Мексика-Германия ', 'США - Чили',\n",
       "       'Германия - Аргентина - Нидерланды - Чили',\n",
       "       'США - Канада - Индонезия', 'Армения - Казахстан', 'Финляндия',\n",
       "       'Испания - Италия - Франция',\n",
       "       'Бельгия - Испания - Канада - Нидерланды',\n",
       "       'Великобритания - Франция - Швеция - Бельгия',\n",
       "       'Мексика - Эквадор - Канада - США - Франция - Малайзия - Италия - Аргентина - Германия - Индия  ',\n",
       "       'Франция - Бенльгия', 'Индия - Великобритания',\n",
       "       'Япония - Великобритания - Франция',\n",
       "       'Испания - Уругвай - Аргентина',\n",
       "       'Франция - Италия - Бельгия - Люксембург',\n",
       "       'Франция - Украина - Грузия - Армения',\n",
       "       'Сербия - Германия - Венгрия', 'Франция-Польша', 'Франция ',\n",
       "       'Румыния-США', 'Россия-Азербайджан',\n",
       "       'США - Нидерланды - Бельгия - Венгрия - Греция - Канада',\n",
       "       'Германия - Франция - Люксембург', 'США - Россия',\n",
       "       'Великобритания - США - Франция', 'США - Австралия - Дания',\n",
       "       'Бельгия-Франция', 'США-Мексика',\n",
       "       'Норвегия - Азербайджан - Россия - Колумбия - Великобритания - Венгрия - Румыния - Франция - Грузия',\n",
       "       'СЩА', 'Бразилия - Испания', 'Россия, Франция, Латвия',\n",
       "       'Нидерланды - США - Германия - Канада - Франция - Ирландия - Великобритания',\n",
       "       'Уругвай - Колумбия', 'США - Испания - Болгария',\n",
       "       'Армения - Германия', 'США - Великобритания- Франция - Швеция',\n",
       "       'США - Мексика', 'Австралия-Турция-США', 'Швеция - Германия',\n",
       "       'Польша - Италия - Россия', 'Франция - Бразилия',\n",
       "       'США - Канада - КНР', 'СССР, Венгрия, ЧССР, ГДР',\n",
       "       'Бельгия - Германия - Люксембург', 'СССР  ', 'СССР ', ' СССР ',\n",
       "       'США - Австралия', 'Бразилия - США',\n",
       "       'США - Великобритания - Канада - КНР', 'Франция - Чили',\n",
       "       'Франция - США - Великобритания - Колумбия - Бельгия - Россия',\n",
       "       'Дания - Великобритания - ЮАР', 'СССР   ',\n",
       "       'Россия-США-Канада-Люксембург', 'Россия - Республика Кипр',\n",
       "       'Германия - США - Швеция - Франция',\n",
       "       'Великобритания-Германия-Канада-ЮАР', ' СССР   ', 'СССР     ',\n",
       "       'Ирландия, Канада',\n",
       "       'Япония - Великобритания - Швейцария - Ирландия - Дания - Франция - Польша - Австралия - Канада  ',\n",
       "       'Великобритания, Канада', 'Бельгия - США',\n",
       "       'Великобритания - США - Россия', 'Россия-Украина',\n",
       "       'Германия - США - Великобритания - Израиль', 'Канада - Германия',\n",
       "       'США- Ю.Корея', 'Индия - Мексика',\n",
       "       'Великобритания - Франция - Республика Кипр - Швейцария - США - Сербия',\n",
       "       'Испания - Аргентина - Индия - США',\n",
       "       'Норвегия - Исландия - США - Великобритания ',\n",
       "       'Турция - Германя - Франция', 'Германия - Великобритания',\n",
       "       'Австралия - Германия', 'Мексика - Испания',\n",
       "       'Великобритания - США - Германия - Бельгия',\n",
       "       'США - Чехия - Франция', 'Россия - Италия', 'Франция-Россия',\n",
       "       'Норвегия - Дания - Швеция', 'Франция - Швейцария - Германия',\n",
       "       'Грузия - Украина', 'Россия - Эстония - Финляндия - Беларусь',\n",
       "       'США - Франция - ЮАР', 'Великобритания - США - Швейцария',\n",
       "       'Канада-США', 'Мексика - Нидерланды - Германия - Франция',\n",
       "       'США - Испания - Франция', 'США - Великобритания - КНР',\n",
       "       'США-Франция-Канада',\n",
       "       'Япония, Великобритания, Австрия, Германия, Ю.Корея',\n",
       "       'Великобритания - Ирландия - США', 'Бельгия - Италия - Франция ',\n",
       "       'Швейцария-Германия-ЮАР', 'Великобритания - США - Германия',\n",
       "       'Германия - Исландия', 'Испания - США', 'СССР    ', 'Хорватия',\n",
       "       'Финляндия - Исландия - Швеция',\n",
       "       'Канада - США - Германия - Франция',\n",
       "       'США - Великобритания - Испания', 'Ирландия-Великобритания',\n",
       "       'Аргентина - Испания', 'Австрия - Германия', ' СССР',\n",
       "       'Германия - Швейцария - Франция - Южная Корея - США',\n",
       "       'Украина - Нидерланды', 'Венгрия - Германия - Швеция',\n",
       "       'Германия - Франция -  Польша - Турция - Канада - Италия - Россия ',\n",
       "       'СССР, Афганистан', 'СССР, Монголия', 'Россия-Кипр',\n",
       "       'Россия, Грузия, Испания',\n",
       "       'Великобритания - Нидерланды - Германия - Франция - Бельгия - Австрия ',\n",
       "       'Испания - Великобритания - Франция',\n",
       "       'Дания - Норвегия - Великобритания',\n",
       "       'Бельгия - Франция - Люксембург',\n",
       "       'Италия - Франция - Швейцария - Великобритания',\n",
       "       'Франция - Бельгия - Великобритания - Испания - Германия - США',\n",
       "       'Швейцария - Израиль - Франция - Великобритания',\n",
       "       'Великобритания - США - Канада - Нидерланды - Франция',\n",
       "       'Россия, Италия', 'СССР, Албания',\n",
       "       'Россия, Украина, Республика Беларусь, Литва',\n",
       "       'Финляндия - Великобритания - Германия', 'Россия, Украина, Польша',\n",
       "       'Франция - Италия - Бельгия - КНР',\n",
       "       'Германия - Бельгия - Люксембург - Ирландия', 'КНР - Сингапур',\n",
       "       'Франция - Бельгия - Великобритания - США - Нидерланды - Канада',\n",
       "       'США - Россия - Польша - Германия - Пуэрто Рико',\n",
       "       'Франция - Бельгия - Канада', 'США ', 'Мексика - США',\n",
       "       'США - Гонконг - КНР ', 'Греция - Россия',\n",
       "       'Ирландия - Дания - Бельгия - Люксембург - Франция',\n",
       "       'Эстония - Россия',\n",
       "       'Великобритания - Исландия - Испания - Швейцария - США',\n",
       "       'Австралия - Великобритания - Бельгия - Индия',\n",
       "       'Швеция - Германия - Франция - Норвегия',\n",
       "       'Нидерланды - Бельгия - Германия - Ирландия',\n",
       "       'Нидерланды - Великобритания - Бельгия',\n",
       "       'США - Колумбия - Испания', 'Франция-Испания-Бельгия-Панама',\n",
       "       'США-Великобритания-Чехия-Румыния',\n",
       "       'Аргентина - Уругвай - Россия - Германия - Франция - Нидерланды',\n",
       "       'Швеция - Франция - Норвегия - Дания',\n",
       "       'Италия-Франция-Великобритания', 'Великобритания, Франция',\n",
       "       'Австралия, США', 'Венесуэла',\n",
       "       'Великобритания - США - Австралия - Ирландия - Германия - Куба - Канада',\n",
       "       'Южная Корея - КНР',\n",
       "       'Аргентина - Мексика - Бразилия - Франция - США', 'Швеция - США',\n",
       "       'Франция - Германия - Турция - Катар', 'Франция-Китай',\n",
       "       'Россия, Германия, Великобритания',\n",
       "       'Великобритания - Италия - Испания', 'Италия - Россия',\n",
       "       'Япония - КНР - Южная Корея', 'Россия, Германия',\n",
       "       'Россия-Ирландия', 'Македония - Франция - Великобритания',\n",
       "       'Франция - Бразилия - Италия', 'Россия-США', 'Армения-Россия',\n",
       "       'Россия, Румыния', 'Франция -  Бельгия', 'Грузия-Франция',\n",
       "       'ЮАР - США', 'Великобритания-США-Франция',\n",
       "       'Великобритания - США - Германия - Канада - Австралия',\n",
       "       'США-Ирландия', 'Россия, Республика Кипр',\n",
       "       'Германия - Люксембург - Франция', 'Россия-Франция',\n",
       "       'США - Нидерланды - Финляндия - Великобритания - Италия',\n",
       "       'Республика Кипр', 'Венгрия', 'Франция - США - Норвегия - Дания',\n",
       "       'Германия - Австрия - Ирландия', 'США - Финляндия',\n",
       "       'Италия-Великобритания', 'Россия, Испания',\n",
       "       'США - Великобритания - Болгария', 'Великобритания - Люксембург',\n",
       "       'Индия - США', 'США - Канада - Россия - Франция - Чили - Ирландия',\n",
       "       'Грузия-Россия',\n",
       "       'Дания - Австрия - Ирландия - Финляндия - Норвегия - Швеция - Нидерланды',\n",
       "       'США-КНР', 'Грузия', 'Австралия - Ирландия',\n",
       "       'Великобритания - Канада', 'Италия - Аргентина - Словения ',\n",
       "       'Испания - Франция - Нидерланды - Германия - Бельгия - Великобритания - Канада',\n",
       "       'Франция - Чехия - Бельгия',\n",
       "       'Великобритания - Франция - Германия - США',\n",
       "       'Ирландия - Великобритания - Франция - США - Германия - Нидерланды',\n",
       "       'США - Канада - Япония - КНР', 'Италия-Франция',\n",
       "       'США - Великобритания - Исландия', 'Великобритания-Франция',\n",
       "       'Франция - Германия - Нидерланды', 'Иран ',\n",
       "       'Франция - Германия - Швеция - США - Чехия - Словакия - Великобритания - Нидерланды',\n",
       "       'Франция - Канада - Н.Зеландия - США - Нидерланды - Германия - Швеция - Россия',\n",
       "       'Турция - США',\n",
       "       'Великобритания - США - Канада - Бельгия - Нидерланды - Австрия - Германия',\n",
       "       'Израиль - Франция - Германия - Палестина - США - Австрия - Великобритания',\n",
       "       'Аргентина - Франция - Испания', 'СССР, Россия',\n",
       "       'Великобритания - Франция - Италия - Индия - Дания - КНР - Бангладеш - Камбоджа - Гаити - Уганда',\n",
       "       'Италия - Франция - Швейцария',\n",
       "       'Ирландия - Великобритания - Канада', 'Перу', 'США - Норвегия',\n",
       "       'Испания-Канада', 'Китай-Гонконг', 'США - Германия - КНР',\n",
       "       'Великобритания - Новая Зеландия',\n",
       "       'Франция - Дания - Швеция - КНР',\n",
       "       'США - Великобритания - Германия - Бельгия - Дания',\n",
       "       'США - Франция - Канада - Германия - Австралия - Индия', 'unknown',\n",
       "       'СССР, Румыния, Франция', 'СССР, ГДР', 'Австралия-Ирландия',\n",
       "       'США - Китай', 'Великобритания - Франция - Австрия - Швеция',\n",
       "       'Россия, Таджикистан', 'Нидерланды - Бельгия - Болгария',\n",
       "       'Великобритания - Канада - США', 'Франция - Бельгия - Испания',\n",
       "       'Китай-Гонконг-США', 'Франция - Великобритания', 'США - Вьетнам',\n",
       "       'США - Германия - Франция', 'Германия - Франция - Бельгия',\n",
       "       'США - Италия',\n",
       "       'Германия - Дания - Испания - Швеция - Канада - Эстония - Франция',\n",
       "       'Княжество Андорра - Украина', 'Германия - Люксембург - Бельгия',\n",
       "       'Великобритания - Россия - Украина - США',\n",
       "       'Германия - Бельгия - Люксембург - Норвегия',\n",
       "       'США - Австралия - Новая Зеландия - Великобритания',\n",
       "       'США - Франция - Канада - Великобритания', 'Испания-Колумбия',\n",
       "       'Великобритания - Чехия - Франция', 'Россия, Украина', 'Исландия',\n",
       "       'Великобритания - Франция - Венгрия',\n",
       "       'Россия, Франция, Германия, Бельгия', 'Франция - Македония',\n",
       "       'Нидерланды - Франция - Германия - Бельгия - Швеция - Великобритания',\n",
       "       'Испания - США - Великобритания - Канада', 'Германия - Австрия',\n",
       "       'Республика Казахстан',\n",
       "       'Франция - Испания - Дания - Венгрия - Швейцария', 'Франция-КНР',\n",
       "       'США - Пуэрто-Рико - Франция ', 'Мексика - Тайвань - США',\n",
       "       'Великобритания - Испания - Непал - Индия - Венгрия - Гонконг - Германия - Дания - Бахрейн',\n",
       "       'Великобритания - Аргентина - США - Франция - Россия - Испания',\n",
       "       'КНР - США', 'Италия - США', 'Финляндия - Швеция - Германия',\n",
       "       'Канада- Испания', 'Франция - Бельгия - Чехия',\n",
       "       'Франция-Бельгия-Канада', 'Франция - Германия - США',\n",
       "       'США - Дания', 'Индия - КНР', 'Чехия-Великобритания-США',\n",
       "       'США-ФРГ-Россия', 'Ирландия-Нидерланды-Франция-США-Великобритания',\n",
       "       'Россия, Грузия, Хорватия, Испания',\n",
       "       'Финляндия - Швеция - Норвегия', 'Сербия - Великобритания - США',\n",
       "       'США - Великобритания - Франция - Гонконг', 'Швейцария - Франция',\n",
       "       'Швейцария - Великобритания', 'ОАЭ - США',\n",
       "       'США - Франция - Германия - Канада - Австралия ',\n",
       "       'Германия - Австралия', 'Иран, Франция',\n",
       "       'США - Великобритания - Новая Зеландия', 'США-Колумбия',\n",
       "       'США-Франция-Ирландия', 'Великобритания - Франция - Бельгия',\n",
       "       'США - Великобритания - Япония', 'США - Франция - Германия',\n",
       "       'Польша - Ирландия', 'Ирландия - Великобритания - Франция - США',\n",
       "       'США - Бельгия - Великобритания', 'СССР, ВНР',\n",
       "       'Испания - Франция - США - Великобритания - Бельгия',\n",
       "       'Франция - Дания - США', 'США - Гонконг', 'Бразилия - К;анада',\n",
       "       'Франция-Германия', 'США - Колумбия',\n",
       "       'США - Ирландия - Великобритания - Франция',\n",
       "       'Великобритания - США - Канада', 'Польша - Франция',\n",
       "       'Канада - США - Нидерланды - Великобритания - Аргентина',\n",
       "       'Великобритания - Дания', 'Франция - Бельгия - Япония',\n",
       "       'Россия,  Испания', 'Франция -Бельгия',\n",
       "       'США - Канада - Германия - Франция', 'США-Канада-Франция',\n",
       "       'Россия - Германия', 'Россия-Италия', 'Китай - Гонконг',\n",
       "       'Германия-Австрия-Франция-Италия', 'США-Япония',\n",
       "       'США - Германия - Канада', 'Испания-Мексика',\n",
       "       'США - Япония - Канада - Великобритания - Германия - Франция',\n",
       "       'США -Великобритания - Австралия', 'Россия-Украина-Германия',\n",
       "       'Израиль - Франция - Великобритания - Германия', 'Корея',\n",
       "       'Россия - Болгария', 'США-Индия',\n",
       "       'Германия-Канада-Франция-Бельгия', 'Германия-Кения',\n",
       "       'Франция - Монако', 'Франция-Испания-Швейцария',\n",
       "       'Австрия-Франция-Германия', 'Румыния',\n",
       "       'США-Великобритания-Франция', 'Канада-Великобритания',\n",
       "       'Канада-Бразилия-Япония', 'Германия - Дания - Норвегия',\n",
       "       'Дания - Германия', 'СССР - Италия',\n",
       "       'СССР - ГДР - Польша - Италия',\n",
       "       'США - Испания - Франция - Великобритания', 'Китай',\n",
       "       'Мексика-Аргентина',\n",
       "       'Германия - Великобритания - Италия - Испания',\n",
       "       'Франция-Германия-Великобритания', 'Россия - Германия - Швейцария',\n",
       "       'Франция-Австралия', 'Голландия', 'Швейцария-Франция',\n",
       "       'Россия-Белоруссия', 'Франция - Испания - Тайвань',\n",
       "       'США-Южная Корея-Новая Зеландия', 'Великобритания-Венгрия',\n",
       "       'Россия-Германия', 'Великобритания-Франция-Германия',\n",
       "       'Франция-Германия-Италия', 'Швеция-Финляндия-Франция-Норвегия',\n",
       "       'Франция-Италия', 'Германия-Израиль',\n",
       "       'Швеция - Германия - Дания - Норвегия', 'США-Бельгия',\n",
       "       'Франция-Гонконг-Ирландия', 'Эстония', 'Литва-Россия-Украина',\n",
       "       'Германия - Италия - Франция',\n",
       "       'Великобритания - Австрия - Германия', 'Бельгия - Франция',\n",
       "       'Россия-Казахстан', 'Испания - Мальта',\n",
       "       'Франция-Россия-Румыния-Италия-Бельгия', 'Россия - Польша',\n",
       "       'Испания - Мексика', 'США-Аргентина', 'Великобритания ',\n",
       "       'Израиль-США-Франция', 'США - Новая Зеландия - Япония',\n",
       "       'Франция - Чехия - Великобритания', 'Россия-Польша',\n",
       "       'Германия-Франция-Великобритания', 'США-Германия-Канада',\n",
       "       'США-Гонконг-Китай', 'США - Великобритания - Германия',\n",
       "       'США-Канада-Австралия', 'Япония-США-Франция',\n",
       "       'Франция-Испания-Германия', 'США - Хорватия - Босния-Герцеговина',\n",
       "       'Великобритания - Чехия - Франция - Италия',\n",
       "       'США - Германия - Нидерланды', 'Германия - Франция - Канада',\n",
       "       'Франция-Грузия-Германия-Россия-Украина-Бельгия',\n",
       "       'Великобритания - Франция - Италия', 'Россия - США',\n",
       "       'Франция - Италия - Иран', 'Россия - Азербайджан', 'Греция',\n",
       "       'Дания - США', 'США-Великобритания-Новая Зеландия',\n",
       "       'США-Германия-Австралия', 'США-Канада-Италия',\n",
       "       'США - Япония - Германия', 'Австралия-США',\n",
       "       'Франция - Великобритания - Багамские острова - США',\n",
       "       'Швейцария - Люксембург', 'Швейцария - Австрия',\n",
       "       'Германия - Швейцария', 'Дания-Швеция-Франция-Германия', 'Польша',\n",
       "       'Швейцария-Австрия', 'Бразилия - Канада - США',\n",
       "       'Нидерланды - Россия', 'Португалия', 'Франция-Аргентина',\n",
       "       'Швеция-Франция', 'Франция-Украина', 'Германия-Украина-Нидерланды',\n",
       "       'Италия-Швейцария', 'США-Германия-Великобритания',\n",
       "       'Латвия - Россия', 'Германия-Франция-Великобритания-США',\n",
       "       'Канада - Италия', 'США - Объединенные Арабские Эмираты',\n",
       "       'США-Венгрия', 'Малайзия', 'Россия - Германия - Украина',\n",
       "       'США - Австралия - Мексика', 'Литва - Венгрия', 'Германия - Китай',\n",
       "       'Казахстан', 'Республика Корея',\n",
       "       'США - Германия - Франция - Великобритания - Канада ',\n",
       "       'Бельгия - Германия - Люксембург - Франция', 'Франция - Греция',\n",
       "       'Италия - Канада', 'США - Великобритания - Франция',\n",
       "       'США-Италия-Греция', 'Германия - США - Великобритания - Ирландия',\n",
       "       'Великобритания - Франция - Германия',\n",
       "       'Германия - Нидерланды - ЮАР',\n",
       "       'США-Япония-Германия-Великобритания-Нидерланды',\n",
       "       'США-Япония-Германия-Великобритания',\n",
       "       'Германия - Франция - Польша',\n",
       "       'Таиланд-Великобритания-Франция-Германия-Испания-Нидерланды',\n",
       "       'Германия-Италия-Швейцария',\n",
       "       'Дания - Швеция - Великобритания - Франция - Германия - Нидерланды - Норвегия - Финляндия',\n",
       "       'Франция - Великобритания - Нидерланды - Люксембург',\n",
       "       'Нидерланды-Великобритания-Франция-Италия-Япония',\n",
       "       'Финляндия-Дания-Германия-Ирландия', 'Испания-Аргентина',\n",
       "       'Великобритания - Нидерланды - Франция - США', 'Канада - Мексика',\n",
       "       'США, Франция', 'Канада-Южная Корея-США',\n",
       "       'Великобритания - Франция - Бельгия - США', 'КНР - Канада - США',\n",
       "       'Италия - Франция - Германия',\n",
       "       'Швеция - Германия - Франция - Дания', 'Франция - США - Бельгия',\n",
       "       'Украина - Германия - Латвия - Эстония', 'Австрия - Люксембург',\n",
       "       'Великобритания - КНР', 'Монголия', 'Франция - Дания',\n",
       "       'Швеция - Дания - Финляндия',\n",
       "       'Сингапур - Великобритания - Индонезия - Канада - США',\n",
       "       'США - Германия - Япония', 'Таиланд - США', 'Франция - Нидерланды',\n",
       "       'Великобритания - Румыния', 'США - Мальта',\n",
       "       'Великобритания - Германия - Нидерланды - Дания',\n",
       "       'Франция - Германия - Литва - Нидерланды - Россия',\n",
       "       'США - ЮАР - Гонконг', 'Австралия - Колумбия',\n",
       "       'Великобритания - Польша', 'США - Великобритания - Швеция',\n",
       "       'Франция - Швеция - Дания - Норвегия', 'Болгария - США',\n",
       "       'СССР, ФРГ', 'Бельгия - Нидерланды - Франция',\n",
       "       'Финляндия - Германия', 'Болгария',\n",
       "       'Грузия - Россия - Украина - Хорватия - Германия',\n",
       "       'Франция - Люксембург', 'Франция - Германия - Австрия',\n",
       "       'Норвегия - США', 'Германия-Швеция', 'Франция - Германия - Италия',\n",
       "       'Франция-Германия-Австрия', 'КНР-США',\n",
       "       'Великобритания - Ирландия - США ',\n",
       "       'Дания - Латвия - Россия - США', 'Финляндия - Польша',\n",
       "       'Германия - Бельгия', 'Германия - США - Франция - Испания',\n",
       "       'Бельгия-Германия-Канада-Франция-США-Великобритания',\n",
       "       'Нидерланды - Бельгия - Люксембург', 'Канада-Германия',\n",
       "       'Люксембург - Бельгия - Франция', 'США-Великобритания-Австралия',\n",
       "       'Великобритания, Новая Зеландия', 'Бельгия, Великобритания, США',\n",
       "       'Великобритания, Австралия', 'Исландия, Бельгия',\n",
       "       'Испания - Швейцария - Великобритания - Германия - Новая Зеландия - Нидерланды - Канада',\n",
       "       'Франция, Бельгия', 'Великобритания, США', 'Киргизия-Россия',\n",
       "       'Германия, США', 'Великобритания, США, Испания',\n",
       "       'Италия - Швейцария - Германия', 'Россия, Армения',\n",
       "       'Франция, Германия', 'Китай, Канада, США', 'Германия, Австралия',\n",
       "       'КНР, США', 'США, Великобритания, Люксембург',\n",
       "       'Испания, Ирландия, Бельгия, Франция',\n",
       "       'Великобритания - Гонконг - Венгрия - США - Ирландия',\n",
       "       'США - Пуэрто Рико', 'Аргентина - Испания - Уругвай',\n",
       "       'Израиль - Германия - Франция - Швейцария',\n",
       "       'Великобритания - Мексика - США', 'Испания - Болгария - США',\n",
       "       'Россия-Словакия-Чехия',\n",
       "       'Швейцария - КНР - США - Россия - Республика Корея - Великобритания',\n",
       "       'Россия, Нидерланды, Финляндия',\n",
       "       'Испания - Бельгия - Франция - Португалия - Великобритания',\n",
       "       'Бразилия - Португалия - Франция', 'Швеция - Норвегия',\n",
       "       'Франция - Польша - Бельгия', 'CША', 'Китай, США',\n",
       "       'Италия, Франция, Германия', 'Германия - Австрия - Франция',\n",
       "       'Чехия - Словакия - Хорватия', 'Россия, Польша, Финляндия',\n",
       "       'Россия, Латвия, Чешская Республика',\n",
       "       'Франция - Великобритания - Камбоджа - США - КНР',\n",
       "       'Чехия - Испания - США', 'Германия - Люксембург - Дания',\n",
       "       'Великобритания - Испания - Германия', 'Дания - Исландия',\n",
       "       'Великобритания - Испания - Италия - Латвия - Франция - Эстония',\n",
       "       'Польша - Франция - Великобритания',\n",
       "       'Дания, Норвегия, Венгрия, Чехия',\n",
       "       'Дания - Франция - Германия - Швеция',\n",
       "       'Великобритания, Швеция, США',\n",
       "       'Канада, Франция, Италия, Швейцария, США', 'США, Индия',\n",
       "       'США - Великобритания - Германия - - Швеция - Канада',\n",
       "       'Италия, Франция', 'Республика Беларусь, Германия, США, Россия',\n",
       "       'Италия-Швейцария-Франция-Германия ',\n",
       "       'Россия - Франция - Великобритания - Латвия', 'Россия-Беларусь',\n",
       "       'Франция - Испания - Румыния - США - Бельгия', 'Италия-США',\n",
       "       'Россия, Австрия', 'Ирландия - Великобритания - США',\n",
       "       'Швейцария, Великобритания, Франция, США, Ирландия',\n",
       "       'Мексика, Франция, Германия, Дания, Швеция', 'Нидерланды, Бельгия',\n",
       "       'Швеция, Норвегия, Финляндия, Франция', 'Испания, Франция, Италия',\n",
       "       'Испания-Франция-Греция-Индия-США-Россия-Великобритания',\n",
       "       'Великобритания - Япония - США',\n",
       "       'Дания, Канада, Норвегия, Австралия, США', 'Аргентина, Испания',\n",
       "       'Россия, Германия, Казахстан, Польша, Китай',\n",
       "       'Португалия, Франция, Польша, США', 'США - Канада - Аргентина',\n",
       "       'Ливан-США', 'Япония - США', 'США, Гонконг ',\n",
       "       'Франция - Россия - Швейцария - Румыния - Венгрия',\n",
       "       'Аргентина-Испания', 'Россия, Сербия', 'США - Болгария - Мексика',\n",
       "       'США - Великобритания - Швейцария - Франция',\n",
       "       'Таиланд - КНР - США',\n",
       "       'Великобритания, Нидерланды, Польша, Швейцария, Франция',\n",
       "       'Ирландия - США',\n",
       "       'Германия - Франция - Великобритания - Польша - США',\n",
       "       'США - Австралия - Индия', 'Франция - КНР',\n",
       "       'Великобритания - Израиль',\n",
       "       'Великобритания - Норвегия - Кения - Хорватия',\n",
       "       'США - Бразилия - Великобритания - Канада', 'Германия, Бельгия',\n",
       "       'Австралия, Канада', 'США, Великобритания, Франция',\n",
       "       'Кения, Германия', 'Нидерланды, Бельгия, Люксембург', 'Колумбия',\n",
       "       'Латвия - Франция', 'Ирландия, Великобритания',\n",
       "       'Франция - Израиль - Германия', 'Швеция, Франция, Великобритания',\n",
       "       'Бельгия - Люксембург', 'Германия - Бельгия - Великобритания',\n",
       "       'Испания, Франция, Великобритания, Дания, Бельгия, Германия',\n",
       "       'Румыния, ЮАР, Иран, Франция, Канада, Великобритания',\n",
       "       'Германия, Франция', 'США, Япония',\n",
       "       'США, Великобритания, Ирландия, Люксембург', 'Республика Армения',\n",
       "       'США, Франция, Япония', 'Япония, США', 'Канада, США',\n",
       "       'Республика Кипр - Россия',\n",
       "       'Дания - Франция - Италия - Бельгия - Нидерланды',\n",
       "       'Россия - Грузия', 'Италия, Германия', 'Норвегия, Швеция, Дания',\n",
       "       'Республика Кипр, Россия', 'КНР, Индия, Гонконг, США',\n",
       "       'Израиль, Украина', 'США, Россия', 'США - КНР - Индия - Ю.Корея',\n",
       "       'США - Швеция', 'Россия-Китай', 'Канада, Великобритания',\n",
       "       'Канада, США, Каймановы острова',\n",
       "       'Бразилия, Уругвай, Дания, Норвегия, Чили, Швеция',\n",
       "       'Пуэрто-Рико, Великобритания, США',\n",
       "       'Уругвай - Аргентина - Испания',\n",
       "       'США - Великобритания - Италия - Израиль - Сербия - Индия',\n",
       "       'США - Канада - Франция - Индия', 'Великобритания - Россия - КНР',\n",
       "       'Франция, Новая Зеландия', 'Франция, Люксембург, Бельгия',\n",
       "       'Канада, США, Норвегия', 'Италия, Испания',\n",
       "       'Испания - Германия - Нидерланды', 'Бразилия - США - КНР ',\n",
       "       'Великобритания, Германия, Дания, США', '2019',\n",
       "       'Италия - Фрация - Бразилия - Германия',\n",
       "       'Норвегия - Швеция - Россия', 'Великобритания, Япония, США',\n",
       "       'Сша, Канада', 'Бельгия, Канада',\n",
       "       'Великобритания - Австралия - США', 'США, Канада', 'КНР - США ',\n",
       "       'Франция - Финляндия', 'Колумбия - США',\n",
       "       'Великобритания, Франция, Бельгия', 'Норвегия - Нидерланды',\n",
       "       'Великобритания, Канада, США', 'Япония, Великобритания',\n",
       "       'Италия - Бельгия - Франция', 'Россия, Бельгия, Финляндия',\n",
       "       'США, Украина', 'Франция, Норвегия',\n",
       "       'Великобритания, Южная Корея, Канада, США, Индия, Китай, Япония',\n",
       "       'Канада - Норвегия', 'Республика Кипр-Россия', 'Германия, Россия',\n",
       "       'Польша - Франция - Испания - Бразилия - Швеция',\n",
       "       'Австрия, Великобритания, Германия', 'Франция - Сенегал - Бельгия',\n",
       "       'Франция, Бельгия, Люксембург', 'Финляндия, Латвия', 'Пакистан',\n",
       "       'Германия, Франция, США', 'Германия - Великобритания - США',\n",
       "       'КНР - Франция', 'Дания, Норвегия, Швеция, Исландия',\n",
       "       'Республика Кипр, США, Россия', 'Новая Зеландия - КНР',\n",
       "       'Дания - Канада - Швеция - Франция - Германия - Великобритания - США'],\n",
       "      dtype=object)"
      ]
     },
     "execution_count": 188,
     "metadata": {},
     "output_type": "execute_result"
    }
   ],
   "source": [
    "data['production_country'].unique()"
   ]
  },
  {
   "cell_type": "code",
   "execution_count": 189,
   "metadata": {
    "scrolled": true
   },
   "outputs": [
    {
     "data": {
      "text/plain": [
       "array(['«18+» - запрещено для детей', '«6+» - для детей старше 6 лет',\n",
       "       '«12+» - для детей старше 12 лет',\n",
       "       '«16+» - для детей старше 16 лет',\n",
       "       '«0+» - для любой зрительской аудитории'], dtype=object)"
      ]
     },
     "execution_count": 189,
     "metadata": {},
     "output_type": "execute_result"
    }
   ],
   "source": [
    "data['age_restriction'].unique()"
   ]
  },
  {
   "cell_type": "code",
   "execution_count": 190,
   "metadata": {},
   "outputs": [
    {
     "data": {
      "text/plain": [
       "array([nan, 'Министерство культуры', 'Фонд кино',\n",
       "       'Министерство культуры, Фонд кино'], dtype=object)"
      ]
     },
     "execution_count": 190,
     "metadata": {},
     "output_type": "execute_result"
    }
   ],
   "source": [
    "data['financing_source'].unique()"
   ]
  },
  {
   "cell_type": "code",
   "execution_count": 191,
   "metadata": {},
   "outputs": [
    {
     "data": {
      "text/html": [
       "<div>\n",
       "<style scoped>\n",
       "    .dataframe tbody tr th:only-of-type {\n",
       "        vertical-align: middle;\n",
       "    }\n",
       "\n",
       "    .dataframe tbody tr th {\n",
       "        vertical-align: top;\n",
       "    }\n",
       "\n",
       "    .dataframe thead th {\n",
       "        text-align: right;\n",
       "    }\n",
       "</style>\n",
       "<table border=\"1\" class=\"dataframe\">\n",
       "  <thead>\n",
       "    <tr style=\"text-align: right;\">\n",
       "      <th></th>\n",
       "      <th>title</th>\n",
       "      <th>puNumber</th>\n",
       "    </tr>\n",
       "  </thead>\n",
       "  <tbody>\n",
       "    <tr>\n",
       "      <th>0</th>\n",
       "      <td>Открытый простор</td>\n",
       "      <td>221048915</td>\n",
       "    </tr>\n",
       "    <tr>\n",
       "      <th>1</th>\n",
       "      <td>Особо важное задание</td>\n",
       "      <td>111013716</td>\n",
       "    </tr>\n",
       "    <tr>\n",
       "      <th>2</th>\n",
       "      <td>Особо опасен</td>\n",
       "      <td>221038416</td>\n",
       "    </tr>\n",
       "    <tr>\n",
       "      <th>5</th>\n",
       "      <td>Остановился поезд</td>\n",
       "      <td>111013816</td>\n",
       "    </tr>\n",
       "    <tr>\n",
       "      <th>6</th>\n",
       "      <td>Любовь и голуби</td>\n",
       "      <td>111007013</td>\n",
       "    </tr>\n",
       "    <tr>\n",
       "      <th>...</th>\n",
       "      <td>...</td>\n",
       "      <td>...</td>\n",
       "    </tr>\n",
       "    <tr>\n",
       "      <th>7481</th>\n",
       "      <td>Сад художника: Американский импрессионизм</td>\n",
       "      <td>126008019</td>\n",
       "    </tr>\n",
       "    <tr>\n",
       "      <th>7482</th>\n",
       "      <td>Звериная ярость</td>\n",
       "      <td>121037819</td>\n",
       "    </tr>\n",
       "    <tr>\n",
       "      <th>7483</th>\n",
       "      <td>Щенячий патруль: Скорей спешим на помощь!</td>\n",
       "      <td>124010819</td>\n",
       "    </tr>\n",
       "    <tr>\n",
       "      <th>7484</th>\n",
       "      <td>Машины песенки. Серия \"Испанские мотивы\"</td>\n",
       "      <td>124010619</td>\n",
       "    </tr>\n",
       "    <tr>\n",
       "      <th>7485</th>\n",
       "      <td>Машины песенки. Серия \"Когда цветут кактусы\"</td>\n",
       "      <td>124010719</td>\n",
       "    </tr>\n",
       "  </tbody>\n",
       "</table>\n",
       "<p>6803 rows × 2 columns</p>\n",
       "</div>"
      ],
      "text/plain": [
       "                                             title   puNumber\n",
       "0                                 Открытый простор  221048915\n",
       "1                             Особо важное задание  111013716\n",
       "2                                     Особо опасен  221038416\n",
       "5                                Остановился поезд  111013816\n",
       "6                                  Любовь и голуби  111007013\n",
       "...                                            ...        ...\n",
       "7481     Сад художника: Американский импрессионизм  126008019\n",
       "7482                               Звериная ярость  121037819\n",
       "7483     Щенячий патруль: Скорей спешим на помощь!  124010819\n",
       "7484      Машины песенки. Серия \"Испанские мотивы\"  124010619\n",
       "7485  Машины песенки. Серия \"Когда цветут кактусы\"  124010719\n",
       "\n",
       "[6803 rows x 2 columns]"
      ]
     },
     "metadata": {},
     "output_type": "display_data"
    },
    {
     "name": "stdout",
     "output_type": "stream",
     "text": [
      "Кол-во дупликатов:0\n"
     ]
    }
   ],
   "source": [
    "duplicates_title_punumber = data[['title', 'puNumber']]\n",
    "display(duplicates_title_punumber)\n",
    "print(f'Кол-во дупликатов:{duplicates_title_punumber.duplicated().sum()}')"
   ]
  },
  {
   "cell_type": "markdown",
   "metadata": {
    "id": "XFSN5lrEgFyR"
   },
   "source": [
    "#### Шаг 2.5. Проверьте количественные значения\n",
    "\n",
    "- Проверьте, обнаружились ли в таких столбцах подозрительные данные. Обратите внимание на описание столбца <code>budget</code>. Как этот столбец соотносится с двумя другими: <code>refundable_support</code> и <code>nonrefundable_support</code>?"
   ]
  },
  {
   "cell_type": "code",
   "execution_count": 192,
   "metadata": {
    "id": "YbzClBxagFyS"
   },
   "outputs": [
    {
     "data": {
      "text/html": [
       "<div>\n",
       "<style scoped>\n",
       "    .dataframe tbody tr th:only-of-type {\n",
       "        vertical-align: middle;\n",
       "    }\n",
       "\n",
       "    .dataframe tbody tr th {\n",
       "        vertical-align: top;\n",
       "    }\n",
       "\n",
       "    .dataframe thead th {\n",
       "        text-align: right;\n",
       "    }\n",
       "</style>\n",
       "<table border=\"1\" class=\"dataframe\">\n",
       "  <thead>\n",
       "    <tr style=\"text-align: right;\">\n",
       "      <th></th>\n",
       "      <th>refundable_support</th>\n",
       "      <th>nonrefundable_support</th>\n",
       "      <th>budget</th>\n",
       "    </tr>\n",
       "  </thead>\n",
       "  <tbody>\n",
       "    <tr>\n",
       "      <th>2053</th>\n",
       "      <td>0.000</td>\n",
       "      <td>23,000,000.000</td>\n",
       "      <td>0.000</td>\n",
       "    </tr>\n",
       "    <tr>\n",
       "      <th>2058</th>\n",
       "      <td>0.000</td>\n",
       "      <td>75,000,000.000</td>\n",
       "      <td>0.000</td>\n",
       "    </tr>\n",
       "    <tr>\n",
       "      <th>2472</th>\n",
       "      <td>10,000,000.000</td>\n",
       "      <td>70,000,000.000</td>\n",
       "      <td>0.000</td>\n",
       "    </tr>\n",
       "    <tr>\n",
       "      <th>2615</th>\n",
       "      <td>60,000,000.000</td>\n",
       "      <td>100,000,000.000</td>\n",
       "      <td>0.000</td>\n",
       "    </tr>\n",
       "    <tr>\n",
       "      <th>2684</th>\n",
       "      <td>0.000</td>\n",
       "      <td>59,000,000.000</td>\n",
       "      <td>0.000</td>\n",
       "    </tr>\n",
       "    <tr>\n",
       "      <th>2788</th>\n",
       "      <td>0.000</td>\n",
       "      <td>35,000,000.000</td>\n",
       "      <td>0.000</td>\n",
       "    </tr>\n",
       "    <tr>\n",
       "      <th>2874</th>\n",
       "      <td>0.000</td>\n",
       "      <td>6,000,000.000</td>\n",
       "      <td>0.000</td>\n",
       "    </tr>\n",
       "    <tr>\n",
       "      <th>3047</th>\n",
       "      <td>19,000,000.000</td>\n",
       "      <td>51,000,000.000</td>\n",
       "      <td>0.000</td>\n",
       "    </tr>\n",
       "    <tr>\n",
       "      <th>3565</th>\n",
       "      <td>0.000</td>\n",
       "      <td>250,000,000.000</td>\n",
       "      <td>0.000</td>\n",
       "    </tr>\n",
       "    <tr>\n",
       "      <th>3675</th>\n",
       "      <td>20,000,000.000</td>\n",
       "      <td>20,000,000.000</td>\n",
       "      <td>0.000</td>\n",
       "    </tr>\n",
       "    <tr>\n",
       "      <th>3739</th>\n",
       "      <td>25,000,000.000</td>\n",
       "      <td>20,000,000.000</td>\n",
       "      <td>0.000</td>\n",
       "    </tr>\n",
       "    <tr>\n",
       "      <th>5673</th>\n",
       "      <td>20,000,000.000</td>\n",
       "      <td>40,000,000.000</td>\n",
       "      <td>0.000</td>\n",
       "    </tr>\n",
       "    <tr>\n",
       "      <th>5806</th>\n",
       "      <td>10,000,000.000</td>\n",
       "      <td>60,000,000.000</td>\n",
       "      <td>0.000</td>\n",
       "    </tr>\n",
       "    <tr>\n",
       "      <th>6008</th>\n",
       "      <td>40,000,000.000</td>\n",
       "      <td>40,000,000.000</td>\n",
       "      <td>0.000</td>\n",
       "    </tr>\n",
       "    <tr>\n",
       "      <th>6323</th>\n",
       "      <td>0.000</td>\n",
       "      <td>138,969,465.000</td>\n",
       "      <td>0.000</td>\n",
       "    </tr>\n",
       "    <tr>\n",
       "      <th>6823</th>\n",
       "      <td>60,000,000.000</td>\n",
       "      <td>120,000,000.000</td>\n",
       "      <td>0.000</td>\n",
       "    </tr>\n",
       "  </tbody>\n",
       "</table>\n",
       "</div>"
      ],
      "text/plain": [
       "      refundable_support  nonrefundable_support  budget\n",
       "2053               0.000         23,000,000.000   0.000\n",
       "2058               0.000         75,000,000.000   0.000\n",
       "2472      10,000,000.000         70,000,000.000   0.000\n",
       "2615      60,000,000.000        100,000,000.000   0.000\n",
       "2684               0.000         59,000,000.000   0.000\n",
       "2788               0.000         35,000,000.000   0.000\n",
       "2874               0.000          6,000,000.000   0.000\n",
       "3047      19,000,000.000         51,000,000.000   0.000\n",
       "3565               0.000        250,000,000.000   0.000\n",
       "3675      20,000,000.000         20,000,000.000   0.000\n",
       "3739      25,000,000.000         20,000,000.000   0.000\n",
       "5673      20,000,000.000         40,000,000.000   0.000\n",
       "5806      10,000,000.000         60,000,000.000   0.000\n",
       "6008      40,000,000.000         40,000,000.000   0.000\n",
       "6323               0.000        138,969,465.000   0.000\n",
       "6823      60,000,000.000        120,000,000.000   0.000"
      ]
     },
     "metadata": {},
     "output_type": "display_data"
    }
   ],
   "source": [
    "budget = data[['refundable_support', 'nonrefundable_support', 'budget']]\n",
    "display(budget.query(('(budget == 0) and (nonrefundable_support!=0)')))"
   ]
  },
  {
   "cell_type": "code",
   "execution_count": 193,
   "metadata": {},
   "outputs": [
    {
     "data": {
      "text/html": [
       "<div>\n",
       "<style scoped>\n",
       "    .dataframe tbody tr th:only-of-type {\n",
       "        vertical-align: middle;\n",
       "    }\n",
       "\n",
       "    .dataframe tbody tr th {\n",
       "        vertical-align: top;\n",
       "    }\n",
       "\n",
       "    .dataframe thead th {\n",
       "        text-align: right;\n",
       "    }\n",
       "</style>\n",
       "<table border=\"1\" class=\"dataframe\">\n",
       "  <thead>\n",
       "    <tr style=\"text-align: right;\">\n",
       "      <th></th>\n",
       "      <th>puNumber</th>\n",
       "      <th>refundable_support</th>\n",
       "      <th>nonrefundable_support</th>\n",
       "      <th>budget</th>\n",
       "      <th>ratings</th>\n",
       "      <th>box_office</th>\n",
       "    </tr>\n",
       "  </thead>\n",
       "  <tbody>\n",
       "    <tr>\n",
       "      <th>count</th>\n",
       "      <td>17.000</td>\n",
       "      <td>17.000</td>\n",
       "      <td>17.000</td>\n",
       "      <td>17.000</td>\n",
       "      <td>16.000</td>\n",
       "      <td>17.000</td>\n",
       "    </tr>\n",
       "    <tr>\n",
       "      <th>mean</th>\n",
       "      <td>112,067,204.471</td>\n",
       "      <td>16,705,882.353</td>\n",
       "      <td>65,174,674.412</td>\n",
       "      <td>0.000</td>\n",
       "      <td>5.725</td>\n",
       "      <td>163,137,294.425</td>\n",
       "    </tr>\n",
       "    <tr>\n",
       "      <th>std</th>\n",
       "      <td>1,473,501.270</td>\n",
       "      <td>20,064,784.779</td>\n",
       "      <td>61,236,204.091</td>\n",
       "      <td>0.000</td>\n",
       "      <td>0.916</td>\n",
       "      <td>251,115,991.429</td>\n",
       "    </tr>\n",
       "    <tr>\n",
       "      <th>min</th>\n",
       "      <td>111,000,415.000</td>\n",
       "      <td>0.000</td>\n",
       "      <td>0.000</td>\n",
       "      <td>0.000</td>\n",
       "      <td>4.300</td>\n",
       "      <td>1,334,699.400</td>\n",
       "    </tr>\n",
       "    <tr>\n",
       "      <th>25%</th>\n",
       "      <td>111,009,615.000</td>\n",
       "      <td>0.000</td>\n",
       "      <td>23,000,000.000</td>\n",
       "      <td>0.000</td>\n",
       "      <td>5.075</td>\n",
       "      <td>50,451,949.000</td>\n",
       "    </tr>\n",
       "    <tr>\n",
       "      <th>50%</th>\n",
       "      <td>111,017,315.000</td>\n",
       "      <td>10,000,000.000</td>\n",
       "      <td>51,000,000.000</td>\n",
       "      <td>0.000</td>\n",
       "      <td>5.700</td>\n",
       "      <td>72,937,783.200</td>\n",
       "    </tr>\n",
       "    <tr>\n",
       "      <th>75%</th>\n",
       "      <td>114,001,715.000</td>\n",
       "      <td>20,000,000.000</td>\n",
       "      <td>75,000,000.000</td>\n",
       "      <td>0.000</td>\n",
       "      <td>6.300</td>\n",
       "      <td>184,487,551.400</td>\n",
       "    </tr>\n",
       "    <tr>\n",
       "      <th>max</th>\n",
       "      <td>114,006,518.000</td>\n",
       "      <td>60,000,000.000</td>\n",
       "      <td>250,000,000.000</td>\n",
       "      <td>0.000</td>\n",
       "      <td>7.800</td>\n",
       "      <td>1,038,321,489.000</td>\n",
       "    </tr>\n",
       "  </tbody>\n",
       "</table>\n",
       "</div>"
      ],
      "text/plain": [
       "             puNumber  refundable_support  nonrefundable_support  budget  \\\n",
       "count          17.000              17.000                 17.000  17.000   \n",
       "mean  112,067,204.471      16,705,882.353         65,174,674.412   0.000   \n",
       "std     1,473,501.270      20,064,784.779         61,236,204.091   0.000   \n",
       "min   111,000,415.000               0.000                  0.000   0.000   \n",
       "25%   111,009,615.000               0.000         23,000,000.000   0.000   \n",
       "50%   111,017,315.000      10,000,000.000         51,000,000.000   0.000   \n",
       "75%   114,001,715.000      20,000,000.000         75,000,000.000   0.000   \n",
       "max   114,006,518.000      60,000,000.000        250,000,000.000   0.000   \n",
       "\n",
       "       ratings        box_office  \n",
       "count   16.000            17.000  \n",
       "mean     5.725   163,137,294.425  \n",
       "std      0.916   251,115,991.429  \n",
       "min      4.300     1,334,699.400  \n",
       "25%      5.075    50,451,949.000  \n",
       "50%      5.700    72,937,783.200  \n",
       "75%      6.300   184,487,551.400  \n",
       "max      7.800 1,038,321,489.000  "
      ]
     },
     "execution_count": 193,
     "metadata": {},
     "output_type": "execute_result"
    }
   ],
   "source": [
    "data[data['budget'] == 0].describe()"
   ]
  },
  {
   "cell_type": "markdown",
   "metadata": {},
   "source": [
    "После анализа трех столбцов, пришел к выводу, что если хоть где-то из двух столбцов `refundable_support` или `nonrefundable_support` имеется какое-либо значение отличное от нуля, то это значит что бюджет в любом случае не может быть равен нулю. Надо исправить значения в столбце бюджета на суммы поддержок."
   ]
  },
  {
   "cell_type": "code",
   "execution_count": 194,
   "metadata": {},
   "outputs": [
    {
     "data": {
      "text/html": [
       "<div>\n",
       "<style scoped>\n",
       "    .dataframe tbody tr th:only-of-type {\n",
       "        vertical-align: middle;\n",
       "    }\n",
       "\n",
       "    .dataframe tbody tr th {\n",
       "        vertical-align: top;\n",
       "    }\n",
       "\n",
       "    .dataframe thead th {\n",
       "        text-align: right;\n",
       "    }\n",
       "</style>\n",
       "<table border=\"1\" class=\"dataframe\">\n",
       "  <thead>\n",
       "    <tr style=\"text-align: right;\">\n",
       "      <th></th>\n",
       "      <th>puNumber</th>\n",
       "      <th>refundable_support</th>\n",
       "      <th>nonrefundable_support</th>\n",
       "      <th>budget</th>\n",
       "      <th>ratings</th>\n",
       "      <th>box_office</th>\n",
       "      <th>corrected_budget</th>\n",
       "    </tr>\n",
       "  </thead>\n",
       "  <tbody>\n",
       "    <tr>\n",
       "      <th>count</th>\n",
       "      <td>6,803.000</td>\n",
       "      <td>331.000</td>\n",
       "      <td>331.000</td>\n",
       "      <td>331.000</td>\n",
       "      <td>5,815.000</td>\n",
       "      <td>3,027.000</td>\n",
       "      <td>331.000</td>\n",
       "    </tr>\n",
       "    <tr>\n",
       "      <th>mean</th>\n",
       "      <td>130,808,243.346</td>\n",
       "      <td>11,900,302.115</td>\n",
       "      <td>49,038,333.269</td>\n",
       "      <td>127,469,081.387</td>\n",
       "      <td>6.454</td>\n",
       "      <td>75,392,839.841</td>\n",
       "      <td>131,674,427.202</td>\n",
       "    </tr>\n",
       "    <tr>\n",
       "      <th>std</th>\n",
       "      <td>34,136,999.885</td>\n",
       "      <td>24,945,704.904</td>\n",
       "      <td>60,061,812.815</td>\n",
       "      <td>188,823,340.914</td>\n",
       "      <td>1.112</td>\n",
       "      <td>237,344,584.518</td>\n",
       "      <td>187,375,150.397</td>\n",
       "    </tr>\n",
       "    <tr>\n",
       "      <th>min</th>\n",
       "      <td>0.000</td>\n",
       "      <td>0.000</td>\n",
       "      <td>0.000</td>\n",
       "      <td>0.000</td>\n",
       "      <td>1.000</td>\n",
       "      <td>0.000</td>\n",
       "      <td>6,000,000.000</td>\n",
       "    </tr>\n",
       "    <tr>\n",
       "      <th>25%</th>\n",
       "      <td>112,001,868.500</td>\n",
       "      <td>0.000</td>\n",
       "      <td>25,000,000.000</td>\n",
       "      <td>42,000,000.000</td>\n",
       "      <td>5.800</td>\n",
       "      <td>119,359.500</td>\n",
       "      <td>45,510,944.000</td>\n",
       "    </tr>\n",
       "    <tr>\n",
       "      <th>50%</th>\n",
       "      <td>121,013,219.000</td>\n",
       "      <td>0.000</td>\n",
       "      <td>30,000,000.000</td>\n",
       "      <td>68,809,226.000</td>\n",
       "      <td>6.600</td>\n",
       "      <td>2,418,702.000</td>\n",
       "      <td>71,517,631.000</td>\n",
       "    </tr>\n",
       "    <tr>\n",
       "      <th>75%</th>\n",
       "      <td>124,000,417.500</td>\n",
       "      <td>15,000,000.000</td>\n",
       "      <td>40,750,000.000</td>\n",
       "      <td>143,945,639.000</td>\n",
       "      <td>7.200</td>\n",
       "      <td>23,608,211.370</td>\n",
       "      <td>150,000,000.000</td>\n",
       "    </tr>\n",
       "    <tr>\n",
       "      <th>max</th>\n",
       "      <td>231,001,012.000</td>\n",
       "      <td>180,000,000.000</td>\n",
       "      <td>400,000,000.000</td>\n",
       "      <td>2,305,074,303.000</td>\n",
       "      <td>9.200</td>\n",
       "      <td>3,073,568,690.790</td>\n",
       "      <td>2,305,074,303.000</td>\n",
       "    </tr>\n",
       "  </tbody>\n",
       "</table>\n",
       "</div>"
      ],
      "text/plain": [
       "             puNumber  refundable_support  nonrefundable_support  \\\n",
       "count       6,803.000             331.000                331.000   \n",
       "mean  130,808,243.346      11,900,302.115         49,038,333.269   \n",
       "std    34,136,999.885      24,945,704.904         60,061,812.815   \n",
       "min             0.000               0.000                  0.000   \n",
       "25%   112,001,868.500               0.000         25,000,000.000   \n",
       "50%   121,013,219.000               0.000         30,000,000.000   \n",
       "75%   124,000,417.500      15,000,000.000         40,750,000.000   \n",
       "max   231,001,012.000     180,000,000.000        400,000,000.000   \n",
       "\n",
       "                 budget   ratings        box_office  corrected_budget  \n",
       "count           331.000 5,815.000         3,027.000           331.000  \n",
       "mean    127,469,081.387     6.454    75,392,839.841   131,674,427.202  \n",
       "std     188,823,340.914     1.112   237,344,584.518   187,375,150.397  \n",
       "min               0.000     1.000             0.000     6,000,000.000  \n",
       "25%      42,000,000.000     5.800       119,359.500    45,510,944.000  \n",
       "50%      68,809,226.000     6.600     2,418,702.000    71,517,631.000  \n",
       "75%     143,945,639.000     7.200    23,608,211.370   150,000,000.000  \n",
       "max   2,305,074,303.000     9.200 3,073,568,690.790 2,305,074,303.000  "
      ]
     },
     "execution_count": 194,
     "metadata": {},
     "output_type": "execute_result"
    }
   ],
   "source": [
    "def check_budget(row):\n",
    "    if row['budget'] < (row['refundable_support'] + row['nonrefundable_support']):\n",
    "        return row['refundable_support'] + row['nonrefundable_support']\n",
    "    return row['budget']\n",
    "data['corrected_budget'] = data.apply(check_budget, axis = 1)\n",
    "data.describe()"
   ]
  },
  {
   "cell_type": "markdown",
   "metadata": {},
   "source": [
    "В конечном итоге создал новые столбец в котором бюджет является как минимум суммой `refundable_support` и `nonrefundable_support`"
   ]
  },
  {
   "cell_type": "markdown",
   "metadata": {
    "id": "Eu6oWp2CgFyS"
   },
   "source": [
    "#### Шаг 2.6. Добавьте новые столбцы\n",
    "\n",
    "\n",
    "\n"
   ]
  },
  {
   "cell_type": "markdown",
   "metadata": {
    "id": "7GgW-UpAgFyS"
   },
   "source": [
    "- Создайте столбец с информацией о годе проката. Выделите год из даты премьеры фильма."
   ]
  },
  {
   "cell_type": "code",
   "execution_count": 195,
   "metadata": {
    "id": "I-yd1DkWgFyT"
   },
   "outputs": [
    {
     "data": {
      "text/plain": [
       "0       2015\n",
       "1       2016\n",
       "2       2016\n",
       "5       2016\n",
       "6       2013\n",
       "        ... \n",
       "7481    2019\n",
       "7482    2019\n",
       "7483    2019\n",
       "7484    2019\n",
       "7485    2019\n",
       "Name: year, Length: 6803, dtype: int64"
      ]
     },
     "metadata": {},
     "output_type": "display_data"
    }
   ],
   "source": [
    "data['year'] = data['show_start_date'].dt.year\n",
    "display(data['year'])"
   ]
  },
  {
   "cell_type": "code",
   "execution_count": 196,
   "metadata": {},
   "outputs": [
    {
     "data": {
      "text/plain": [
       "count           3,027.000\n",
       "mean       75,392,839.841\n",
       "std       237,344,584.518\n",
       "min                 0.000\n",
       "25%           119,359.500\n",
       "50%         2,418,702.000\n",
       "75%        23,608,211.370\n",
       "max     3,073,568,690.790\n",
       "Name: box_office, dtype: float64"
      ]
     },
     "execution_count": 196,
     "metadata": {},
     "output_type": "execute_result"
    }
   ],
   "source": [
    "data['box_office'].describe()"
   ]
  },
  {
   "cell_type": "markdown",
   "metadata": {
    "id": "nFTDLDYOgFyT"
   },
   "source": [
    "- Создайте два столбца: с именем и фамилией главного режиссёра и основным жанром фильма. В столбцы войдут первые значения из списка режиссёров и жанров соответственно."
   ]
  },
  {
   "cell_type": "code",
   "execution_count": 197,
   "metadata": {
    "id": "LSbRZKbMgFyU"
   },
   "outputs": [
    {
     "data": {
      "text/html": [
       "<div>\n",
       "<style scoped>\n",
       "    .dataframe tbody tr th:only-of-type {\n",
       "        vertical-align: middle;\n",
       "    }\n",
       "\n",
       "    .dataframe tbody tr th {\n",
       "        vertical-align: top;\n",
       "    }\n",
       "\n",
       "    .dataframe thead th {\n",
       "        text-align: right;\n",
       "    }\n",
       "</style>\n",
       "<table border=\"1\" class=\"dataframe\">\n",
       "  <thead>\n",
       "    <tr style=\"text-align: right;\">\n",
       "      <th></th>\n",
       "      <th>title</th>\n",
       "      <th>puNumber</th>\n",
       "      <th>show_start_date</th>\n",
       "      <th>type</th>\n",
       "      <th>film_studio</th>\n",
       "      <th>production_country</th>\n",
       "      <th>director</th>\n",
       "      <th>producer</th>\n",
       "      <th>age_restriction</th>\n",
       "      <th>refundable_support</th>\n",
       "      <th>nonrefundable_support</th>\n",
       "      <th>budget</th>\n",
       "      <th>financing_source</th>\n",
       "      <th>ratings</th>\n",
       "      <th>genres</th>\n",
       "      <th>box_office</th>\n",
       "      <th>corrected_budget</th>\n",
       "      <th>year</th>\n",
       "      <th>director_first</th>\n",
       "      <th>genre_first</th>\n",
       "    </tr>\n",
       "  </thead>\n",
       "  <tbody>\n",
       "    <tr>\n",
       "      <th>0</th>\n",
       "      <td>Открытый простор</td>\n",
       "      <td>221048915</td>\n",
       "      <td>2015-11-27 12:00:00</td>\n",
       "      <td>Художественный</td>\n",
       "      <td>Тачстоун Пикчерз, Кобальт Пикчерз, Бикон Пикче...</td>\n",
       "      <td>США</td>\n",
       "      <td>Кевин Костнер</td>\n",
       "      <td>Дэвид Валдес, Кевин Костнер, Джейк Эбертс</td>\n",
       "      <td>«18+» - запрещено для детей</td>\n",
       "      <td>NaN</td>\n",
       "      <td>NaN</td>\n",
       "      <td>NaN</td>\n",
       "      <td>NaN</td>\n",
       "      <td>7.200</td>\n",
       "      <td>боевик,драма,мелодрама</td>\n",
       "      <td>NaN</td>\n",
       "      <td>NaN</td>\n",
       "      <td>2015</td>\n",
       "      <td>Кевин Костнер</td>\n",
       "      <td>боевик</td>\n",
       "    </tr>\n",
       "    <tr>\n",
       "      <th>1</th>\n",
       "      <td>Особо важное задание</td>\n",
       "      <td>111013716</td>\n",
       "      <td>2016-09-13 12:00:00</td>\n",
       "      <td>Художественный</td>\n",
       "      <td>Киностудия \"Мосфильм\"</td>\n",
       "      <td>СССР</td>\n",
       "      <td>Е.Матвеев</td>\n",
       "      <td>unknown</td>\n",
       "      <td>«6+» - для детей старше 6 лет</td>\n",
       "      <td>NaN</td>\n",
       "      <td>NaN</td>\n",
       "      <td>NaN</td>\n",
       "      <td>NaN</td>\n",
       "      <td>6.600</td>\n",
       "      <td>драма,военный</td>\n",
       "      <td>NaN</td>\n",
       "      <td>NaN</td>\n",
       "      <td>2016</td>\n",
       "      <td>Е.Матвеев</td>\n",
       "      <td>драма</td>\n",
       "    </tr>\n",
       "    <tr>\n",
       "      <th>2</th>\n",
       "      <td>Особо опасен</td>\n",
       "      <td>221038416</td>\n",
       "      <td>2016-10-10 12:00:00</td>\n",
       "      <td>Художественный</td>\n",
       "      <td>Юниверсал Пикчерз, Кикстарт Продакшнз, Марк Пл...</td>\n",
       "      <td>США</td>\n",
       "      <td>Тимур Бекмамбетов</td>\n",
       "      <td>Джим Лемли, Джейсон Нетер, Марк Е.Платт, Яйн Смит</td>\n",
       "      <td>«18+» - запрещено для детей</td>\n",
       "      <td>NaN</td>\n",
       "      <td>NaN</td>\n",
       "      <td>NaN</td>\n",
       "      <td>NaN</td>\n",
       "      <td>6.800</td>\n",
       "      <td>фантастика,боевик,триллер</td>\n",
       "      <td>NaN</td>\n",
       "      <td>NaN</td>\n",
       "      <td>2016</td>\n",
       "      <td>Тимур Бекмамбетов</td>\n",
       "      <td>фантастика</td>\n",
       "    </tr>\n",
       "    <tr>\n",
       "      <th>5</th>\n",
       "      <td>Остановился поезд</td>\n",
       "      <td>111013816</td>\n",
       "      <td>2016-09-13 12:00:00</td>\n",
       "      <td>Художественный</td>\n",
       "      <td>Киностудия \"Мосфильм\"</td>\n",
       "      <td>СССР</td>\n",
       "      <td>В.Абдрашитов</td>\n",
       "      <td>unknown</td>\n",
       "      <td>«6+» - для детей старше 6 лет</td>\n",
       "      <td>NaN</td>\n",
       "      <td>NaN</td>\n",
       "      <td>NaN</td>\n",
       "      <td>NaN</td>\n",
       "      <td>7.700</td>\n",
       "      <td>драма</td>\n",
       "      <td>NaN</td>\n",
       "      <td>NaN</td>\n",
       "      <td>2016</td>\n",
       "      <td>В.Абдрашитов</td>\n",
       "      <td>драма</td>\n",
       "    </tr>\n",
       "    <tr>\n",
       "      <th>6</th>\n",
       "      <td>Любовь и голуби</td>\n",
       "      <td>111007013</td>\n",
       "      <td>2013-10-18 12:00:00</td>\n",
       "      <td>Художественный</td>\n",
       "      <td>Киностудия \"Мосфильм\"</td>\n",
       "      <td>СССР</td>\n",
       "      <td>В.Меньшов</td>\n",
       "      <td>unknown</td>\n",
       "      <td>«12+» - для детей старше 12 лет</td>\n",
       "      <td>NaN</td>\n",
       "      <td>NaN</td>\n",
       "      <td>NaN</td>\n",
       "      <td>NaN</td>\n",
       "      <td>8.300</td>\n",
       "      <td>мелодрама,комедия</td>\n",
       "      <td>2,700.000</td>\n",
       "      <td>NaN</td>\n",
       "      <td>2013</td>\n",
       "      <td>В.Меньшов</td>\n",
       "      <td>мелодрама</td>\n",
       "    </tr>\n",
       "  </tbody>\n",
       "</table>\n",
       "</div>"
      ],
      "text/plain": [
       "                  title   puNumber     show_start_date            type  \\\n",
       "0      Открытый простор  221048915 2015-11-27 12:00:00  Художественный   \n",
       "1  Особо важное задание  111013716 2016-09-13 12:00:00  Художественный   \n",
       "2          Особо опасен  221038416 2016-10-10 12:00:00  Художественный   \n",
       "5     Остановился поезд  111013816 2016-09-13 12:00:00  Художественный   \n",
       "6       Любовь и голуби  111007013 2013-10-18 12:00:00  Художественный   \n",
       "\n",
       "                                         film_studio production_country  \\\n",
       "0  Тачстоун Пикчерз, Кобальт Пикчерз, Бикон Пикче...                США   \n",
       "1                              Киностудия \"Мосфильм\"               СССР   \n",
       "2  Юниверсал Пикчерз, Кикстарт Продакшнз, Марк Пл...                США   \n",
       "5                              Киностудия \"Мосфильм\"               СССР   \n",
       "6                              Киностудия \"Мосфильм\"               СССР   \n",
       "\n",
       "            director                                           producer  \\\n",
       "0      Кевин Костнер          Дэвид Валдес, Кевин Костнер, Джейк Эбертс   \n",
       "1          Е.Матвеев                                            unknown   \n",
       "2  Тимур Бекмамбетов  Джим Лемли, Джейсон Нетер, Марк Е.Платт, Яйн Смит   \n",
       "5       В.Абдрашитов                                            unknown   \n",
       "6          В.Меньшов                                            unknown   \n",
       "\n",
       "                   age_restriction  refundable_support  nonrefundable_support  \\\n",
       "0      «18+» - запрещено для детей                 NaN                    NaN   \n",
       "1    «6+» - для детей старше 6 лет                 NaN                    NaN   \n",
       "2      «18+» - запрещено для детей                 NaN                    NaN   \n",
       "5    «6+» - для детей старше 6 лет                 NaN                    NaN   \n",
       "6  «12+» - для детей старше 12 лет                 NaN                    NaN   \n",
       "\n",
       "   budget financing_source  ratings                     genres  box_office  \\\n",
       "0     NaN              NaN    7.200     боевик,драма,мелодрама         NaN   \n",
       "1     NaN              NaN    6.600              драма,военный         NaN   \n",
       "2     NaN              NaN    6.800  фантастика,боевик,триллер         NaN   \n",
       "5     NaN              NaN    7.700                      драма         NaN   \n",
       "6     NaN              NaN    8.300          мелодрама,комедия   2,700.000   \n",
       "\n",
       "   corrected_budget  year     director_first genre_first  \n",
       "0               NaN  2015      Кевин Костнер      боевик  \n",
       "1               NaN  2016          Е.Матвеев       драма  \n",
       "2               NaN  2016  Тимур Бекмамбетов  фантастика  \n",
       "5               NaN  2016       В.Абдрашитов       драма  \n",
       "6               NaN  2013          В.Меньшов   мелодрама  "
      ]
     },
     "execution_count": 197,
     "metadata": {},
     "output_type": "execute_result"
    }
   ],
   "source": [
    "data['director_first'] = data['director'].str.split(\",\").str[0]\n",
    "data['director_first'] = data['director_first'].str.strip()\n",
    "data['genre_first'] = data['genres'].str.split(',').str[0]\n",
    "data['genre_first'] = data['genre_first'].str.strip()\n",
    "data.head()"
   ]
  },
  {
   "cell_type": "markdown",
   "metadata": {
    "id": "1FsCXHwdgFyU"
   },
   "source": [
    "- Посчитайте, какую долю от общего бюджета фильма составляет государственная поддержка."
   ]
  },
  {
   "cell_type": "code",
   "execution_count": 198,
   "metadata": {
    "id": "LV6qFuZLgFyV",
    "scrolled": true
   },
   "outputs": [
    {
     "data": {
      "text/html": [
       "<div>\n",
       "<style scoped>\n",
       "    .dataframe tbody tr th:only-of-type {\n",
       "        vertical-align: middle;\n",
       "    }\n",
       "\n",
       "    .dataframe tbody tr th {\n",
       "        vertical-align: top;\n",
       "    }\n",
       "\n",
       "    .dataframe thead th {\n",
       "        text-align: right;\n",
       "    }\n",
       "</style>\n",
       "<table border=\"1\" class=\"dataframe\">\n",
       "  <thead>\n",
       "    <tr style=\"text-align: right;\">\n",
       "      <th></th>\n",
       "      <th>puNumber</th>\n",
       "      <th>refundable_support</th>\n",
       "      <th>nonrefundable_support</th>\n",
       "      <th>budget</th>\n",
       "      <th>ratings</th>\n",
       "      <th>box_office</th>\n",
       "      <th>corrected_budget</th>\n",
       "      <th>year</th>\n",
       "      <th>ratio_budget</th>\n",
       "    </tr>\n",
       "  </thead>\n",
       "  <tbody>\n",
       "    <tr>\n",
       "      <th>count</th>\n",
       "      <td>6,803.000</td>\n",
       "      <td>331.000</td>\n",
       "      <td>331.000</td>\n",
       "      <td>331.000</td>\n",
       "      <td>5,815.000</td>\n",
       "      <td>3,027.000</td>\n",
       "      <td>331.000</td>\n",
       "      <td>6,803.000</td>\n",
       "      <td>331.000</td>\n",
       "    </tr>\n",
       "    <tr>\n",
       "      <th>mean</th>\n",
       "      <td>130,808,243.346</td>\n",
       "      <td>11,900,302.115</td>\n",
       "      <td>49,038,333.269</td>\n",
       "      <td>127,469,081.387</td>\n",
       "      <td>6.454</td>\n",
       "      <td>75,392,839.841</td>\n",
       "      <td>131,674,427.202</td>\n",
       "      <td>2,014.837</td>\n",
       "      <td>0.542</td>\n",
       "    </tr>\n",
       "    <tr>\n",
       "      <th>std</th>\n",
       "      <td>34,136,999.885</td>\n",
       "      <td>24,945,704.904</td>\n",
       "      <td>60,061,812.815</td>\n",
       "      <td>188,823,340.914</td>\n",
       "      <td>1.112</td>\n",
       "      <td>237,344,584.518</td>\n",
       "      <td>187,375,150.397</td>\n",
       "      <td>2.959</td>\n",
       "      <td>0.197</td>\n",
       "    </tr>\n",
       "    <tr>\n",
       "      <th>min</th>\n",
       "      <td>0.000</td>\n",
       "      <td>0.000</td>\n",
       "      <td>0.000</td>\n",
       "      <td>0.000</td>\n",
       "      <td>1.000</td>\n",
       "      <td>0.000</td>\n",
       "      <td>6,000,000.000</td>\n",
       "      <td>2,010.000</td>\n",
       "      <td>0.044</td>\n",
       "    </tr>\n",
       "    <tr>\n",
       "      <th>25%</th>\n",
       "      <td>112,001,868.500</td>\n",
       "      <td>0.000</td>\n",
       "      <td>25,000,000.000</td>\n",
       "      <td>42,000,000.000</td>\n",
       "      <td>5.800</td>\n",
       "      <td>119,359.500</td>\n",
       "      <td>45,510,944.000</td>\n",
       "      <td>2,012.000</td>\n",
       "      <td>0.385</td>\n",
       "    </tr>\n",
       "    <tr>\n",
       "      <th>50%</th>\n",
       "      <td>121,013,219.000</td>\n",
       "      <td>0.000</td>\n",
       "      <td>30,000,000.000</td>\n",
       "      <td>68,809,226.000</td>\n",
       "      <td>6.600</td>\n",
       "      <td>2,418,702.000</td>\n",
       "      <td>71,517,631.000</td>\n",
       "      <td>2,015.000</td>\n",
       "      <td>0.613</td>\n",
       "    </tr>\n",
       "    <tr>\n",
       "      <th>75%</th>\n",
       "      <td>124,000,417.500</td>\n",
       "      <td>15,000,000.000</td>\n",
       "      <td>40,750,000.000</td>\n",
       "      <td>143,945,639.000</td>\n",
       "      <td>7.200</td>\n",
       "      <td>23,608,211.370</td>\n",
       "      <td>150,000,000.000</td>\n",
       "      <td>2,018.000</td>\n",
       "      <td>0.662</td>\n",
       "    </tr>\n",
       "    <tr>\n",
       "      <th>max</th>\n",
       "      <td>231,001,012.000</td>\n",
       "      <td>180,000,000.000</td>\n",
       "      <td>400,000,000.000</td>\n",
       "      <td>2,305,074,303.000</td>\n",
       "      <td>9.200</td>\n",
       "      <td>3,073,568,690.790</td>\n",
       "      <td>2,305,074,303.000</td>\n",
       "      <td>2,019.000</td>\n",
       "      <td>1.000</td>\n",
       "    </tr>\n",
       "  </tbody>\n",
       "</table>\n",
       "</div>"
      ],
      "text/plain": [
       "             puNumber  refundable_support  nonrefundable_support  \\\n",
       "count       6,803.000             331.000                331.000   \n",
       "mean  130,808,243.346      11,900,302.115         49,038,333.269   \n",
       "std    34,136,999.885      24,945,704.904         60,061,812.815   \n",
       "min             0.000               0.000                  0.000   \n",
       "25%   112,001,868.500               0.000         25,000,000.000   \n",
       "50%   121,013,219.000               0.000         30,000,000.000   \n",
       "75%   124,000,417.500      15,000,000.000         40,750,000.000   \n",
       "max   231,001,012.000     180,000,000.000        400,000,000.000   \n",
       "\n",
       "                 budget   ratings        box_office  corrected_budget  \\\n",
       "count           331.000 5,815.000         3,027.000           331.000   \n",
       "mean    127,469,081.387     6.454    75,392,839.841   131,674,427.202   \n",
       "std     188,823,340.914     1.112   237,344,584.518   187,375,150.397   \n",
       "min               0.000     1.000             0.000     6,000,000.000   \n",
       "25%      42,000,000.000     5.800       119,359.500    45,510,944.000   \n",
       "50%      68,809,226.000     6.600     2,418,702.000    71,517,631.000   \n",
       "75%     143,945,639.000     7.200    23,608,211.370   150,000,000.000   \n",
       "max   2,305,074,303.000     9.200 3,073,568,690.790 2,305,074,303.000   \n",
       "\n",
       "           year  ratio_budget  \n",
       "count 6,803.000       331.000  \n",
       "mean  2,014.837         0.542  \n",
       "std       2.959         0.197  \n",
       "min   2,010.000         0.044  \n",
       "25%   2,012.000         0.385  \n",
       "50%   2,015.000         0.613  \n",
       "75%   2,018.000         0.662  \n",
       "max   2,019.000         1.000  "
      ]
     },
     "execution_count": 198,
     "metadata": {},
     "output_type": "execute_result"
    }
   ],
   "source": [
    "data['ratio_budget'] =(data['refundable_support'] + data['nonrefundable_support']) / data['corrected_budget']\n",
    "data.describe()"
   ]
  },
  {
   "cell_type": "markdown",
   "metadata": {
    "id": "6t4EukPLgFyV"
   },
   "source": [
    "### Шаг 3. Проведите исследовательский анализ данных\n"
   ]
  },
  {
   "cell_type": "markdown",
   "metadata": {
    "id": "vAH8WCzugFyV"
   },
   "source": [
    "- Посмотрите, сколько фильмов выходило в прокат каждый год. Обратите внимание, что данные о прокате в кинотеатрах известны не для всех фильмов. Посчитайте, какую долю составляют фильмы с указанной информацией о прокате в кинотеатрах."
   ]
  },
  {
   "cell_type": "markdown",
   "metadata": {},
   "source": [
    "Поскольку просят посмотреть именно по фильмам, которые показывали в кинотеатрах, то тут потребуется столбец box_office."
   ]
  },
  {
   "cell_type": "code",
   "execution_count": 199,
   "metadata": {
    "id": "ABeV47y7gFyW"
   },
   "outputs": [
    {
     "data": {
      "text/plain": [
       "3027"
      ]
     },
     "execution_count": 199,
     "metadata": {},
     "output_type": "execute_result"
    }
   ],
   "source": [
    "data.groupby('year')['box_office'].count().sum()"
   ]
  },
  {
   "cell_type": "code",
   "execution_count": 200,
   "metadata": {},
   "outputs": [
    {
     "data": {
      "text/html": [
       "<div>\n",
       "<style scoped>\n",
       "    .dataframe tbody tr th:only-of-type {\n",
       "        vertical-align: middle;\n",
       "    }\n",
       "\n",
       "    .dataframe tbody tr th {\n",
       "        vertical-align: top;\n",
       "    }\n",
       "\n",
       "    .dataframe thead th {\n",
       "        text-align: right;\n",
       "    }\n",
       "</style>\n",
       "<table border=\"1\" class=\"dataframe\">\n",
       "  <thead>\n",
       "    <tr style=\"text-align: right;\">\n",
       "      <th></th>\n",
       "      <th>year</th>\n",
       "      <th>Count</th>\n",
       "    </tr>\n",
       "  </thead>\n",
       "  <tbody>\n",
       "    <tr>\n",
       "      <th>0</th>\n",
       "      <td>2010</td>\n",
       "      <td>88</td>\n",
       "    </tr>\n",
       "    <tr>\n",
       "      <th>1</th>\n",
       "      <td>2011</td>\n",
       "      <td>98</td>\n",
       "    </tr>\n",
       "    <tr>\n",
       "      <th>2</th>\n",
       "      <td>2012</td>\n",
       "      <td>116</td>\n",
       "    </tr>\n",
       "    <tr>\n",
       "      <th>3</th>\n",
       "      <td>2013</td>\n",
       "      <td>176</td>\n",
       "    </tr>\n",
       "    <tr>\n",
       "      <th>4</th>\n",
       "      <td>2014</td>\n",
       "      <td>257</td>\n",
       "    </tr>\n",
       "    <tr>\n",
       "      <th>5</th>\n",
       "      <td>2015</td>\n",
       "      <td>431</td>\n",
       "    </tr>\n",
       "    <tr>\n",
       "      <th>6</th>\n",
       "      <td>2016</td>\n",
       "      <td>501</td>\n",
       "    </tr>\n",
       "    <tr>\n",
       "      <th>7</th>\n",
       "      <td>2017</td>\n",
       "      <td>357</td>\n",
       "    </tr>\n",
       "    <tr>\n",
       "      <th>8</th>\n",
       "      <td>2018</td>\n",
       "      <td>474</td>\n",
       "    </tr>\n",
       "    <tr>\n",
       "      <th>9</th>\n",
       "      <td>2019</td>\n",
       "      <td>529</td>\n",
       "    </tr>\n",
       "  </tbody>\n",
       "</table>\n",
       "</div>"
      ],
      "text/plain": [
       "   year  Count\n",
       "0  2010     88\n",
       "1  2011     98\n",
       "2  2012    116\n",
       "3  2013    176\n",
       "4  2014    257\n",
       "5  2015    431\n",
       "6  2016    501\n",
       "7  2017    357\n",
       "8  2018    474\n",
       "9  2019    529"
      ]
     },
     "metadata": {},
     "output_type": "display_data"
    },
    {
     "data": {
      "image/png": "[encoded data removed]",
      "text/plain": [
       "<Figure size 640x480 with 1 Axes>"
      ]
     },
     "metadata": {},
     "output_type": "display_data"
    }
   ],
   "source": [
    "box_per_year_count = data.groupby('year')['box_office'].count().reset_index()\n",
    "box_per_year_count.rename(columns={'box_office' : 'Count'}, inplace=True)\n",
    "display(box_per_year_count)\n",
    "sb.barplot(x = 'year', y = 'Count', data = box_per_year_count)\n",
    "plt.title('Количество показов фильмов в год')\n",
    "plt.show()"
   ]
  },
  {
   "cell_type": "code",
   "execution_count": 201,
   "metadata": {},
   "outputs": [
    {
     "name": "stdout",
     "output_type": "stream",
     "text": [
      "0.445\n"
     ]
    },
    {
     "data": {
      "text/html": [
       "<div>\n",
       "<style scoped>\n",
       "    .dataframe tbody tr th:only-of-type {\n",
       "        vertical-align: middle;\n",
       "    }\n",
       "\n",
       "    .dataframe tbody tr th {\n",
       "        vertical-align: top;\n",
       "    }\n",
       "\n",
       "    .dataframe thead th {\n",
       "        text-align: right;\n",
       "    }\n",
       "</style>\n",
       "<table border=\"1\" class=\"dataframe\">\n",
       "  <thead>\n",
       "    <tr style=\"text-align: right;\">\n",
       "      <th></th>\n",
       "      <th>year</th>\n",
       "      <th>Mean</th>\n",
       "    </tr>\n",
       "  </thead>\n",
       "  <tbody>\n",
       "    <tr>\n",
       "      <th>0</th>\n",
       "      <td>2010</td>\n",
       "      <td>11.549</td>\n",
       "    </tr>\n",
       "    <tr>\n",
       "      <th>1</th>\n",
       "      <td>2011</td>\n",
       "      <td>20.545</td>\n",
       "    </tr>\n",
       "    <tr>\n",
       "      <th>2</th>\n",
       "      <td>2012</td>\n",
       "      <td>22.437</td>\n",
       "    </tr>\n",
       "    <tr>\n",
       "      <th>3</th>\n",
       "      <td>2013</td>\n",
       "      <td>29.831</td>\n",
       "    </tr>\n",
       "    <tr>\n",
       "      <th>4</th>\n",
       "      <td>2014</td>\n",
       "      <td>35.205</td>\n",
       "    </tr>\n",
       "    <tr>\n",
       "      <th>5</th>\n",
       "      <td>2015</td>\n",
       "      <td>65.204</td>\n",
       "    </tr>\n",
       "    <tr>\n",
       "      <th>6</th>\n",
       "      <td>2016</td>\n",
       "      <td>64.981</td>\n",
       "    </tr>\n",
       "    <tr>\n",
       "      <th>7</th>\n",
       "      <td>2017</td>\n",
       "      <td>71.400</td>\n",
       "    </tr>\n",
       "    <tr>\n",
       "      <th>8</th>\n",
       "      <td>2018</td>\n",
       "      <td>53.741</td>\n",
       "    </tr>\n",
       "    <tr>\n",
       "      <th>9</th>\n",
       "      <td>2019</td>\n",
       "      <td>57.941</td>\n",
       "    </tr>\n",
       "  </tbody>\n",
       "</table>\n",
       "</div>"
      ],
      "text/plain": [
       "   year   Mean\n",
       "0  2010 11.549\n",
       "1  2011 20.545\n",
       "2  2012 22.437\n",
       "3  2013 29.831\n",
       "4  2014 35.205\n",
       "5  2015 65.204\n",
       "6  2016 64.981\n",
       "7  2017 71.400\n",
       "8  2018 53.741\n",
       "9  2019 57.941"
      ]
     },
     "metadata": {},
     "output_type": "display_data"
    },
    {
     "data": {
      "image/png": "[encoded data removed]",
      "text/plain": [
       "<Figure size 640x480 with 1 Axes>"
      ]
     },
     "metadata": {},
     "output_type": "display_data"
    }
   ],
   "source": [
    "mean = 1 - (data['box_office'].isna().sum() / data.shape[0])\n",
    "print(round(mean, 3))\n",
    "box_per_year_mean = (data[['year', 'box_office']].groupby('year').apply(lambda x: x['box_office'].apply(pd.notna).mean())*100).reset_index()\n",
    "box_per_year_mean.rename(columns={0 : 'Mean'}, inplace=True)\n",
    "display(box_per_year_mean)\n",
    "sb.barplot(x='year', y='Mean', data=box_per_year_mean)\n",
    "plt.title('Доля по годам')\n",
    "plt.show()"
   ]
  },
  {
   "cell_type": "markdown",
   "metadata": {},
   "source": [
    "Доля проката в кинотеатрах равна около 44,5%"
   ]
  },
  {
   "cell_type": "markdown",
   "metadata": {
    "id": "BEOdcIrIgFyW"
   },
   "source": [
    "- Изучите, как менялась динамика проката по годам. В каком году сумма сборов была минимальной? А максимальной?"
   ]
  },
  {
   "cell_type": "code",
   "execution_count": 202,
   "metadata": {},
   "outputs": [
    {
     "data": {
      "text/html": [
       "<div>\n",
       "<style scoped>\n",
       "    .dataframe tbody tr th:only-of-type {\n",
       "        vertical-align: middle;\n",
       "    }\n",
       "\n",
       "    .dataframe tbody tr th {\n",
       "        vertical-align: top;\n",
       "    }\n",
       "\n",
       "    .dataframe thead th {\n",
       "        text-align: right;\n",
       "    }\n",
       "</style>\n",
       "<table border=\"1\" class=\"dataframe\">\n",
       "  <thead>\n",
       "    <tr style=\"text-align: right;\">\n",
       "      <th></th>\n",
       "      <th>year</th>\n",
       "      <th>Sum</th>\n",
       "    </tr>\n",
       "  </thead>\n",
       "  <tbody>\n",
       "    <tr>\n",
       "      <th>0</th>\n",
       "      <td>2010</td>\n",
       "      <td>2,374,340.000</td>\n",
       "    </tr>\n",
       "    <tr>\n",
       "      <th>1</th>\n",
       "      <td>2011</td>\n",
       "      <td>13,944,390.000</td>\n",
       "    </tr>\n",
       "    <tr>\n",
       "      <th>2</th>\n",
       "      <td>2012</td>\n",
       "      <td>6,465,111.000</td>\n",
       "    </tr>\n",
       "    <tr>\n",
       "      <th>3</th>\n",
       "      <td>2013</td>\n",
       "      <td>29,768,531.200</td>\n",
       "    </tr>\n",
       "    <tr>\n",
       "      <th>4</th>\n",
       "      <td>2014</td>\n",
       "      <td>7,372,598,571.600</td>\n",
       "    </tr>\n",
       "    <tr>\n",
       "      <th>5</th>\n",
       "      <td>2015</td>\n",
       "      <td>32,084,649,858.370</td>\n",
       "    </tr>\n",
       "    <tr>\n",
       "      <th>6</th>\n",
       "      <td>2016</td>\n",
       "      <td>43,731,444,689.340</td>\n",
       "    </tr>\n",
       "    <tr>\n",
       "      <th>7</th>\n",
       "      <td>2017</td>\n",
       "      <td>48,563,707,217.510</td>\n",
       "    </tr>\n",
       "    <tr>\n",
       "      <th>8</th>\n",
       "      <td>2018</td>\n",
       "      <td>47,985,723,095.290</td>\n",
       "    </tr>\n",
       "    <tr>\n",
       "      <th>9</th>\n",
       "      <td>2019</td>\n",
       "      <td>48,423,450,395.590</td>\n",
       "    </tr>\n",
       "  </tbody>\n",
       "</table>\n",
       "</div>"
      ],
      "text/plain": [
       "   year                Sum\n",
       "0  2010      2,374,340.000\n",
       "1  2011     13,944,390.000\n",
       "2  2012      6,465,111.000\n",
       "3  2013     29,768,531.200\n",
       "4  2014  7,372,598,571.600\n",
       "5  2015 32,084,649,858.370\n",
       "6  2016 43,731,444,689.340\n",
       "7  2017 48,563,707,217.510\n",
       "8  2018 47,985,723,095.290\n",
       "9  2019 48,423,450,395.590"
      ]
     },
     "metadata": {},
     "output_type": "display_data"
    },
    {
     "data": {
      "image/png": "[encoded data removed]",
      "text/plain": [
       "<Figure size 640x480 with 1 Axes>"
      ]
     },
     "metadata": {},
     "output_type": "display_data"
    }
   ],
   "source": [
    "box_per_year_sum = data.groupby('year')['box_office'].sum().reset_index()\n",
    "box_per_year_sum.rename(columns={'box_office' : 'Sum'}, inplace=True)\n",
    "display(box_per_year_sum)\n",
    "sb.barplot(x='year', y='Sum', data=box_per_year_sum)\n",
    "plt.title('Сумма по годам')\n",
    "plt.show()"
   ]
  },
  {
   "cell_type": "code",
   "execution_count": 203,
   "metadata": {
    "tags": []
   },
   "outputs": [
    {
     "data": {
      "image/png": "[encoded data removed]",
      "text/plain": [
       "<Figure size 640x480 with 1 Axes>"
      ]
     },
     "metadata": {},
     "output_type": "display_data"
    }
   ],
   "source": [
    "sb.lineplot(x='year', y='Sum', data = box_per_year_sum)\n",
    "plt.title('Сумма по годам');"
   ]
  },
  {
   "cell_type": "code",
   "execution_count": 204,
   "metadata": {},
   "outputs": [
    {
     "data": {
      "text/html": [
       "<div>\n",
       "<style scoped>\n",
       "    .dataframe tbody tr th:only-of-type {\n",
       "        vertical-align: middle;\n",
       "    }\n",
       "\n",
       "    .dataframe tbody tr th {\n",
       "        vertical-align: top;\n",
       "    }\n",
       "\n",
       "    .dataframe thead th {\n",
       "        text-align: right;\n",
       "    }\n",
       "</style>\n",
       "<table border=\"1\" class=\"dataframe\">\n",
       "  <thead>\n",
       "    <tr style=\"text-align: right;\">\n",
       "      <th></th>\n",
       "      <th>year</th>\n",
       "      <th>Count</th>\n",
       "      <th>Mean</th>\n",
       "      <th>Sum</th>\n",
       "    </tr>\n",
       "  </thead>\n",
       "  <tbody>\n",
       "    <tr>\n",
       "      <th>0</th>\n",
       "      <td>2010</td>\n",
       "      <td>88</td>\n",
       "      <td>11.549</td>\n",
       "      <td>2,374,340.000</td>\n",
       "    </tr>\n",
       "    <tr>\n",
       "      <th>1</th>\n",
       "      <td>2011</td>\n",
       "      <td>98</td>\n",
       "      <td>20.545</td>\n",
       "      <td>13,944,390.000</td>\n",
       "    </tr>\n",
       "    <tr>\n",
       "      <th>2</th>\n",
       "      <td>2012</td>\n",
       "      <td>116</td>\n",
       "      <td>22.437</td>\n",
       "      <td>6,465,111.000</td>\n",
       "    </tr>\n",
       "    <tr>\n",
       "      <th>3</th>\n",
       "      <td>2013</td>\n",
       "      <td>176</td>\n",
       "      <td>29.831</td>\n",
       "      <td>29,768,531.200</td>\n",
       "    </tr>\n",
       "    <tr>\n",
       "      <th>4</th>\n",
       "      <td>2014</td>\n",
       "      <td>257</td>\n",
       "      <td>35.205</td>\n",
       "      <td>7,372,598,571.600</td>\n",
       "    </tr>\n",
       "    <tr>\n",
       "      <th>5</th>\n",
       "      <td>2015</td>\n",
       "      <td>431</td>\n",
       "      <td>65.204</td>\n",
       "      <td>32,084,649,858.370</td>\n",
       "    </tr>\n",
       "    <tr>\n",
       "      <th>6</th>\n",
       "      <td>2016</td>\n",
       "      <td>501</td>\n",
       "      <td>64.981</td>\n",
       "      <td>43,731,444,689.340</td>\n",
       "    </tr>\n",
       "    <tr>\n",
       "      <th>7</th>\n",
       "      <td>2017</td>\n",
       "      <td>357</td>\n",
       "      <td>71.400</td>\n",
       "      <td>48,563,707,217.510</td>\n",
       "    </tr>\n",
       "    <tr>\n",
       "      <th>8</th>\n",
       "      <td>2018</td>\n",
       "      <td>474</td>\n",
       "      <td>53.741</td>\n",
       "      <td>47,985,723,095.290</td>\n",
       "    </tr>\n",
       "    <tr>\n",
       "      <th>9</th>\n",
       "      <td>2019</td>\n",
       "      <td>529</td>\n",
       "      <td>57.941</td>\n",
       "      <td>48,423,450,395.590</td>\n",
       "    </tr>\n",
       "  </tbody>\n",
       "</table>\n",
       "</div>"
      ],
      "text/plain": [
       "   year  Count   Mean                Sum\n",
       "0  2010     88 11.549      2,374,340.000\n",
       "1  2011     98 20.545     13,944,390.000\n",
       "2  2012    116 22.437      6,465,111.000\n",
       "3  2013    176 29.831     29,768,531.200\n",
       "4  2014    257 35.205  7,372,598,571.600\n",
       "5  2015    431 65.204 32,084,649,858.370\n",
       "6  2016    501 64.981 43,731,444,689.340\n",
       "7  2017    357 71.400 48,563,707,217.510\n",
       "8  2018    474 53.741 47,985,723,095.290\n",
       "9  2019    529 57.941 48,423,450,395.590"
      ]
     },
     "metadata": {},
     "output_type": "display_data"
    }
   ],
   "source": [
    "box_per_year = box_per_year_count.merge(box_per_year_mean, how = 'left', on = 'year')\n",
    "box_per_year = box_per_year.merge(box_per_year_sum, how = 'left', on = 'year')\n",
    "box_per_year.rename(columns={'box_office' : 'Count', 0 : 'Ratio'}, inplace=True)\n",
    "display(box_per_year)"
   ]
  },
  {
   "cell_type": "markdown",
   "metadata": {
    "id": "G-7qS-N-gFyY"
   },
   "source": [
    "- С помощью сводной таблицы посчитайте среднюю и медианную сумму сборов для каждого года."
   ]
  },
  {
   "cell_type": "code",
   "execution_count": 207,
   "metadata": {
    "id": "jmp-rgg9gFyY"
   },
   "outputs": [
    {
     "data": {
      "text/html": [
       "<div>\n",
       "<style scoped>\n",
       "    .dataframe tbody tr th:only-of-type {\n",
       "        vertical-align: middle;\n",
       "    }\n",
       "\n",
       "    .dataframe tbody tr th {\n",
       "        vertical-align: top;\n",
       "    }\n",
       "\n",
       "    .dataframe thead th {\n",
       "        text-align: right;\n",
       "    }\n",
       "</style>\n",
       "<table border=\"1\" class=\"dataframe\">\n",
       "  <thead>\n",
       "    <tr style=\"text-align: right;\">\n",
       "      <th></th>\n",
       "      <th>mean</th>\n",
       "      <th>median</th>\n",
       "    </tr>\n",
       "    <tr>\n",
       "      <th>year</th>\n",
       "      <th></th>\n",
       "      <th></th>\n",
       "    </tr>\n",
       "  </thead>\n",
       "  <tbody>\n",
       "    <tr>\n",
       "      <th>2010</th>\n",
       "      <td>26,981.136</td>\n",
       "      <td>1,868.000</td>\n",
       "    </tr>\n",
       "    <tr>\n",
       "      <th>2011</th>\n",
       "      <td>142,289.694</td>\n",
       "      <td>3,042.500</td>\n",
       "    </tr>\n",
       "    <tr>\n",
       "      <th>2012</th>\n",
       "      <td>55,733.716</td>\n",
       "      <td>6,692.500</td>\n",
       "    </tr>\n",
       "    <tr>\n",
       "      <th>2013</th>\n",
       "      <td>169,139.382</td>\n",
       "      <td>3,565.000</td>\n",
       "    </tr>\n",
       "    <tr>\n",
       "      <th>2014</th>\n",
       "      <td>28,687,153.975</td>\n",
       "      <td>22,490.000</td>\n",
       "    </tr>\n",
       "    <tr>\n",
       "      <th>2015</th>\n",
       "      <td>74,442,343.059</td>\n",
       "      <td>4,327,265.700</td>\n",
       "    </tr>\n",
       "    <tr>\n",
       "      <th>2016</th>\n",
       "      <td>87,288,312.753</td>\n",
       "      <td>3,640,802.300</td>\n",
       "    </tr>\n",
       "    <tr>\n",
       "      <th>2017</th>\n",
       "      <td>136,032,793.326</td>\n",
       "      <td>9,968,340.000</td>\n",
       "    </tr>\n",
       "    <tr>\n",
       "      <th>2018</th>\n",
       "      <td>101,235,702.733</td>\n",
       "      <td>8,821,498.980</td>\n",
       "    </tr>\n",
       "    <tr>\n",
       "      <th>2019</th>\n",
       "      <td>91,537,713.413</td>\n",
       "      <td>4,654,563.090</td>\n",
       "    </tr>\n",
       "  </tbody>\n",
       "</table>\n",
       "</div>"
      ],
      "text/plain": [
       "                mean        median\n",
       "year                              \n",
       "2010      26,981.136     1,868.000\n",
       "2011     142,289.694     3,042.500\n",
       "2012      55,733.716     6,692.500\n",
       "2013     169,139.382     3,565.000\n",
       "2014  28,687,153.975    22,490.000\n",
       "2015  74,442,343.059 4,327,265.700\n",
       "2016  87,288,312.753 3,640,802.300\n",
       "2017 136,032,793.326 9,968,340.000\n",
       "2018 101,235,702.733 8,821,498.980\n",
       "2019  91,537,713.413 4,654,563.090"
      ]
     },
     "metadata": {},
     "output_type": "display_data"
    }
   ],
   "source": [
    "sv_tablet = data.groupby('year')['box_office'].agg(['mean', 'median'])\n",
    "display(sv_tablet)"
   ]
  },
  {
   "cell_type": "code",
   "execution_count": 208,
   "metadata": {},
   "outputs": [
    {
     "data": {
      "image/png": "[encoded data removed]",
      "text/plain": [
       "<Figure size 640x480 with 1 Axes>"
      ]
     },
     "metadata": {},
     "output_type": "display_data"
    }
   ],
   "source": [
    "sb.lineplot(data = sv_tablet)\n",
    "plt.title('Зависимость среднего и медианы от года')\n",
    "plt.show()"
   ]
  },
  {
   "cell_type": "markdown",
   "metadata": {},
   "source": [
    "Судя по графику, можно сделать вывод, что в данных присутствуют невероятно большие значения `box_office`. Так же при всём при этом можно с уверенность сказать, что самый прибыльный год это 2017 т.к в нём как медиана так и среднее значение самые большие в сравнении с остальными годами."
   ]
  },
  {
   "cell_type": "markdown",
   "metadata": {
    "id": "Ok89WFwJgFyZ"
   },
   "source": [
    "- Определите, влияет ли возрастное ограничение аудитории («6+», «12+», «16+», «18+» и т. д.) на сборы фильма в прокате в период с 2015 по 2019 год? Фильмы с каким возрастным ограничением собрали больше всего денег в прокате? Меняется ли картина в зависимости от года? Если да, предположите, с чем это может быть связано."
   ]
  },
  {
   "cell_type": "code",
   "execution_count": 209,
   "metadata": {
    "id": "jsSbEqfjgFya"
   },
   "outputs": [
    {
     "data": {
      "text/plain": [
       "age_restriction\n",
       "«0+» - для любой зрительской аудитории      703,345,315.380\n",
       "«12+» - для детей старше 12 лет          58,934,475,731.450\n",
       "«16+» - для детей старше 16 лет          68,950,728,612.280\n",
       "«18+» - запрещено для детей              36,707,905,393.410\n",
       "«6+» - для детей старше 6 лет            55,492,520,203.580\n",
       "Name: box_office, dtype: float64"
      ]
     },
     "execution_count": 209,
     "metadata": {},
     "output_type": "execute_result"
    }
   ],
   "source": [
    "data.query('2015 <= year').groupby('age_restriction')['box_office'].sum()"
   ]
  },
  {
   "cell_type": "markdown",
   "metadata": {},
   "source": [
    "Больше всего сборов у фильмов с фозрастным ограничением 16+"
   ]
  },
  {
   "cell_type": "code",
   "execution_count": 210,
   "metadata": {},
   "outputs": [
    {
     "data": {
      "text/html": [
       "<div>\n",
       "<style scoped>\n",
       "    .dataframe tbody tr th:only-of-type {\n",
       "        vertical-align: middle;\n",
       "    }\n",
       "\n",
       "    .dataframe tbody tr th {\n",
       "        vertical-align: top;\n",
       "    }\n",
       "\n",
       "    .dataframe thead th {\n",
       "        text-align: right;\n",
       "    }\n",
       "</style>\n",
       "<table border=\"1\" class=\"dataframe\">\n",
       "  <thead>\n",
       "    <tr style=\"text-align: right;\">\n",
       "      <th></th>\n",
       "      <th>year</th>\n",
       "      <th>age_restriction</th>\n",
       "      <th>box_office</th>\n",
       "    </tr>\n",
       "  </thead>\n",
       "  <tbody>\n",
       "    <tr>\n",
       "      <th>0</th>\n",
       "      <td>2015</td>\n",
       "      <td>«0+» - для любой зрительской аудитории</td>\n",
       "      <td>273,367,767.780</td>\n",
       "    </tr>\n",
       "    <tr>\n",
       "      <th>1</th>\n",
       "      <td>2015</td>\n",
       "      <td>«12+» - для детей старше 12 лет</td>\n",
       "      <td>11,957,220,583.410</td>\n",
       "    </tr>\n",
       "    <tr>\n",
       "      <th>2</th>\n",
       "      <td>2015</td>\n",
       "      <td>«16+» - для детей старше 16 лет</td>\n",
       "      <td>8,274,253,188.890</td>\n",
       "    </tr>\n",
       "    <tr>\n",
       "      <th>3</th>\n",
       "      <td>2015</td>\n",
       "      <td>«18+» - запрещено для детей</td>\n",
       "      <td>3,184,097,942.980</td>\n",
       "    </tr>\n",
       "    <tr>\n",
       "      <th>4</th>\n",
       "      <td>2015</td>\n",
       "      <td>«6+» - для детей старше 6 лет</td>\n",
       "      <td>8,395,710,375.310</td>\n",
       "    </tr>\n",
       "    <tr>\n",
       "      <th>5</th>\n",
       "      <td>2016</td>\n",
       "      <td>«0+» - для любой зрительской аудитории</td>\n",
       "      <td>150,183,548.670</td>\n",
       "    </tr>\n",
       "    <tr>\n",
       "      <th>6</th>\n",
       "      <td>2016</td>\n",
       "      <td>«12+» - для детей старше 12 лет</td>\n",
       "      <td>12,178,337,053.010</td>\n",
       "    </tr>\n",
       "    <tr>\n",
       "      <th>7</th>\n",
       "      <td>2016</td>\n",
       "      <td>«16+» - для детей старше 16 лет</td>\n",
       "      <td>14,359,349,614.800</td>\n",
       "    </tr>\n",
       "    <tr>\n",
       "      <th>8</th>\n",
       "      <td>2016</td>\n",
       "      <td>«18+» - запрещено для детей</td>\n",
       "      <td>4,990,430,064.620</td>\n",
       "    </tr>\n",
       "    <tr>\n",
       "      <th>9</th>\n",
       "      <td>2016</td>\n",
       "      <td>«6+» - для детей старше 6 лет</td>\n",
       "      <td>12,053,144,408.240</td>\n",
       "    </tr>\n",
       "    <tr>\n",
       "      <th>10</th>\n",
       "      <td>2017</td>\n",
       "      <td>«0+» - для любой зрительской аудитории</td>\n",
       "      <td>229,598,930.000</td>\n",
       "    </tr>\n",
       "    <tr>\n",
       "      <th>11</th>\n",
       "      <td>2017</td>\n",
       "      <td>«12+» - для детей старше 12 лет</td>\n",
       "      <td>7,851,427,660.670</td>\n",
       "    </tr>\n",
       "    <tr>\n",
       "      <th>12</th>\n",
       "      <td>2017</td>\n",
       "      <td>«16+» - для детей старше 16 лет</td>\n",
       "      <td>18,745,042,900.060</td>\n",
       "    </tr>\n",
       "    <tr>\n",
       "      <th>13</th>\n",
       "      <td>2017</td>\n",
       "      <td>«18+» - запрещено для детей</td>\n",
       "      <td>9,651,495,581.020</td>\n",
       "    </tr>\n",
       "    <tr>\n",
       "      <th>14</th>\n",
       "      <td>2017</td>\n",
       "      <td>«6+» - для детей старше 6 лет</td>\n",
       "      <td>12,086,142,145.760</td>\n",
       "    </tr>\n",
       "    <tr>\n",
       "      <th>15</th>\n",
       "      <td>2018</td>\n",
       "      <td>«0+» - для любой зрительской аудитории</td>\n",
       "      <td>32,449,002.110</td>\n",
       "    </tr>\n",
       "    <tr>\n",
       "      <th>16</th>\n",
       "      <td>2018</td>\n",
       "      <td>«12+» - для детей старше 12 лет</td>\n",
       "      <td>14,267,291,660.690</td>\n",
       "    </tr>\n",
       "    <tr>\n",
       "      <th>17</th>\n",
       "      <td>2018</td>\n",
       "      <td>«16+» - для детей старше 16 лет</td>\n",
       "      <td>14,820,922,307.930</td>\n",
       "    </tr>\n",
       "    <tr>\n",
       "      <th>18</th>\n",
       "      <td>2018</td>\n",
       "      <td>«18+» - запрещено для детей</td>\n",
       "      <td>8,760,085,501.150</td>\n",
       "    </tr>\n",
       "    <tr>\n",
       "      <th>19</th>\n",
       "      <td>2018</td>\n",
       "      <td>«6+» - для детей старше 6 лет</td>\n",
       "      <td>10,104,974,623.410</td>\n",
       "    </tr>\n",
       "    <tr>\n",
       "      <th>20</th>\n",
       "      <td>2019</td>\n",
       "      <td>«0+» - для любой зрительской аудитории</td>\n",
       "      <td>17,746,066.820</td>\n",
       "    </tr>\n",
       "    <tr>\n",
       "      <th>21</th>\n",
       "      <td>2019</td>\n",
       "      <td>«12+» - для детей старше 12 лет</td>\n",
       "      <td>12,680,198,773.670</td>\n",
       "    </tr>\n",
       "    <tr>\n",
       "      <th>22</th>\n",
       "      <td>2019</td>\n",
       "      <td>«16+» - для детей старше 16 лет</td>\n",
       "      <td>12,751,160,600.600</td>\n",
       "    </tr>\n",
       "    <tr>\n",
       "      <th>23</th>\n",
       "      <td>2019</td>\n",
       "      <td>«18+» - запрещено для детей</td>\n",
       "      <td>10,121,796,303.640</td>\n",
       "    </tr>\n",
       "    <tr>\n",
       "      <th>24</th>\n",
       "      <td>2019</td>\n",
       "      <td>«6+» - для детей старше 6 лет</td>\n",
       "      <td>12,852,548,650.860</td>\n",
       "    </tr>\n",
       "  </tbody>\n",
       "</table>\n",
       "</div>"
      ],
      "text/plain": [
       "    year                         age_restriction         box_office\n",
       "0   2015  «0+» - для любой зрительской аудитории    273,367,767.780\n",
       "1   2015         «12+» - для детей старше 12 лет 11,957,220,583.410\n",
       "2   2015         «16+» - для детей старше 16 лет  8,274,253,188.890\n",
       "3   2015             «18+» - запрещено для детей  3,184,097,942.980\n",
       "4   2015           «6+» - для детей старше 6 лет  8,395,710,375.310\n",
       "5   2016  «0+» - для любой зрительской аудитории    150,183,548.670\n",
       "6   2016         «12+» - для детей старше 12 лет 12,178,337,053.010\n",
       "7   2016         «16+» - для детей старше 16 лет 14,359,349,614.800\n",
       "8   2016             «18+» - запрещено для детей  4,990,430,064.620\n",
       "9   2016           «6+» - для детей старше 6 лет 12,053,144,408.240\n",
       "10  2017  «0+» - для любой зрительской аудитории    229,598,930.000\n",
       "11  2017         «12+» - для детей старше 12 лет  7,851,427,660.670\n",
       "12  2017         «16+» - для детей старше 16 лет 18,745,042,900.060\n",
       "13  2017             «18+» - запрещено для детей  9,651,495,581.020\n",
       "14  2017           «6+» - для детей старше 6 лет 12,086,142,145.760\n",
       "15  2018  «0+» - для любой зрительской аудитории     32,449,002.110\n",
       "16  2018         «12+» - для детей старше 12 лет 14,267,291,660.690\n",
       "17  2018         «16+» - для детей старше 16 лет 14,820,922,307.930\n",
       "18  2018             «18+» - запрещено для детей  8,760,085,501.150\n",
       "19  2018           «6+» - для детей старше 6 лет 10,104,974,623.410\n",
       "20  2019  «0+» - для любой зрительской аудитории     17,746,066.820\n",
       "21  2019         «12+» - для детей старше 12 лет 12,680,198,773.670\n",
       "22  2019         «16+» - для детей старше 16 лет 12,751,160,600.600\n",
       "23  2019             «18+» - запрещено для детей 10,121,796,303.640\n",
       "24  2019           «6+» - для детей старше 6 лет 12,852,548,650.860"
      ]
     },
     "metadata": {},
     "output_type": "display_data"
    }
   ],
   "source": [
    "age_tablet = data.query('2015 <= year').groupby(['year', 'age_restriction'])['box_office'].agg('sum').reset_index()\n",
    "display(age_tablet)"
   ]
  },
  {
   "cell_type": "code",
   "execution_count": 211,
   "metadata": {},
   "outputs": [
    {
     "data": {
      "image/png": "[encoded data removed]",
      "text/plain": [
       "<Figure size 860.375x500 with 1 Axes>"
      ]
     },
     "metadata": {},
     "output_type": "display_data"
    }
   ],
   "source": [
    "sb.catplot(x='year', y='box_office', hue='age_restriction', data=age_tablet, kind='bar')\n",
    "plt.show()"
   ]
  },
  {
   "cell_type": "markdown",
   "metadata": {
    "id": "l_Kg6Ku4gFya"
   },
   "source": [
    "### Шаг 4. Исследуйте фильмы, которые получили государственную поддержку\n",
    "\n",
    "На этом этапе нет конкретных инструкций и заданий — поищите интересные закономерности в данных. Посмотрите, сколько выделяют средств на поддержку кино. Проверьте, хорошо ли окупаются такие фильмы, какой у них рейтинг."
   ]
  },
  {
   "cell_type": "code",
   "execution_count": 219,
   "metadata": {
    "id": "W9QKpjUdgFyb"
   },
   "outputs": [],
   "source": [
    "data_film = data[data['corrected_budget'].isna() == False].copy()"
   ]
  },
  {
   "cell_type": "code",
   "execution_count": 220,
   "metadata": {},
   "outputs": [
    {
     "data": {
      "text/html": [
       "<div>\n",
       "<style scoped>\n",
       "    .dataframe tbody tr th:only-of-type {\n",
       "        vertical-align: middle;\n",
       "    }\n",
       "\n",
       "    .dataframe tbody tr th {\n",
       "        vertical-align: top;\n",
       "    }\n",
       "\n",
       "    .dataframe thead th {\n",
       "        text-align: right;\n",
       "    }\n",
       "</style>\n",
       "<table border=\"1\" class=\"dataframe\">\n",
       "  <thead>\n",
       "    <tr style=\"text-align: right;\">\n",
       "      <th></th>\n",
       "      <th>puNumber</th>\n",
       "      <th>refundable_support</th>\n",
       "      <th>nonrefundable_support</th>\n",
       "      <th>budget</th>\n",
       "      <th>ratings</th>\n",
       "      <th>box_office</th>\n",
       "      <th>corrected_budget</th>\n",
       "      <th>year</th>\n",
       "      <th>ratio_budget</th>\n",
       "      <th>support</th>\n",
       "      <th>payback</th>\n",
       "    </tr>\n",
       "  </thead>\n",
       "  <tbody>\n",
       "    <tr>\n",
       "      <th>count</th>\n",
       "      <td>331.000</td>\n",
       "      <td>331.000</td>\n",
       "      <td>331.000</td>\n",
       "      <td>331.000</td>\n",
       "      <td>313.000</td>\n",
       "      <td>317.000</td>\n",
       "      <td>331.000</td>\n",
       "      <td>331.000</td>\n",
       "      <td>331.000</td>\n",
       "      <td>331.000</td>\n",
       "      <td>317.000</td>\n",
       "    </tr>\n",
       "    <tr>\n",
       "      <th>mean</th>\n",
       "      <td>111,595,590.698</td>\n",
       "      <td>11,900,302.115</td>\n",
       "      <td>49,038,333.269</td>\n",
       "      <td>127,469,081.387</td>\n",
       "      <td>6.003</td>\n",
       "      <td>132,843,063.693</td>\n",
       "      <td>131,674,427.202</td>\n",
       "      <td>2,016.713</td>\n",
       "      <td>0.542</td>\n",
       "      <td>60,938,635.384</td>\n",
       "      <td>571,336.176</td>\n",
       "    </tr>\n",
       "    <tr>\n",
       "      <th>std</th>\n",
       "      <td>5,711,574.248</td>\n",
       "      <td>24,945,704.904</td>\n",
       "      <td>60,061,812.815</td>\n",
       "      <td>188,823,340.914</td>\n",
       "      <td>1.125</td>\n",
       "      <td>335,287,034.808</td>\n",
       "      <td>187,375,150.397</td>\n",
       "      <td>1.638</td>\n",
       "      <td>0.197</td>\n",
       "      <td>72,845,765.086</td>\n",
       "      <td>316,399,203.266</td>\n",
       "    </tr>\n",
       "    <tr>\n",
       "      <th>min</th>\n",
       "      <td>111,000,115.000</td>\n",
       "      <td>0.000</td>\n",
       "      <td>0.000</td>\n",
       "      <td>0.000</td>\n",
       "      <td>1.000</td>\n",
       "      <td>1,550.000</td>\n",
       "      <td>6,000,000.000</td>\n",
       "      <td>2,013.000</td>\n",
       "      <td>0.044</td>\n",
       "      <td>3,000,000.000</td>\n",
       "      <td>-1,971,477,243.410</td>\n",
       "    </tr>\n",
       "    <tr>\n",
       "      <th>25%</th>\n",
       "      <td>111,004,867.000</td>\n",
       "      <td>0.000</td>\n",
       "      <td>25,000,000.000</td>\n",
       "      <td>42,000,000.000</td>\n",
       "      <td>5.300</td>\n",
       "      <td>1,231,902.000</td>\n",
       "      <td>45,510,944.000</td>\n",
       "      <td>2,015.000</td>\n",
       "      <td>0.385</td>\n",
       "      <td>25,322,500.000</td>\n",
       "      <td>-70,903,859.000</td>\n",
       "    </tr>\n",
       "    <tr>\n",
       "      <th>50%</th>\n",
       "      <td>111,010,415.000</td>\n",
       "      <td>0.000</td>\n",
       "      <td>30,000,000.000</td>\n",
       "      <td>68,809,226.000</td>\n",
       "      <td>6.200</td>\n",
       "      <td>16,077,204.000</td>\n",
       "      <td>71,517,631.000</td>\n",
       "      <td>2,017.000</td>\n",
       "      <td>0.613</td>\n",
       "      <td>35,000,000.000</td>\n",
       "      <td>-40,518,222.500</td>\n",
       "    </tr>\n",
       "    <tr>\n",
       "      <th>75%</th>\n",
       "      <td>111,017,816.500</td>\n",
       "      <td>15,000,000.000</td>\n",
       "      <td>40,750,000.000</td>\n",
       "      <td>143,945,639.000</td>\n",
       "      <td>6.700</td>\n",
       "      <td>106,514,301.030</td>\n",
       "      <td>150,000,000.000</td>\n",
       "      <td>2,018.000</td>\n",
       "      <td>0.662</td>\n",
       "      <td>60,000,000.000</td>\n",
       "      <td>-2,312,697.880</td>\n",
       "    </tr>\n",
       "    <tr>\n",
       "      <th>max</th>\n",
       "      <td>214,010,116.000</td>\n",
       "      <td>180,000,000.000</td>\n",
       "      <td>400,000,000.000</td>\n",
       "      <td>2,305,074,303.000</td>\n",
       "      <td>8.500</td>\n",
       "      <td>3,073,568,690.790</td>\n",
       "      <td>2,305,074,303.000</td>\n",
       "      <td>2,019.000</td>\n",
       "      <td>1.000</td>\n",
       "      <td>500,000,000.000</td>\n",
       "      <td>2,913,568,690.790</td>\n",
       "    </tr>\n",
       "  </tbody>\n",
       "</table>\n",
       "</div>"
      ],
      "text/plain": [
       "             puNumber  refundable_support  nonrefundable_support  \\\n",
       "count         331.000             331.000                331.000   \n",
       "mean  111,595,590.698      11,900,302.115         49,038,333.269   \n",
       "std     5,711,574.248      24,945,704.904         60,061,812.815   \n",
       "min   111,000,115.000               0.000                  0.000   \n",
       "25%   111,004,867.000               0.000         25,000,000.000   \n",
       "50%   111,010,415.000               0.000         30,000,000.000   \n",
       "75%   111,017,816.500      15,000,000.000         40,750,000.000   \n",
       "max   214,010,116.000     180,000,000.000        400,000,000.000   \n",
       "\n",
       "                 budget  ratings        box_office  corrected_budget  \\\n",
       "count           331.000  313.000           317.000           331.000   \n",
       "mean    127,469,081.387    6.003   132,843,063.693   131,674,427.202   \n",
       "std     188,823,340.914    1.125   335,287,034.808   187,375,150.397   \n",
       "min               0.000    1.000         1,550.000     6,000,000.000   \n",
       "25%      42,000,000.000    5.300     1,231,902.000    45,510,944.000   \n",
       "50%      68,809,226.000    6.200    16,077,204.000    71,517,631.000   \n",
       "75%     143,945,639.000    6.700   106,514,301.030   150,000,000.000   \n",
       "max   2,305,074,303.000    8.500 3,073,568,690.790 2,305,074,303.000   \n",
       "\n",
       "           year  ratio_budget         support            payback  \n",
       "count   331.000       331.000         331.000            317.000  \n",
       "mean  2,016.713         0.542  60,938,635.384        571,336.176  \n",
       "std       1.638         0.197  72,845,765.086    316,399,203.266  \n",
       "min   2,013.000         0.044   3,000,000.000 -1,971,477,243.410  \n",
       "25%   2,015.000         0.385  25,322,500.000    -70,903,859.000  \n",
       "50%   2,017.000         0.613  35,000,000.000    -40,518,222.500  \n",
       "75%   2,018.000         0.662  60,000,000.000     -2,312,697.880  \n",
       "max   2,019.000         1.000 500,000,000.000  2,913,568,690.790  "
      ]
     },
     "execution_count": 220,
     "metadata": {},
     "output_type": "execute_result"
    }
   ],
   "source": [
    "data_film['support'] = data_film['refundable_support'] + data_film['nonrefundable_support']\n",
    "data_film['payback'] = data_film['box_office'] - data_film['corrected_budget']\n",
    "data_film.describe()"
   ]
  },
  {
   "cell_type": "markdown",
   "metadata": {},
   "source": [
    "Более `75%` фильмов не окупаются. Средняя выручка за фильм составляет: `571 336` рублей."
   ]
  },
  {
   "cell_type": "code",
   "execution_count": 226,
   "metadata": {},
   "outputs": [
    {
     "data": {
      "text/plain": [
       "year\n",
       "2013     2\n",
       "2014    16\n",
       "2015    86\n",
       "2016    61\n",
       "2017    41\n",
       "2018    56\n",
       "2019    69\n",
       "Name: support, dtype: int64"
      ]
     },
     "metadata": {},
     "output_type": "display_data"
    },
    {
     "data": {
      "text/plain": [
       "year\n",
       "2013     134,347,945.000\n",
       "2014     572,002,299.000\n",
       "2015   3,656,241,459.000\n",
       "2016   4,303,155,482.000\n",
       "2017   3,183,971,662.000\n",
       "2018   3,446,969,465.000\n",
       "2019   4,874,000,000.000\n",
       "Name: support, dtype: float64"
      ]
     },
     "metadata": {},
     "output_type": "display_data"
    }
   ],
   "source": [
    "display(data_film.groupby('year')['support'].count())\n",
    "display(data_film.groupby('year')['support'].sum())"
   ]
  },
  {
   "cell_type": "code",
   "execution_count": 238,
   "metadata": {},
   "outputs": [
    {
     "data": {
      "image/png": "[encoded data removed]",
      "text/plain": [
       "<Figure size 640x480 with 1 Axes>"
      ]
     },
     "metadata": {},
     "output_type": "display_data"
    }
   ],
   "source": [
    "data_film.groupby('year')['support'].agg(['sum', 'max']).plot(grid = True)\n",
    "plt.ylabel('value')\n",
    "plt.show()"
   ]
  },
  {
   "cell_type": "code",
   "execution_count": 239,
   "metadata": {},
   "outputs": [
    {
     "data": {
      "image/png": "[encoded data removed]",
      "text/plain": [
       "<Figure size 640x480 with 1 Axes>"
      ]
     },
     "metadata": {},
     "output_type": "display_data"
    }
   ],
   "source": [
    "data_film.groupby('year')['support'].agg(['mean', 'median']).plot(grid = True)\n",
    "plt.ylabel('value')\n",
    "plt.show()"
   ]
  },
  {
   "cell_type": "code",
   "execution_count": 236,
   "metadata": {},
   "outputs": [
    {
     "data": {
      "image/png": "[encoded data removed]",
      "text/plain": [
       "<Figure size 640x480 with 1 Axes>"
      ]
     },
     "metadata": {},
     "output_type": "display_data"
    }
   ],
   "source": [
    "data_4.groupby('year')['ratings'].agg(['max', 'min', 'mean', 'median']).plot(grid = True, ylim = 0)\n",
    "plt.ylabel('value')\n",
    "plt.show()"
   ]
  },
  {
   "cell_type": "code",
   "execution_count": 243,
   "metadata": {},
   "outputs": [
    {
     "data": {
      "text/html": [
       "<div>\n",
       "<style scoped>\n",
       "    .dataframe tbody tr th:only-of-type {\n",
       "        vertical-align: middle;\n",
       "    }\n",
       "\n",
       "    .dataframe tbody tr th {\n",
       "        vertical-align: top;\n",
       "    }\n",
       "\n",
       "    .dataframe thead th {\n",
       "        text-align: right;\n",
       "    }\n",
       "</style>\n",
       "<table border=\"1\" class=\"dataframe\">\n",
       "  <thead>\n",
       "    <tr style=\"text-align: right;\">\n",
       "      <th></th>\n",
       "      <th>count</th>\n",
       "      <th>sum</th>\n",
       "      <th>mean</th>\n",
       "      <th>median</th>\n",
       "    </tr>\n",
       "    <tr>\n",
       "      <th>genre_first</th>\n",
       "      <th></th>\n",
       "      <th></th>\n",
       "      <th></th>\n",
       "      <th></th>\n",
       "    </tr>\n",
       "  </thead>\n",
       "  <tbody>\n",
       "    <tr>\n",
       "      <th>драма</th>\n",
       "      <td>93</td>\n",
       "      <td>5,314,406,632.000</td>\n",
       "      <td>57,144,157.333</td>\n",
       "      <td>30,000,000.000</td>\n",
       "    </tr>\n",
       "    <tr>\n",
       "      <th>комедия</th>\n",
       "      <td>74</td>\n",
       "      <td>3,218,282,945.000</td>\n",
       "      <td>43,490,310.068</td>\n",
       "      <td>35,000,000.000</td>\n",
       "    </tr>\n",
       "    <tr>\n",
       "      <th>мультфильм</th>\n",
       "      <td>31</td>\n",
       "      <td>2,461,520,000.000</td>\n",
       "      <td>79,403,870.968</td>\n",
       "      <td>70,000,000.000</td>\n",
       "    </tr>\n",
       "    <tr>\n",
       "      <th>фантастика</th>\n",
       "      <td>11</td>\n",
       "      <td>1,406,000,000.000</td>\n",
       "      <td>127,818,181.818</td>\n",
       "      <td>30,000,000.000</td>\n",
       "    </tr>\n",
       "    <tr>\n",
       "      <th>история</th>\n",
       "      <td>4</td>\n",
       "      <td>1,020,000,000.000</td>\n",
       "      <td>255,000,000.000</td>\n",
       "      <td>240,000,000.000</td>\n",
       "    </tr>\n",
       "    <tr>\n",
       "      <th>фэнтези</th>\n",
       "      <td>10</td>\n",
       "      <td>1,002,900,000.000</td>\n",
       "      <td>100,290,000.000</td>\n",
       "      <td>62,000,000.000</td>\n",
       "    </tr>\n",
       "    <tr>\n",
       "      <th>триллер</th>\n",
       "      <td>15</td>\n",
       "      <td>769,645,285.000</td>\n",
       "      <td>51,309,685.667</td>\n",
       "      <td>40,000,000.000</td>\n",
       "    </tr>\n",
       "    <tr>\n",
       "      <th>приключения</th>\n",
       "      <td>7</td>\n",
       "      <td>696,000,000.000</td>\n",
       "      <td>99,428,571.429</td>\n",
       "      <td>40,000,000.000</td>\n",
       "    </tr>\n",
       "    <tr>\n",
       "      <th>unknown</th>\n",
       "      <td>16</td>\n",
       "      <td>688,969,465.000</td>\n",
       "      <td>43,060,591.562</td>\n",
       "      <td>30,000,000.000</td>\n",
       "    </tr>\n",
       "    <tr>\n",
       "      <th>детектив</th>\n",
       "      <td>5</td>\n",
       "      <td>485,000,000.000</td>\n",
       "      <td>97,000,000.000</td>\n",
       "      <td>55,000,000.000</td>\n",
       "    </tr>\n",
       "    <tr>\n",
       "      <th>спорт</th>\n",
       "      <td>3</td>\n",
       "      <td>455,000,000.000</td>\n",
       "      <td>151,666,666.667</td>\n",
       "      <td>40,000,000.000</td>\n",
       "    </tr>\n",
       "    <tr>\n",
       "      <th>военный</th>\n",
       "      <td>9</td>\n",
       "      <td>422,000,866.000</td>\n",
       "      <td>46,888,985.111</td>\n",
       "      <td>45,000,000.000</td>\n",
       "    </tr>\n",
       "    <tr>\n",
       "      <th>мелодрама</th>\n",
       "      <td>15</td>\n",
       "      <td>398,000,000.000</td>\n",
       "      <td>26,533,333.333</td>\n",
       "      <td>27,500,000.000</td>\n",
       "    </tr>\n",
       "    <tr>\n",
       "      <th>ужасы</th>\n",
       "      <td>10</td>\n",
       "      <td>355,000,000.000</td>\n",
       "      <td>35,500,000.000</td>\n",
       "      <td>30,000,000.000</td>\n",
       "    </tr>\n",
       "    <tr>\n",
       "      <th>семейный</th>\n",
       "      <td>7</td>\n",
       "      <td>339,000,000.000</td>\n",
       "      <td>48,428,571.429</td>\n",
       "      <td>35,000,000.000</td>\n",
       "    </tr>\n",
       "    <tr>\n",
       "      <th>боевик</th>\n",
       "      <td>6</td>\n",
       "      <td>334,000,000.000</td>\n",
       "      <td>55,666,666.667</td>\n",
       "      <td>42,500,000.000</td>\n",
       "    </tr>\n",
       "    <tr>\n",
       "      <th>криминал</th>\n",
       "      <td>3</td>\n",
       "      <td>280,000,000.000</td>\n",
       "      <td>93,333,333.333</td>\n",
       "      <td>40,000,000.000</td>\n",
       "    </tr>\n",
       "    <tr>\n",
       "      <th>мюзикл</th>\n",
       "      <td>4</td>\n",
       "      <td>240,453,119.000</td>\n",
       "      <td>60,113,279.750</td>\n",
       "      <td>37,576,559.500</td>\n",
       "    </tr>\n",
       "    <tr>\n",
       "      <th>детский</th>\n",
       "      <td>4</td>\n",
       "      <td>119,000,000.000</td>\n",
       "      <td>29,750,000.000</td>\n",
       "      <td>29,500,000.000</td>\n",
       "    </tr>\n",
       "    <tr>\n",
       "      <th>биография</th>\n",
       "      <td>3</td>\n",
       "      <td>112,510,000.000</td>\n",
       "      <td>37,503,333.333</td>\n",
       "      <td>27,510,000.000</td>\n",
       "    </tr>\n",
       "    <tr>\n",
       "      <th>реальное ТВ</th>\n",
       "      <td>1</td>\n",
       "      <td>53,000,000.000</td>\n",
       "      <td>53,000,000.000</td>\n",
       "      <td>53,000,000.000</td>\n",
       "    </tr>\n",
       "  </tbody>\n",
       "</table>\n",
       "</div>"
      ],
      "text/plain": [
       "             count               sum            mean          median\n",
       "genre_first                                                         \n",
       "драма           93 5,314,406,632.000  57,144,157.333  30,000,000.000\n",
       "комедия         74 3,218,282,945.000  43,490,310.068  35,000,000.000\n",
       "мультфильм      31 2,461,520,000.000  79,403,870.968  70,000,000.000\n",
       "фантастика      11 1,406,000,000.000 127,818,181.818  30,000,000.000\n",
       "история          4 1,020,000,000.000 255,000,000.000 240,000,000.000\n",
       "фэнтези         10 1,002,900,000.000 100,290,000.000  62,000,000.000\n",
       "триллер         15   769,645,285.000  51,309,685.667  40,000,000.000\n",
       "приключения      7   696,000,000.000  99,428,571.429  40,000,000.000\n",
       "unknown         16   688,969,465.000  43,060,591.562  30,000,000.000\n",
       "детектив         5   485,000,000.000  97,000,000.000  55,000,000.000\n",
       "спорт            3   455,000,000.000 151,666,666.667  40,000,000.000\n",
       "военный          9   422,000,866.000  46,888,985.111  45,000,000.000\n",
       "мелодрама       15   398,000,000.000  26,533,333.333  27,500,000.000\n",
       "ужасы           10   355,000,000.000  35,500,000.000  30,000,000.000\n",
       "семейный         7   339,000,000.000  48,428,571.429  35,000,000.000\n",
       "боевик           6   334,000,000.000  55,666,666.667  42,500,000.000\n",
       "криминал         3   280,000,000.000  93,333,333.333  40,000,000.000\n",
       "мюзикл           4   240,453,119.000  60,113,279.750  37,576,559.500\n",
       "детский          4   119,000,000.000  29,750,000.000  29,500,000.000\n",
       "биография        3   112,510,000.000  37,503,333.333  27,510,000.000\n",
       "реальное ТВ      1    53,000,000.000  53,000,000.000  53,000,000.000"
      ]
     },
     "metadata": {},
     "output_type": "display_data"
    },
    {
     "data": {
      "text/html": [
       "<div>\n",
       "<style scoped>\n",
       "    .dataframe tbody tr th:only-of-type {\n",
       "        vertical-align: middle;\n",
       "    }\n",
       "\n",
       "    .dataframe tbody tr th {\n",
       "        vertical-align: top;\n",
       "    }\n",
       "\n",
       "    .dataframe thead th {\n",
       "        text-align: right;\n",
       "    }\n",
       "</style>\n",
       "<table border=\"1\" class=\"dataframe\">\n",
       "  <thead>\n",
       "    <tr style=\"text-align: right;\">\n",
       "      <th></th>\n",
       "      <th>count</th>\n",
       "      <th>mean</th>\n",
       "      <th>median</th>\n",
       "    </tr>\n",
       "    <tr>\n",
       "      <th>genre_first</th>\n",
       "      <th></th>\n",
       "      <th></th>\n",
       "      <th></th>\n",
       "    </tr>\n",
       "  </thead>\n",
       "  <tbody>\n",
       "    <tr>\n",
       "      <th>криминал</th>\n",
       "      <td>3</td>\n",
       "      <td>7.500</td>\n",
       "      <td>7.800</td>\n",
       "    </tr>\n",
       "    <tr>\n",
       "      <th>детский</th>\n",
       "      <td>4</td>\n",
       "      <td>7.125</td>\n",
       "      <td>7.250</td>\n",
       "    </tr>\n",
       "    <tr>\n",
       "      <th>спорт</th>\n",
       "      <td>3</td>\n",
       "      <td>6.933</td>\n",
       "      <td>7.000</td>\n",
       "    </tr>\n",
       "    <tr>\n",
       "      <th>биография</th>\n",
       "      <td>3</td>\n",
       "      <td>6.900</td>\n",
       "      <td>6.900</td>\n",
       "    </tr>\n",
       "    <tr>\n",
       "      <th>детектив</th>\n",
       "      <td>5</td>\n",
       "      <td>6.760</td>\n",
       "      <td>6.800</td>\n",
       "    </tr>\n",
       "    <tr>\n",
       "      <th>боевик</th>\n",
       "      <td>6</td>\n",
       "      <td>6.583</td>\n",
       "      <td>6.450</td>\n",
       "    </tr>\n",
       "    <tr>\n",
       "      <th>мюзикл</th>\n",
       "      <td>4</td>\n",
       "      <td>6.550</td>\n",
       "      <td>6.600</td>\n",
       "    </tr>\n",
       "    <tr>\n",
       "      <th>военный</th>\n",
       "      <td>9</td>\n",
       "      <td>6.467</td>\n",
       "      <td>6.400</td>\n",
       "    </tr>\n",
       "    <tr>\n",
       "      <th>драма</th>\n",
       "      <td>92</td>\n",
       "      <td>6.391</td>\n",
       "      <td>6.400</td>\n",
       "    </tr>\n",
       "    <tr>\n",
       "      <th>фэнтези</th>\n",
       "      <td>10</td>\n",
       "      <td>6.170</td>\n",
       "      <td>6.950</td>\n",
       "    </tr>\n",
       "    <tr>\n",
       "      <th>мелодрама</th>\n",
       "      <td>15</td>\n",
       "      <td>5.953</td>\n",
       "      <td>6.200</td>\n",
       "    </tr>\n",
       "    <tr>\n",
       "      <th>приключения</th>\n",
       "      <td>7</td>\n",
       "      <td>5.871</td>\n",
       "      <td>5.700</td>\n",
       "    </tr>\n",
       "    <tr>\n",
       "      <th>фантастика</th>\n",
       "      <td>10</td>\n",
       "      <td>5.820</td>\n",
       "      <td>5.950</td>\n",
       "    </tr>\n",
       "    <tr>\n",
       "      <th>мультфильм</th>\n",
       "      <td>31</td>\n",
       "      <td>5.800</td>\n",
       "      <td>6.200</td>\n",
       "    </tr>\n",
       "    <tr>\n",
       "      <th>триллер</th>\n",
       "      <td>15</td>\n",
       "      <td>5.707</td>\n",
       "      <td>5.600</td>\n",
       "    </tr>\n",
       "    <tr>\n",
       "      <th>реальное ТВ</th>\n",
       "      <td>1</td>\n",
       "      <td>5.600</td>\n",
       "      <td>5.600</td>\n",
       "    </tr>\n",
       "    <tr>\n",
       "      <th>комедия</th>\n",
       "      <td>74</td>\n",
       "      <td>5.515</td>\n",
       "      <td>5.750</td>\n",
       "    </tr>\n",
       "    <tr>\n",
       "      <th>семейный</th>\n",
       "      <td>7</td>\n",
       "      <td>5.414</td>\n",
       "      <td>4.800</td>\n",
       "    </tr>\n",
       "    <tr>\n",
       "      <th>история</th>\n",
       "      <td>4</td>\n",
       "      <td>5.350</td>\n",
       "      <td>5.900</td>\n",
       "    </tr>\n",
       "    <tr>\n",
       "      <th>ужасы</th>\n",
       "      <td>10</td>\n",
       "      <td>5.200</td>\n",
       "      <td>5.100</td>\n",
       "    </tr>\n",
       "    <tr>\n",
       "      <th>unknown</th>\n",
       "      <td>0</td>\n",
       "      <td>NaN</td>\n",
       "      <td>NaN</td>\n",
       "    </tr>\n",
       "  </tbody>\n",
       "</table>\n",
       "</div>"
      ],
      "text/plain": [
       "             count  mean  median\n",
       "genre_first                     \n",
       "криминал         3 7.500   7.800\n",
       "детский          4 7.125   7.250\n",
       "спорт            3 6.933   7.000\n",
       "биография        3 6.900   6.900\n",
       "детектив         5 6.760   6.800\n",
       "боевик           6 6.583   6.450\n",
       "мюзикл           4 6.550   6.600\n",
       "военный          9 6.467   6.400\n",
       "драма           92 6.391   6.400\n",
       "фэнтези         10 6.170   6.950\n",
       "мелодрама       15 5.953   6.200\n",
       "приключения      7 5.871   5.700\n",
       "фантастика      10 5.820   5.950\n",
       "мультфильм      31 5.800   6.200\n",
       "триллер         15 5.707   5.600\n",
       "реальное ТВ      1 5.600   5.600\n",
       "комедия         74 5.515   5.750\n",
       "семейный         7 5.414   4.800\n",
       "история          4 5.350   5.900\n",
       "ужасы           10 5.200   5.100\n",
       "unknown          0   NaN     NaN"
      ]
     },
     "metadata": {},
     "output_type": "display_data"
    }
   ],
   "source": [
    "genres_support = data_film.groupby('genre_first')['support'].agg(['count', 'sum', 'mean', 'median'])\n",
    "display(genres_support.sort_values(by = 'sum', ascending = False))\n",
    "genres_ratings = data_4.groupby('genre_first')['ratings'].agg(['count', 'mean', 'median'])\n",
    "display(genres_ratings.sort_values(by = 'mean', ascending = False))"
   ]
  }
 ],
 "metadata": {
  "ExecuteTimeLog": [
   {
    "duration": 537,
    "start_time": "2021-07-07T10:12:08.634Z"
   },
   {
    "duration": 206,
    "start_time": "2021-07-07T10:12:30.191Z"
   },
   {
    "duration": 227,
    "start_time": "2021-07-07T10:12:33.078Z"
   },
   {
    "duration": 153,
    "start_time": "2021-07-07T10:13:42.146Z"
   },
   {
    "duration": 233,
    "start_time": "2021-07-07T10:30:09.252Z"
   },
   {
    "duration": 19,
    "start_time": "2021-07-07T10:30:15.577Z"
   },
   {
    "duration": 18,
    "start_time": "2021-07-07T10:30:57.348Z"
   },
   {
    "duration": 19,
    "start_time": "2021-07-07T10:31:17.452Z"
   },
   {
    "duration": 21,
    "start_time": "2021-07-07T10:31:32.227Z"
   },
   {
    "duration": 27,
    "start_time": "2021-07-07T10:32:06.588Z"
   },
   {
    "duration": 23,
    "start_time": "2021-07-07T10:32:43.645Z"
   },
   {
    "duration": 24,
    "start_time": "2021-07-07T10:33:06.948Z"
   },
   {
    "duration": 7,
    "start_time": "2021-07-07T10:33:28.558Z"
   },
   {
    "duration": 23,
    "start_time": "2021-07-07T10:33:43.761Z"
   },
   {
    "duration": 28,
    "start_time": "2021-07-07T10:34:13.466Z"
   },
   {
    "duration": 23,
    "start_time": "2021-07-07T10:35:56.187Z"
   },
   {
    "duration": 6,
    "start_time": "2021-07-07T10:36:48.182Z"
   },
   {
    "duration": 14,
    "start_time": "2021-07-07T10:37:49.641Z"
   },
   {
    "duration": 6,
    "start_time": "2021-07-07T10:38:06.694Z"
   },
   {
    "duration": 6,
    "start_time": "2021-07-07T10:38:13.493Z"
   },
   {
    "duration": 19,
    "start_time": "2021-07-07T10:38:44.056Z"
   },
   {
    "duration": 186,
    "start_time": "2021-07-07T10:48:35.618Z"
   },
   {
    "duration": 24,
    "start_time": "2021-07-07T10:48:51.498Z"
   },
   {
    "duration": 20,
    "start_time": "2021-07-07T10:48:59.415Z"
   },
   {
    "duration": 20,
    "start_time": "2021-07-07T10:53:02.195Z"
   },
   {
    "duration": 188,
    "start_time": "2021-07-07T10:54:40.486Z"
   },
   {
    "duration": 115,
    "start_time": "2021-07-07T10:54:52.552Z"
   },
   {
    "duration": 214,
    "start_time": "2021-07-07T10:54:56.354Z"
   },
   {
    "duration": 47,
    "start_time": "2021-07-07T10:54:58.282Z"
   },
   {
    "duration": 217,
    "start_time": "2021-07-07T10:59:16.075Z"
   },
   {
    "duration": 51,
    "start_time": "2021-07-07T10:59:16.243Z"
   },
   {
    "duration": 578,
    "start_time": "2021-07-07T10:59:18.774Z"
   },
   {
    "duration": 161,
    "start_time": "2021-07-07T10:59:21.238Z"
   },
   {
    "duration": 59,
    "start_time": "2021-07-07T10:59:21.453Z"
   },
   {
    "duration": 3,
    "start_time": "2021-07-07T11:02:10.786Z"
   },
   {
    "duration": 13,
    "start_time": "2021-07-07T11:07:07.722Z"
   },
   {
    "duration": 26,
    "start_time": "2021-07-07T11:07:17.958Z"
   },
   {
    "duration": 22,
    "start_time": "2021-07-07T11:08:17.939Z"
   },
   {
    "duration": 212,
    "start_time": "2021-07-07T11:08:19.665Z"
   },
   {
    "duration": 21,
    "start_time": "2021-07-07T11:08:29.945Z"
   },
   {
    "duration": 31,
    "start_time": "2021-07-07T11:08:38.899Z"
   },
   {
    "duration": 23,
    "start_time": "2021-07-07T11:08:54.527Z"
   },
   {
    "duration": 8,
    "start_time": "2021-07-07T11:18:55.974Z"
   },
   {
    "duration": 7,
    "start_time": "2021-07-07T11:19:03.639Z"
   },
   {
    "duration": 7,
    "start_time": "2021-07-07T11:19:06.444Z"
   },
   {
    "duration": 578,
    "start_time": "2021-07-07T12:09:59.576Z"
   },
   {
    "duration": 195,
    "start_time": "2021-07-07T12:10:00.156Z"
   },
   {
    "duration": 115,
    "start_time": "2021-07-07T12:10:00.353Z"
   },
   {
    "duration": 3,
    "start_time": "2021-07-07T12:10:00.470Z"
   },
   {
    "duration": 32,
    "start_time": "2021-07-07T12:10:00.474Z"
   },
   {
    "duration": 23,
    "start_time": "2021-07-07T12:10:00.508Z"
   },
   {
    "duration": 19,
    "start_time": "2021-07-07T12:10:00.533Z"
   },
   {
    "duration": 44,
    "start_time": "2021-07-07T12:10:00.553Z"
   },
   {
    "duration": 7,
    "start_time": "2021-07-07T12:10:00.600Z"
   },
   {
    "duration": 7,
    "start_time": "2021-07-07T12:19:45.761Z"
   },
   {
    "duration": 21,
    "start_time": "2021-07-07T12:21:35.482Z"
   },
   {
    "duration": 21,
    "start_time": "2021-07-07T12:29:23.569Z"
   },
   {
    "duration": 525,
    "start_time": "2021-07-07T12:29:44.542Z"
   },
   {
    "duration": 214,
    "start_time": "2021-07-07T12:29:45.069Z"
   },
   {
    "duration": 92,
    "start_time": "2021-07-07T12:29:45.285Z"
   },
   {
    "duration": 3,
    "start_time": "2021-07-07T12:29:45.379Z"
   },
   {
    "duration": 28,
    "start_time": "2021-07-07T12:29:45.384Z"
   },
   {
    "duration": 23,
    "start_time": "2021-07-07T12:29:45.413Z"
   },
   {
    "duration": 21,
    "start_time": "2021-07-07T12:29:45.437Z"
   },
   {
    "duration": 41,
    "start_time": "2021-07-07T12:29:45.460Z"
   },
   {
    "duration": 7,
    "start_time": "2021-07-07T12:29:45.502Z"
   },
   {
    "duration": 20,
    "start_time": "2021-07-07T12:29:45.511Z"
   },
   {
    "duration": 12,
    "start_time": "2021-07-07T12:34:02.800Z"
   },
   {
    "duration": 7,
    "start_time": "2021-07-07T12:35:10.479Z"
   },
   {
    "duration": 8,
    "start_time": "2021-07-07T12:35:22.440Z"
   },
   {
    "duration": 6,
    "start_time": "2021-07-07T12:35:35.649Z"
   },
   {
    "duration": 6,
    "start_time": "2021-07-07T12:35:43.107Z"
   },
   {
    "duration": 22,
    "start_time": "2021-07-07T12:38:03.029Z"
   },
   {
    "duration": 10,
    "start_time": "2021-07-07T12:38:06.592Z"
   },
   {
    "duration": 563,
    "start_time": "2021-07-07T12:38:46.493Z"
   },
   {
    "duration": 265,
    "start_time": "2021-07-07T12:38:47.058Z"
   },
   {
    "duration": 94,
    "start_time": "2021-07-07T12:38:47.325Z"
   },
   {
    "duration": 3,
    "start_time": "2021-07-07T12:38:47.422Z"
   },
   {
    "duration": 30,
    "start_time": "2021-07-07T12:38:47.427Z"
   },
   {
    "duration": 16,
    "start_time": "2021-07-07T12:38:53.305Z"
   },
   {
    "duration": 10,
    "start_time": "2021-07-07T12:38:53.499Z"
   },
   {
    "duration": 8,
    "start_time": "2021-07-07T12:39:48.161Z"
   },
   {
    "duration": 27,
    "start_time": "2021-07-07T12:41:17.629Z"
   },
   {
    "duration": 17,
    "start_time": "2021-07-07T12:41:17.867Z"
   },
   {
    "duration": 21,
    "start_time": "2021-07-07T12:41:19.310Z"
   },
   {
    "duration": 7,
    "start_time": "2021-07-07T12:41:19.544Z"
   },
   {
    "duration": 20,
    "start_time": "2021-07-07T12:41:20.504Z"
   },
   {
    "duration": 554,
    "start_time": "2021-07-07T12:56:23.696Z"
   },
   {
    "duration": 200,
    "start_time": "2021-07-07T12:56:25.234Z"
   },
   {
    "duration": 119,
    "start_time": "2021-07-07T12:56:25.480Z"
   },
   {
    "duration": 4,
    "start_time": "2021-07-07T12:56:25.762Z"
   },
   {
    "duration": 26,
    "start_time": "2021-07-07T12:56:27.172Z"
   },
   {
    "duration": 12,
    "start_time": "2021-07-07T12:56:29.051Z"
   },
   {
    "duration": 10,
    "start_time": "2021-07-07T12:56:29.291Z"
   },
   {
    "duration": 8,
    "start_time": "2021-07-07T12:56:29.623Z"
   },
   {
    "duration": 28,
    "start_time": "2021-07-07T12:56:32.137Z"
   },
   {
    "duration": 19,
    "start_time": "2021-07-07T12:56:39.785Z"
   },
   {
    "duration": 20,
    "start_time": "2021-07-07T12:56:44.297Z"
   },
   {
    "duration": 7,
    "start_time": "2021-07-07T12:56:45.392Z"
   },
   {
    "duration": 23,
    "start_time": "2021-07-07T12:56:46.615Z"
   },
   {
    "duration": 4,
    "start_time": "2021-07-07T12:57:06.625Z"
   },
   {
    "duration": 32,
    "start_time": "2021-07-07T12:57:36.690Z"
   },
   {
    "duration": 18,
    "start_time": "2021-07-07T12:58:00.149Z"
   },
   {
    "duration": 15,
    "start_time": "2021-07-07T12:59:16.793Z"
   },
   {
    "duration": 7,
    "start_time": "2021-07-07T13:19:22.624Z"
   },
   {
    "duration": 6,
    "start_time": "2021-07-07T14:17:33.527Z"
   },
   {
    "duration": 9,
    "start_time": "2021-07-07T14:17:48.409Z"
   },
   {
    "duration": 8,
    "start_time": "2021-07-07T14:20:13.060Z"
   },
   {
    "duration": 8,
    "start_time": "2021-07-07T14:20:37.957Z"
   },
   {
    "duration": 8,
    "start_time": "2021-07-07T14:20:47.470Z"
   },
   {
    "duration": 9,
    "start_time": "2021-07-07T14:20:54.503Z"
   },
   {
    "duration": 10,
    "start_time": "2021-07-07T14:28:57.763Z"
   },
   {
    "duration": 3,
    "start_time": "2021-07-07T14:30:23.377Z"
   },
   {
    "duration": 3,
    "start_time": "2021-07-07T14:30:36.489Z"
   },
   {
    "duration": 103,
    "start_time": "2021-07-07T14:30:52.351Z"
   },
   {
    "duration": 8,
    "start_time": "2021-07-07T14:30:54.763Z"
   },
   {
    "duration": 8,
    "start_time": "2021-07-07T14:31:29.301Z"
   },
   {
    "duration": 13,
    "start_time": "2021-07-07T14:31:44.516Z"
   },
   {
    "duration": 7,
    "start_time": "2021-07-07T14:33:10.972Z"
   },
   {
    "duration": 11,
    "start_time": "2021-07-07T14:33:27.780Z"
   },
   {
    "duration": 8,
    "start_time": "2021-07-07T14:34:44.588Z"
   },
   {
    "duration": 57,
    "start_time": "2021-07-07T14:35:59.042Z"
   },
   {
    "duration": 3,
    "start_time": "2021-07-07T14:36:28.168Z"
   },
   {
    "duration": 5,
    "start_time": "2021-07-07T14:36:46.254Z"
   },
   {
    "duration": 4,
    "start_time": "2021-07-07T14:36:52.714Z"
   },
   {
    "duration": 3,
    "start_time": "2021-07-07T14:36:56.612Z"
   },
   {
    "duration": 4,
    "start_time": "2021-07-07T14:36:57.049Z"
   },
   {
    "duration": 3,
    "start_time": "2021-07-07T14:39:21.214Z"
   },
   {
    "duration": 7,
    "start_time": "2021-07-07T14:39:52.406Z"
   },
   {
    "duration": 11,
    "start_time": "2021-07-07T14:39:58.576Z"
   },
   {
    "duration": 9,
    "start_time": "2021-07-07T14:40:26.301Z"
   },
   {
    "duration": 10,
    "start_time": "2021-07-07T14:40:31.704Z"
   },
   {
    "duration": 11,
    "start_time": "2021-07-07T14:40:36.249Z"
   },
   {
    "duration": 10,
    "start_time": "2021-07-07T14:40:39.783Z"
   },
   {
    "duration": 9,
    "start_time": "2021-07-07T14:40:48.558Z"
   },
   {
    "duration": 10,
    "start_time": "2021-07-07T14:40:57.143Z"
   },
   {
    "duration": 9,
    "start_time": "2021-07-07T14:41:06.074Z"
   },
   {
    "duration": 4324,
    "start_time": "2021-07-07T14:41:22.004Z"
   },
   {
    "duration": 11,
    "start_time": "2021-07-07T14:41:33.392Z"
   },
   {
    "duration": 9,
    "start_time": "2021-07-07T14:41:39.288Z"
   },
   {
    "duration": 569,
    "start_time": "2021-07-07T14:42:14.387Z"
   },
   {
    "duration": 197,
    "start_time": "2021-07-07T14:42:14.959Z"
   },
   {
    "duration": 84,
    "start_time": "2021-07-07T14:42:16.052Z"
   },
   {
    "duration": 4,
    "start_time": "2021-07-07T14:42:16.900Z"
   },
   {
    "duration": 27,
    "start_time": "2021-07-07T14:42:19.898Z"
   },
   {
    "duration": 12,
    "start_time": "2021-07-07T14:42:21.577Z"
   },
   {
    "duration": 9,
    "start_time": "2021-07-07T14:42:21.813Z"
   },
   {
    "duration": 9,
    "start_time": "2021-07-07T14:42:22.569Z"
   },
   {
    "duration": 29,
    "start_time": "2021-07-07T14:42:25.837Z"
   },
   {
    "duration": 20,
    "start_time": "2021-07-07T14:42:27.003Z"
   },
   {
    "duration": 21,
    "start_time": "2021-07-07T14:42:28.767Z"
   },
   {
    "duration": 7,
    "start_time": "2021-07-07T14:42:29.838Z"
   },
   {
    "duration": 4,
    "start_time": "2021-07-07T14:43:25.493Z"
   },
   {
    "duration": 7,
    "start_time": "2021-07-07T14:43:26.573Z"
   },
   {
    "duration": 10,
    "start_time": "2021-07-07T14:43:31.639Z"
   },
   {
    "duration": 9,
    "start_time": "2021-07-07T14:43:32.046Z"
   },
   {
    "duration": 10,
    "start_time": "2021-07-07T14:43:33.301Z"
   },
   {
    "duration": 12,
    "start_time": "2021-07-07T14:43:33.658Z"
   },
   {
    "duration": 8,
    "start_time": "2021-07-07T14:43:34.552Z"
   },
   {
    "duration": 9,
    "start_time": "2021-07-07T14:43:35.058Z"
   },
   {
    "duration": 12,
    "start_time": "2021-07-07T14:43:35.914Z"
   },
   {
    "duration": 17,
    "start_time": "2021-07-07T14:45:34.368Z"
   },
   {
    "duration": 512,
    "start_time": "2021-07-07T14:51:58.236Z"
   },
   {
    "duration": 223,
    "start_time": "2021-07-07T14:51:58.750Z"
   },
   {
    "duration": 93,
    "start_time": "2021-07-07T14:51:58.977Z"
   },
   {
    "duration": 4,
    "start_time": "2021-07-07T14:51:59.071Z"
   },
   {
    "duration": 37,
    "start_time": "2021-07-07T14:51:59.077Z"
   },
   {
    "duration": 18,
    "start_time": "2021-07-07T14:51:59.116Z"
   },
   {
    "duration": 10,
    "start_time": "2021-07-07T14:51:59.137Z"
   },
   {
    "duration": 8,
    "start_time": "2021-07-07T14:51:59.149Z"
   },
   {
    "duration": 54,
    "start_time": "2021-07-07T14:51:59.158Z"
   },
   {
    "duration": 18,
    "start_time": "2021-07-07T14:51:59.213Z"
   },
   {
    "duration": 22,
    "start_time": "2021-07-07T14:51:59.232Z"
   },
   {
    "duration": 36,
    "start_time": "2021-07-07T14:51:59.255Z"
   },
   {
    "duration": 7,
    "start_time": "2021-07-07T14:51:59.293Z"
   },
   {
    "duration": 10,
    "start_time": "2021-07-07T14:51:59.302Z"
   },
   {
    "duration": 9,
    "start_time": "2021-07-07T14:51:59.313Z"
   },
   {
    "duration": 11,
    "start_time": "2021-07-07T14:51:59.324Z"
   },
   {
    "duration": 8,
    "start_time": "2021-07-07T14:51:59.337Z"
   },
   {
    "duration": 46,
    "start_time": "2021-07-07T14:51:59.347Z"
   },
   {
    "duration": 22,
    "start_time": "2021-07-07T14:51:59.395Z"
   },
   {
    "duration": 24,
    "start_time": "2021-07-07T14:57:32.911Z"
   },
   {
    "duration": 7,
    "start_time": "2021-07-07T14:58:22.070Z"
   },
   {
    "duration": 4,
    "start_time": "2021-07-07T14:59:11.239Z"
   },
   {
    "duration": 25,
    "start_time": "2021-07-07T15:07:22.208Z"
   },
   {
    "duration": 16,
    "start_time": "2021-07-07T15:08:25.560Z"
   },
   {
    "duration": 15,
    "start_time": "2021-07-07T15:08:40.647Z"
   },
   {
    "duration": 14,
    "start_time": "2021-07-07T15:08:46.669Z"
   },
   {
    "duration": 533,
    "start_time": "2021-07-07T15:18:07.440Z"
   },
   {
    "duration": 173,
    "start_time": "2021-07-07T15:18:07.974Z"
   },
   {
    "duration": 84,
    "start_time": "2021-07-07T15:18:08.149Z"
   },
   {
    "duration": 3,
    "start_time": "2021-07-07T15:18:08.235Z"
   },
   {
    "duration": 30,
    "start_time": "2021-07-07T15:18:08.240Z"
   },
   {
    "duration": 22,
    "start_time": "2021-07-07T15:18:08.272Z"
   },
   {
    "duration": 11,
    "start_time": "2021-07-07T15:18:08.295Z"
   },
   {
    "duration": 11,
    "start_time": "2021-07-07T15:18:08.309Z"
   },
   {
    "duration": 40,
    "start_time": "2021-07-07T15:18:08.322Z"
   },
   {
    "duration": 42,
    "start_time": "2021-07-07T15:18:08.364Z"
   },
   {
    "duration": 22,
    "start_time": "2021-07-07T15:18:08.408Z"
   },
   {
    "duration": 5,
    "start_time": "2021-07-07T15:18:08.432Z"
   },
   {
    "duration": 13,
    "start_time": "2021-07-07T15:18:08.439Z"
   },
   {
    "duration": 9,
    "start_time": "2021-07-07T15:18:08.454Z"
   },
   {
    "duration": 32,
    "start_time": "2021-07-07T15:18:08.465Z"
   },
   {
    "duration": 10,
    "start_time": "2021-07-07T15:18:08.501Z"
   },
   {
    "duration": 7,
    "start_time": "2021-07-07T15:18:08.513Z"
   },
   {
    "duration": 11,
    "start_time": "2021-07-07T15:18:08.521Z"
   },
   {
    "duration": 17,
    "start_time": "2021-07-07T15:18:08.534Z"
   },
   {
    "duration": 44,
    "start_time": "2021-07-07T15:18:08.553Z"
   },
   {
    "duration": 22,
    "start_time": "2021-07-07T15:18:08.599Z"
   },
   {
    "duration": 61,
    "start_time": "2021-07-07T15:18:08.622Z"
   },
   {
    "duration": 7,
    "start_time": "2021-07-07T15:18:39.457Z"
   },
   {
    "duration": 5,
    "start_time": "2021-07-07T16:05:17.020Z"
   },
   {
    "duration": 5,
    "start_time": "2021-07-07T16:51:28.794Z"
   },
   {
    "duration": 546,
    "start_time": "2021-07-07T16:52:26.306Z"
   },
   {
    "duration": 203,
    "start_time": "2021-07-07T16:52:27.523Z"
   },
   {
    "duration": 85,
    "start_time": "2021-07-07T16:52:27.736Z"
   },
   {
    "duration": 4,
    "start_time": "2021-07-07T16:52:27.899Z"
   },
   {
    "duration": 25,
    "start_time": "2021-07-07T16:52:28.674Z"
   },
   {
    "duration": 8,
    "start_time": "2021-07-07T16:52:32.956Z"
   },
   {
    "duration": 18,
    "start_time": "2021-07-07T16:52:35.616Z"
   },
   {
    "duration": 6,
    "start_time": "2021-07-07T16:52:36.913Z"
   },
   {
    "duration": 11,
    "start_time": "2021-07-07T16:52:40.258Z"
   },
   {
    "duration": 10,
    "start_time": "2021-07-07T16:52:46.251Z"
   },
   {
    "duration": 8,
    "start_time": "2021-07-07T16:52:47.182Z"
   },
   {
    "duration": 27,
    "start_time": "2021-07-07T16:53:20.391Z"
   },
   {
    "duration": 20,
    "start_time": "2021-07-07T16:53:22.022Z"
   },
   {
    "duration": 23,
    "start_time": "2021-07-07T16:53:23.690Z"
   },
   {
    "duration": 8,
    "start_time": "2021-07-07T16:53:24.261Z"
   },
   {
    "duration": 4,
    "start_time": "2021-07-07T16:53:38.733Z"
   },
   {
    "duration": 7,
    "start_time": "2021-07-07T16:53:40.445Z"
   },
   {
    "duration": 11,
    "start_time": "2021-07-07T16:53:41.348Z"
   },
   {
    "duration": 13,
    "start_time": "2021-07-07T16:53:45.250Z"
   },
   {
    "duration": 12,
    "start_time": "2021-07-07T16:53:45.467Z"
   },
   {
    "duration": 4,
    "start_time": "2021-07-07T16:55:32.704Z"
   },
   {
    "duration": 12,
    "start_time": "2021-07-07T16:55:49.012Z"
   },
   {
    "duration": 18,
    "start_time": "2021-07-07T16:55:49.547Z"
   },
   {
    "duration": 611,
    "start_time": "2021-07-07T16:58:35.156Z"
   },
   {
    "duration": 200,
    "start_time": "2021-07-07T16:58:35.770Z"
   },
   {
    "duration": 86,
    "start_time": "2021-07-07T16:58:35.972Z"
   },
   {
    "duration": 3,
    "start_time": "2021-07-07T16:58:36.060Z"
   },
   {
    "duration": 27,
    "start_time": "2021-07-07T16:58:36.065Z"
   },
   {
    "duration": 8,
    "start_time": "2021-07-07T16:58:36.094Z"
   },
   {
    "duration": 17,
    "start_time": "2021-07-07T16:58:36.103Z"
   },
   {
    "duration": 5,
    "start_time": "2021-07-07T16:58:36.123Z"
   },
   {
    "duration": 11,
    "start_time": "2021-07-07T16:58:36.130Z"
   },
   {
    "duration": 7,
    "start_time": "2021-07-07T16:58:36.143Z"
   },
   {
    "duration": 37,
    "start_time": "2021-07-07T16:58:36.152Z"
   },
   {
    "duration": 27,
    "start_time": "2021-07-07T16:58:36.191Z"
   },
   {
    "duration": 19,
    "start_time": "2021-07-07T16:58:36.219Z"
   },
   {
    "duration": 49,
    "start_time": "2021-07-07T16:58:36.240Z"
   },
   {
    "duration": 6,
    "start_time": "2021-07-07T16:58:36.291Z"
   },
   {
    "duration": 3,
    "start_time": "2021-07-07T16:58:36.299Z"
   },
   {
    "duration": 13,
    "start_time": "2021-07-07T16:58:36.304Z"
   },
   {
    "duration": 10,
    "start_time": "2021-07-07T16:58:36.319Z"
   },
   {
    "duration": 10,
    "start_time": "2021-07-07T16:58:36.331Z"
   },
   {
    "duration": 44,
    "start_time": "2021-07-07T16:58:36.343Z"
   },
   {
    "duration": 4,
    "start_time": "2021-07-07T16:58:36.388Z"
   },
   {
    "duration": 13,
    "start_time": "2021-07-07T16:58:36.394Z"
   },
   {
    "duration": 16,
    "start_time": "2021-07-07T16:58:36.410Z"
   },
   {
    "duration": 8,
    "start_time": "2021-07-07T17:02:31.629Z"
   },
   {
    "duration": 8,
    "start_time": "2021-07-07T17:02:34.308Z"
   },
   {
    "duration": 6,
    "start_time": "2021-07-07T17:05:13.483Z"
   },
   {
    "duration": 17,
    "start_time": "2021-07-07T17:05:20.606Z"
   },
   {
    "duration": 7,
    "start_time": "2021-07-07T17:05:34.638Z"
   },
   {
    "duration": 3,
    "start_time": "2021-07-07T17:06:31.883Z"
   },
   {
    "duration": 570,
    "start_time": "2021-07-07T17:06:37.165Z"
   },
   {
    "duration": 174,
    "start_time": "2021-07-07T17:06:37.737Z"
   },
   {
    "duration": 47,
    "start_time": "2021-07-07T17:06:37.913Z"
   },
   {
    "duration": 3,
    "start_time": "2021-07-07T17:06:37.962Z"
   },
   {
    "duration": 27,
    "start_time": "2021-07-07T17:06:37.967Z"
   },
   {
    "duration": 7,
    "start_time": "2021-07-07T17:06:37.996Z"
   },
   {
    "duration": 16,
    "start_time": "2021-07-07T17:06:38.005Z"
   },
   {
    "duration": 6,
    "start_time": "2021-07-07T17:06:38.024Z"
   },
   {
    "duration": 12,
    "start_time": "2021-07-07T17:06:38.031Z"
   },
   {
    "duration": 41,
    "start_time": "2021-07-07T17:06:38.045Z"
   },
   {
    "duration": 8,
    "start_time": "2021-07-07T17:06:38.088Z"
   },
   {
    "duration": 26,
    "start_time": "2021-07-07T17:06:38.098Z"
   },
   {
    "duration": 17,
    "start_time": "2021-07-07T17:06:38.126Z"
   },
   {
    "duration": 43,
    "start_time": "2021-07-07T17:06:38.144Z"
   },
   {
    "duration": 6,
    "start_time": "2021-07-07T17:06:38.188Z"
   },
   {
    "duration": 5,
    "start_time": "2021-07-07T17:06:38.195Z"
   },
   {
    "duration": 9,
    "start_time": "2021-07-07T17:06:38.201Z"
   },
   {
    "duration": 12,
    "start_time": "2021-07-07T17:06:38.212Z"
   },
   {
    "duration": 11,
    "start_time": "2021-07-07T17:06:38.226Z"
   },
   {
    "duration": 47,
    "start_time": "2021-07-07T17:06:38.239Z"
   },
   {
    "duration": 4,
    "start_time": "2021-07-07T17:06:38.288Z"
   },
   {
    "duration": 13,
    "start_time": "2021-07-07T17:06:38.293Z"
   },
   {
    "duration": 5,
    "start_time": "2021-07-07T17:06:38.309Z"
   },
   {
    "duration": 18,
    "start_time": "2021-07-07T17:06:38.325Z"
   },
   {
    "duration": 20,
    "start_time": "2021-07-07T17:07:02.805Z"
   },
   {
    "duration": 19,
    "start_time": "2021-07-07T17:07:08.527Z"
   },
   {
    "duration": 19,
    "start_time": "2021-07-07T17:07:12.758Z"
   },
   {
    "duration": 22,
    "start_time": "2021-07-07T17:07:17.497Z"
   },
   {
    "duration": 19,
    "start_time": "2021-07-07T17:07:19.645Z"
   },
   {
    "duration": 10,
    "start_time": "2021-07-07T17:07:34.239Z"
   },
   {
    "duration": 17,
    "start_time": "2021-07-07T17:07:54.144Z"
   },
   {
    "duration": 14,
    "start_time": "2021-07-07T17:08:14.357Z"
   },
   {
    "duration": 616,
    "start_time": "2021-07-07T17:08:45.254Z"
   },
   {
    "duration": 178,
    "start_time": "2021-07-07T17:08:45.872Z"
   },
   {
    "duration": 60,
    "start_time": "2021-07-07T17:08:46.054Z"
   },
   {
    "duration": 3,
    "start_time": "2021-07-07T17:08:46.116Z"
   },
   {
    "duration": 26,
    "start_time": "2021-07-07T17:08:46.121Z"
   },
   {
    "duration": 7,
    "start_time": "2021-07-07T17:08:46.149Z"
   },
   {
    "duration": 17,
    "start_time": "2021-07-07T17:08:46.158Z"
   },
   {
    "duration": 14,
    "start_time": "2021-07-07T17:08:46.176Z"
   },
   {
    "duration": 17,
    "start_time": "2021-07-07T17:08:46.193Z"
   },
   {
    "duration": 9,
    "start_time": "2021-07-07T17:08:46.211Z"
   },
   {
    "duration": 21,
    "start_time": "2021-07-07T17:08:46.221Z"
   },
   {
    "duration": 49,
    "start_time": "2021-07-07T17:08:46.244Z"
   },
   {
    "duration": 24,
    "start_time": "2021-07-07T17:08:46.295Z"
   },
   {
    "duration": 22,
    "start_time": "2021-07-07T17:08:46.321Z"
   },
   {
    "duration": 6,
    "start_time": "2021-07-07T17:08:46.345Z"
   },
   {
    "duration": 5,
    "start_time": "2021-07-07T17:08:46.353Z"
   },
   {
    "duration": 13,
    "start_time": "2021-07-07T17:08:46.386Z"
   },
   {
    "duration": 12,
    "start_time": "2021-07-07T17:08:46.402Z"
   },
   {
    "duration": 10,
    "start_time": "2021-07-07T17:08:46.415Z"
   },
   {
    "duration": 7,
    "start_time": "2021-07-07T17:08:46.427Z"
   },
   {
    "duration": 8,
    "start_time": "2021-07-07T17:08:46.435Z"
   },
   {
    "duration": 68,
    "start_time": "2021-07-07T17:08:46.446Z"
   },
   {
    "duration": 13,
    "start_time": "2021-07-07T17:08:46.516Z"
   },
   {
    "duration": 78,
    "start_time": "2021-07-07T17:08:46.530Z"
   },
   {
    "duration": 40,
    "start_time": "2021-07-07T17:09:08.185Z"
   },
   {
    "duration": 16,
    "start_time": "2021-07-07T17:09:19.324Z"
   },
   {
    "duration": 21,
    "start_time": "2021-07-07T17:09:23.290Z"
   },
   {
    "duration": 13,
    "start_time": "2021-07-07T17:09:54.812Z"
   },
   {
    "duration": 13,
    "start_time": "2021-07-07T17:10:02.039Z"
   },
   {
    "duration": 10,
    "start_time": "2021-07-07T17:10:29.632Z"
   },
   {
    "duration": 13,
    "start_time": "2021-07-07T17:10:52.372Z"
   },
   {
    "duration": 13,
    "start_time": "2021-07-07T17:11:17.270Z"
   },
   {
    "duration": 13,
    "start_time": "2021-07-07T17:14:59.284Z"
   },
   {
    "duration": 547,
    "start_time": "2021-07-07T17:18:52.403Z"
   },
   {
    "duration": 163,
    "start_time": "2021-07-07T17:18:52.952Z"
   },
   {
    "duration": 44,
    "start_time": "2021-07-07T17:18:53.117Z"
   },
   {
    "duration": 3,
    "start_time": "2021-07-07T17:18:53.162Z"
   },
   {
    "duration": 26,
    "start_time": "2021-07-07T17:18:53.167Z"
   },
   {
    "duration": 6,
    "start_time": "2021-07-07T17:18:53.195Z"
   },
   {
    "duration": 15,
    "start_time": "2021-07-07T17:18:53.203Z"
   },
   {
    "duration": 5,
    "start_time": "2021-07-07T17:18:53.220Z"
   },
   {
    "duration": 11,
    "start_time": "2021-07-07T17:18:53.228Z"
   },
   {
    "duration": 9,
    "start_time": "2021-07-07T17:18:53.241Z"
   },
   {
    "duration": 41,
    "start_time": "2021-07-07T17:18:53.252Z"
   },
   {
    "duration": 33,
    "start_time": "2021-07-07T17:18:53.295Z"
   },
   {
    "duration": 19,
    "start_time": "2021-07-07T17:18:53.330Z"
   },
   {
    "duration": 49,
    "start_time": "2021-07-07T17:18:53.350Z"
   },
   {
    "duration": 5,
    "start_time": "2021-07-07T17:18:53.401Z"
   },
   {
    "duration": 5,
    "start_time": "2021-07-07T17:18:53.408Z"
   },
   {
    "duration": 11,
    "start_time": "2021-07-07T17:18:53.414Z"
   },
   {
    "duration": 9,
    "start_time": "2021-07-07T17:18:53.427Z"
   },
   {
    "duration": 10,
    "start_time": "2021-07-07T17:18:53.437Z"
   },
   {
    "duration": 39,
    "start_time": "2021-07-07T17:18:53.448Z"
   },
   {
    "duration": 26,
    "start_time": "2021-07-07T17:18:55.799Z"
   },
   {
    "duration": 598,
    "start_time": "2021-07-07T17:20:17.862Z"
   },
   {
    "duration": 161,
    "start_time": "2021-07-07T17:20:18.462Z"
   },
   {
    "duration": 45,
    "start_time": "2021-07-07T17:20:18.626Z"
   },
   {
    "duration": 4,
    "start_time": "2021-07-07T17:20:18.673Z"
   },
   {
    "duration": 38,
    "start_time": "2021-07-07T17:20:26.877Z"
   },
   {
    "duration": 7,
    "start_time": "2021-07-07T17:20:37.405Z"
   },
   {
    "duration": 19,
    "start_time": "2021-07-07T17:20:51.534Z"
   },
   {
    "duration": 5,
    "start_time": "2021-07-07T17:20:57.228Z"
   },
   {
    "duration": 7,
    "start_time": "2021-07-07T17:21:08.235Z"
   },
   {
    "duration": 19,
    "start_time": "2021-07-07T17:21:42.158Z"
   },
   {
    "duration": 14,
    "start_time": "2021-07-07T17:21:50.225Z"
   },
   {
    "duration": 22,
    "start_time": "2021-07-07T17:22:54.104Z"
   },
   {
    "duration": 5,
    "start_time": "2021-07-07T17:22:56.371Z"
   },
   {
    "duration": 14,
    "start_time": "2021-07-07T17:22:58.316Z"
   },
   {
    "duration": 5,
    "start_time": "2021-07-07T17:22:58.493Z"
   },
   {
    "duration": 35,
    "start_time": "2021-07-07T17:22:59.666Z"
   },
   {
    "duration": 6,
    "start_time": "2021-07-07T17:23:02.410Z"
   },
   {
    "duration": 611,
    "start_time": "2021-07-07T17:24:59.664Z"
   },
   {
    "duration": 178,
    "start_time": "2021-07-07T17:25:01.945Z"
   },
   {
    "duration": 47,
    "start_time": "2021-07-07T17:25:02.125Z"
   },
   {
    "duration": 2,
    "start_time": "2021-07-07T17:25:07.903Z"
   },
   {
    "duration": 254,
    "start_time": "2021-07-07T17:25:08.232Z"
   },
   {
    "duration": 182,
    "start_time": "2021-07-07T17:25:08.671Z"
   },
   {
    "duration": 6,
    "start_time": "2021-07-07T17:25:13.104Z"
   },
   {
    "duration": 36,
    "start_time": "2021-07-07T17:25:13.662Z"
   },
   {
    "duration": 7,
    "start_time": "2021-07-07T17:25:14.528Z"
   },
   {
    "duration": 24,
    "start_time": "2021-07-07T17:25:27.982Z"
   },
   {
    "duration": 3,
    "start_time": "2021-07-07T17:25:48.982Z"
   },
   {
    "duration": 165,
    "start_time": "2021-07-07T17:25:48.987Z"
   },
   {
    "duration": 50,
    "start_time": "2021-07-07T17:25:49.154Z"
   },
   {
    "duration": 4,
    "start_time": "2021-07-07T17:25:49.206Z"
   },
   {
    "duration": 26,
    "start_time": "2021-07-07T17:25:49.212Z"
   },
   {
    "duration": 7,
    "start_time": "2021-07-07T17:25:49.240Z"
   },
   {
    "duration": 16,
    "start_time": "2021-07-07T17:25:49.249Z"
   },
   {
    "duration": 22,
    "start_time": "2021-07-07T17:25:49.266Z"
   },
   {
    "duration": 16,
    "start_time": "2021-07-07T17:25:49.291Z"
   },
   {
    "duration": 9,
    "start_time": "2021-07-07T17:25:49.309Z"
   },
   {
    "duration": 7,
    "start_time": "2021-07-07T17:25:49.319Z"
   },
   {
    "duration": 28,
    "start_time": "2021-07-07T17:25:49.328Z"
   },
   {
    "duration": 44,
    "start_time": "2021-07-07T17:25:49.357Z"
   },
   {
    "duration": 22,
    "start_time": "2021-07-07T17:25:49.403Z"
   },
   {
    "duration": 7,
    "start_time": "2021-07-07T17:25:49.427Z"
   },
   {
    "duration": 3,
    "start_time": "2021-07-07T17:25:49.436Z"
   },
   {
    "duration": 44,
    "start_time": "2021-07-07T17:25:49.441Z"
   },
   {
    "duration": 12,
    "start_time": "2021-07-07T17:25:49.488Z"
   },
   {
    "duration": 13,
    "start_time": "2021-07-07T17:25:49.502Z"
   },
   {
    "duration": 10,
    "start_time": "2021-07-07T17:25:49.516Z"
   },
   {
    "duration": 62,
    "start_time": "2021-07-07T17:25:49.527Z"
   },
   {
    "duration": 26,
    "start_time": "2021-07-07T17:26:51.809Z"
   },
   {
    "duration": 26,
    "start_time": "2021-07-07T17:26:55.759Z"
   },
   {
    "duration": 26,
    "start_time": "2021-07-07T17:27:04.501Z"
   },
   {
    "duration": 25,
    "start_time": "2021-07-07T17:28:24.859Z"
   },
   {
    "duration": 21,
    "start_time": "2021-07-07T17:28:55.250Z"
   },
   {
    "duration": 21,
    "start_time": "2021-07-07T17:28:58.885Z"
   },
   {
    "duration": 7,
    "start_time": "2021-07-07T17:45:40.972Z"
   },
   {
    "duration": 13,
    "start_time": "2021-07-07T17:45:42.529Z"
   },
   {
    "duration": 27,
    "start_time": "2021-07-07T17:45:51.026Z"
   },
   {
    "duration": 518,
    "start_time": "2021-07-07T17:46:15.532Z"
   },
   {
    "duration": 235,
    "start_time": "2021-07-07T17:46:16.053Z"
   },
   {
    "duration": 80,
    "start_time": "2021-07-07T17:46:16.292Z"
   },
   {
    "duration": 5,
    "start_time": "2021-07-07T17:46:16.373Z"
   },
   {
    "duration": 26,
    "start_time": "2021-07-07T17:46:16.380Z"
   },
   {
    "duration": 7,
    "start_time": "2021-07-07T17:46:16.408Z"
   },
   {
    "duration": 16,
    "start_time": "2021-07-07T17:46:16.418Z"
   },
   {
    "duration": 5,
    "start_time": "2021-07-07T17:46:16.436Z"
   },
   {
    "duration": 13,
    "start_time": "2021-07-07T17:46:16.442Z"
   },
   {
    "duration": 35,
    "start_time": "2021-07-07T17:46:16.456Z"
   },
   {
    "duration": 8,
    "start_time": "2021-07-07T17:46:16.493Z"
   },
   {
    "duration": 28,
    "start_time": "2021-07-07T17:46:16.502Z"
   },
   {
    "duration": 17,
    "start_time": "2021-07-07T17:46:16.532Z"
   },
   {
    "duration": 44,
    "start_time": "2021-07-07T17:46:16.551Z"
   },
   {
    "duration": 6,
    "start_time": "2021-07-07T17:46:16.597Z"
   },
   {
    "duration": 4,
    "start_time": "2021-07-07T17:46:16.605Z"
   },
   {
    "duration": 9,
    "start_time": "2021-07-07T17:46:16.610Z"
   },
   {
    "duration": 9,
    "start_time": "2021-07-07T17:46:16.621Z"
   },
   {
    "duration": 10,
    "start_time": "2021-07-07T17:46:16.632Z"
   },
   {
    "duration": 43,
    "start_time": "2021-07-07T17:46:16.644Z"
   },
   {
    "duration": 26,
    "start_time": "2021-07-07T17:46:16.689Z"
   },
   {
    "duration": 19,
    "start_time": "2021-07-07T17:46:16.718Z"
   },
   {
    "duration": 8,
    "start_time": "2021-07-07T17:46:16.738Z"
   },
   {
    "duration": 43,
    "start_time": "2021-07-07T17:46:16.747Z"
   },
   {
    "duration": 19,
    "start_time": "2021-07-07T17:46:16.791Z"
   },
   {
    "duration": 9,
    "start_time": "2021-07-07T17:46:16.812Z"
   },
   {
    "duration": 60,
    "start_time": "2021-07-07T17:46:16.822Z"
   },
   {
    "duration": -8,
    "start_time": "2021-07-07T17:46:16.892Z"
   },
   {
    "duration": 12,
    "start_time": "2021-07-07T17:48:47.707Z"
   },
   {
    "duration": 553,
    "start_time": "2021-07-07T18:10:09.350Z"
   },
   {
    "duration": 230,
    "start_time": "2021-07-07T18:10:09.905Z"
   },
   {
    "duration": 97,
    "start_time": "2021-07-07T18:10:10.137Z"
   },
   {
    "duration": 5,
    "start_time": "2021-07-07T18:10:10.236Z"
   },
   {
    "duration": 29,
    "start_time": "2021-07-07T18:10:10.242Z"
   },
   {
    "duration": 7,
    "start_time": "2021-07-07T18:10:10.272Z"
   },
   {
    "duration": 15,
    "start_time": "2021-07-07T18:10:10.281Z"
   },
   {
    "duration": 4,
    "start_time": "2021-07-07T18:10:10.299Z"
   },
   {
    "duration": 14,
    "start_time": "2021-07-07T18:10:10.305Z"
   },
   {
    "duration": 8,
    "start_time": "2021-07-07T18:10:10.321Z"
   },
   {
    "duration": 8,
    "start_time": "2021-07-07T18:10:10.331Z"
   },
   {
    "duration": 56,
    "start_time": "2021-07-07T18:10:10.341Z"
   },
   {
    "duration": 19,
    "start_time": "2021-07-07T18:10:10.399Z"
   },
   {
    "duration": 23,
    "start_time": "2021-07-07T18:10:10.419Z"
   },
   {
    "duration": 6,
    "start_time": "2021-07-07T18:10:10.444Z"
   },
   {
    "duration": 9,
    "start_time": "2021-07-07T18:10:10.451Z"
   },
   {
    "duration": 30,
    "start_time": "2021-07-07T18:10:10.462Z"
   },
   {
    "duration": 9,
    "start_time": "2021-07-07T18:10:10.494Z"
   },
   {
    "duration": 14,
    "start_time": "2021-07-07T18:10:10.505Z"
   },
   {
    "duration": 7,
    "start_time": "2021-07-07T18:10:10.521Z"
   },
   {
    "duration": 26,
    "start_time": "2021-07-07T18:10:10.530Z"
   },
   {
    "duration": 44,
    "start_time": "2021-07-07T18:10:10.558Z"
   },
   {
    "duration": 7,
    "start_time": "2021-07-07T18:10:10.605Z"
   },
   {
    "duration": 11,
    "start_time": "2021-07-07T18:10:10.614Z"
   },
   {
    "duration": 19,
    "start_time": "2021-07-07T18:10:10.626Z"
   },
   {
    "duration": 44,
    "start_time": "2021-07-07T18:10:10.646Z"
   },
   {
    "duration": 516,
    "start_time": "2021-07-07T18:14:00.826Z"
   },
   {
    "duration": 230,
    "start_time": "2021-07-07T18:14:01.344Z"
   },
   {
    "duration": 105,
    "start_time": "2021-07-07T18:14:01.576Z"
   },
   {
    "duration": 5,
    "start_time": "2021-07-07T18:14:01.683Z"
   },
   {
    "duration": 46,
    "start_time": "2021-07-07T18:14:01.690Z"
   },
   {
    "duration": 7,
    "start_time": "2021-07-07T18:14:01.738Z"
   },
   {
    "duration": 20,
    "start_time": "2021-07-07T18:14:01.747Z"
   },
   {
    "duration": 16,
    "start_time": "2021-07-07T18:14:01.769Z"
   },
   {
    "duration": 14,
    "start_time": "2021-07-07T18:14:01.787Z"
   },
   {
    "duration": 15,
    "start_time": "2021-07-07T18:14:01.803Z"
   },
   {
    "duration": 12,
    "start_time": "2021-07-07T18:14:01.820Z"
   },
   {
    "duration": 35,
    "start_time": "2021-07-07T18:14:01.833Z"
   },
   {
    "duration": 31,
    "start_time": "2021-07-07T18:14:01.869Z"
   },
   {
    "duration": 37,
    "start_time": "2021-07-07T18:14:01.902Z"
   },
   {
    "duration": 8,
    "start_time": "2021-07-07T18:14:01.942Z"
   },
   {
    "duration": 16,
    "start_time": "2021-07-07T18:14:01.952Z"
   },
   {
    "duration": 13,
    "start_time": "2021-07-07T18:14:01.970Z"
   },
   {
    "duration": 32,
    "start_time": "2021-07-07T18:14:01.985Z"
   },
   {
    "duration": 11,
    "start_time": "2021-07-07T18:14:02.019Z"
   },
   {
    "duration": 22,
    "start_time": "2021-07-07T18:14:02.031Z"
   },
   {
    "duration": 27,
    "start_time": "2021-07-07T18:14:02.055Z"
   },
   {
    "duration": 18,
    "start_time": "2021-07-07T18:14:02.084Z"
   },
   {
    "duration": 18,
    "start_time": "2021-07-07T18:14:02.106Z"
   },
   {
    "duration": 11,
    "start_time": "2021-07-07T18:14:02.126Z"
   },
   {
    "duration": 21,
    "start_time": "2021-07-07T18:14:02.138Z"
   },
   {
    "duration": 32,
    "start_time": "2021-07-07T18:14:02.161Z"
   },
   {
    "duration": 28,
    "start_time": "2021-07-07T18:14:44.295Z"
   },
   {
    "duration": 6,
    "start_time": "2021-07-07T18:15:05.834Z"
   },
   {
    "duration": 511,
    "start_time": "2021-07-07T18:15:41.541Z"
   },
   {
    "duration": 183,
    "start_time": "2021-07-07T18:15:42.054Z"
   },
   {
    "duration": 50,
    "start_time": "2021-07-07T18:15:42.239Z"
   },
   {
    "duration": 5,
    "start_time": "2021-07-07T18:15:42.291Z"
   },
   {
    "duration": 48,
    "start_time": "2021-07-07T18:15:42.297Z"
   },
   {
    "duration": 8,
    "start_time": "2021-07-07T18:15:42.346Z"
   },
   {
    "duration": 17,
    "start_time": "2021-07-07T18:15:42.356Z"
   },
   {
    "duration": 15,
    "start_time": "2021-07-07T18:15:42.375Z"
   },
   {
    "duration": 12,
    "start_time": "2021-07-07T18:15:42.392Z"
   },
   {
    "duration": 7,
    "start_time": "2021-07-07T18:15:42.406Z"
   },
   {
    "duration": 7,
    "start_time": "2021-07-07T18:15:42.415Z"
   },
   {
    "duration": 29,
    "start_time": "2021-07-07T18:15:42.423Z"
   },
   {
    "duration": 43,
    "start_time": "2021-07-07T18:15:42.453Z"
   },
   {
    "duration": 18,
    "start_time": "2021-07-07T18:15:42.497Z"
   },
   {
    "duration": 6,
    "start_time": "2021-07-07T18:15:42.516Z"
   },
   {
    "duration": 3,
    "start_time": "2021-07-07T18:15:42.523Z"
   },
   {
    "duration": 18,
    "start_time": "2021-07-07T18:15:42.528Z"
   },
   {
    "duration": 10,
    "start_time": "2021-07-07T18:15:42.547Z"
   },
   {
    "duration": 36,
    "start_time": "2021-07-07T18:15:42.559Z"
   },
   {
    "duration": 8,
    "start_time": "2021-07-07T18:15:42.597Z"
   },
   {
    "duration": 28,
    "start_time": "2021-07-07T18:15:42.606Z"
   },
   {
    "duration": 52,
    "start_time": "2021-07-07T18:15:42.635Z"
   },
   {
    "duration": 7,
    "start_time": "2021-07-07T18:15:42.690Z"
   },
   {
    "duration": 10,
    "start_time": "2021-07-07T18:15:42.699Z"
   },
   {
    "duration": 19,
    "start_time": "2021-07-07T18:15:42.711Z"
   },
   {
    "duration": 9,
    "start_time": "2021-07-07T18:15:42.732Z"
   },
   {
    "duration": 5,
    "start_time": "2021-07-07T18:15:42.743Z"
   },
   {
    "duration": 1450,
    "start_time": "2021-07-07T18:15:51.984Z"
   },
   {
    "duration": 161,
    "start_time": "2021-07-07T18:15:53.435Z"
   },
   {
    "duration": 124,
    "start_time": "2021-07-07T18:15:53.598Z"
   },
   {
    "duration": 5,
    "start_time": "2021-07-07T18:15:53.724Z"
   },
   {
    "duration": 34,
    "start_time": "2021-07-07T18:15:53.730Z"
   },
   {
    "duration": 7,
    "start_time": "2021-07-07T18:15:53.765Z"
   },
   {
    "duration": 15,
    "start_time": "2021-07-07T18:15:53.773Z"
   },
   {
    "duration": 5,
    "start_time": "2021-07-07T18:15:53.791Z"
   },
   {
    "duration": 19,
    "start_time": "2021-07-07T18:15:53.798Z"
   },
   {
    "duration": 9,
    "start_time": "2021-07-07T18:15:53.818Z"
   },
   {
    "duration": 19,
    "start_time": "2021-07-07T18:15:53.828Z"
   },
   {
    "duration": 27,
    "start_time": "2021-07-07T18:15:53.848Z"
   },
   {
    "duration": 16,
    "start_time": "2021-07-07T18:15:53.884Z"
   },
   {
    "duration": 29,
    "start_time": "2021-07-07T18:15:53.901Z"
   },
   {
    "duration": 5,
    "start_time": "2021-07-07T18:15:53.932Z"
   },
   {
    "duration": 15,
    "start_time": "2021-07-07T18:15:53.939Z"
   },
   {
    "duration": 13,
    "start_time": "2021-07-07T18:15:53.956Z"
   },
   {
    "duration": 20,
    "start_time": "2021-07-07T18:15:53.971Z"
   },
   {
    "duration": 14,
    "start_time": "2021-07-07T18:15:53.992Z"
   },
   {
    "duration": 9,
    "start_time": "2021-07-07T18:15:54.009Z"
   },
   {
    "duration": 28,
    "start_time": "2021-07-07T18:15:54.020Z"
   },
   {
    "duration": 50,
    "start_time": "2021-07-07T18:15:54.051Z"
   },
   {
    "duration": 8,
    "start_time": "2021-07-07T18:15:54.105Z"
   },
   {
    "duration": 11,
    "start_time": "2021-07-07T18:15:54.115Z"
   },
   {
    "duration": 20,
    "start_time": "2021-07-07T18:15:54.128Z"
   },
   {
    "duration": 13,
    "start_time": "2021-07-07T18:15:54.184Z"
   },
   {
    "duration": 7,
    "start_time": "2021-07-07T18:15:54.199Z"
   },
   {
    "duration": 7,
    "start_time": "2021-07-07T18:17:08.042Z"
   },
   {
    "duration": 8,
    "start_time": "2021-07-07T18:17:21.008Z"
   },
   {
    "duration": 7,
    "start_time": "2021-07-07T18:17:29.003Z"
   },
   {
    "duration": 8,
    "start_time": "2021-07-07T18:17:32.492Z"
   },
   {
    "duration": 9,
    "start_time": "2021-07-07T18:17:41.758Z"
   },
   {
    "duration": 255,
    "start_time": "2021-07-07T18:20:20.897Z"
   },
   {
    "duration": 173,
    "start_time": "2021-07-07T18:20:26.636Z"
   },
   {
    "duration": 7,
    "start_time": "2021-07-07T18:21:47.164Z"
   },
   {
    "duration": 254,
    "start_time": "2021-07-07T18:23:08.703Z"
   },
   {
    "duration": 21,
    "start_time": "2021-07-07T18:23:22.506Z"
   },
   {
    "duration": 315,
    "start_time": "2021-07-07T18:25:54.801Z"
   },
   {
    "duration": 34,
    "start_time": "2021-07-07T18:26:51.817Z"
   },
   {
    "duration": 327,
    "start_time": "2021-07-07T18:26:56.147Z"
   },
   {
    "duration": 342,
    "start_time": "2021-07-07T18:27:15.887Z"
   },
   {
    "duration": 302,
    "start_time": "2021-07-07T18:28:18.569Z"
   },
   {
    "duration": 226,
    "start_time": "2021-07-07T18:29:20.879Z"
   },
   {
    "duration": 207,
    "start_time": "2021-07-07T18:29:58.114Z"
   },
   {
    "duration": 140,
    "start_time": "2021-07-07T18:32:04.372Z"
   },
   {
    "duration": 158,
    "start_time": "2021-07-07T18:32:32.508Z"
   },
   {
    "duration": 145,
    "start_time": "2021-07-07T18:32:41.365Z"
   },
   {
    "duration": 132,
    "start_time": "2021-07-07T18:32:45.199Z"
   },
   {
    "duration": 11,
    "start_time": "2021-07-07T18:35:24.679Z"
   },
   {
    "duration": 268,
    "start_time": "2021-07-07T18:36:16.145Z"
   },
   {
    "duration": 227,
    "start_time": "2021-07-07T18:37:04.918Z"
   },
   {
    "duration": 3,
    "start_time": "2021-07-07T18:37:33.012Z"
   },
   {
    "duration": 671,
    "start_time": "2021-07-07T18:37:38.295Z"
   },
   {
    "duration": 54,
    "start_time": "2021-07-07T18:37:53.406Z"
   },
   {
    "duration": 631,
    "start_time": "2021-07-07T18:37:56.463Z"
   },
   {
    "duration": 19,
    "start_time": "2021-07-07T18:39:40.535Z"
   },
   {
    "duration": 20,
    "start_time": "2021-07-07T18:40:12.236Z"
   },
   {
    "duration": 633,
    "start_time": "2021-07-07T18:42:00.398Z"
   },
   {
    "duration": 218,
    "start_time": "2021-07-07T18:42:01.033Z"
   },
   {
    "duration": 49,
    "start_time": "2021-07-07T18:42:01.253Z"
   },
   {
    "duration": 5,
    "start_time": "2021-07-07T18:42:01.303Z"
   },
   {
    "duration": 27,
    "start_time": "2021-07-07T18:42:01.310Z"
   },
   {
    "duration": 8,
    "start_time": "2021-07-07T18:42:01.339Z"
   },
   {
    "duration": 20,
    "start_time": "2021-07-07T18:42:01.348Z"
   },
   {
    "duration": 6,
    "start_time": "2021-07-07T18:42:01.386Z"
   },
   {
    "duration": 16,
    "start_time": "2021-07-07T18:42:01.394Z"
   },
   {
    "duration": 9,
    "start_time": "2021-07-07T18:42:01.411Z"
   },
   {
    "duration": 11,
    "start_time": "2021-07-07T18:42:01.421Z"
   },
   {
    "duration": 31,
    "start_time": "2021-07-07T18:42:01.434Z"
   },
   {
    "duration": 18,
    "start_time": "2021-07-07T18:42:01.485Z"
   },
   {
    "duration": 23,
    "start_time": "2021-07-07T18:42:01.505Z"
   },
   {
    "duration": 6,
    "start_time": "2021-07-07T18:42:01.530Z"
   },
   {
    "duration": 10,
    "start_time": "2021-07-07T18:42:01.538Z"
   },
   {
    "duration": 13,
    "start_time": "2021-07-07T18:42:01.550Z"
   },
   {
    "duration": 24,
    "start_time": "2021-07-07T18:42:01.564Z"
   },
   {
    "duration": 20,
    "start_time": "2021-07-07T18:42:01.590Z"
   },
   {
    "duration": 8,
    "start_time": "2021-07-07T18:42:01.611Z"
   },
   {
    "duration": 31,
    "start_time": "2021-07-07T18:42:01.620Z"
   },
   {
    "duration": 39,
    "start_time": "2021-07-07T18:42:01.653Z"
   },
   {
    "duration": 8,
    "start_time": "2021-07-07T18:42:01.696Z"
   },
   {
    "duration": 13,
    "start_time": "2021-07-07T18:42:01.705Z"
   },
   {
    "duration": 20,
    "start_time": "2021-07-07T18:42:01.720Z"
   },
   {
    "duration": 12,
    "start_time": "2021-07-07T18:42:01.741Z"
   },
   {
    "duration": 35,
    "start_time": "2021-07-07T18:42:01.755Z"
   },
   {
    "duration": 14,
    "start_time": "2021-07-07T18:42:01.792Z"
   },
   {
    "duration": 188,
    "start_time": "2021-07-07T18:42:01.808Z"
   },
   {
    "duration": 19,
    "start_time": "2021-07-07T18:42:01.998Z"
   },
   {
    "duration": 175,
    "start_time": "2021-07-07T18:42:02.019Z"
   },
   {
    "duration": 134,
    "start_time": "2021-07-07T18:42:02.196Z"
   },
   {
    "duration": 10,
    "start_time": "2021-07-07T18:42:02.331Z"
   },
   {
    "duration": 19,
    "start_time": "2021-07-07T18:42:02.343Z"
   },
   {
    "duration": 628,
    "start_time": "2021-07-07T18:46:30.701Z"
   },
   {
    "duration": 183,
    "start_time": "2021-07-07T18:46:31.331Z"
   },
   {
    "duration": 48,
    "start_time": "2021-07-07T18:46:31.516Z"
   },
   {
    "duration": 5,
    "start_time": "2021-07-07T18:46:31.566Z"
   },
   {
    "duration": 28,
    "start_time": "2021-07-07T18:46:31.572Z"
   },
   {
    "duration": 8,
    "start_time": "2021-07-07T18:46:31.602Z"
   },
   {
    "duration": 19,
    "start_time": "2021-07-07T18:46:31.611Z"
   },
   {
    "duration": 6,
    "start_time": "2021-07-07T18:46:31.633Z"
   },
   {
    "duration": 17,
    "start_time": "2021-07-07T18:46:31.642Z"
   },
   {
    "duration": 10,
    "start_time": "2021-07-07T18:46:31.684Z"
   },
   {
    "duration": 9,
    "start_time": "2021-07-07T18:46:31.695Z"
   },
   {
    "duration": 28,
    "start_time": "2021-07-07T18:46:31.705Z"
   },
   {
    "duration": 18,
    "start_time": "2021-07-07T18:46:31.735Z"
   },
   {
    "duration": 48,
    "start_time": "2021-07-07T18:46:31.755Z"
   },
   {
    "duration": 6,
    "start_time": "2021-07-07T18:46:31.804Z"
   },
   {
    "duration": 4,
    "start_time": "2021-07-07T18:46:31.812Z"
   },
   {
    "duration": 9,
    "start_time": "2021-07-07T18:46:31.817Z"
   },
   {
    "duration": 10,
    "start_time": "2021-07-07T18:46:31.827Z"
   },
   {
    "duration": 12,
    "start_time": "2021-07-07T18:46:31.838Z"
   },
   {
    "duration": 39,
    "start_time": "2021-07-07T18:46:31.851Z"
   },
   {
    "duration": 24,
    "start_time": "2021-07-07T18:46:31.892Z"
   },
   {
    "duration": 15,
    "start_time": "2021-07-07T18:46:31.918Z"
   },
   {
    "duration": 7,
    "start_time": "2021-07-07T18:46:31.936Z"
   },
   {
    "duration": 8,
    "start_time": "2021-07-07T18:46:31.944Z"
   },
   {
    "duration": 19,
    "start_time": "2021-07-07T18:46:31.984Z"
   },
   {
    "duration": 10,
    "start_time": "2021-07-07T18:46:32.004Z"
   },
   {
    "duration": 5,
    "start_time": "2021-07-07T18:46:32.016Z"
   },
   {
    "duration": 9,
    "start_time": "2021-07-07T18:46:32.023Z"
   },
   {
    "duration": 199,
    "start_time": "2021-07-07T18:46:32.033Z"
   },
   {
    "duration": 19,
    "start_time": "2021-07-07T18:46:32.234Z"
   },
   {
    "duration": 159,
    "start_time": "2021-07-07T18:46:32.255Z"
   },
   {
    "duration": 134,
    "start_time": "2021-07-07T18:46:32.416Z"
   },
   {
    "duration": 10,
    "start_time": "2021-07-07T18:46:32.552Z"
   },
   {
    "duration": 34,
    "start_time": "2021-07-07T18:46:32.563Z"
   },
   {
    "duration": 1039,
    "start_time": "2021-07-08T08:41:09.419Z"
   },
   {
    "duration": 333,
    "start_time": "2021-07-08T08:41:10.459Z"
   },
   {
    "duration": 173,
    "start_time": "2021-07-08T08:41:10.794Z"
   },
   {
    "duration": 5,
    "start_time": "2021-07-08T08:41:10.968Z"
   },
   {
    "duration": 25,
    "start_time": "2021-07-08T08:41:10.975Z"
   },
   {
    "duration": 9,
    "start_time": "2021-07-08T08:41:11.002Z"
   },
   {
    "duration": 18,
    "start_time": "2021-07-08T08:41:11.013Z"
   },
   {
    "duration": 6,
    "start_time": "2021-07-08T08:41:11.033Z"
   },
   {
    "duration": 44,
    "start_time": "2021-07-08T08:41:11.042Z"
   },
   {
    "duration": 10,
    "start_time": "2021-07-08T08:41:11.088Z"
   },
   {
    "duration": 9,
    "start_time": "2021-07-08T08:41:11.100Z"
   },
   {
    "duration": 27,
    "start_time": "2021-07-08T08:41:11.111Z"
   },
   {
    "duration": 46,
    "start_time": "2021-07-08T08:41:11.140Z"
   },
   {
    "duration": 17,
    "start_time": "2021-07-08T08:41:11.187Z"
   },
   {
    "duration": 6,
    "start_time": "2021-07-08T08:41:11.206Z"
   },
   {
    "duration": 5,
    "start_time": "2021-07-08T08:41:11.213Z"
   },
   {
    "duration": 10,
    "start_time": "2021-07-08T08:41:11.219Z"
   },
   {
    "duration": 9,
    "start_time": "2021-07-08T08:41:11.230Z"
   },
   {
    "duration": 45,
    "start_time": "2021-07-08T08:41:11.241Z"
   },
   {
    "duration": 7,
    "start_time": "2021-07-08T08:41:11.287Z"
   },
   {
    "duration": 24,
    "start_time": "2021-07-08T08:41:11.296Z"
   },
   {
    "duration": 16,
    "start_time": "2021-07-08T08:41:11.322Z"
   },
   {
    "duration": 7,
    "start_time": "2021-07-08T08:41:11.341Z"
   },
   {
    "duration": 41,
    "start_time": "2021-07-08T08:41:11.349Z"
   },
   {
    "duration": 17,
    "start_time": "2021-07-08T08:41:11.391Z"
   },
   {
    "duration": 9,
    "start_time": "2021-07-08T08:41:11.410Z"
   },
   {
    "duration": 5,
    "start_time": "2021-07-08T08:41:11.421Z"
   },
   {
    "duration": 6,
    "start_time": "2021-07-08T08:41:11.428Z"
   },
   {
    "duration": 198,
    "start_time": "2021-07-08T08:41:11.435Z"
   },
   {
    "duration": 18,
    "start_time": "2021-07-08T08:41:11.635Z"
   },
   {
    "duration": 155,
    "start_time": "2021-07-08T08:41:11.655Z"
   },
   {
    "duration": 138,
    "start_time": "2021-07-08T08:41:11.811Z"
   },
   {
    "duration": 10,
    "start_time": "2021-07-08T08:41:11.950Z"
   },
   {
    "duration": 29,
    "start_time": "2021-07-08T08:41:11.961Z"
   },
   {
    "duration": 171,
    "start_time": "2021-07-08T08:47:44.522Z"
   },
   {
    "duration": 124,
    "start_time": "2021-07-08T08:47:46.872Z"
   },
   {
    "duration": 191,
    "start_time": "2021-07-08T08:47:58.148Z"
   },
   {
    "duration": 191,
    "start_time": "2021-07-08T08:48:07.412Z"
   },
   {
    "duration": 261,
    "start_time": "2021-07-08T08:48:10.385Z"
   },
   {
    "duration": 255,
    "start_time": "2021-07-08T08:48:14.494Z"
   },
   {
    "duration": 219,
    "start_time": "2021-07-08T08:48:22.752Z"
   },
   {
    "duration": 173,
    "start_time": "2021-07-08T08:49:06.395Z"
   },
   {
    "duration": 180,
    "start_time": "2021-07-08T08:49:21.011Z"
   },
   {
    "duration": 6,
    "start_time": "2021-07-08T08:50:31.697Z"
   },
   {
    "duration": 10,
    "start_time": "2021-07-08T08:50:47.394Z"
   },
   {
    "duration": 11,
    "start_time": "2021-07-08T08:53:49.332Z"
   },
   {
    "duration": 171,
    "start_time": "2021-07-08T08:54:28.408Z"
   },
   {
    "duration": 636,
    "start_time": "2021-07-08T09:02:48.385Z"
   },
   {
    "duration": 227,
    "start_time": "2021-07-08T09:02:49.023Z"
   },
   {
    "duration": 104,
    "start_time": "2021-07-08T09:02:49.252Z"
   },
   {
    "duration": 5,
    "start_time": "2021-07-08T09:02:49.358Z"
   },
   {
    "duration": 27,
    "start_time": "2021-07-08T09:02:49.365Z"
   },
   {
    "duration": 8,
    "start_time": "2021-07-08T09:02:49.394Z"
   },
   {
    "duration": 18,
    "start_time": "2021-07-08T09:02:49.404Z"
   },
   {
    "duration": 6,
    "start_time": "2021-07-08T09:02:49.424Z"
   },
   {
    "duration": 11,
    "start_time": "2021-07-08T09:02:49.433Z"
   },
   {
    "duration": 13,
    "start_time": "2021-07-08T09:02:49.485Z"
   },
   {
    "duration": 9,
    "start_time": "2021-07-08T09:02:49.500Z"
   },
   {
    "duration": 38,
    "start_time": "2021-07-08T09:02:49.511Z"
   },
   {
    "duration": 42,
    "start_time": "2021-07-08T09:02:49.551Z"
   },
   {
    "duration": 21,
    "start_time": "2021-07-08T09:02:49.594Z"
   },
   {
    "duration": 6,
    "start_time": "2021-07-08T09:02:49.616Z"
   },
   {
    "duration": 3,
    "start_time": "2021-07-08T09:02:49.623Z"
   },
   {
    "duration": 9,
    "start_time": "2021-07-08T09:02:49.628Z"
   },
   {
    "duration": 52,
    "start_time": "2021-07-08T09:02:49.638Z"
   },
   {
    "duration": 11,
    "start_time": "2021-07-08T09:02:49.692Z"
   },
   {
    "duration": 8,
    "start_time": "2021-07-08T09:02:49.704Z"
   },
   {
    "duration": 27,
    "start_time": "2021-07-08T09:02:49.713Z"
   },
   {
    "duration": 59,
    "start_time": "2021-07-08T09:02:49.741Z"
   },
   {
    "duration": 8,
    "start_time": "2021-07-08T09:02:49.803Z"
   },
   {
    "duration": 14,
    "start_time": "2021-07-08T09:02:49.813Z"
   },
   {
    "duration": 20,
    "start_time": "2021-07-08T09:02:49.829Z"
   },
   {
    "duration": 44,
    "start_time": "2021-07-08T09:02:49.851Z"
   },
   {
    "duration": 14,
    "start_time": "2021-07-08T09:02:49.896Z"
   },
   {
    "duration": 221,
    "start_time": "2021-07-08T09:02:49.912Z"
   },
   {
    "duration": 6,
    "start_time": "2021-07-08T09:02:50.134Z"
   },
   {
    "duration": 206,
    "start_time": "2021-07-08T09:02:50.142Z"
   },
   {
    "duration": 19,
    "start_time": "2021-07-08T09:02:50.350Z"
   },
   {
    "duration": 21,
    "start_time": "2021-07-08T09:02:50.370Z"
   },
   {
    "duration": 20,
    "start_time": "2021-07-08T09:02:50.393Z"
   },
   {
    "duration": 5,
    "start_time": "2021-07-08T09:02:50.414Z"
   },
   {
    "duration": 5,
    "start_time": "2021-07-08T09:03:34.173Z"
   },
   {
    "duration": 6,
    "start_time": "2021-07-08T09:04:49.062Z"
   },
   {
    "duration": 9,
    "start_time": "2021-07-08T09:04:50.118Z"
   },
   {
    "duration": 14,
    "start_time": "2021-07-08T09:04:58.512Z"
   },
   {
    "duration": 9,
    "start_time": "2021-07-08T09:05:10.988Z"
   },
   {
    "duration": 11,
    "start_time": "2021-07-08T09:05:11.743Z"
   },
   {
    "duration": 7,
    "start_time": "2021-07-08T09:05:25.677Z"
   },
   {
    "duration": 13,
    "start_time": "2021-07-08T09:05:47.189Z"
   },
   {
    "duration": 13,
    "start_time": "2021-07-08T09:05:54.755Z"
   },
   {
    "duration": 4,
    "start_time": "2021-07-08T09:06:29.189Z"
   },
   {
    "duration": 244,
    "start_time": "2021-07-08T09:06:29.195Z"
   },
   {
    "duration": 91,
    "start_time": "2021-07-08T09:06:29.441Z"
   },
   {
    "duration": 4,
    "start_time": "2021-07-08T09:06:29.534Z"
   },
   {
    "duration": 28,
    "start_time": "2021-07-08T09:06:29.540Z"
   },
   {
    "duration": 6,
    "start_time": "2021-07-08T09:06:29.570Z"
   },
   {
    "duration": 18,
    "start_time": "2021-07-08T09:06:29.578Z"
   },
   {
    "duration": 5,
    "start_time": "2021-07-08T09:06:29.597Z"
   },
   {
    "duration": 13,
    "start_time": "2021-07-08T09:06:29.605Z"
   },
   {
    "duration": 8,
    "start_time": "2021-07-08T09:06:29.620Z"
   },
   {
    "duration": 7,
    "start_time": "2021-07-08T09:06:29.630Z"
   },
   {
    "duration": 63,
    "start_time": "2021-07-08T09:06:29.639Z"
   },
   {
    "duration": 17,
    "start_time": "2021-07-08T09:06:29.704Z"
   },
   {
    "duration": 20,
    "start_time": "2021-07-08T09:06:29.723Z"
   },
   {
    "duration": 6,
    "start_time": "2021-07-08T09:06:29.745Z"
   },
   {
    "duration": 3,
    "start_time": "2021-07-08T09:06:29.752Z"
   },
   {
    "duration": 7,
    "start_time": "2021-07-08T09:06:29.785Z"
   },
   {
    "duration": 11,
    "start_time": "2021-07-08T09:06:29.794Z"
   },
   {
    "duration": 15,
    "start_time": "2021-07-08T09:06:29.807Z"
   },
   {
    "duration": 8,
    "start_time": "2021-07-08T09:06:29.823Z"
   },
   {
    "duration": 70,
    "start_time": "2021-07-08T09:06:29.832Z"
   },
   {
    "duration": 17,
    "start_time": "2021-07-08T09:06:29.903Z"
   },
   {
    "duration": 9,
    "start_time": "2021-07-08T09:06:29.921Z"
   },
   {
    "duration": 9,
    "start_time": "2021-07-08T09:06:29.932Z"
   },
   {
    "duration": 57,
    "start_time": "2021-07-08T09:06:29.942Z"
   },
   {
    "duration": 11,
    "start_time": "2021-07-08T09:06:30.001Z"
   },
   {
    "duration": 19,
    "start_time": "2021-07-08T09:06:30.016Z"
   },
   {
    "duration": 217,
    "start_time": "2021-07-08T09:06:30.037Z"
   },
   {
    "duration": 6,
    "start_time": "2021-07-08T09:06:30.255Z"
   },
   {
    "duration": 205,
    "start_time": "2021-07-08T09:06:30.263Z"
   },
   {
    "duration": 27,
    "start_time": "2021-07-08T09:06:30.470Z"
   },
   {
    "duration": 11,
    "start_time": "2021-07-08T09:06:30.500Z"
   },
   {
    "duration": 31,
    "start_time": "2021-07-08T09:06:30.513Z"
   },
   {
    "duration": 18,
    "start_time": "2021-07-08T09:06:30.546Z"
   },
   {
    "duration": 11,
    "start_time": "2021-07-08T09:06:30.566Z"
   },
   {
    "duration": 19,
    "start_time": "2021-07-08T09:06:30.579Z"
   },
   {
    "duration": 20,
    "start_time": "2021-07-08T09:06:49.466Z"
   },
   {
    "duration": 9,
    "start_time": "2021-07-08T09:06:51.994Z"
   },
   {
    "duration": 20,
    "start_time": "2021-07-08T09:06:52.273Z"
   },
   {
    "duration": 246,
    "start_time": "2021-07-08T09:10:21.272Z"
   },
   {
    "duration": 84,
    "start_time": "2021-07-08T09:10:21.436Z"
   },
   {
    "duration": 7,
    "start_time": "2021-07-08T09:10:37.608Z"
   },
   {
    "duration": 189,
    "start_time": "2021-07-08T09:10:38.573Z"
   },
   {
    "duration": 185,
    "start_time": "2021-07-08T09:10:53.181Z"
   },
   {
    "duration": 11,
    "start_time": "2021-07-08T09:10:59.549Z"
   },
   {
    "duration": 42,
    "start_time": "2021-07-08T09:10:59.709Z"
   },
   {
    "duration": 12,
    "start_time": "2021-07-08T09:11:02.857Z"
   },
   {
    "duration": 28,
    "start_time": "2021-07-08T09:11:10.062Z"
   },
   {
    "duration": 249,
    "start_time": "2021-07-08T09:11:37.388Z"
   },
   {
    "duration": 232,
    "start_time": "2021-07-08T09:11:49.485Z"
   },
   {
    "duration": 453,
    "start_time": "2021-07-08T09:12:01.546Z"
   },
   {
    "duration": 440,
    "start_time": "2021-07-08T09:12:12.347Z"
   },
   {
    "duration": 213,
    "start_time": "2021-07-08T09:13:32.196Z"
   },
   {
    "duration": 172,
    "start_time": "2021-07-08T09:14:07.400Z"
   },
   {
    "duration": 185,
    "start_time": "2021-07-08T09:14:14.905Z"
   },
   {
    "duration": 209,
    "start_time": "2021-07-08T09:14:40.109Z"
   },
   {
    "duration": 201,
    "start_time": "2021-07-08T09:14:54.506Z"
   },
   {
    "duration": 622,
    "start_time": "2021-07-08T09:18:14.497Z"
   },
   {
    "duration": 220,
    "start_time": "2021-07-08T09:18:15.121Z"
   },
   {
    "duration": 79,
    "start_time": "2021-07-08T09:18:15.343Z"
   },
   {
    "duration": 4,
    "start_time": "2021-07-08T09:18:15.425Z"
   },
   {
    "duration": 24,
    "start_time": "2021-07-08T09:18:15.431Z"
   },
   {
    "duration": 8,
    "start_time": "2021-07-08T09:18:15.457Z"
   },
   {
    "duration": 16,
    "start_time": "2021-07-08T09:18:15.466Z"
   },
   {
    "duration": 5,
    "start_time": "2021-07-08T09:18:15.484Z"
   },
   {
    "duration": 10,
    "start_time": "2021-07-08T09:18:15.493Z"
   },
   {
    "duration": 8,
    "start_time": "2021-07-08T09:18:15.504Z"
   },
   {
    "duration": 7,
    "start_time": "2021-07-08T09:18:15.513Z"
   },
   {
    "duration": 26,
    "start_time": "2021-07-08T09:18:15.522Z"
   },
   {
    "duration": 49,
    "start_time": "2021-07-08T09:18:15.550Z"
   },
   {
    "duration": 21,
    "start_time": "2021-07-08T09:18:15.601Z"
   },
   {
    "duration": 8,
    "start_time": "2021-07-08T09:18:15.624Z"
   },
   {
    "duration": 3,
    "start_time": "2021-07-08T09:18:15.634Z"
   },
   {
    "duration": 8,
    "start_time": "2021-07-08T09:18:15.639Z"
   },
   {
    "duration": 45,
    "start_time": "2021-07-08T09:18:15.649Z"
   },
   {
    "duration": 13,
    "start_time": "2021-07-08T09:18:15.696Z"
   },
   {
    "duration": 10,
    "start_time": "2021-07-08T09:18:15.711Z"
   },
   {
    "duration": 64,
    "start_time": "2021-07-08T09:18:15.722Z"
   },
   {
    "duration": 19,
    "start_time": "2021-07-08T09:18:15.788Z"
   },
   {
    "duration": 9,
    "start_time": "2021-07-08T09:18:15.809Z"
   },
   {
    "duration": 9,
    "start_time": "2021-07-08T09:18:15.820Z"
   },
   {
    "duration": 18,
    "start_time": "2021-07-08T09:18:15.831Z"
   },
   {
    "duration": 43,
    "start_time": "2021-07-08T09:18:15.851Z"
   },
   {
    "duration": 12,
    "start_time": "2021-07-08T09:18:15.897Z"
   },
   {
    "duration": 219,
    "start_time": "2021-07-08T09:18:15.911Z"
   },
   {
    "duration": 8,
    "start_time": "2021-07-08T09:18:16.132Z"
   },
   {
    "duration": 199,
    "start_time": "2021-07-08T09:18:16.141Z"
   },
   {
    "duration": 18,
    "start_time": "2021-07-08T09:18:16.341Z"
   },
   {
    "duration": 24,
    "start_time": "2021-07-08T09:18:16.361Z"
   },
   {
    "duration": 24,
    "start_time": "2021-07-08T09:18:16.387Z"
   },
   {
    "duration": 211,
    "start_time": "2021-07-08T09:18:16.413Z"
   },
   {
    "duration": 18,
    "start_time": "2021-07-08T09:18:16.626Z"
   },
   {
    "duration": 596,
    "start_time": "2021-07-08T10:06:33.623Z"
   },
   {
    "duration": 181,
    "start_time": "2021-07-08T10:06:34.221Z"
   },
   {
    "duration": 176,
    "start_time": "2021-07-08T10:06:34.635Z"
   },
   {
    "duration": 239,
    "start_time": "2021-07-08T10:06:55.572Z"
   },
   {
    "duration": 6,
    "start_time": "2021-07-08T10:06:57.687Z"
   },
   {
    "duration": 4,
    "start_time": "2021-07-08T10:07:03.956Z"
   },
   {
    "duration": 4,
    "start_time": "2021-07-08T10:07:10.376Z"
   },
   {
    "duration": 4,
    "start_time": "2021-07-08T10:17:19.889Z"
   },
   {
    "duration": 3,
    "start_time": "2021-07-08T10:19:19.407Z"
   },
   {
    "duration": 197,
    "start_time": "2021-07-08T10:19:19.412Z"
   },
   {
    "duration": 127,
    "start_time": "2021-07-08T10:19:19.611Z"
   },
   {
    "duration": 4,
    "start_time": "2021-07-08T10:19:19.740Z"
   },
   {
    "duration": 27,
    "start_time": "2021-07-08T10:19:19.746Z"
   },
   {
    "duration": 7,
    "start_time": "2021-07-08T10:19:19.775Z"
   },
   {
    "duration": 30,
    "start_time": "2021-07-08T10:19:19.784Z"
   },
   {
    "duration": 7,
    "start_time": "2021-07-08T10:19:19.817Z"
   },
   {
    "duration": 26,
    "start_time": "2021-07-08T10:19:19.826Z"
   },
   {
    "duration": 18,
    "start_time": "2021-07-08T10:19:19.854Z"
   },
   {
    "duration": 14,
    "start_time": "2021-07-08T10:19:19.874Z"
   },
   {
    "duration": 48,
    "start_time": "2021-07-08T10:19:19.890Z"
   },
   {
    "duration": 17,
    "start_time": "2021-07-08T10:19:19.940Z"
   },
   {
    "duration": 38,
    "start_time": "2021-07-08T10:19:19.959Z"
   },
   {
    "duration": 8,
    "start_time": "2021-07-08T10:19:19.999Z"
   },
   {
    "duration": 15,
    "start_time": "2021-07-08T10:19:20.009Z"
   },
   {
    "duration": 22,
    "start_time": "2021-07-08T10:19:20.026Z"
   },
   {
    "duration": 10,
    "start_time": "2021-07-08T10:19:20.050Z"
   },
   {
    "duration": 10,
    "start_time": "2021-07-08T10:19:20.062Z"
   },
   {
    "duration": 20,
    "start_time": "2021-07-08T10:19:20.073Z"
   },
   {
    "duration": 29,
    "start_time": "2021-07-08T10:19:20.095Z"
   },
   {
    "duration": 17,
    "start_time": "2021-07-08T10:19:20.126Z"
   },
   {
    "duration": 40,
    "start_time": "2021-07-08T10:19:20.146Z"
   },
   {
    "duration": 15,
    "start_time": "2021-07-08T10:19:20.189Z"
   },
   {
    "duration": 19,
    "start_time": "2021-07-08T10:19:20.206Z"
   },
   {
    "duration": 10,
    "start_time": "2021-07-08T10:19:20.226Z"
   },
   {
    "duration": 11,
    "start_time": "2021-07-08T10:19:20.238Z"
   },
   {
    "duration": 297,
    "start_time": "2021-07-08T10:19:20.250Z"
   },
   {
    "duration": 6,
    "start_time": "2021-07-08T10:19:20.549Z"
   },
   {
    "duration": 191,
    "start_time": "2021-07-08T10:19:20.557Z"
   },
   {
    "duration": 19,
    "start_time": "2021-07-08T10:19:20.750Z"
   },
   {
    "duration": 20,
    "start_time": "2021-07-08T10:19:20.771Z"
   },
   {
    "duration": 15,
    "start_time": "2021-07-08T10:19:20.793Z"
   },
   {
    "duration": 222,
    "start_time": "2021-07-08T10:19:20.809Z"
   },
   {
    "duration": 20,
    "start_time": "2021-07-08T10:19:21.033Z"
   },
   {
    "duration": 27,
    "start_time": "2021-07-08T10:45:04.055Z"
   },
   {
    "duration": 8,
    "start_time": "2021-07-08T10:45:08.478Z"
   },
   {
    "duration": 8,
    "start_time": "2021-07-08T10:45:31.982Z"
   },
   {
    "duration": 10,
    "start_time": "2021-07-08T10:46:01.221Z"
   },
   {
    "duration": 17,
    "start_time": "2021-07-08T10:46:40.011Z"
   },
   {
    "duration": 193,
    "start_time": "2021-07-08T10:48:19.471Z"
   },
   {
    "duration": 225,
    "start_time": "2021-07-08T10:49:26.480Z"
   },
   {
    "duration": 204,
    "start_time": "2021-07-08T10:49:59.992Z"
   },
   {
    "duration": 435,
    "start_time": "2021-07-08T10:50:06.779Z"
   },
   {
    "duration": 199,
    "start_time": "2021-07-08T10:50:14.891Z"
   },
   {
    "duration": 204,
    "start_time": "2021-07-08T10:50:18.501Z"
   },
   {
    "duration": 244,
    "start_time": "2021-07-08T10:50:23.359Z"
   },
   {
    "duration": 192,
    "start_time": "2021-07-08T10:50:29.135Z"
   },
   {
    "duration": 218,
    "start_time": "2021-07-08T10:50:33.092Z"
   },
   {
    "duration": 207,
    "start_time": "2021-07-08T10:52:45.381Z"
   },
   {
    "duration": 5,
    "start_time": "2021-07-08T10:53:34.641Z"
   },
   {
    "duration": 196,
    "start_time": "2021-07-08T10:53:41.478Z"
   },
   {
    "duration": 43,
    "start_time": "2021-07-08T10:53:50.335Z"
   },
   {
    "duration": 32,
    "start_time": "2021-07-08T10:53:55.294Z"
   },
   {
    "duration": 55,
    "start_time": "2021-07-08T10:54:09.675Z"
   },
   {
    "duration": 16,
    "start_time": "2021-07-08T10:54:12.260Z"
   },
   {
    "duration": 15,
    "start_time": "2021-07-08T10:54:49.150Z"
   },
   {
    "duration": 20,
    "start_time": "2021-07-08T10:56:07.596Z"
   },
   {
    "duration": 16,
    "start_time": "2021-07-08T10:58:26.276Z"
   },
   {
    "duration": 22,
    "start_time": "2021-07-08T10:59:00.486Z"
   },
   {
    "duration": 18,
    "start_time": "2021-07-08T11:02:09.653Z"
   },
   {
    "duration": 10,
    "start_time": "2021-07-08T11:03:44.331Z"
   },
   {
    "duration": 10,
    "start_time": "2021-07-08T11:03:54.055Z"
   },
   {
    "duration": 12,
    "start_time": "2021-07-08T11:04:41.967Z"
   },
   {
    "duration": 24,
    "start_time": "2021-07-08T11:07:30.732Z"
   },
   {
    "duration": 6,
    "start_time": "2021-07-08T11:07:37.364Z"
   },
   {
    "duration": 16,
    "start_time": "2021-07-08T11:08:01.819Z"
   },
   {
    "duration": 17,
    "start_time": "2021-07-08T11:09:47.488Z"
   },
   {
    "duration": 246,
    "start_time": "2021-07-08T11:10:00.830Z"
   },
   {
    "duration": 18,
    "start_time": "2021-07-08T11:13:55.195Z"
   },
   {
    "duration": 204,
    "start_time": "2021-07-08T11:14:04.951Z"
   },
   {
    "duration": 19,
    "start_time": "2021-07-08T11:15:10.613Z"
   },
   {
    "duration": 680,
    "start_time": "2021-07-08T11:16:25.793Z"
   },
   {
    "duration": 451,
    "start_time": "2021-07-08T11:16:40.313Z"
   },
   {
    "duration": 469,
    "start_time": "2021-07-08T11:17:21.286Z"
   },
   {
    "duration": 20,
    "start_time": "2021-07-08T11:19:12.554Z"
   },
   {
    "duration": 35,
    "start_time": "2021-07-08T11:20:05.484Z"
   },
   {
    "duration": 53,
    "start_time": "2021-07-08T11:21:40.050Z"
   },
   {
    "duration": 13,
    "start_time": "2021-07-08T11:22:26.059Z"
   },
   {
    "duration": 19,
    "start_time": "2021-07-08T11:22:47.419Z"
   },
   {
    "duration": 25,
    "start_time": "2021-07-08T11:23:19.958Z"
   },
   {
    "duration": 29,
    "start_time": "2021-07-08T11:23:25.415Z"
   },
   {
    "duration": 10,
    "start_time": "2021-07-08T11:24:45.138Z"
   },
   {
    "duration": 19,
    "start_time": "2021-07-08T11:24:54.498Z"
   },
   {
    "duration": 12,
    "start_time": "2021-07-08T11:25:32.225Z"
   },
   {
    "duration": 19,
    "start_time": "2021-07-08T11:25:37.092Z"
   },
   {
    "duration": 17,
    "start_time": "2021-07-08T11:25:58.116Z"
   },
   {
    "duration": 15,
    "start_time": "2021-07-08T11:26:02.258Z"
   },
   {
    "duration": 8,
    "start_time": "2021-07-08T11:26:59.682Z"
   },
   {
    "duration": 184,
    "start_time": "2021-07-08T11:27:21.894Z"
   },
   {
    "duration": 8,
    "start_time": "2021-07-08T11:27:23.824Z"
   },
   {
    "duration": 202,
    "start_time": "2021-07-08T11:27:23.962Z"
   },
   {
    "duration": 360,
    "start_time": "2021-07-08T11:28:33.215Z"
   },
   {
    "duration": 231,
    "start_time": "2021-07-08T11:32:05.542Z"
   },
   {
    "duration": 607,
    "start_time": "2021-07-08T11:36:27.854Z"
   },
   {
    "duration": 241,
    "start_time": "2021-07-08T11:36:28.463Z"
   },
   {
    "duration": 67,
    "start_time": "2021-07-08T11:36:28.709Z"
   },
   {
    "duration": 5,
    "start_time": "2021-07-08T11:36:28.778Z"
   },
   {
    "duration": 32,
    "start_time": "2021-07-08T11:36:28.784Z"
   },
   {
    "duration": 11,
    "start_time": "2021-07-08T11:36:28.819Z"
   },
   {
    "duration": 20,
    "start_time": "2021-07-08T11:36:28.834Z"
   },
   {
    "duration": 36,
    "start_time": "2021-07-08T11:36:28.857Z"
   },
   {
    "duration": 16,
    "start_time": "2021-07-08T11:36:28.895Z"
   },
   {
    "duration": 14,
    "start_time": "2021-07-08T11:36:28.913Z"
   },
   {
    "duration": 9,
    "start_time": "2021-07-08T11:36:28.930Z"
   },
   {
    "duration": 55,
    "start_time": "2021-07-08T11:36:28.941Z"
   },
   {
    "duration": 27,
    "start_time": "2021-07-08T11:36:28.999Z"
   },
   {
    "duration": 30,
    "start_time": "2021-07-08T11:36:29.028Z"
   },
   {
    "duration": 31,
    "start_time": "2021-07-08T11:36:29.060Z"
   },
   {
    "duration": 3,
    "start_time": "2021-07-08T11:36:29.093Z"
   },
   {
    "duration": 12,
    "start_time": "2021-07-08T11:36:29.099Z"
   },
   {
    "duration": 11,
    "start_time": "2021-07-08T11:36:29.112Z"
   },
   {
    "duration": 12,
    "start_time": "2021-07-08T11:36:29.125Z"
   },
   {
    "duration": 9,
    "start_time": "2021-07-08T11:36:29.139Z"
   },
   {
    "duration": 31,
    "start_time": "2021-07-08T11:36:29.191Z"
   },
   {
    "duration": 17,
    "start_time": "2021-07-08T11:36:29.226Z"
   },
   {
    "duration": 7,
    "start_time": "2021-07-08T11:36:29.245Z"
   },
   {
    "duration": 10,
    "start_time": "2021-07-08T11:36:29.254Z"
   },
   {
    "duration": 30,
    "start_time": "2021-07-08T11:36:29.292Z"
   },
   {
    "duration": 11,
    "start_time": "2021-07-08T11:36:29.324Z"
   },
   {
    "duration": 11,
    "start_time": "2021-07-08T11:36:29.337Z"
   },
   {
    "duration": 230,
    "start_time": "2021-07-08T11:36:29.349Z"
   },
   {
    "duration": 13,
    "start_time": "2021-07-08T11:36:29.588Z"
   },
   {
    "duration": 205,
    "start_time": "2021-07-08T11:36:29.603Z"
   },
   {
    "duration": 20,
    "start_time": "2021-07-08T11:36:29.810Z"
   },
   {
    "duration": 9,
    "start_time": "2021-07-08T11:36:29.832Z"
   },
   {
    "duration": 16,
    "start_time": "2021-07-08T11:36:29.843Z"
   },
   {
    "duration": 283,
    "start_time": "2021-07-08T11:36:29.861Z"
   },
   {
    "duration": 50,
    "start_time": "2021-07-08T11:36:30.146Z"
   },
   {
    "duration": 14,
    "start_time": "2021-07-08T11:36:30.198Z"
   },
   {
    "duration": 11,
    "start_time": "2021-07-08T11:36:30.214Z"
   },
   {
    "duration": 245,
    "start_time": "2021-07-08T11:36:30.227Z"
   },
   {
    "duration": 439,
    "start_time": "2021-07-08T11:36:30.474Z"
   },
   {
    "duration": 210,
    "start_time": "2021-07-08T11:36:30.915Z"
   },
   {
    "duration": 15,
    "start_time": "2021-07-08T11:36:31.127Z"
   },
   {
    "duration": 17,
    "start_time": "2021-07-08T11:38:20.451Z"
   },
   {
    "duration": 642,
    "start_time": "2021-07-08T11:46:17.881Z"
   },
   {
    "duration": 210,
    "start_time": "2021-07-08T11:46:18.525Z"
   },
   {
    "duration": 104,
    "start_time": "2021-07-08T11:46:18.741Z"
   },
   {
    "duration": 8,
    "start_time": "2021-07-08T11:46:18.847Z"
   },
   {
    "duration": 25,
    "start_time": "2021-07-08T11:46:18.857Z"
   },
   {
    "duration": 14,
    "start_time": "2021-07-08T11:46:18.884Z"
   },
   {
    "duration": 22,
    "start_time": "2021-07-08T11:46:18.900Z"
   },
   {
    "duration": 5,
    "start_time": "2021-07-08T11:46:18.924Z"
   },
   {
    "duration": 13,
    "start_time": "2021-07-08T11:46:18.931Z"
   },
   {
    "duration": 45,
    "start_time": "2021-07-08T11:46:18.946Z"
   },
   {
    "duration": 12,
    "start_time": "2021-07-08T11:46:18.993Z"
   },
   {
    "duration": 38,
    "start_time": "2021-07-08T11:46:19.006Z"
   },
   {
    "duration": 50,
    "start_time": "2021-07-08T11:46:19.046Z"
   },
   {
    "duration": 29,
    "start_time": "2021-07-08T11:46:19.099Z"
   },
   {
    "duration": 7,
    "start_time": "2021-07-08T11:46:19.130Z"
   },
   {
    "duration": 3,
    "start_time": "2021-07-08T11:46:19.139Z"
   },
   {
    "duration": 11,
    "start_time": "2021-07-08T11:46:19.144Z"
   },
   {
    "duration": 40,
    "start_time": "2021-07-08T11:46:19.157Z"
   },
   {
    "duration": 15,
    "start_time": "2021-07-08T11:46:19.199Z"
   },
   {
    "duration": 10,
    "start_time": "2021-07-08T11:46:19.217Z"
   },
   {
    "duration": 68,
    "start_time": "2021-07-08T11:46:19.230Z"
   },
   {
    "duration": 17,
    "start_time": "2021-07-08T11:46:19.301Z"
   },
   {
    "duration": 7,
    "start_time": "2021-07-08T11:46:19.321Z"
   },
   {
    "duration": 11,
    "start_time": "2021-07-08T11:46:19.330Z"
   },
   {
    "duration": 59,
    "start_time": "2021-07-08T11:46:19.343Z"
   },
   {
    "duration": 17,
    "start_time": "2021-07-08T11:46:19.405Z"
   },
   {
    "duration": 16,
    "start_time": "2021-07-08T11:46:19.424Z"
   },
   {
    "duration": 252,
    "start_time": "2021-07-08T11:46:19.443Z"
   },
   {
    "duration": 9,
    "start_time": "2021-07-08T11:46:19.697Z"
   },
   {
    "duration": 224,
    "start_time": "2021-07-08T11:46:19.708Z"
   },
   {
    "duration": 21,
    "start_time": "2021-07-08T11:46:19.934Z"
   },
   {
    "duration": 9,
    "start_time": "2021-07-08T11:46:19.956Z"
   },
   {
    "duration": 32,
    "start_time": "2021-07-08T11:46:19.967Z"
   },
   {
    "duration": 288,
    "start_time": "2021-07-08T11:46:20.004Z"
   },
   {
    "duration": 23,
    "start_time": "2021-07-08T11:46:20.300Z"
   },
   {
    "duration": 11,
    "start_time": "2021-07-08T11:46:20.325Z"
   },
   {
    "duration": 11,
    "start_time": "2021-07-08T11:46:20.339Z"
   },
   {
    "duration": 259,
    "start_time": "2021-07-08T11:46:20.352Z"
   },
   {
    "duration": 438,
    "start_time": "2021-07-08T11:46:20.613Z"
   },
   {
    "duration": 207,
    "start_time": "2021-07-08T11:46:21.054Z"
   },
   {
    "duration": 27,
    "start_time": "2021-07-08T11:46:21.262Z"
   },
   {
    "duration": 19,
    "start_time": "2021-07-08T11:46:21.291Z"
   },
   {
    "duration": 820,
    "start_time": "2021-07-08T11:49:01.655Z"
   },
   {
    "duration": 372,
    "start_time": "2021-07-08T11:49:02.478Z"
   },
   {
    "duration": 98,
    "start_time": "2021-07-08T11:49:02.853Z"
   },
   {
    "duration": 6,
    "start_time": "2021-07-08T11:49:02.953Z"
   },
   {
    "duration": 39,
    "start_time": "2021-07-08T11:49:02.960Z"
   },
   {
    "duration": 9,
    "start_time": "2021-07-08T11:49:03.003Z"
   },
   {
    "duration": 23,
    "start_time": "2021-07-08T11:49:03.014Z"
   },
   {
    "duration": 6,
    "start_time": "2021-07-08T11:49:03.041Z"
   },
   {
    "duration": 20,
    "start_time": "2021-07-08T11:49:03.049Z"
   },
   {
    "duration": 18,
    "start_time": "2021-07-08T11:49:03.084Z"
   },
   {
    "duration": 14,
    "start_time": "2021-07-08T11:49:03.104Z"
   },
   {
    "duration": 39,
    "start_time": "2021-07-08T11:49:03.119Z"
   },
   {
    "duration": 38,
    "start_time": "2021-07-08T11:49:03.160Z"
   },
   {
    "duration": 26,
    "start_time": "2021-07-08T11:49:03.200Z"
   },
   {
    "duration": 7,
    "start_time": "2021-07-08T11:49:03.227Z"
   },
   {
    "duration": 4,
    "start_time": "2021-07-08T11:49:03.236Z"
   },
   {
    "duration": 15,
    "start_time": "2021-07-08T11:49:03.243Z"
   },
   {
    "duration": 21,
    "start_time": "2021-07-08T11:49:03.285Z"
   },
   {
    "duration": 17,
    "start_time": "2021-07-08T11:49:03.309Z"
   },
   {
    "duration": 10,
    "start_time": "2021-07-08T11:49:03.328Z"
   },
   {
    "duration": 65,
    "start_time": "2021-07-08T11:49:03.340Z"
   },
   {
    "duration": 18,
    "start_time": "2021-07-08T11:49:03.407Z"
   },
   {
    "duration": 8,
    "start_time": "2021-07-08T11:49:03.428Z"
   },
   {
    "duration": 15,
    "start_time": "2021-07-08T11:49:03.438Z"
   },
   {
    "duration": 40,
    "start_time": "2021-07-08T11:49:03.455Z"
   },
   {
    "duration": 12,
    "start_time": "2021-07-08T11:49:03.497Z"
   },
   {
    "duration": 29,
    "start_time": "2021-07-08T11:49:03.511Z"
   },
   {
    "duration": 285,
    "start_time": "2021-07-08T11:49:03.542Z"
   },
   {
    "duration": 8,
    "start_time": "2021-07-08T11:49:03.829Z"
   },
   {
    "duration": 227,
    "start_time": "2021-07-08T11:49:03.838Z"
   },
   {
    "duration": 40,
    "start_time": "2021-07-08T11:49:04.066Z"
   },
   {
    "duration": 10,
    "start_time": "2021-07-08T11:49:04.108Z"
   },
   {
    "duration": 26,
    "start_time": "2021-07-08T11:49:04.121Z"
   },
   {
    "duration": 290,
    "start_time": "2021-07-08T11:49:04.149Z"
   },
   {
    "duration": 26,
    "start_time": "2021-07-08T11:49:04.441Z"
   },
   {
    "duration": 31,
    "start_time": "2021-07-08T11:49:04.470Z"
   },
   {
    "duration": 14,
    "start_time": "2021-07-08T11:49:04.503Z"
   },
   {
    "duration": 259,
    "start_time": "2021-07-08T11:49:04.521Z"
   },
   {
    "duration": 480,
    "start_time": "2021-07-08T11:49:04.782Z"
   },
   {
    "duration": 225,
    "start_time": "2021-07-08T11:49:05.264Z"
   },
   {
    "duration": 22,
    "start_time": "2021-07-08T11:49:05.491Z"
   },
   {
    "duration": 24,
    "start_time": "2021-07-08T11:49:05.515Z"
   },
   {
    "duration": 634,
    "start_time": "2021-07-08T11:52:24.960Z"
   },
   {
    "duration": 199,
    "start_time": "2021-07-08T11:52:25.599Z"
   },
   {
    "duration": 106,
    "start_time": "2021-07-08T11:52:25.803Z"
   },
   {
    "duration": 7,
    "start_time": "2021-07-08T11:52:25.911Z"
   },
   {
    "duration": 29,
    "start_time": "2021-07-08T11:52:25.920Z"
   },
   {
    "duration": 7,
    "start_time": "2021-07-08T11:52:25.951Z"
   },
   {
    "duration": 26,
    "start_time": "2021-07-08T11:52:25.961Z"
   },
   {
    "duration": 11,
    "start_time": "2021-07-08T11:52:25.990Z"
   },
   {
    "duration": 29,
    "start_time": "2021-07-08T11:52:26.005Z"
   },
   {
    "duration": 9,
    "start_time": "2021-07-08T11:52:26.036Z"
   },
   {
    "duration": 8,
    "start_time": "2021-07-08T11:52:26.047Z"
   },
   {
    "duration": 63,
    "start_time": "2021-07-08T11:52:26.057Z"
   },
   {
    "duration": 17,
    "start_time": "2021-07-08T11:52:26.122Z"
   },
   {
    "duration": 43,
    "start_time": "2021-07-08T11:52:26.142Z"
   },
   {
    "duration": 17,
    "start_time": "2021-07-08T11:52:26.187Z"
   },
   {
    "duration": 5,
    "start_time": "2021-07-08T11:52:26.206Z"
   },
   {
    "duration": 12,
    "start_time": "2021-07-08T11:52:26.212Z"
   },
   {
    "duration": 11,
    "start_time": "2021-07-08T11:52:26.226Z"
   },
   {
    "duration": 12,
    "start_time": "2021-07-08T11:52:26.238Z"
   },
   {
    "duration": 38,
    "start_time": "2021-07-08T11:52:26.252Z"
   },
   {
    "duration": 40,
    "start_time": "2021-07-08T11:52:26.292Z"
   },
   {
    "duration": 17,
    "start_time": "2021-07-08T11:52:26.336Z"
   },
   {
    "duration": 39,
    "start_time": "2021-07-08T11:52:26.355Z"
   },
   {
    "duration": 11,
    "start_time": "2021-07-08T11:52:26.395Z"
   },
   {
    "duration": 23,
    "start_time": "2021-07-08T11:52:26.408Z"
   },
   {
    "duration": 12,
    "start_time": "2021-07-08T11:52:26.432Z"
   },
   {
    "duration": 41,
    "start_time": "2021-07-08T11:52:26.446Z"
   },
   {
    "duration": 215,
    "start_time": "2021-07-08T11:52:26.493Z"
   },
   {
    "duration": 8,
    "start_time": "2021-07-08T11:52:26.710Z"
   },
   {
    "duration": 228,
    "start_time": "2021-07-08T11:52:26.720Z"
   },
   {
    "duration": 18,
    "start_time": "2021-07-08T11:52:26.950Z"
   },
   {
    "duration": 35,
    "start_time": "2021-07-08T11:52:26.969Z"
   },
   {
    "duration": 23,
    "start_time": "2021-07-08T11:52:27.006Z"
   },
   {
    "duration": 258,
    "start_time": "2021-07-08T11:52:27.030Z"
   },
   {
    "duration": 24,
    "start_time": "2021-07-08T11:52:27.290Z"
   },
   {
    "duration": 12,
    "start_time": "2021-07-08T11:52:27.316Z"
   },
   {
    "duration": 10,
    "start_time": "2021-07-08T11:52:27.329Z"
   },
   {
    "duration": 298,
    "start_time": "2021-07-08T11:52:27.341Z"
   },
   {
    "duration": 436,
    "start_time": "2021-07-08T11:52:27.641Z"
   },
   {
    "duration": 216,
    "start_time": "2021-07-08T11:52:28.079Z"
   },
   {
    "duration": 20,
    "start_time": "2021-07-08T11:52:28.297Z"
   },
   {
    "duration": 17,
    "start_time": "2021-07-08T11:52:28.319Z"
   },
   {
    "duration": 828,
    "start_time": "2022-06-26T12:27:49.603Z"
   },
   {
    "duration": 54,
    "start_time": "2022-06-26T12:28:19.227Z"
   },
   {
    "duration": 330,
    "start_time": "2022-06-26T12:31:42.152Z"
   },
   {
    "duration": 144,
    "start_time": "2022-06-26T12:32:11.016Z"
   },
   {
    "duration": 130,
    "start_time": "2022-06-26T12:34:05.427Z"
   },
   {
    "duration": 123,
    "start_time": "2022-06-26T12:34:11.905Z"
   },
   {
    "duration": 111,
    "start_time": "2022-06-26T12:34:32.505Z"
   },
   {
    "duration": 138,
    "start_time": "2022-06-26T12:34:43.810Z"
   },
   {
    "duration": 122,
    "start_time": "2022-06-26T12:35:50.455Z"
   },
   {
    "duration": 131,
    "start_time": "2022-06-26T12:36:23.822Z"
   },
   {
    "duration": 1142,
    "start_time": "2022-06-26T12:37:04.056Z"
   },
   {
    "duration": 389,
    "start_time": "2022-06-26T12:37:25.985Z"
   },
   {
    "duration": 130,
    "start_time": "2022-06-26T12:42:54.122Z"
   },
   {
    "duration": 160,
    "start_time": "2022-06-26T12:46:48.048Z"
   },
   {
    "duration": 917,
    "start_time": "2022-06-26T12:52:19.147Z"
   },
   {
    "duration": 940,
    "start_time": "2022-06-26T12:52:21.537Z"
   },
   {
    "duration": 1007,
    "start_time": "2022-06-26T12:52:30.590Z"
   },
   {
    "duration": 129,
    "start_time": "2022-06-26T12:52:49.023Z"
   },
   {
    "duration": 330,
    "start_time": "2022-06-26T12:53:25.718Z"
   },
   {
    "duration": 979,
    "start_time": "2022-06-26T12:54:14.404Z"
   },
   {
    "duration": 1071,
    "start_time": "2022-06-26T12:54:24.823Z"
   },
   {
    "duration": 972,
    "start_time": "2022-06-26T12:54:34.265Z"
   },
   {
    "duration": 1200,
    "start_time": "2022-06-26T12:54:44.121Z"
   },
   {
    "duration": 977,
    "start_time": "2022-06-26T12:56:32.769Z"
   },
   {
    "duration": 914,
    "start_time": "2022-06-26T12:57:27.537Z"
   },
   {
    "duration": 313,
    "start_time": "2022-06-26T12:58:40.415Z"
   },
   {
    "duration": 1272,
    "start_time": "2022-06-26T12:58:47.225Z"
   },
   {
    "duration": 1182,
    "start_time": "2022-06-26T12:58:54.414Z"
   },
   {
    "duration": 1147,
    "start_time": "2022-06-26T12:59:30.186Z"
   },
   {
    "duration": 974,
    "start_time": "2022-06-26T13:00:03.845Z"
   },
   {
    "duration": 954,
    "start_time": "2022-06-26T13:00:10.740Z"
   },
   {
    "duration": 932,
    "start_time": "2022-06-26T13:00:15.473Z"
   },
   {
    "duration": 910,
    "start_time": "2022-06-26T13:00:21.042Z"
   },
   {
    "duration": 1234,
    "start_time": "2022-06-26T13:00:30.544Z"
   },
   {
    "duration": 1183,
    "start_time": "2022-06-26T13:01:09.694Z"
   },
   {
    "duration": 1013,
    "start_time": "2022-06-26T13:01:19.877Z"
   },
   {
    "duration": 1051,
    "start_time": "2022-06-26T13:01:50.293Z"
   },
   {
    "duration": 2418,
    "start_time": "2022-06-26T13:01:58.081Z"
   },
   {
    "duration": 1036,
    "start_time": "2022-06-26T13:02:15.381Z"
   },
   {
    "duration": 1075,
    "start_time": "2022-06-26T13:02:21.201Z"
   },
   {
    "duration": 2064,
    "start_time": "2022-06-26T13:04:53.076Z"
   },
   {
    "duration": 1933,
    "start_time": "2022-06-26T13:05:09.485Z"
   },
   {
    "duration": 919,
    "start_time": "2022-06-26T13:05:19.280Z"
   },
   {
    "duration": 908,
    "start_time": "2022-06-26T13:05:34.578Z"
   },
   {
    "duration": 335,
    "start_time": "2022-06-26T13:06:29.675Z"
   },
   {
    "duration": 961,
    "start_time": "2022-06-26T13:06:54.748Z"
   },
   {
    "duration": 2237,
    "start_time": "2022-06-26T13:07:02.412Z"
   },
   {
    "duration": 979,
    "start_time": "2022-06-26T13:07:17.326Z"
   },
   {
    "duration": 966,
    "start_time": "2022-06-26T13:07:26.116Z"
   },
   {
    "duration": 1117,
    "start_time": "2022-06-26T13:08:05.927Z"
   },
   {
    "duration": 209,
    "start_time": "2022-06-29T12:31:24.282Z"
   },
   {
    "duration": 4,
    "start_time": "2022-06-29T12:31:34.072Z"
   },
   {
    "duration": 2135,
    "start_time": "2022-06-29T12:32:15.563Z"
   },
   {
    "duration": 16210,
    "start_time": "2022-06-29T12:32:39.663Z"
   },
   {
    "duration": 24,
    "start_time": "2022-06-29T12:33:03.016Z"
   },
   {
    "duration": 4,
    "start_time": "2022-06-29T12:33:50.961Z"
   },
   {
    "duration": 4,
    "start_time": "2022-06-29T12:34:22.773Z"
   },
   {
    "duration": 1671,
    "start_time": "2022-06-29T13:20:27.020Z"
   },
   {
    "duration": 1025,
    "start_time": "2022-06-29T13:21:05.458Z"
   },
   {
    "duration": 897,
    "start_time": "2022-06-29T13:21:20.814Z"
   },
   {
    "duration": 1021,
    "start_time": "2022-06-29T13:24:25.902Z"
   },
   {
    "duration": 1036,
    "start_time": "2022-06-29T14:43:46.005Z"
   },
   {
    "duration": 1663,
    "start_time": "2022-06-29T14:45:27.156Z"
   },
   {
    "duration": 1126,
    "start_time": "2022-06-29T14:47:26.509Z"
   },
   {
    "duration": 963,
    "start_time": "2022-06-29T14:48:24.885Z"
   },
   {
    "duration": 892,
    "start_time": "2022-06-29T14:48:58.075Z"
   },
   {
    "duration": 892,
    "start_time": "2022-06-29T14:49:40.535Z"
   },
   {
    "duration": 962,
    "start_time": "2022-06-29T14:49:53.476Z"
   },
   {
    "duration": 872,
    "start_time": "2022-06-29T14:50:12.167Z"
   },
   {
    "duration": 1156,
    "start_time": "2022-06-29T14:50:25.884Z"
   },
   {
    "duration": 17,
    "start_time": "2022-06-29T14:55:56.015Z"
   },
   {
    "duration": 1945,
    "start_time": "2022-07-01T12:14:15.352Z"
   },
   {
    "duration": 1587,
    "start_time": "2022-07-01T12:14:30.740Z"
   },
   {
    "duration": 14,
    "start_time": "2022-07-01T12:15:13.296Z"
   },
   {
    "duration": 11,
    "start_time": "2022-07-01T12:47:25.794Z"
   },
   {
    "duration": 13,
    "start_time": "2022-07-01T12:47:35.051Z"
   },
   {
    "duration": 16,
    "start_time": "2022-07-01T12:47:41.463Z"
   },
   {
    "duration": 876,
    "start_time": "2022-07-01T12:47:45.681Z"
   },
   {
    "duration": 13,
    "start_time": "2022-07-01T12:47:46.559Z"
   },
   {
    "duration": 10,
    "start_time": "2022-07-01T12:47:48.615Z"
   },
   {
    "duration": 1552,
    "start_time": "2022-07-01T12:47:56.708Z"
   },
   {
    "duration": 16,
    "start_time": "2022-07-01T12:47:58.262Z"
   },
   {
    "duration": 12,
    "start_time": "2022-07-01T12:47:59.693Z"
   },
   {
    "duration": 11,
    "start_time": "2022-07-01T12:52:38.598Z"
   },
   {
    "duration": 944,
    "start_time": "2022-07-01T12:52:45.025Z"
   },
   {
    "duration": 13,
    "start_time": "2022-07-01T12:52:45.971Z"
   },
   {
    "duration": 10,
    "start_time": "2022-07-01T12:53:01.813Z"
   },
   {
    "duration": 12,
    "start_time": "2022-07-01T12:53:51.851Z"
   },
   {
    "duration": 75,
    "start_time": "2022-07-01T12:54:43.661Z"
   },
   {
    "duration": 18,
    "start_time": "2022-07-01T12:54:48.717Z"
   },
   {
    "duration": 18,
    "start_time": "2022-07-01T12:55:51.019Z"
   },
   {
    "duration": 65,
    "start_time": "2022-07-01T12:56:02.068Z"
   },
   {
    "duration": 16,
    "start_time": "2022-07-01T12:58:26.892Z"
   },
   {
    "duration": 13,
    "start_time": "2022-07-01T12:58:44.047Z"
   },
   {
    "duration": 15,
    "start_time": "2022-07-01T12:58:48.274Z"
   },
   {
    "duration": 15,
    "start_time": "2022-07-01T13:02:08.194Z"
   },
   {
    "duration": 15,
    "start_time": "2022-07-01T13:02:12.759Z"
   },
   {
    "duration": 14,
    "start_time": "2022-07-01T13:02:32.148Z"
   },
   {
    "duration": 16,
    "start_time": "2022-07-01T13:02:59.794Z"
   },
   {
    "duration": 14,
    "start_time": "2022-07-01T13:03:07.259Z"
   },
   {
    "duration": 926,
    "start_time": "2022-07-01T13:03:35.869Z"
   },
   {
    "duration": 911,
    "start_time": "2022-07-01T13:03:43.683Z"
   },
   {
    "duration": 17,
    "start_time": "2022-07-01T13:03:44.596Z"
   },
   {
    "duration": 20,
    "start_time": "2022-07-01T13:03:53.029Z"
   },
   {
    "duration": 16,
    "start_time": "2022-07-01T13:04:02.122Z"
   },
   {
    "duration": 17,
    "start_time": "2022-07-01T13:04:11.998Z"
   },
   {
    "duration": 15,
    "start_time": "2022-07-01T13:04:20.785Z"
   },
   {
    "duration": 16,
    "start_time": "2022-07-01T13:04:28.595Z"
   },
   {
    "duration": 917,
    "start_time": "2022-07-01T13:04:39.432Z"
   },
   {
    "duration": 15,
    "start_time": "2022-07-01T13:04:40.351Z"
   },
   {
    "duration": 10,
    "start_time": "2022-07-01T13:04:43.365Z"
   },
   {
    "duration": 54,
    "start_time": "2022-07-01T13:04:52.784Z"
   },
   {
    "duration": 871,
    "start_time": "2022-07-01T13:04:55.901Z"
   },
   {
    "duration": 13,
    "start_time": "2022-07-01T13:04:56.773Z"
   },
   {
    "duration": 11,
    "start_time": "2022-07-01T13:05:00.684Z"
   },
   {
    "duration": 14,
    "start_time": "2022-07-01T13:05:06.467Z"
   },
   {
    "duration": 15,
    "start_time": "2022-07-01T13:05:14.196Z"
   },
   {
    "duration": 16,
    "start_time": "2022-07-01T13:05:20.210Z"
   },
   {
    "duration": 17,
    "start_time": "2022-07-01T13:05:26.796Z"
   },
   {
    "duration": 16,
    "start_time": "2022-07-01T13:05:41.211Z"
   },
   {
    "duration": 14,
    "start_time": "2022-07-01T13:05:47.987Z"
   },
   {
    "duration": 15,
    "start_time": "2022-07-01T13:05:53.243Z"
   },
   {
    "duration": 13,
    "start_time": "2022-07-01T13:06:03.983Z"
   },
   {
    "duration": 17,
    "start_time": "2022-07-01T13:06:08.051Z"
   },
   {
    "duration": 1132,
    "start_time": "2022-07-01T13:06:10.405Z"
   },
   {
    "duration": 26,
    "start_time": "2022-07-01T13:06:11.539Z"
   },
   {
    "duration": 11,
    "start_time": "2022-07-01T13:06:14.297Z"
   },
   {
    "duration": 892,
    "start_time": "2022-07-01T13:07:51.894Z"
   },
   {
    "duration": 13,
    "start_time": "2022-07-01T13:07:52.788Z"
   },
   {
    "duration": 14,
    "start_time": "2022-07-01T13:07:57.795Z"
   },
   {
    "duration": 14,
    "start_time": "2022-07-01T13:08:08.852Z"
   },
   {
    "duration": 22,
    "start_time": "2022-07-01T13:08:33.798Z"
   },
   {
    "duration": 9,
    "start_time": "2022-07-01T13:10:23.139Z"
   },
   {
    "duration": 8,
    "start_time": "2022-07-01T13:10:27.162Z"
   },
   {
    "duration": 16,
    "start_time": "2022-07-01T13:11:37.877Z"
   },
   {
    "duration": 8,
    "start_time": "2022-07-01T13:12:55.334Z"
   },
   {
    "duration": 9,
    "start_time": "2022-07-01T13:13:11.884Z"
   },
   {
    "duration": 16,
    "start_time": "2022-07-01T13:14:12.102Z"
   },
   {
    "duration": 78,
    "start_time": "2022-07-01T13:14:16.615Z"
   },
   {
    "duration": 16,
    "start_time": "2022-07-01T13:15:10.278Z"
   },
   {
    "duration": 15,
    "start_time": "2022-07-01T13:15:13.973Z"
   },
   {
    "duration": 16,
    "start_time": "2022-07-01T13:17:16.553Z"
   },
   {
    "duration": 16,
    "start_time": "2022-07-01T13:17:31.196Z"
   },
   {
    "duration": 12,
    "start_time": "2022-07-01T13:17:39.835Z"
   },
   {
    "duration": 18,
    "start_time": "2022-07-01T13:20:23.520Z"
   },
   {
    "duration": 18,
    "start_time": "2022-07-01T13:20:40.279Z"
   },
   {
    "duration": 18,
    "start_time": "2022-07-01T13:20:49.575Z"
   },
   {
    "duration": 14,
    "start_time": "2022-07-01T13:23:28.754Z"
   },
   {
    "duration": 56,
    "start_time": "2022-07-01T13:24:48.891Z"
   },
   {
    "duration": 490,
    "start_time": "2022-07-01T13:24:58.564Z"
   },
   {
    "duration": 502,
    "start_time": "2022-07-01T13:25:10.885Z"
   },
   {
    "duration": 13,
    "start_time": "2022-07-01T13:25:17.340Z"
   },
   {
    "duration": 968,
    "start_time": "2022-07-01T13:25:31.527Z"
   },
   {
    "duration": 15,
    "start_time": "2022-07-01T13:25:32.498Z"
   },
   {
    "duration": 12,
    "start_time": "2022-07-01T13:25:42.614Z"
   },
   {
    "duration": 784,
    "start_time": "2022-07-01T13:26:08.788Z"
   },
   {
    "duration": 538,
    "start_time": "2022-07-01T13:27:55.870Z"
   },
   {
    "duration": 14,
    "start_time": "2022-07-01T13:27:59.725Z"
   },
   {
    "duration": 13,
    "start_time": "2022-07-01T13:28:40.815Z"
   },
   {
    "duration": 13,
    "start_time": "2022-07-01T13:29:06.230Z"
   },
   {
    "duration": 24,
    "start_time": "2022-07-01T13:29:27.178Z"
   },
   {
    "duration": 14,
    "start_time": "2022-07-01T13:30:04.865Z"
   },
   {
    "duration": 15,
    "start_time": "2022-07-01T13:30:09.683Z"
   },
   {
    "duration": 17,
    "start_time": "2022-07-01T13:31:19.679Z"
   },
   {
    "duration": 58,
    "start_time": "2022-07-01T13:31:28.590Z"
   },
   {
    "duration": 16,
    "start_time": "2022-07-01T13:31:34.409Z"
   },
   {
    "duration": 17,
    "start_time": "2022-07-01T13:31:41.993Z"
   },
   {
    "duration": 13,
    "start_time": "2022-07-01T13:31:50.467Z"
   },
   {
    "duration": 14,
    "start_time": "2022-07-01T13:31:56.001Z"
   },
   {
    "duration": 15,
    "start_time": "2022-07-01T13:32:00.734Z"
   },
   {
    "duration": 1609,
    "start_time": "2022-07-01T13:32:19.310Z"
   },
   {
    "duration": 24,
    "start_time": "2022-07-01T13:32:20.928Z"
   },
   {
    "duration": 13,
    "start_time": "2022-07-01T13:32:27.502Z"
   },
   {
    "duration": 6,
    "start_time": "2022-07-01T13:39:25.876Z"
   },
   {
    "duration": 7,
    "start_time": "2022-07-01T13:39:49.263Z"
   },
   {
    "duration": 1601,
    "start_time": "2022-07-01T13:40:27.158Z"
   },
   {
    "duration": 17,
    "start_time": "2022-07-01T13:40:28.760Z"
   },
   {
    "duration": 15,
    "start_time": "2022-07-01T13:40:28.778Z"
   },
   {
    "duration": 93,
    "start_time": "2022-07-01T13:40:28.794Z"
   },
   {
    "duration": 4,
    "start_time": "2022-07-01T13:40:37.677Z"
   },
   {
    "duration": 10,
    "start_time": "2022-07-01T13:42:19.408Z"
   },
   {
    "duration": 8,
    "start_time": "2022-07-01T13:42:25.356Z"
   },
   {
    "duration": 7,
    "start_time": "2022-07-01T13:42:36.267Z"
   },
   {
    "duration": 7,
    "start_time": "2022-07-01T13:43:12.036Z"
   },
   {
    "duration": 13,
    "start_time": "2022-07-01T13:47:04.947Z"
   },
   {
    "duration": 12,
    "start_time": "2022-07-01T13:47:53.150Z"
   },
   {
    "duration": 5,
    "start_time": "2022-07-01T13:49:05.223Z"
   },
   {
    "duration": 12,
    "start_time": "2022-07-01T13:57:44.808Z"
   },
   {
    "duration": 6,
    "start_time": "2022-07-01T13:57:54.757Z"
   },
   {
    "duration": 8,
    "start_time": "2022-07-01T13:58:03.019Z"
   },
   {
    "duration": 6,
    "start_time": "2022-07-01T13:58:09.620Z"
   },
   {
    "duration": 6,
    "start_time": "2022-07-01T13:58:23.762Z"
   },
   {
    "duration": 8,
    "start_time": "2022-07-01T13:58:47.575Z"
   },
   {
    "duration": 10,
    "start_time": "2022-07-01T13:59:29.749Z"
   },
   {
    "duration": 10,
    "start_time": "2022-07-01T13:59:43.279Z"
   },
   {
    "duration": 10,
    "start_time": "2022-07-01T13:59:55.735Z"
   },
   {
    "duration": 7,
    "start_time": "2022-07-01T14:00:37.763Z"
   },
   {
    "duration": 16,
    "start_time": "2022-07-01T14:01:09.014Z"
   },
   {
    "duration": 7,
    "start_time": "2022-07-01T14:01:25.259Z"
   },
   {
    "duration": 14,
    "start_time": "2022-07-01T14:01:43.672Z"
   },
   {
    "duration": 11,
    "start_time": "2022-07-01T14:03:41.009Z"
   },
   {
    "duration": 7,
    "start_time": "2022-07-01T14:05:13.833Z"
   },
   {
    "duration": 19,
    "start_time": "2022-07-01T14:08:03.338Z"
   },
   {
    "duration": 22,
    "start_time": "2022-07-01T14:08:37.701Z"
   },
   {
    "duration": 19,
    "start_time": "2022-07-01T14:09:00.455Z"
   },
   {
    "duration": 12,
    "start_time": "2022-07-01T14:10:10.317Z"
   },
   {
    "duration": 9,
    "start_time": "2022-07-01T14:10:19.097Z"
   },
   {
    "duration": 12,
    "start_time": "2022-07-01T14:15:20.313Z"
   },
   {
    "duration": 1739,
    "start_time": "2022-07-01T14:15:52.318Z"
   },
   {
    "duration": 19,
    "start_time": "2022-07-01T14:15:54.060Z"
   },
   {
    "duration": 18,
    "start_time": "2022-07-01T14:15:54.082Z"
   },
   {
    "duration": 31,
    "start_time": "2022-07-01T14:15:54.102Z"
   },
   {
    "duration": 84,
    "start_time": "2022-07-01T14:15:58.040Z"
   },
   {
    "duration": 46,
    "start_time": "2022-07-01T14:32:40.503Z"
   },
   {
    "duration": 1716,
    "start_time": "2022-07-01T14:32:44.934Z"
   },
   {
    "duration": 19,
    "start_time": "2022-07-01T14:32:46.654Z"
   },
   {
    "duration": 18,
    "start_time": "2022-07-01T14:32:46.675Z"
   },
   {
    "duration": 6,
    "start_time": "2022-07-01T14:32:46.695Z"
   },
   {
    "duration": 54,
    "start_time": "2022-07-01T14:32:49.164Z"
   },
   {
    "duration": 15,
    "start_time": "2022-07-01T14:33:05.507Z"
   },
   {
    "duration": 12,
    "start_time": "2022-07-01T14:33:21.525Z"
   },
   {
    "duration": 10,
    "start_time": "2022-07-01T14:33:30.372Z"
   },
   {
    "duration": 8,
    "start_time": "2022-07-01T14:33:33.179Z"
   },
   {
    "duration": 8,
    "start_time": "2022-07-01T14:33:36.845Z"
   },
   {
    "duration": 10,
    "start_time": "2022-07-01T14:33:41.099Z"
   },
   {
    "duration": 8,
    "start_time": "2022-07-01T14:33:47.001Z"
   },
   {
    "duration": 6,
    "start_time": "2022-07-01T14:33:53.177Z"
   },
   {
    "duration": 10,
    "start_time": "2022-07-01T14:34:04.021Z"
   },
   {
    "duration": 8,
    "start_time": "2022-07-01T14:34:11.392Z"
   },
   {
    "duration": 6,
    "start_time": "2022-07-01T14:35:06.220Z"
   },
   {
    "duration": 7,
    "start_time": "2022-07-01T14:35:16.840Z"
   },
   {
    "duration": 4,
    "start_time": "2022-07-01T14:35:49.174Z"
   },
   {
    "duration": 7,
    "start_time": "2022-07-01T14:36:03.746Z"
   },
   {
    "duration": 8,
    "start_time": "2022-07-01T14:36:33.589Z"
   },
   {
    "duration": 8,
    "start_time": "2022-07-01T14:36:40.903Z"
   },
   {
    "duration": 8,
    "start_time": "2022-07-01T14:36:44.284Z"
   },
   {
    "duration": 19,
    "start_time": "2022-07-01T14:37:42.597Z"
   },
   {
    "duration": 28,
    "start_time": "2022-07-01T14:37:56.620Z"
   },
   {
    "duration": 7,
    "start_time": "2022-07-01T14:40:05.074Z"
   },
   {
    "duration": 4,
    "start_time": "2022-07-01T14:40:25.989Z"
   },
   {
    "duration": 3,
    "start_time": "2022-07-01T14:40:28.054Z"
   },
   {
    "duration": 23,
    "start_time": "2022-07-01T14:40:34.967Z"
   },
   {
    "duration": 4,
    "start_time": "2022-07-01T14:40:45.101Z"
   },
   {
    "duration": 26,
    "start_time": "2022-07-01T14:46:37.186Z"
   },
   {
    "duration": 19,
    "start_time": "2022-07-01T14:46:48.857Z"
   },
   {
    "duration": 15,
    "start_time": "2022-07-01T14:46:58.069Z"
   },
   {
    "duration": 11,
    "start_time": "2022-07-01T14:49:19.291Z"
   },
   {
    "duration": 1489,
    "start_time": "2022-07-01T14:49:33.059Z"
   },
   {
    "duration": 16,
    "start_time": "2022-07-01T14:49:34.550Z"
   },
   {
    "duration": 12,
    "start_time": "2022-07-01T14:49:35.312Z"
   },
   {
    "duration": 9,
    "start_time": "2022-07-01T18:42:59.112Z"
   },
   {
    "duration": 1195,
    "start_time": "2022-07-01T18:43:03.314Z"
   },
   {
    "duration": 26,
    "start_time": "2022-07-01T18:43:04.512Z"
   },
   {
    "duration": 32,
    "start_time": "2022-07-01T18:43:04.541Z"
   },
   {
    "duration": 27,
    "start_time": "2022-07-01T18:43:04.575Z"
   },
   {
    "duration": 14,
    "start_time": "2022-07-01T18:43:04.605Z"
   },
   {
    "duration": 58,
    "start_time": "2022-07-01T18:43:04.620Z"
   },
   {
    "duration": 13,
    "start_time": "2022-07-01T18:43:04.680Z"
   },
   {
    "duration": 14,
    "start_time": "2022-07-01T18:43:10.419Z"
   },
   {
    "duration": 15,
    "start_time": "2022-07-01T18:44:37.393Z"
   },
   {
    "duration": 39,
    "start_time": "2022-07-01T18:45:07.109Z"
   },
   {
    "duration": 19,
    "start_time": "2022-07-01T18:45:23.401Z"
   },
   {
    "duration": 52,
    "start_time": "2022-07-02T18:07:12.478Z"
   },
   {
    "duration": 2097,
    "start_time": "2022-07-02T18:07:16.799Z"
   },
   {
    "duration": 32,
    "start_time": "2022-07-02T18:07:18.898Z"
   },
   {
    "duration": 15,
    "start_time": "2022-07-02T18:07:18.940Z"
   },
   {
    "duration": 23,
    "start_time": "2022-07-02T18:07:18.957Z"
   },
   {
    "duration": 16,
    "start_time": "2022-07-02T18:07:18.983Z"
   },
   {
    "duration": 25,
    "start_time": "2022-07-02T18:07:19.001Z"
   },
   {
    "duration": 35,
    "start_time": "2022-07-02T18:07:19.029Z"
   },
   {
    "duration": 19,
    "start_time": "2022-07-02T18:07:19.066Z"
   },
   {
    "duration": 25,
    "start_time": "2022-07-02T18:07:19.970Z"
   },
   {
    "duration": 57,
    "start_time": "2022-07-02T18:16:40.720Z"
   },
   {
    "duration": 5,
    "start_time": "2022-07-02T18:17:22.585Z"
   },
   {
    "duration": 38,
    "start_time": "2022-07-02T18:20:03.911Z"
   },
   {
    "duration": 9,
    "start_time": "2022-07-02T18:20:13.755Z"
   },
   {
    "duration": 20,
    "start_time": "2022-07-02T18:20:54.770Z"
   },
   {
    "duration": 19,
    "start_time": "2022-07-02T18:21:11.753Z"
   },
   {
    "duration": 18,
    "start_time": "2022-07-02T18:21:24.058Z"
   },
   {
    "duration": 24,
    "start_time": "2022-07-02T18:21:42.077Z"
   },
   {
    "duration": 56,
    "start_time": "2022-07-02T18:22:02.542Z"
   },
   {
    "duration": 24,
    "start_time": "2022-07-02T18:22:10.574Z"
   },
   {
    "duration": 23,
    "start_time": "2022-07-02T18:22:49.362Z"
   },
   {
    "duration": 23,
    "start_time": "2022-07-02T18:22:59.166Z"
   },
   {
    "duration": 30,
    "start_time": "2022-07-02T18:23:06.967Z"
   },
   {
    "duration": 1025,
    "start_time": "2022-07-02T18:23:13.082Z"
   },
   {
    "duration": 26,
    "start_time": "2022-07-02T18:23:14.109Z"
   },
   {
    "duration": 22,
    "start_time": "2022-07-02T18:23:14.138Z"
   },
   {
    "duration": 10,
    "start_time": "2022-07-02T18:23:14.162Z"
   },
   {
    "duration": 6,
    "start_time": "2022-07-02T18:23:14.174Z"
   },
   {
    "duration": 11,
    "start_time": "2022-07-02T18:23:14.182Z"
   },
   {
    "duration": 6,
    "start_time": "2022-07-02T18:23:14.195Z"
   },
   {
    "duration": 34,
    "start_time": "2022-07-02T18:23:14.202Z"
   },
   {
    "duration": 24,
    "start_time": "2022-07-02T18:23:14.238Z"
   },
   {
    "duration": 46,
    "start_time": "2022-07-02T18:23:15.925Z"
   },
   {
    "duration": 14,
    "start_time": "2022-07-02T18:26:24.021Z"
   },
   {
    "duration": 5,
    "start_time": "2022-07-02T18:27:48.493Z"
   },
   {
    "duration": 962,
    "start_time": "2022-07-02T18:30:22.950Z"
   },
   {
    "duration": 27,
    "start_time": "2022-07-02T18:30:23.914Z"
   },
   {
    "duration": 21,
    "start_time": "2022-07-02T18:30:23.943Z"
   },
   {
    "duration": 14,
    "start_time": "2022-07-02T18:30:23.966Z"
   },
   {
    "duration": 6,
    "start_time": "2022-07-02T18:30:23.982Z"
   },
   {
    "duration": 6,
    "start_time": "2022-07-02T18:30:23.989Z"
   },
   {
    "duration": 6,
    "start_time": "2022-07-02T18:30:23.997Z"
   },
   {
    "duration": 36,
    "start_time": "2022-07-02T18:30:24.004Z"
   },
   {
    "duration": 25,
    "start_time": "2022-07-02T18:30:24.042Z"
   },
   {
    "duration": 40,
    "start_time": "2022-07-02T18:30:24.069Z"
   },
   {
    "duration": 31,
    "start_time": "2022-07-02T18:30:24.110Z"
   },
   {
    "duration": 6,
    "start_time": "2022-07-02T18:30:26.476Z"
   },
   {
    "duration": 17,
    "start_time": "2022-07-02T18:30:56.646Z"
   },
   {
    "duration": 12,
    "start_time": "2022-07-02T18:31:09.544Z"
   },
   {
    "duration": 968,
    "start_time": "2022-07-02T18:31:12.908Z"
   },
   {
    "duration": 21,
    "start_time": "2022-07-02T18:31:13.878Z"
   },
   {
    "duration": 29,
    "start_time": "2022-07-02T18:31:13.901Z"
   },
   {
    "duration": 15,
    "start_time": "2022-07-02T18:31:13.931Z"
   },
   {
    "duration": 7,
    "start_time": "2022-07-02T18:31:13.949Z"
   },
   {
    "duration": 15,
    "start_time": "2022-07-02T18:31:13.958Z"
   },
   {
    "duration": 7,
    "start_time": "2022-07-02T18:31:13.974Z"
   },
   {
    "duration": 20,
    "start_time": "2022-07-02T18:31:13.982Z"
   },
   {
    "duration": 46,
    "start_time": "2022-07-02T18:31:14.003Z"
   },
   {
    "duration": 13,
    "start_time": "2022-07-02T18:31:15.637Z"
   },
   {
    "duration": 1017,
    "start_time": "2022-07-02T18:31:33.453Z"
   },
   {
    "duration": 19,
    "start_time": "2022-07-02T18:31:34.472Z"
   },
   {
    "duration": 36,
    "start_time": "2022-07-02T18:31:34.493Z"
   },
   {
    "duration": 23,
    "start_time": "2022-07-02T18:31:34.534Z"
   },
   {
    "duration": 9,
    "start_time": "2022-07-02T18:31:34.560Z"
   },
   {
    "duration": 11,
    "start_time": "2022-07-02T18:31:34.571Z"
   },
   {
    "duration": 8,
    "start_time": "2022-07-02T18:31:34.584Z"
   },
   {
    "duration": 28,
    "start_time": "2022-07-02T18:31:34.593Z"
   },
   {
    "duration": 42,
    "start_time": "2022-07-02T18:31:34.623Z"
   },
   {
    "duration": 16,
    "start_time": "2022-07-02T18:31:35.926Z"
   },
   {
    "duration": 9,
    "start_time": "2022-07-02T18:31:43.240Z"
   },
   {
    "duration": 5,
    "start_time": "2022-07-02T18:31:47.914Z"
   },
   {
    "duration": 12,
    "start_time": "2022-07-02T18:32:23.427Z"
   },
   {
    "duration": 5,
    "start_time": "2022-07-02T18:32:46.854Z"
   },
   {
    "duration": 5,
    "start_time": "2022-07-02T18:34:03.442Z"
   },
   {
    "duration": 6,
    "start_time": "2022-07-02T18:34:11.056Z"
   },
   {
    "duration": 12,
    "start_time": "2022-07-02T18:36:09.688Z"
   },
   {
    "duration": 14,
    "start_time": "2022-07-02T18:36:17.057Z"
   },
   {
    "duration": 19,
    "start_time": "2022-07-02T18:38:10.466Z"
   },
   {
    "duration": 1011,
    "start_time": "2022-07-02T18:38:23.989Z"
   },
   {
    "duration": 30,
    "start_time": "2022-07-02T18:38:25.002Z"
   },
   {
    "duration": 11,
    "start_time": "2022-07-02T18:38:25.033Z"
   },
   {
    "duration": 16,
    "start_time": "2022-07-02T18:38:25.045Z"
   },
   {
    "duration": 6,
    "start_time": "2022-07-02T18:38:25.063Z"
   },
   {
    "duration": 7,
    "start_time": "2022-07-02T18:38:25.070Z"
   },
   {
    "duration": 7,
    "start_time": "2022-07-02T18:38:25.079Z"
   },
   {
    "duration": 17,
    "start_time": "2022-07-02T18:38:25.087Z"
   },
   {
    "duration": 22,
    "start_time": "2022-07-02T18:38:25.126Z"
   },
   {
    "duration": 11,
    "start_time": "2022-07-02T18:38:25.150Z"
   },
   {
    "duration": 10,
    "start_time": "2022-07-02T18:38:25.163Z"
   },
   {
    "duration": 4,
    "start_time": "2022-07-02T18:38:25.175Z"
   },
   {
    "duration": 10,
    "start_time": "2022-07-02T18:38:25.181Z"
   },
   {
    "duration": 25,
    "start_time": "2022-07-02T18:39:17.065Z"
   },
   {
    "duration": 916,
    "start_time": "2022-07-02T18:45:56.490Z"
   },
   {
    "duration": 872,
    "start_time": "2022-07-02T18:46:11.879Z"
   },
   {
    "duration": 27,
    "start_time": "2022-07-02T18:46:28.972Z"
   },
   {
    "duration": 28,
    "start_time": "2022-07-02T18:47:16.189Z"
   },
   {
    "duration": 4,
    "start_time": "2022-07-02T18:47:45.986Z"
   },
   {
    "duration": 881,
    "start_time": "2022-07-02T18:47:58.193Z"
   },
   {
    "duration": 11,
    "start_time": "2022-07-02T18:49:49.812Z"
   },
   {
    "duration": 90,
    "start_time": "2022-07-02T18:50:05.864Z"
   },
   {
    "duration": 8,
    "start_time": "2022-07-02T18:51:03.987Z"
   },
   {
    "duration": 16,
    "start_time": "2022-07-02T18:51:09.706Z"
   },
   {
    "duration": 25,
    "start_time": "2022-07-02T18:51:31.133Z"
   },
   {
    "duration": 49,
    "start_time": "2022-07-02T18:59:10.067Z"
   },
   {
    "duration": 65,
    "start_time": "2022-07-02T18:59:15.153Z"
   },
   {
    "duration": 8,
    "start_time": "2022-07-02T19:44:52.182Z"
   },
   {
    "duration": 16,
    "start_time": "2022-07-02T19:46:40.938Z"
   },
   {
    "duration": 13,
    "start_time": "2022-07-02T19:47:00.193Z"
   },
   {
    "duration": 15,
    "start_time": "2022-07-02T19:48:11.975Z"
   },
   {
    "duration": 12,
    "start_time": "2022-07-02T19:48:47.988Z"
   },
   {
    "duration": 50,
    "start_time": "2022-07-02T19:48:56.124Z"
   },
   {
    "duration": 12,
    "start_time": "2022-07-02T19:49:02.696Z"
   },
   {
    "duration": 16,
    "start_time": "2022-07-02T19:49:18.831Z"
   },
   {
    "duration": 55,
    "start_time": "2022-07-02T19:50:30.794Z"
   },
   {
    "duration": 159,
    "start_time": "2022-07-02T19:50:42.782Z"
   },
   {
    "duration": 12,
    "start_time": "2022-07-02T19:50:48.433Z"
   },
   {
    "duration": 12,
    "start_time": "2022-07-02T19:52:47.057Z"
   },
   {
    "duration": 11,
    "start_time": "2022-07-02T19:52:53.977Z"
   },
   {
    "duration": 16,
    "start_time": "2022-07-02T19:53:36.736Z"
   },
   {
    "duration": 20,
    "start_time": "2022-07-02T19:56:15.058Z"
   },
   {
    "duration": 16,
    "start_time": "2022-07-02T19:56:30.598Z"
   },
   {
    "duration": 18,
    "start_time": "2022-07-02T19:56:40.709Z"
   },
   {
    "duration": 18,
    "start_time": "2022-07-02T19:56:47.822Z"
   },
   {
    "duration": 56,
    "start_time": "2022-07-04T09:50:16.118Z"
   },
   {
    "duration": 13,
    "start_time": "2022-07-04T09:50:23.731Z"
   },
   {
    "duration": 2172,
    "start_time": "2022-07-04T09:50:27.896Z"
   },
   {
    "duration": 14,
    "start_time": "2022-07-04T09:50:30.070Z"
   },
   {
    "duration": 11,
    "start_time": "2022-07-04T09:50:30.086Z"
   },
   {
    "duration": 35,
    "start_time": "2022-07-04T09:50:30.098Z"
   },
   {
    "duration": 8,
    "start_time": "2022-07-04T09:50:30.137Z"
   },
   {
    "duration": 11,
    "start_time": "2022-07-04T09:50:30.149Z"
   },
   {
    "duration": 7,
    "start_time": "2022-07-04T09:50:30.161Z"
   },
   {
    "duration": 24,
    "start_time": "2022-07-04T09:50:30.170Z"
   },
   {
    "duration": 51,
    "start_time": "2022-07-04T09:50:30.196Z"
   },
   {
    "duration": 15,
    "start_time": "2022-07-04T09:50:30.249Z"
   },
   {
    "duration": 9,
    "start_time": "2022-07-04T09:50:30.266Z"
   },
   {
    "duration": 7,
    "start_time": "2022-07-04T09:50:30.277Z"
   },
   {
    "duration": 19,
    "start_time": "2022-07-04T09:50:30.286Z"
   },
   {
    "duration": 24,
    "start_time": "2022-07-04T09:50:30.325Z"
   },
   {
    "duration": 14,
    "start_time": "2022-07-04T09:50:30.351Z"
   },
   {
    "duration": 8,
    "start_time": "2022-07-04T09:50:32.450Z"
   },
   {
    "duration": 12,
    "start_time": "2022-07-04T10:01:44.103Z"
   },
   {
    "duration": 1078,
    "start_time": "2022-07-04T10:03:59.791Z"
   },
   {
    "duration": 14,
    "start_time": "2022-07-04T10:04:00.871Z"
   },
   {
    "duration": 10,
    "start_time": "2022-07-04T10:04:00.887Z"
   },
   {
    "duration": 32,
    "start_time": "2022-07-04T10:04:00.898Z"
   },
   {
    "duration": 7,
    "start_time": "2022-07-04T10:04:00.933Z"
   },
   {
    "duration": 20,
    "start_time": "2022-07-04T10:04:00.942Z"
   },
   {
    "duration": 11,
    "start_time": "2022-07-04T10:04:00.964Z"
   },
   {
    "duration": 21,
    "start_time": "2022-07-04T10:04:00.977Z"
   },
   {
    "duration": 39,
    "start_time": "2022-07-04T10:04:01.000Z"
   },
   {
    "duration": 18,
    "start_time": "2022-07-04T10:04:01.041Z"
   },
   {
    "duration": 11,
    "start_time": "2022-07-04T10:04:01.060Z"
   },
   {
    "duration": 8,
    "start_time": "2022-07-04T10:04:01.073Z"
   },
   {
    "duration": 6,
    "start_time": "2022-07-04T10:04:01.083Z"
   },
   {
    "duration": 22,
    "start_time": "2022-07-04T10:04:01.125Z"
   },
   {
    "duration": 11,
    "start_time": "2022-07-04T10:04:01.149Z"
   },
   {
    "duration": 9,
    "start_time": "2022-07-04T10:04:01.162Z"
   },
   {
    "duration": 53,
    "start_time": "2022-07-04T10:04:04.313Z"
   },
   {
    "duration": 19,
    "start_time": "2022-07-04T10:04:09.910Z"
   },
   {
    "duration": 38,
    "start_time": "2022-07-04T10:04:17.771Z"
   },
   {
    "duration": 1544,
    "start_time": "2022-07-04T10:06:23.210Z"
   },
   {
    "duration": 22,
    "start_time": "2022-07-04T10:06:40.894Z"
   },
   {
    "duration": 35,
    "start_time": "2022-07-04T10:07:06.489Z"
   },
   {
    "duration": 41,
    "start_time": "2022-07-04T10:08:56.910Z"
   },
   {
    "duration": 11,
    "start_time": "2022-07-04T10:09:46.800Z"
   },
   {
    "duration": 12,
    "start_time": "2022-07-04T10:18:34.357Z"
   },
   {
    "duration": 29,
    "start_time": "2022-07-04T10:18:43.955Z"
   },
   {
    "duration": 1308,
    "start_time": "2022-07-04T10:24:35.150Z"
   },
   {
    "duration": 15,
    "start_time": "2022-07-04T10:24:36.460Z"
   },
   {
    "duration": 10,
    "start_time": "2022-07-04T10:24:36.477Z"
   },
   {
    "duration": 13,
    "start_time": "2022-07-04T10:24:36.489Z"
   },
   {
    "duration": 2,
    "start_time": "2022-07-04T10:24:36.506Z"
   },
   {
    "duration": 54,
    "start_time": "2022-07-04T10:24:36.510Z"
   },
   {
    "duration": 9,
    "start_time": "2022-07-04T10:24:36.569Z"
   },
   {
    "duration": 26,
    "start_time": "2022-07-04T10:24:36.581Z"
   },
   {
    "duration": 69,
    "start_time": "2022-07-04T10:24:36.609Z"
   },
   {
    "duration": 30,
    "start_time": "2022-07-04T10:24:36.679Z"
   },
   {
    "duration": 23,
    "start_time": "2022-07-04T10:24:36.711Z"
   },
   {
    "duration": 23,
    "start_time": "2022-07-04T10:24:36.737Z"
   },
   {
    "duration": 18,
    "start_time": "2022-07-04T10:24:36.762Z"
   },
   {
    "duration": 76,
    "start_time": "2022-07-04T10:24:36.783Z"
   },
   {
    "duration": 33,
    "start_time": "2022-07-04T10:24:36.861Z"
   },
   {
    "duration": 42,
    "start_time": "2022-07-04T10:24:36.896Z"
   },
   {
    "duration": 15,
    "start_time": "2022-07-04T10:24:36.940Z"
   },
   {
    "duration": 130,
    "start_time": "2022-07-04T10:24:36.957Z"
   },
   {
    "duration": 44,
    "start_time": "2022-07-04T10:27:12.901Z"
   },
   {
    "duration": 1067,
    "start_time": "2022-07-04T10:29:30.906Z"
   },
   {
    "duration": 17,
    "start_time": "2022-07-04T10:29:31.975Z"
   },
   {
    "duration": 10,
    "start_time": "2022-07-04T10:29:31.993Z"
   },
   {
    "duration": 42,
    "start_time": "2022-07-04T10:29:32.004Z"
   },
   {
    "duration": 12,
    "start_time": "2022-07-04T10:29:32.049Z"
   },
   {
    "duration": 9,
    "start_time": "2022-07-04T10:29:34.370Z"
   },
   {
    "duration": 1523,
    "start_time": "2022-07-04T10:29:44.653Z"
   },
   {
    "duration": 16,
    "start_time": "2022-07-04T10:30:01.984Z"
   },
   {
    "duration": 66,
    "start_time": "2022-07-04T10:30:33.197Z"
   },
   {
    "duration": 18,
    "start_time": "2022-07-04T10:30:54.487Z"
   },
   {
    "duration": 21,
    "start_time": "2022-07-04T10:31:03.251Z"
   },
   {
    "duration": 24,
    "start_time": "2022-07-04T10:32:26.698Z"
   },
   {
    "duration": 23,
    "start_time": "2022-07-04T10:33:26.189Z"
   },
   {
    "duration": 15,
    "start_time": "2022-07-04T10:33:45.754Z"
   },
   {
    "duration": 73,
    "start_time": "2022-07-04T10:33:57.951Z"
   },
   {
    "duration": 12,
    "start_time": "2022-07-04T10:34:03.693Z"
   },
   {
    "duration": 18,
    "start_time": "2022-07-04T10:35:04.847Z"
   },
   {
    "duration": 11,
    "start_time": "2022-07-04T10:35:18.446Z"
   },
   {
    "duration": 138,
    "start_time": "2022-07-04T10:38:21.992Z"
   },
   {
    "duration": 179,
    "start_time": "2022-07-04T10:39:19.983Z"
   },
   {
    "duration": 1210,
    "start_time": "2022-07-04T10:39:58.080Z"
   },
   {
    "duration": 15,
    "start_time": "2022-07-04T10:39:59.293Z"
   },
   {
    "duration": 40,
    "start_time": "2022-07-04T10:39:59.310Z"
   },
   {
    "duration": 14,
    "start_time": "2022-07-04T10:39:59.356Z"
   },
   {
    "duration": 2,
    "start_time": "2022-07-04T10:39:59.372Z"
   },
   {
    "duration": 11,
    "start_time": "2022-07-04T10:39:59.376Z"
   },
   {
    "duration": 3,
    "start_time": "2022-07-04T10:39:59.388Z"
   },
   {
    "duration": 49,
    "start_time": "2022-07-04T10:39:59.392Z"
   },
   {
    "duration": 33,
    "start_time": "2022-07-04T10:39:59.444Z"
   },
   {
    "duration": 13,
    "start_time": "2022-07-04T10:39:59.478Z"
   },
   {
    "duration": 9,
    "start_time": "2022-07-04T10:39:59.493Z"
   },
   {
    "duration": 58,
    "start_time": "2022-07-04T10:39:59.505Z"
   },
   {
    "duration": 8,
    "start_time": "2022-07-04T10:39:59.566Z"
   },
   {
    "duration": 20,
    "start_time": "2022-07-04T10:39:59.576Z"
   },
   {
    "duration": 14,
    "start_time": "2022-07-04T10:39:59.597Z"
   },
   {
    "duration": 3,
    "start_time": "2022-07-04T10:39:59.612Z"
   },
   {
    "duration": 43,
    "start_time": "2022-07-04T10:39:59.617Z"
   },
   {
    "duration": 179,
    "start_time": "2022-07-04T10:40:01.334Z"
   },
   {
    "duration": 103,
    "start_time": "2022-07-04T10:41:36.090Z"
   },
   {
    "duration": 1103,
    "start_time": "2022-07-04T10:43:22.321Z"
   },
   {
    "duration": 21,
    "start_time": "2022-07-04T10:43:23.431Z"
   },
   {
    "duration": 21,
    "start_time": "2022-07-04T10:43:23.454Z"
   },
   {
    "duration": 14,
    "start_time": "2022-07-04T10:43:23.476Z"
   },
   {
    "duration": 2,
    "start_time": "2022-07-04T10:43:23.492Z"
   },
   {
    "duration": 12,
    "start_time": "2022-07-04T10:43:23.496Z"
   },
   {
    "duration": 28,
    "start_time": "2022-07-04T10:43:23.509Z"
   },
   {
    "duration": 30,
    "start_time": "2022-07-04T10:43:23.544Z"
   },
   {
    "duration": 25,
    "start_time": "2022-07-04T10:43:23.576Z"
   },
   {
    "duration": 10,
    "start_time": "2022-07-04T10:43:23.603Z"
   },
   {
    "duration": 16,
    "start_time": "2022-07-04T10:43:23.615Z"
   },
   {
    "duration": 19,
    "start_time": "2022-07-04T10:43:23.633Z"
   },
   {
    "duration": 10,
    "start_time": "2022-07-04T10:43:23.654Z"
   },
   {
    "duration": 19,
    "start_time": "2022-07-04T10:43:23.667Z"
   },
   {
    "duration": 13,
    "start_time": "2022-07-04T10:43:23.688Z"
   },
   {
    "duration": 3,
    "start_time": "2022-07-04T10:43:23.703Z"
   },
   {
    "duration": 39,
    "start_time": "2022-07-04T10:43:23.733Z"
   },
   {
    "duration": 174,
    "start_time": "2022-07-04T10:43:23.774Z"
   },
   {
    "duration": 9,
    "start_time": "2022-07-04T10:43:23.950Z"
   },
   {
    "duration": 43,
    "start_time": "2022-07-04T10:43:23.961Z"
   },
   {
    "duration": 21,
    "start_time": "2022-07-04T10:43:25.948Z"
   },
   {
    "duration": 40,
    "start_time": "2022-07-04T10:44:01.044Z"
   },
   {
    "duration": 8,
    "start_time": "2022-07-04T10:57:10.035Z"
   },
   {
    "duration": 8,
    "start_time": "2022-07-04T10:58:15.053Z"
   },
   {
    "duration": 15,
    "start_time": "2022-07-04T11:01:48.384Z"
   },
   {
    "duration": 18,
    "start_time": "2022-07-04T11:02:02.986Z"
   },
   {
    "duration": 7,
    "start_time": "2022-07-04T11:05:13.990Z"
   },
   {
    "duration": 12,
    "start_time": "2022-07-04T11:05:28.937Z"
   },
   {
    "duration": 1049,
    "start_time": "2022-07-04T11:05:49.280Z"
   },
   {
    "duration": 18,
    "start_time": "2022-07-04T11:05:50.331Z"
   },
   {
    "duration": 13,
    "start_time": "2022-07-04T11:05:50.350Z"
   },
   {
    "duration": 20,
    "start_time": "2022-07-04T11:05:50.364Z"
   },
   {
    "duration": 2,
    "start_time": "2022-07-04T11:05:50.386Z"
   },
   {
    "duration": 13,
    "start_time": "2022-07-04T11:05:50.390Z"
   },
   {
    "duration": 23,
    "start_time": "2022-07-04T11:05:50.404Z"
   },
   {
    "duration": 24,
    "start_time": "2022-07-04T11:05:50.428Z"
   },
   {
    "duration": 22,
    "start_time": "2022-07-04T11:05:50.454Z"
   },
   {
    "duration": 12,
    "start_time": "2022-07-04T11:05:50.477Z"
   },
   {
    "duration": 14,
    "start_time": "2022-07-04T11:05:50.491Z"
   },
   {
    "duration": 6,
    "start_time": "2022-07-04T11:05:50.526Z"
   },
   {
    "duration": 16,
    "start_time": "2022-07-04T11:05:50.534Z"
   },
   {
    "duration": 14,
    "start_time": "2022-07-04T11:05:50.553Z"
   },
   {
    "duration": 12,
    "start_time": "2022-07-04T11:05:50.569Z"
   },
   {
    "duration": 3,
    "start_time": "2022-07-04T11:05:50.583Z"
   },
   {
    "duration": 60,
    "start_time": "2022-07-04T11:05:50.587Z"
   },
   {
    "duration": 183,
    "start_time": "2022-07-04T11:05:50.649Z"
   },
   {
    "duration": 16,
    "start_time": "2022-07-04T11:05:50.834Z"
   },
   {
    "duration": 46,
    "start_time": "2022-07-04T11:05:50.852Z"
   },
   {
    "duration": 66,
    "start_time": "2022-07-04T11:05:50.900Z"
   },
   {
    "duration": 6,
    "start_time": "2022-07-04T11:05:50.968Z"
   },
   {
    "duration": 10,
    "start_time": "2022-07-04T11:05:50.976Z"
   },
   {
    "duration": 40,
    "start_time": "2022-07-04T11:05:50.988Z"
   },
   {
    "duration": 14,
    "start_time": "2022-07-04T11:05:56.486Z"
   },
   {
    "duration": 16,
    "start_time": "2022-07-04T11:06:22.731Z"
   },
   {
    "duration": 11,
    "start_time": "2022-07-04T11:06:28.695Z"
   },
   {
    "duration": 11,
    "start_time": "2022-07-04T11:07:01.082Z"
   },
   {
    "duration": 7,
    "start_time": "2022-07-04T11:09:25.482Z"
   },
   {
    "duration": 1601,
    "start_time": "2022-07-04T11:09:29.620Z"
   },
   {
    "duration": 21,
    "start_time": "2022-07-04T11:09:31.231Z"
   },
   {
    "duration": 14,
    "start_time": "2022-07-04T11:09:31.254Z"
   },
   {
    "duration": 15,
    "start_time": "2022-07-04T11:09:31.269Z"
   },
   {
    "duration": 2,
    "start_time": "2022-07-04T11:09:31.286Z"
   },
   {
    "duration": 16,
    "start_time": "2022-07-04T11:09:31.290Z"
   },
   {
    "duration": 7,
    "start_time": "2022-07-04T11:09:31.308Z"
   },
   {
    "duration": 28,
    "start_time": "2022-07-04T11:09:31.332Z"
   },
   {
    "duration": 21,
    "start_time": "2022-07-04T11:09:31.362Z"
   },
   {
    "duration": 17,
    "start_time": "2022-07-04T11:09:31.385Z"
   },
   {
    "duration": 7,
    "start_time": "2022-07-04T11:09:31.404Z"
   },
   {
    "duration": 6,
    "start_time": "2022-07-04T11:09:31.413Z"
   },
   {
    "duration": 28,
    "start_time": "2022-07-04T11:09:31.427Z"
   },
   {
    "duration": 19,
    "start_time": "2022-07-04T11:09:31.459Z"
   },
   {
    "duration": 20,
    "start_time": "2022-07-04T11:09:31.480Z"
   },
   {
    "duration": 6,
    "start_time": "2022-07-04T11:09:31.501Z"
   },
   {
    "duration": 45,
    "start_time": "2022-07-04T11:09:31.509Z"
   },
   {
    "duration": 167,
    "start_time": "2022-07-04T11:09:31.555Z"
   },
   {
    "duration": 30,
    "start_time": "2022-07-04T11:09:31.724Z"
   },
   {
    "duration": 57,
    "start_time": "2022-07-04T11:09:31.762Z"
   },
   {
    "duration": 47,
    "start_time": "2022-07-04T11:09:31.820Z"
   },
   {
    "duration": 5,
    "start_time": "2022-07-04T11:09:31.868Z"
   },
   {
    "duration": 20,
    "start_time": "2022-07-04T11:09:31.874Z"
   },
   {
    "duration": 22,
    "start_time": "2022-07-04T11:09:31.895Z"
   },
   {
    "duration": 19,
    "start_time": "2022-07-04T11:09:31.918Z"
   },
   {
    "duration": 34,
    "start_time": "2022-07-04T11:09:34.978Z"
   },
   {
    "duration": 184,
    "start_time": "2022-07-04T11:09:44.989Z"
   },
   {
    "duration": 154,
    "start_time": "2022-07-04T11:10:00.574Z"
   },
   {
    "duration": 9,
    "start_time": "2022-07-04T11:13:50.346Z"
   },
   {
    "duration": 154,
    "start_time": "2022-07-04T11:13:58.597Z"
   },
   {
    "duration": 10,
    "start_time": "2022-07-04T11:17:16.481Z"
   },
   {
    "duration": 9,
    "start_time": "2022-07-04T11:18:20.385Z"
   },
   {
    "duration": 16,
    "start_time": "2022-07-04T11:19:07.214Z"
   },
   {
    "duration": 15,
    "start_time": "2022-07-04T11:20:19.990Z"
   },
   {
    "duration": 218,
    "start_time": "2022-07-04T11:20:59.062Z"
   },
   {
    "duration": 9,
    "start_time": "2022-07-04T11:31:26.402Z"
   },
   {
    "duration": 992,
    "start_time": "2022-07-04T11:31:33.040Z"
   },
   {
    "duration": 13,
    "start_time": "2022-07-04T11:31:34.039Z"
   },
   {
    "duration": 10,
    "start_time": "2022-07-04T11:31:34.054Z"
   },
   {
    "duration": 9,
    "start_time": "2022-07-04T11:31:34.066Z"
   },
   {
    "duration": 2,
    "start_time": "2022-07-04T11:31:34.077Z"
   },
   {
    "duration": 8,
    "start_time": "2022-07-04T11:31:37.038Z"
   },
   {
    "duration": 999,
    "start_time": "2022-07-04T11:32:00.923Z"
   },
   {
    "duration": 26,
    "start_time": "2022-07-04T11:32:01.923Z"
   },
   {
    "duration": 12,
    "start_time": "2022-07-04T11:32:01.951Z"
   },
   {
    "duration": 11,
    "start_time": "2022-07-04T11:32:01.965Z"
   },
   {
    "duration": 5,
    "start_time": "2022-07-04T11:32:01.978Z"
   },
   {
    "duration": 10,
    "start_time": "2022-07-04T11:32:05.416Z"
   },
   {
    "duration": 9,
    "start_time": "2022-07-04T11:32:16.847Z"
   },
   {
    "duration": 7,
    "start_time": "2022-07-04T11:32:28.800Z"
   },
   {
    "duration": 8,
    "start_time": "2022-07-04T11:32:41.785Z"
   },
   {
    "duration": 2345,
    "start_time": "2022-07-05T10:54:46.330Z"
   },
   {
    "duration": 17,
    "start_time": "2022-07-05T10:54:48.677Z"
   },
   {
    "duration": 31,
    "start_time": "2022-07-05T10:54:48.696Z"
   },
   {
    "duration": 13,
    "start_time": "2022-07-05T10:54:48.730Z"
   },
   {
    "duration": 8,
    "start_time": "2022-07-05T10:54:48.744Z"
   },
   {
    "duration": 18,
    "start_time": "2022-07-05T10:54:48.754Z"
   },
   {
    "duration": 11,
    "start_time": "2022-07-05T10:54:48.774Z"
   },
   {
    "duration": 19,
    "start_time": "2022-07-05T10:54:48.787Z"
   },
   {
    "duration": 33,
    "start_time": "2022-07-05T10:54:48.808Z"
   },
   {
    "duration": 13,
    "start_time": "2022-07-05T10:54:48.843Z"
   },
   {
    "duration": 18,
    "start_time": "2022-07-05T10:54:48.858Z"
   },
   {
    "duration": 11,
    "start_time": "2022-07-05T10:54:48.878Z"
   },
   {
    "duration": 35,
    "start_time": "2022-07-05T10:54:48.894Z"
   },
   {
    "duration": 39,
    "start_time": "2022-07-05T10:54:48.931Z"
   },
   {
    "duration": 23,
    "start_time": "2022-07-05T10:54:48.973Z"
   },
   {
    "duration": 15,
    "start_time": "2022-07-05T10:54:48.998Z"
   },
   {
    "duration": 38,
    "start_time": "2022-07-05T10:54:49.015Z"
   },
   {
    "duration": 205,
    "start_time": "2022-07-05T10:54:49.055Z"
   },
   {
    "duration": 9,
    "start_time": "2022-07-05T10:54:49.262Z"
   },
   {
    "duration": 59,
    "start_time": "2022-07-05T10:54:49.273Z"
   },
   {
    "duration": 39,
    "start_time": "2022-07-05T10:54:49.334Z"
   },
   {
    "duration": 6,
    "start_time": "2022-07-05T10:54:49.374Z"
   },
   {
    "duration": 16,
    "start_time": "2022-07-05T10:54:49.382Z"
   },
   {
    "duration": 97,
    "start_time": "2022-07-05T10:54:57.915Z"
   },
   {
    "duration": 19,
    "start_time": "2022-07-05T10:55:14.564Z"
   },
   {
    "duration": 177,
    "start_time": "2022-07-05T10:56:09.766Z"
   },
   {
    "duration": 187,
    "start_time": "2022-07-05T10:57:04.138Z"
   },
   {
    "duration": 162,
    "start_time": "2022-07-05T10:58:51.918Z"
   },
   {
    "duration": 887,
    "start_time": "2022-07-05T11:03:21.377Z"
   },
   {
    "duration": 15,
    "start_time": "2022-07-05T11:03:22.266Z"
   },
   {
    "duration": 21,
    "start_time": "2022-07-05T11:03:22.282Z"
   },
   {
    "duration": 29,
    "start_time": "2022-07-05T11:03:22.305Z"
   },
   {
    "duration": 19,
    "start_time": "2022-07-05T11:03:22.337Z"
   },
   {
    "duration": 20,
    "start_time": "2022-07-05T11:03:22.358Z"
   },
   {
    "duration": 12,
    "start_time": "2022-07-05T11:03:22.380Z"
   },
   {
    "duration": 33,
    "start_time": "2022-07-05T11:03:22.394Z"
   },
   {
    "duration": 27,
    "start_time": "2022-07-05T11:03:22.429Z"
   },
   {
    "duration": 11,
    "start_time": "2022-07-05T11:03:22.458Z"
   },
   {
    "duration": 25,
    "start_time": "2022-07-05T11:03:22.471Z"
   },
   {
    "duration": 21,
    "start_time": "2022-07-05T11:03:22.498Z"
   },
   {
    "duration": 11,
    "start_time": "2022-07-05T11:03:22.520Z"
   },
   {
    "duration": 39,
    "start_time": "2022-07-05T11:03:22.533Z"
   },
   {
    "duration": 23,
    "start_time": "2022-07-05T11:03:22.574Z"
   },
   {
    "duration": 6,
    "start_time": "2022-07-05T11:03:22.598Z"
   },
   {
    "duration": 65,
    "start_time": "2022-07-05T11:03:22.605Z"
   },
   {
    "duration": 170,
    "start_time": "2022-07-05T11:03:22.672Z"
   },
   {
    "duration": 6,
    "start_time": "2022-07-05T11:03:22.843Z"
   },
   {
    "duration": 49,
    "start_time": "2022-07-05T11:03:22.851Z"
   },
   {
    "duration": 65,
    "start_time": "2022-07-05T11:03:22.902Z"
   },
   {
    "duration": 7,
    "start_time": "2022-07-05T11:03:22.968Z"
   },
   {
    "duration": 252,
    "start_time": "2022-07-05T11:03:22.978Z"
   },
   {
    "duration": 171,
    "start_time": "2022-07-05T11:03:23.231Z"
   },
   {
    "duration": 188,
    "start_time": "2022-07-05T11:03:25.037Z"
   },
   {
    "duration": 181,
    "start_time": "2022-07-05T11:03:34.715Z"
   },
   {
    "duration": 169,
    "start_time": "2022-07-05T11:05:33.764Z"
   },
   {
    "duration": 55,
    "start_time": "2022-07-05T11:09:47.177Z"
   },
   {
    "duration": 53,
    "start_time": "2022-07-05T11:09:59.820Z"
   },
   {
    "duration": 1069,
    "start_time": "2022-07-05T11:10:10.309Z"
   },
   {
    "duration": 18,
    "start_time": "2022-07-05T11:10:11.380Z"
   },
   {
    "duration": 31,
    "start_time": "2022-07-05T11:10:11.400Z"
   },
   {
    "duration": 13,
    "start_time": "2022-07-05T11:10:11.433Z"
   },
   {
    "duration": 4,
    "start_time": "2022-07-05T11:10:11.447Z"
   },
   {
    "duration": 20,
    "start_time": "2022-07-05T11:10:11.453Z"
   },
   {
    "duration": 6,
    "start_time": "2022-07-05T11:10:11.475Z"
   },
   {
    "duration": 43,
    "start_time": "2022-07-05T11:10:11.482Z"
   },
   {
    "duration": 25,
    "start_time": "2022-07-05T11:10:11.526Z"
   },
   {
    "duration": 31,
    "start_time": "2022-07-05T11:10:12.792Z"
   },
   {
    "duration": 38,
    "start_time": "2022-07-05T11:10:18.237Z"
   },
   {
    "duration": 31,
    "start_time": "2022-07-05T11:10:31.571Z"
   },
   {
    "duration": 17,
    "start_time": "2022-07-05T11:11:09.153Z"
   },
   {
    "duration": 15,
    "start_time": "2022-07-05T11:11:40.157Z"
   },
   {
    "duration": 935,
    "start_time": "2022-07-05T11:11:42.829Z"
   },
   {
    "duration": 15,
    "start_time": "2022-07-05T11:11:43.766Z"
   },
   {
    "duration": 11,
    "start_time": "2022-07-05T11:11:43.782Z"
   },
   {
    "duration": 35,
    "start_time": "2022-07-05T11:11:43.795Z"
   },
   {
    "duration": 2,
    "start_time": "2022-07-05T11:11:43.832Z"
   },
   {
    "duration": 10,
    "start_time": "2022-07-05T11:11:43.836Z"
   },
   {
    "duration": 3,
    "start_time": "2022-07-05T11:11:43.848Z"
   },
   {
    "duration": 18,
    "start_time": "2022-07-05T11:11:43.852Z"
   },
   {
    "duration": 53,
    "start_time": "2022-07-05T11:11:43.871Z"
   },
   {
    "duration": 15,
    "start_time": "2022-07-05T11:11:45.386Z"
   },
   {
    "duration": 19,
    "start_time": "2022-07-05T11:11:54.388Z"
   },
   {
    "duration": 958,
    "start_time": "2022-07-05T11:11:57.144Z"
   },
   {
    "duration": 20,
    "start_time": "2022-07-05T11:11:58.104Z"
   },
   {
    "duration": 12,
    "start_time": "2022-07-05T11:11:58.125Z"
   },
   {
    "duration": 11,
    "start_time": "2022-07-05T11:11:58.139Z"
   },
   {
    "duration": 2,
    "start_time": "2022-07-05T11:11:58.152Z"
   },
   {
    "duration": 12,
    "start_time": "2022-07-05T11:11:58.156Z"
   },
   {
    "duration": 6,
    "start_time": "2022-07-05T11:11:58.170Z"
   },
   {
    "duration": 47,
    "start_time": "2022-07-05T11:11:58.177Z"
   },
   {
    "duration": 24,
    "start_time": "2022-07-05T11:11:58.226Z"
   },
   {
    "duration": 25,
    "start_time": "2022-07-05T11:11:58.882Z"
   },
   {
    "duration": 8,
    "start_time": "2022-07-05T11:19:30.621Z"
   },
   {
    "duration": 5,
    "start_time": "2022-07-05T11:19:43.881Z"
   },
   {
    "duration": 17,
    "start_time": "2022-07-05T11:23:47.114Z"
   },
   {
    "duration": 874,
    "start_time": "2022-07-05T11:23:57.259Z"
   },
   {
    "duration": 15,
    "start_time": "2022-07-05T11:23:58.136Z"
   },
   {
    "duration": 9,
    "start_time": "2022-07-05T11:23:58.153Z"
   },
   {
    "duration": 11,
    "start_time": "2022-07-05T11:23:58.164Z"
   },
   {
    "duration": 2,
    "start_time": "2022-07-05T11:23:58.177Z"
   },
   {
    "duration": 11,
    "start_time": "2022-07-05T11:23:58.181Z"
   },
   {
    "duration": 3,
    "start_time": "2022-07-05T11:23:58.223Z"
   },
   {
    "duration": 20,
    "start_time": "2022-07-05T11:23:58.227Z"
   },
   {
    "duration": 23,
    "start_time": "2022-07-05T11:23:58.249Z"
   },
   {
    "duration": 18,
    "start_time": "2022-07-05T11:23:58.275Z"
   },
   {
    "duration": 38,
    "start_time": "2022-07-05T11:23:58.294Z"
   },
   {
    "duration": 8,
    "start_time": "2022-07-05T11:23:58.333Z"
   },
   {
    "duration": 6,
    "start_time": "2022-07-05T11:23:58.343Z"
   },
   {
    "duration": 5,
    "start_time": "2022-07-05T11:23:58.350Z"
   },
   {
    "duration": 19,
    "start_time": "2022-07-05T11:23:58.356Z"
   },
   {
    "duration": 14,
    "start_time": "2022-07-05T11:23:58.376Z"
   },
   {
    "duration": 38,
    "start_time": "2022-07-05T11:23:58.391Z"
   },
   {
    "duration": 29,
    "start_time": "2022-07-05T11:23:58.430Z"
   },
   {
    "duration": 150,
    "start_time": "2022-07-05T11:23:58.460Z"
   },
   {
    "duration": 12,
    "start_time": "2022-07-05T11:23:58.612Z"
   },
   {
    "duration": 39,
    "start_time": "2022-07-05T11:23:58.625Z"
   },
   {
    "duration": 37,
    "start_time": "2022-07-05T11:23:58.665Z"
   },
   {
    "duration": 25,
    "start_time": "2022-07-05T11:23:58.703Z"
   },
   {
    "duration": 179,
    "start_time": "2022-07-05T11:23:58.729Z"
   },
   {
    "duration": 195,
    "start_time": "2022-07-05T11:24:01.533Z"
   },
   {
    "duration": 222,
    "start_time": "2022-07-05T11:32:20.890Z"
   },
   {
    "duration": 247,
    "start_time": "2022-07-05T11:32:42.476Z"
   },
   {
    "duration": 151,
    "start_time": "2022-07-05T11:32:46.159Z"
   },
   {
    "duration": 9,
    "start_time": "2022-07-05T11:36:36.575Z"
   },
   {
    "duration": 4,
    "start_time": "2022-07-05T11:39:50.942Z"
   },
   {
    "duration": 933,
    "start_time": "2022-07-05T11:39:57.678Z"
   },
   {
    "duration": 21,
    "start_time": "2022-07-05T11:39:58.613Z"
   },
   {
    "duration": 10,
    "start_time": "2022-07-05T11:39:58.636Z"
   },
   {
    "duration": 11,
    "start_time": "2022-07-05T11:39:58.648Z"
   },
   {
    "duration": 2,
    "start_time": "2022-07-05T11:39:58.661Z"
   },
   {
    "duration": 11,
    "start_time": "2022-07-05T11:39:58.664Z"
   },
   {
    "duration": 3,
    "start_time": "2022-07-05T11:39:58.677Z"
   },
   {
    "duration": 57,
    "start_time": "2022-07-05T11:39:58.681Z"
   },
   {
    "duration": 23,
    "start_time": "2022-07-05T11:39:58.740Z"
   },
   {
    "duration": 19,
    "start_time": "2022-07-05T11:39:58.765Z"
   },
   {
    "duration": 45,
    "start_time": "2022-07-05T11:39:58.786Z"
   },
   {
    "duration": 9,
    "start_time": "2022-07-05T11:39:58.832Z"
   },
   {
    "duration": 6,
    "start_time": "2022-07-05T11:39:58.842Z"
   },
   {
    "duration": 5,
    "start_time": "2022-07-05T11:39:58.852Z"
   },
   {
    "duration": 27,
    "start_time": "2022-07-05T11:39:58.859Z"
   },
   {
    "duration": 18,
    "start_time": "2022-07-05T11:39:58.924Z"
   },
   {
    "duration": 12,
    "start_time": "2022-07-05T11:39:58.944Z"
   },
   {
    "duration": 35,
    "start_time": "2022-07-05T11:39:58.958Z"
   },
   {
    "duration": 198,
    "start_time": "2022-07-05T11:39:58.995Z"
   },
   {
    "duration": 7,
    "start_time": "2022-07-05T11:39:59.195Z"
   },
   {
    "duration": 21,
    "start_time": "2022-07-05T11:39:59.204Z"
   },
   {
    "duration": 48,
    "start_time": "2022-07-05T11:39:59.226Z"
   },
   {
    "duration": 55,
    "start_time": "2022-07-05T11:39:59.275Z"
   },
   {
    "duration": 6,
    "start_time": "2022-07-05T11:39:59.332Z"
   },
   {
    "duration": 179,
    "start_time": "2022-07-05T11:39:59.339Z"
   },
   {
    "duration": 202,
    "start_time": "2022-07-05T11:39:59.523Z"
   },
   {
    "duration": 17,
    "start_time": "2022-07-05T11:39:59.727Z"
   },
   {
    "duration": 204,
    "start_time": "2022-07-05T11:39:59.747Z"
   },
   {
    "duration": 17,
    "start_time": "2022-07-05T11:40:43.768Z"
   },
   {
    "duration": 994,
    "start_time": "2022-07-05T11:40:51.112Z"
   },
   {
    "duration": 27,
    "start_time": "2022-07-05T11:40:52.109Z"
   },
   {
    "duration": 30,
    "start_time": "2022-07-05T11:40:52.138Z"
   },
   {
    "duration": 37,
    "start_time": "2022-07-05T11:40:52.170Z"
   },
   {
    "duration": 23,
    "start_time": "2022-07-05T11:40:52.210Z"
   },
   {
    "duration": 43,
    "start_time": "2022-07-05T11:40:52.235Z"
   },
   {
    "duration": 38,
    "start_time": "2022-07-05T11:40:52.279Z"
   },
   {
    "duration": 27,
    "start_time": "2022-07-05T11:40:52.319Z"
   },
   {
    "duration": 27,
    "start_time": "2022-07-05T11:40:52.348Z"
   },
   {
    "duration": 26,
    "start_time": "2022-07-05T11:40:52.376Z"
   },
   {
    "duration": 27,
    "start_time": "2022-07-05T11:40:52.404Z"
   },
   {
    "duration": 12,
    "start_time": "2022-07-05T11:40:52.433Z"
   },
   {
    "duration": 19,
    "start_time": "2022-07-05T11:40:52.447Z"
   },
   {
    "duration": 37,
    "start_time": "2022-07-05T11:40:52.469Z"
   },
   {
    "duration": 32,
    "start_time": "2022-07-05T11:40:52.508Z"
   },
   {
    "duration": 34,
    "start_time": "2022-07-05T11:40:52.541Z"
   },
   {
    "duration": 33,
    "start_time": "2022-07-05T11:40:52.576Z"
   },
   {
    "duration": 48,
    "start_time": "2022-07-05T11:40:52.611Z"
   },
   {
    "duration": 144,
    "start_time": "2022-07-05T11:40:52.661Z"
   },
   {
    "duration": 6,
    "start_time": "2022-07-05T11:40:52.806Z"
   },
   {
    "duration": 27,
    "start_time": "2022-07-05T11:40:52.813Z"
   },
   {
    "duration": 56,
    "start_time": "2022-07-05T11:40:52.842Z"
   },
   {
    "duration": 40,
    "start_time": "2022-07-05T11:40:52.899Z"
   },
   {
    "duration": 8,
    "start_time": "2022-07-05T11:40:52.941Z"
   },
   {
    "duration": 201,
    "start_time": "2022-07-05T11:40:52.950Z"
   },
   {
    "duration": 277,
    "start_time": "2022-07-05T11:40:53.153Z"
   },
   {
    "duration": 15,
    "start_time": "2022-07-05T11:40:53.432Z"
   },
   {
    "duration": 190,
    "start_time": "2022-07-05T11:40:53.449Z"
   },
   {
    "duration": 167,
    "start_time": "2022-07-05T11:40:53.641Z"
   },
   {
    "duration": 163,
    "start_time": "2022-07-05T11:40:57.494Z"
   },
   {
    "duration": 6,
    "start_time": "2022-07-05T11:43:47.301Z"
   },
   {
    "duration": 11,
    "start_time": "2022-07-05T11:43:59.209Z"
   },
   {
    "duration": 192,
    "start_time": "2022-07-05T11:52:53.333Z"
   },
   {
    "duration": 14,
    "start_time": "2022-07-05T12:03:12.337Z"
   },
   {
    "duration": 20,
    "start_time": "2022-07-05T12:07:25.329Z"
   },
   {
    "duration": 12,
    "start_time": "2022-07-05T12:08:02.116Z"
   },
   {
    "duration": 607,
    "start_time": "2022-07-05T12:08:11.211Z"
   },
   {
    "duration": 41,
    "start_time": "2022-07-05T12:18:27.950Z"
   },
   {
    "duration": 1069,
    "start_time": "2022-07-05T12:23:27.413Z"
   },
   {
    "duration": 18,
    "start_time": "2022-07-05T12:23:28.484Z"
   },
   {
    "duration": 13,
    "start_time": "2022-07-05T12:23:28.522Z"
   },
   {
    "duration": 32,
    "start_time": "2022-07-05T12:23:28.537Z"
   },
   {
    "duration": 15,
    "start_time": "2022-07-05T12:23:28.571Z"
   },
   {
    "duration": 26,
    "start_time": "2022-07-05T12:23:28.588Z"
   },
   {
    "duration": 18,
    "start_time": "2022-07-05T12:23:28.617Z"
   },
   {
    "duration": 51,
    "start_time": "2022-07-05T12:23:28.638Z"
   },
   {
    "duration": 39,
    "start_time": "2022-07-05T12:23:28.691Z"
   },
   {
    "duration": 21,
    "start_time": "2022-07-05T12:23:28.734Z"
   },
   {
    "duration": 12,
    "start_time": "2022-07-05T12:23:28.757Z"
   },
   {
    "duration": 25,
    "start_time": "2022-07-05T12:23:28.771Z"
   },
   {
    "duration": 27,
    "start_time": "2022-07-05T12:23:28.797Z"
   },
   {
    "duration": 17,
    "start_time": "2022-07-05T12:23:28.826Z"
   },
   {
    "duration": 40,
    "start_time": "2022-07-05T12:23:28.845Z"
   },
   {
    "duration": 46,
    "start_time": "2022-07-05T12:23:28.887Z"
   },
   {
    "duration": 3,
    "start_time": "2022-07-05T12:23:28.936Z"
   },
   {
    "duration": 50,
    "start_time": "2022-07-05T12:23:28.941Z"
   },
   {
    "duration": 211,
    "start_time": "2022-07-05T12:23:28.993Z"
   },
   {
    "duration": 18,
    "start_time": "2022-07-05T12:23:29.207Z"
   },
   {
    "duration": 22,
    "start_time": "2022-07-05T12:23:29.227Z"
   },
   {
    "duration": 59,
    "start_time": "2022-07-05T12:23:29.253Z"
   },
   {
    "duration": 48,
    "start_time": "2022-07-05T12:23:29.314Z"
   },
   {
    "duration": 6,
    "start_time": "2022-07-05T12:23:29.364Z"
   },
   {
    "duration": 215,
    "start_time": "2022-07-05T12:23:29.373Z"
   },
   {
    "duration": 245,
    "start_time": "2022-07-05T12:23:29.590Z"
   },
   {
    "duration": 21,
    "start_time": "2022-07-05T12:23:29.837Z"
   },
   {
    "duration": 215,
    "start_time": "2022-07-05T12:23:29.862Z"
   },
   {
    "duration": 320,
    "start_time": "2022-07-05T12:23:30.079Z"
   },
   {
    "duration": 23,
    "start_time": "2022-07-05T12:23:30.401Z"
   },
   {
    "duration": 215,
    "start_time": "2022-07-05T12:23:30.426Z"
   },
   {
    "duration": 13,
    "start_time": "2022-07-05T12:23:30.643Z"
   },
   {
    "duration": 63,
    "start_time": "2022-07-05T12:23:30.658Z"
   },
   {
    "duration": 573,
    "start_time": "2022-07-05T12:23:30.723Z"
   },
   {
    "duration": 13,
    "start_time": "2022-07-05T12:23:40.699Z"
   },
   {
    "duration": 8,
    "start_time": "2022-07-05T12:23:46.483Z"
   },
   {
    "duration": 5,
    "start_time": "2022-07-05T12:23:48.548Z"
   },
   {
    "duration": 6,
    "start_time": "2022-07-05T12:23:51.600Z"
   },
   {
    "duration": 1155,
    "start_time": "2022-07-05T12:24:09.271Z"
   },
   {
    "duration": 17,
    "start_time": "2022-07-05T12:24:10.428Z"
   },
   {
    "duration": 51,
    "start_time": "2022-07-05T12:24:10.447Z"
   },
   {
    "duration": 14,
    "start_time": "2022-07-05T12:24:10.500Z"
   },
   {
    "duration": 10,
    "start_time": "2022-07-05T12:24:10.516Z"
   },
   {
    "duration": 15,
    "start_time": "2022-07-05T12:24:10.528Z"
   },
   {
    "duration": 4,
    "start_time": "2022-07-05T12:24:10.545Z"
   },
   {
    "duration": 25,
    "start_time": "2022-07-05T12:24:10.551Z"
   },
   {
    "duration": 66,
    "start_time": "2022-07-05T12:24:10.578Z"
   },
   {
    "duration": 25,
    "start_time": "2022-07-05T12:24:10.648Z"
   },
   {
    "duration": 13,
    "start_time": "2022-07-05T12:24:10.675Z"
   },
   {
    "duration": 37,
    "start_time": "2022-07-05T12:24:10.690Z"
   },
   {
    "duration": 30,
    "start_time": "2022-07-05T12:24:10.728Z"
   },
   {
    "duration": 10,
    "start_time": "2022-07-05T12:24:10.759Z"
   },
   {
    "duration": 29,
    "start_time": "2022-07-05T12:24:10.771Z"
   },
   {
    "duration": 30,
    "start_time": "2022-07-05T12:24:10.802Z"
   },
   {
    "duration": 3,
    "start_time": "2022-07-05T12:24:10.835Z"
   },
   {
    "duration": 33,
    "start_time": "2022-07-05T12:24:10.839Z"
   },
   {
    "duration": 183,
    "start_time": "2022-07-05T12:24:10.874Z"
   },
   {
    "duration": 8,
    "start_time": "2022-07-05T12:24:11.058Z"
   },
   {
    "duration": 23,
    "start_time": "2022-07-05T12:24:11.068Z"
   },
   {
    "duration": 65,
    "start_time": "2022-07-05T12:24:11.092Z"
   },
   {
    "duration": 44,
    "start_time": "2022-07-05T12:24:11.159Z"
   },
   {
    "duration": 7,
    "start_time": "2022-07-05T12:24:11.223Z"
   },
   {
    "duration": 218,
    "start_time": "2022-07-05T12:24:11.232Z"
   },
   {
    "duration": 226,
    "start_time": "2022-07-05T12:24:11.452Z"
   },
   {
    "duration": 17,
    "start_time": "2022-07-05T12:24:11.680Z"
   },
   {
    "duration": 203,
    "start_time": "2022-07-05T12:24:11.700Z"
   },
   {
    "duration": 184,
    "start_time": "2022-07-05T12:24:11.904Z"
   },
   {
    "duration": 13,
    "start_time": "2022-07-05T12:24:12.090Z"
   },
   {
    "duration": 227,
    "start_time": "2022-07-05T12:24:12.122Z"
   },
   {
    "duration": 13,
    "start_time": "2022-07-05T12:24:12.351Z"
   },
   {
    "duration": 25,
    "start_time": "2022-07-05T12:24:12.365Z"
   },
   {
    "duration": 698,
    "start_time": "2022-07-05T12:24:12.392Z"
   },
   {
    "duration": 6,
    "start_time": "2022-07-05T12:24:13.091Z"
   },
   {
    "duration": 15,
    "start_time": "2022-07-05T12:24:13.098Z"
   },
   {
    "duration": 5,
    "start_time": "2022-07-05T12:24:31.689Z"
   },
   {
    "duration": 6,
    "start_time": "2022-07-05T12:24:33.207Z"
   },
   {
    "duration": 45,
    "start_time": "2022-07-05T12:26:28.428Z"
   },
   {
    "duration": 37,
    "start_time": "2022-07-05T12:27:25.245Z"
   },
   {
    "duration": 43,
    "start_time": "2022-07-05T12:28:14.697Z"
   },
   {
    "duration": 1015,
    "start_time": "2022-07-05T12:28:20.018Z"
   },
   {
    "duration": 16,
    "start_time": "2022-07-05T12:28:21.035Z"
   },
   {
    "duration": 11,
    "start_time": "2022-07-05T12:28:21.053Z"
   },
   {
    "duration": 18,
    "start_time": "2022-07-05T12:28:21.066Z"
   },
   {
    "duration": 3,
    "start_time": "2022-07-05T12:28:21.086Z"
   },
   {
    "duration": 21,
    "start_time": "2022-07-05T12:28:21.124Z"
   },
   {
    "duration": 6,
    "start_time": "2022-07-05T12:28:21.147Z"
   },
   {
    "duration": 25,
    "start_time": "2022-07-05T12:28:21.154Z"
   },
   {
    "duration": 44,
    "start_time": "2022-07-05T12:28:21.181Z"
   },
   {
    "duration": 21,
    "start_time": "2022-07-05T12:28:21.229Z"
   },
   {
    "duration": 13,
    "start_time": "2022-07-05T12:28:21.251Z"
   },
   {
    "duration": 15,
    "start_time": "2022-07-05T12:28:21.266Z"
   },
   {
    "duration": 42,
    "start_time": "2022-07-05T12:28:21.283Z"
   },
   {
    "duration": 6,
    "start_time": "2022-07-05T12:28:21.327Z"
   },
   {
    "duration": 17,
    "start_time": "2022-07-05T12:28:21.335Z"
   },
   {
    "duration": 21,
    "start_time": "2022-07-05T12:28:21.354Z"
   },
   {
    "duration": 4,
    "start_time": "2022-07-05T12:28:21.377Z"
   },
   {
    "duration": 64,
    "start_time": "2022-07-05T12:28:21.383Z"
   },
   {
    "duration": 168,
    "start_time": "2022-07-05T12:28:21.449Z"
   },
   {
    "duration": 9,
    "start_time": "2022-07-05T12:28:21.619Z"
   },
   {
    "duration": 12,
    "start_time": "2022-07-05T12:28:21.630Z"
   },
   {
    "duration": 49,
    "start_time": "2022-07-05T12:28:21.644Z"
   },
   {
    "duration": 67,
    "start_time": "2022-07-05T12:28:21.695Z"
   },
   {
    "duration": 7,
    "start_time": "2022-07-05T12:28:21.763Z"
   },
   {
    "duration": 217,
    "start_time": "2022-07-05T12:28:21.772Z"
   },
   {
    "duration": 213,
    "start_time": "2022-07-05T12:28:21.990Z"
   },
   {
    "duration": 25,
    "start_time": "2022-07-05T12:28:22.205Z"
   },
   {
    "duration": 192,
    "start_time": "2022-07-05T12:28:22.233Z"
   },
   {
    "duration": 214,
    "start_time": "2022-07-05T12:28:22.428Z"
   },
   {
    "duration": 13,
    "start_time": "2022-07-05T12:28:22.644Z"
   },
   {
    "duration": 219,
    "start_time": "2022-07-05T12:28:22.660Z"
   },
   {
    "duration": 15,
    "start_time": "2022-07-05T12:28:22.881Z"
   },
   {
    "duration": 41,
    "start_time": "2022-07-05T12:28:22.898Z"
   },
   {
    "duration": 526,
    "start_time": "2022-07-05T12:28:22.941Z"
   },
   {
    "duration": 6,
    "start_time": "2022-07-05T12:28:23.469Z"
   },
   {
    "duration": 47,
    "start_time": "2022-07-05T12:28:24.764Z"
   },
   {
    "duration": 44,
    "start_time": "2022-07-05T12:31:46.418Z"
   },
   {
    "duration": 1055,
    "start_time": "2022-07-05T12:31:49.506Z"
   },
   {
    "duration": 16,
    "start_time": "2022-07-05T12:31:50.563Z"
   },
   {
    "duration": 42,
    "start_time": "2022-07-05T12:31:50.582Z"
   },
   {
    "duration": 13,
    "start_time": "2022-07-05T12:31:50.628Z"
   },
   {
    "duration": 3,
    "start_time": "2022-07-05T12:31:50.642Z"
   },
   {
    "duration": 13,
    "start_time": "2022-07-05T12:31:50.646Z"
   },
   {
    "duration": 3,
    "start_time": "2022-07-05T12:31:50.660Z"
   },
   {
    "duration": 25,
    "start_time": "2022-07-05T12:31:50.665Z"
   },
   {
    "duration": 56,
    "start_time": "2022-07-05T12:31:50.691Z"
   },
   {
    "duration": 19,
    "start_time": "2022-07-05T12:31:50.748Z"
   },
   {
    "duration": 10,
    "start_time": "2022-07-05T12:31:50.769Z"
   },
   {
    "duration": 45,
    "start_time": "2022-07-05T12:31:50.782Z"
   },
   {
    "duration": 17,
    "start_time": "2022-07-05T12:31:50.829Z"
   },
   {
    "duration": 9,
    "start_time": "2022-07-05T12:31:50.848Z"
   },
   {
    "duration": 19,
    "start_time": "2022-07-05T12:31:50.858Z"
   },
   {
    "duration": 17,
    "start_time": "2022-07-05T12:31:50.878Z"
   },
   {
    "duration": 3,
    "start_time": "2022-07-05T12:31:50.923Z"
   },
   {
    "duration": 36,
    "start_time": "2022-07-05T12:31:50.928Z"
   },
   {
    "duration": 173,
    "start_time": "2022-07-05T12:31:50.966Z"
   },
   {
    "duration": 7,
    "start_time": "2022-07-05T12:31:51.141Z"
   },
   {
    "duration": 6,
    "start_time": "2022-07-05T12:31:51.149Z"
   },
   {
    "duration": 67,
    "start_time": "2022-07-05T12:31:51.157Z"
   },
   {
    "duration": 47,
    "start_time": "2022-07-05T12:31:51.226Z"
   },
   {
    "duration": 7,
    "start_time": "2022-07-05T12:31:51.275Z"
   },
   {
    "duration": 213,
    "start_time": "2022-07-05T12:31:51.283Z"
   },
   {
    "duration": 306,
    "start_time": "2022-07-05T12:31:51.498Z"
   },
   {
    "duration": 24,
    "start_time": "2022-07-05T12:31:51.805Z"
   },
   {
    "duration": 177,
    "start_time": "2022-07-05T12:31:51.831Z"
   },
   {
    "duration": 181,
    "start_time": "2022-07-05T12:31:52.010Z"
   },
   {
    "duration": 15,
    "start_time": "2022-07-05T12:31:52.192Z"
   },
   {
    "duration": 204,
    "start_time": "2022-07-05T12:31:52.208Z"
   },
   {
    "duration": 17,
    "start_time": "2022-07-05T12:31:52.413Z"
   },
   {
    "duration": 17,
    "start_time": "2022-07-05T12:31:52.432Z"
   },
   {
    "duration": 575,
    "start_time": "2022-07-05T12:31:52.451Z"
   },
   {
    "duration": 5,
    "start_time": "2022-07-05T12:31:53.028Z"
   },
   {
    "duration": 53,
    "start_time": "2022-07-05T12:31:53.034Z"
   },
   {
    "duration": 46,
    "start_time": "2022-07-05T12:32:50.907Z"
   },
   {
    "duration": 48,
    "start_time": "2022-07-05T12:32:56.137Z"
   },
   {
    "duration": 1050,
    "start_time": "2022-07-05T12:36:04.146Z"
   },
   {
    "duration": 29,
    "start_time": "2022-07-05T12:36:05.199Z"
   },
   {
    "duration": 12,
    "start_time": "2022-07-05T12:36:05.230Z"
   },
   {
    "duration": 12,
    "start_time": "2022-07-05T12:36:05.245Z"
   },
   {
    "duration": 3,
    "start_time": "2022-07-05T12:36:05.259Z"
   },
   {
    "duration": 13,
    "start_time": "2022-07-05T12:36:05.263Z"
   },
   {
    "duration": 45,
    "start_time": "2022-07-05T12:36:05.278Z"
   },
   {
    "duration": 22,
    "start_time": "2022-07-05T12:36:05.325Z"
   },
   {
    "duration": 27,
    "start_time": "2022-07-05T12:36:05.349Z"
   },
   {
    "duration": 52,
    "start_time": "2022-07-05T12:36:05.379Z"
   },
   {
    "duration": 13,
    "start_time": "2022-07-05T12:36:05.433Z"
   },
   {
    "duration": 13,
    "start_time": "2022-07-05T12:36:05.447Z"
   },
   {
    "duration": 9,
    "start_time": "2022-07-05T12:36:05.462Z"
   },
   {
    "duration": 17,
    "start_time": "2022-07-05T12:36:05.473Z"
   },
   {
    "duration": 21,
    "start_time": "2022-07-05T12:36:05.523Z"
   },
   {
    "duration": 17,
    "start_time": "2022-07-05T12:36:05.547Z"
   },
   {
    "duration": 31,
    "start_time": "2022-07-05T12:36:05.567Z"
   },
   {
    "duration": 38,
    "start_time": "2022-07-05T12:36:05.600Z"
   },
   {
    "duration": 171,
    "start_time": "2022-07-05T12:36:05.639Z"
   },
   {
    "duration": 23,
    "start_time": "2022-07-05T12:36:05.811Z"
   },
   {
    "duration": 5,
    "start_time": "2022-07-05T12:36:05.837Z"
   },
   {
    "duration": 55,
    "start_time": "2022-07-05T12:36:05.844Z"
   },
   {
    "duration": 73,
    "start_time": "2022-07-05T12:36:05.901Z"
   },
   {
    "duration": 6,
    "start_time": "2022-07-05T12:36:05.976Z"
   },
   {
    "duration": 228,
    "start_time": "2022-07-05T12:36:05.984Z"
   },
   {
    "duration": 219,
    "start_time": "2022-07-05T12:36:06.214Z"
   },
   {
    "duration": 24,
    "start_time": "2022-07-05T12:36:06.436Z"
   },
   {
    "duration": 237,
    "start_time": "2022-07-05T12:36:06.466Z"
   },
   {
    "duration": 204,
    "start_time": "2022-07-05T12:36:06.705Z"
   },
   {
    "duration": 14,
    "start_time": "2022-07-05T12:36:06.911Z"
   },
   {
    "duration": 231,
    "start_time": "2022-07-05T12:36:06.928Z"
   },
   {
    "duration": 16,
    "start_time": "2022-07-05T12:36:07.162Z"
   },
   {
    "duration": 18,
    "start_time": "2022-07-05T12:36:07.180Z"
   },
   {
    "duration": 803,
    "start_time": "2022-07-05T12:36:07.200Z"
   },
   {
    "duration": 7,
    "start_time": "2022-07-05T12:36:08.005Z"
   },
   {
    "duration": 65,
    "start_time": "2022-07-05T12:36:08.025Z"
   },
   {
    "duration": 47,
    "start_time": "2022-07-05T12:38:37.107Z"
   },
   {
    "duration": 1003,
    "start_time": "2022-07-05T12:39:00.421Z"
   },
   {
    "duration": 16,
    "start_time": "2022-07-05T12:39:01.426Z"
   },
   {
    "duration": 12,
    "start_time": "2022-07-05T12:39:01.443Z"
   },
   {
    "duration": 20,
    "start_time": "2022-07-05T12:39:01.456Z"
   },
   {
    "duration": 17,
    "start_time": "2022-07-05T12:39:01.478Z"
   },
   {
    "duration": 41,
    "start_time": "2022-07-05T12:39:01.497Z"
   },
   {
    "duration": 27,
    "start_time": "2022-07-05T12:39:01.540Z"
   },
   {
    "duration": 21,
    "start_time": "2022-07-05T12:39:01.568Z"
   },
   {
    "duration": 29,
    "start_time": "2022-07-05T12:39:01.591Z"
   },
   {
    "duration": 25,
    "start_time": "2022-07-05T12:39:01.622Z"
   },
   {
    "duration": 14,
    "start_time": "2022-07-05T12:39:01.649Z"
   },
   {
    "duration": 20,
    "start_time": "2022-07-05T12:39:01.665Z"
   },
   {
    "duration": 37,
    "start_time": "2022-07-05T12:39:01.687Z"
   },
   {
    "duration": 4,
    "start_time": "2022-07-05T12:39:01.728Z"
   },
   {
    "duration": 51,
    "start_time": "2022-07-05T12:39:01.734Z"
   },
   {
    "duration": 34,
    "start_time": "2022-07-05T12:39:01.786Z"
   },
   {
    "duration": 15,
    "start_time": "2022-07-05T12:39:01.822Z"
   },
   {
    "duration": 55,
    "start_time": "2022-07-05T12:39:01.838Z"
   },
   {
    "duration": 150,
    "start_time": "2022-07-05T12:39:01.895Z"
   },
   {
    "duration": 7,
    "start_time": "2022-07-05T12:39:02.046Z"
   },
   {
    "duration": 25,
    "start_time": "2022-07-05T12:39:02.054Z"
   },
   {
    "duration": 2,
    "start_time": "2022-07-05T12:39:02.081Z"
   },
   {
    "duration": 65,
    "start_time": "2022-07-05T12:39:02.085Z"
   },
   {
    "duration": 45,
    "start_time": "2022-07-05T12:39:02.151Z"
   },
   {
    "duration": 6,
    "start_time": "2022-07-05T12:39:02.197Z"
   },
   {
    "duration": 203,
    "start_time": "2022-07-05T12:39:02.224Z"
   },
   {
    "duration": 210,
    "start_time": "2022-07-05T12:39:02.428Z"
   },
   {
    "duration": 15,
    "start_time": "2022-07-05T12:39:02.640Z"
   },
   {
    "duration": 210,
    "start_time": "2022-07-05T12:39:02.657Z"
   },
   {
    "duration": 196,
    "start_time": "2022-07-05T12:39:02.869Z"
   },
   {
    "duration": 11,
    "start_time": "2022-07-05T12:39:03.067Z"
   },
   {
    "duration": 221,
    "start_time": "2022-07-05T12:39:03.080Z"
   },
   {
    "duration": 21,
    "start_time": "2022-07-05T12:39:03.303Z"
   },
   {
    "duration": 17,
    "start_time": "2022-07-05T12:39:03.326Z"
   },
   {
    "duration": 547,
    "start_time": "2022-07-05T12:39:03.345Z"
   },
   {
    "duration": 5,
    "start_time": "2022-07-05T12:39:03.894Z"
   },
   {
    "duration": 58,
    "start_time": "2022-07-05T12:39:03.902Z"
   },
   {
    "duration": 1057,
    "start_time": "2022-07-05T12:41:12.110Z"
   },
   {
    "duration": 16,
    "start_time": "2022-07-05T12:41:13.170Z"
   },
   {
    "duration": 36,
    "start_time": "2022-07-05T12:41:13.188Z"
   },
   {
    "duration": 13,
    "start_time": "2022-07-05T12:41:13.226Z"
   },
   {
    "duration": 3,
    "start_time": "2022-07-05T12:41:13.240Z"
   },
   {
    "duration": 12,
    "start_time": "2022-07-05T12:41:13.245Z"
   },
   {
    "duration": 7,
    "start_time": "2022-07-05T12:41:13.259Z"
   },
   {
    "duration": 19,
    "start_time": "2022-07-05T12:41:13.267Z"
   },
   {
    "duration": 59,
    "start_time": "2022-07-05T12:41:13.288Z"
   },
   {
    "duration": 20,
    "start_time": "2022-07-05T12:41:13.350Z"
   },
   {
    "duration": 12,
    "start_time": "2022-07-05T12:41:13.372Z"
   },
   {
    "duration": 42,
    "start_time": "2022-07-05T12:41:13.385Z"
   },
   {
    "duration": 10,
    "start_time": "2022-07-05T12:41:13.429Z"
   },
   {
    "duration": 7,
    "start_time": "2022-07-05T12:41:13.440Z"
   },
   {
    "duration": 19,
    "start_time": "2022-07-05T12:41:13.448Z"
   },
   {
    "duration": 12,
    "start_time": "2022-07-05T12:41:13.469Z"
   },
   {
    "duration": 5,
    "start_time": "2022-07-05T12:41:13.524Z"
   },
   {
    "duration": 28,
    "start_time": "2022-07-05T12:41:13.531Z"
   },
   {
    "duration": 170,
    "start_time": "2022-07-05T12:41:13.562Z"
   },
   {
    "duration": 7,
    "start_time": "2022-07-05T12:41:13.733Z"
   },
   {
    "duration": 11,
    "start_time": "2022-07-05T12:41:13.741Z"
   },
   {
    "duration": 2,
    "start_time": "2022-07-05T12:41:13.754Z"
   },
   {
    "duration": 68,
    "start_time": "2022-07-05T12:41:13.758Z"
   },
   {
    "duration": 39,
    "start_time": "2022-07-05T12:41:13.828Z"
   },
   {
    "duration": 6,
    "start_time": "2022-07-05T12:41:13.869Z"
   },
   {
    "duration": 214,
    "start_time": "2022-07-05T12:41:13.876Z"
   },
   {
    "duration": 218,
    "start_time": "2022-07-05T12:41:14.092Z"
   },
   {
    "duration": 22,
    "start_time": "2022-07-05T12:41:14.313Z"
   },
   {
    "duration": 199,
    "start_time": "2022-07-05T12:41:14.336Z"
   },
   {
    "duration": 196,
    "start_time": "2022-07-05T12:41:14.537Z"
   },
   {
    "duration": 12,
    "start_time": "2022-07-05T12:41:14.735Z"
   },
   {
    "duration": 238,
    "start_time": "2022-07-05T12:41:14.749Z"
   },
   {
    "duration": 13,
    "start_time": "2022-07-05T12:41:14.990Z"
   },
   {
    "duration": 18,
    "start_time": "2022-07-05T12:41:15.023Z"
   },
   {
    "duration": 690,
    "start_time": "2022-07-05T12:41:15.043Z"
   },
   {
    "duration": 5,
    "start_time": "2022-07-05T12:41:15.735Z"
   },
   {
    "duration": 42,
    "start_time": "2022-07-05T12:41:15.741Z"
   },
   {
    "duration": 15,
    "start_time": "2022-07-05T12:50:09.824Z"
   },
   {
    "duration": 8,
    "start_time": "2022-07-05T12:50:15.236Z"
   },
   {
    "duration": 7,
    "start_time": "2022-07-05T12:52:17.141Z"
   },
   {
    "duration": 218,
    "start_time": "2022-07-05T13:00:49.609Z"
   },
   {
    "duration": 204,
    "start_time": "2022-07-05T13:01:28.727Z"
   },
   {
    "duration": 205,
    "start_time": "2022-07-05T13:04:21.341Z"
   },
   {
    "duration": 205,
    "start_time": "2022-07-05T13:04:24.578Z"
   },
   {
    "duration": 179,
    "start_time": "2022-07-05T13:04:58.339Z"
   },
   {
    "duration": 178,
    "start_time": "2022-07-05T13:05:05.576Z"
   },
   {
    "duration": 176,
    "start_time": "2022-07-05T13:05:15.897Z"
   },
   {
    "duration": 170,
    "start_time": "2022-07-05T13:05:22.240Z"
   },
   {
    "duration": 161,
    "start_time": "2022-07-05T13:07:18.702Z"
   },
   {
    "duration": 163,
    "start_time": "2022-07-05T13:07:37.836Z"
   },
   {
    "duration": 205,
    "start_time": "2022-07-05T13:15:48.590Z"
   },
   {
    "duration": 210,
    "start_time": "2022-07-05T13:17:45.613Z"
   },
   {
    "duration": 13,
    "start_time": "2022-07-05T13:18:33.192Z"
   },
   {
    "duration": 216,
    "start_time": "2022-07-05T13:19:35.411Z"
   },
   {
    "duration": 9,
    "start_time": "2022-07-05T13:21:09.000Z"
   },
   {
    "duration": 36,
    "start_time": "2022-07-05T13:23:24.735Z"
   },
   {
    "duration": 15,
    "start_time": "2022-07-05T13:23:45.929Z"
   },
   {
    "duration": 1059,
    "start_time": "2022-07-05T13:23:50.785Z"
   },
   {
    "duration": 17,
    "start_time": "2022-07-05T13:23:51.847Z"
   },
   {
    "duration": 12,
    "start_time": "2022-07-05T13:23:51.865Z"
   },
   {
    "duration": 45,
    "start_time": "2022-07-05T13:23:51.879Z"
   },
   {
    "duration": 3,
    "start_time": "2022-07-05T13:23:51.926Z"
   },
   {
    "duration": 11,
    "start_time": "2022-07-05T13:23:53.344Z"
   },
   {
    "duration": 1054,
    "start_time": "2022-07-05T13:24:16.641Z"
   },
   {
    "duration": 28,
    "start_time": "2022-07-05T13:24:17.698Z"
   },
   {
    "duration": 13,
    "start_time": "2022-07-05T13:24:17.728Z"
   },
   {
    "duration": 12,
    "start_time": "2022-07-05T13:24:17.744Z"
   },
   {
    "duration": 3,
    "start_time": "2022-07-05T13:24:17.758Z"
   },
   {
    "duration": 12,
    "start_time": "2022-07-05T13:24:19.563Z"
   },
   {
    "duration": 2,
    "start_time": "2022-07-05T13:24:21.620Z"
   },
   {
    "duration": 9,
    "start_time": "2022-07-05T13:24:23.857Z"
   },
   {
    "duration": 1200,
    "start_time": "2022-07-05T13:24:46.731Z"
   },
   {
    "duration": 22,
    "start_time": "2022-07-05T13:24:47.934Z"
   },
   {
    "duration": 15,
    "start_time": "2022-07-05T13:24:47.958Z"
   },
   {
    "duration": 13,
    "start_time": "2022-07-05T13:24:47.976Z"
   },
   {
    "duration": 3,
    "start_time": "2022-07-05T13:24:48.022Z"
   },
   {
    "duration": 18,
    "start_time": "2022-07-05T13:24:48.027Z"
   },
   {
    "duration": 5,
    "start_time": "2022-07-05T13:24:48.047Z"
   },
   {
    "duration": 25,
    "start_time": "2022-07-05T13:24:48.053Z"
   },
   {
    "duration": 57,
    "start_time": "2022-07-05T13:24:48.079Z"
   },
   {
    "duration": 22,
    "start_time": "2022-07-05T13:24:48.138Z"
   },
   {
    "duration": 14,
    "start_time": "2022-07-05T13:24:48.163Z"
   },
   {
    "duration": 45,
    "start_time": "2022-07-05T13:24:48.179Z"
   },
   {
    "duration": 12,
    "start_time": "2022-07-05T13:24:48.227Z"
   },
   {
    "duration": 6,
    "start_time": "2022-07-05T13:24:48.243Z"
   },
   {
    "duration": 26,
    "start_time": "2022-07-05T13:24:48.251Z"
   },
   {
    "duration": 51,
    "start_time": "2022-07-05T13:24:48.279Z"
   },
   {
    "duration": 3,
    "start_time": "2022-07-05T13:24:48.333Z"
   },
   {
    "duration": 29,
    "start_time": "2022-07-05T13:24:48.338Z"
   },
   {
    "duration": 198,
    "start_time": "2022-07-05T13:24:48.368Z"
   },
   {
    "duration": 7,
    "start_time": "2022-07-05T13:24:48.568Z"
   },
   {
    "duration": 9,
    "start_time": "2022-07-05T13:24:48.577Z"
   },
   {
    "duration": 2,
    "start_time": "2022-07-05T13:24:48.588Z"
   },
   {
    "duration": 43,
    "start_time": "2022-07-05T13:24:48.622Z"
   },
   {
    "duration": 58,
    "start_time": "2022-07-05T13:24:48.666Z"
   },
   {
    "duration": 6,
    "start_time": "2022-07-05T13:24:48.726Z"
   },
   {
    "duration": 214,
    "start_time": "2022-07-05T13:24:48.734Z"
   },
   {
    "duration": 277,
    "start_time": "2022-07-05T13:24:48.950Z"
   },
   {
    "duration": 19,
    "start_time": "2022-07-05T13:24:49.230Z"
   },
   {
    "duration": 206,
    "start_time": "2022-07-05T13:24:49.251Z"
   },
   {
    "duration": 199,
    "start_time": "2022-07-05T13:24:49.459Z"
   },
   {
    "duration": 11,
    "start_time": "2022-07-05T13:24:49.661Z"
   },
   {
    "duration": 431,
    "start_time": "2022-07-05T13:24:49.674Z"
   },
   {
    "duration": 21,
    "start_time": "2022-07-05T13:24:50.107Z"
   },
   {
    "duration": 18,
    "start_time": "2022-07-05T13:24:50.130Z"
   },
   {
    "duration": 642,
    "start_time": "2022-07-05T13:24:50.149Z"
   },
   {
    "duration": 5,
    "start_time": "2022-07-05T13:24:50.793Z"
   },
   {
    "duration": 28,
    "start_time": "2022-07-05T13:24:50.800Z"
   },
   {
    "duration": 0,
    "start_time": "2022-07-05T13:24:50.829Z"
   },
   {
    "duration": 0,
    "start_time": "2022-07-05T13:24:50.831Z"
   },
   {
    "duration": 0,
    "start_time": "2022-07-05T13:24:50.832Z"
   },
   {
    "duration": 0,
    "start_time": "2022-07-05T13:24:50.834Z"
   },
   {
    "duration": 0,
    "start_time": "2022-07-05T13:24:50.835Z"
   },
   {
    "duration": 40,
    "start_time": "2022-07-05T13:25:15.327Z"
   },
   {
    "duration": 7,
    "start_time": "2022-07-05T13:25:17.241Z"
   },
   {
    "duration": 8,
    "start_time": "2022-07-05T13:25:18.925Z"
   },
   {
    "duration": 176,
    "start_time": "2022-07-05T13:25:21.517Z"
   },
   {
    "duration": 165,
    "start_time": "2022-07-05T13:25:22.952Z"
   },
   {
    "duration": 199,
    "start_time": "2022-07-05T13:25:24.664Z"
   },
   {
    "duration": 15,
    "start_time": "2022-07-05T13:32:05.397Z"
   },
   {
    "duration": 9,
    "start_time": "2022-07-05T13:32:10.455Z"
   },
   {
    "duration": 5,
    "start_time": "2022-07-05T13:33:20.021Z"
   },
   {
    "duration": 48,
    "start_time": "2022-07-05T13:36:59.851Z"
   },
   {
    "duration": 59,
    "start_time": "2022-07-05T13:37:16.761Z"
   },
   {
    "duration": 7,
    "start_time": "2022-07-05T13:37:32.904Z"
   },
   {
    "duration": 1045,
    "start_time": "2022-07-05T13:41:15.146Z"
   },
   {
    "duration": 30,
    "start_time": "2022-07-05T13:41:16.193Z"
   },
   {
    "duration": 12,
    "start_time": "2022-07-05T13:41:16.226Z"
   },
   {
    "duration": 24,
    "start_time": "2022-07-05T13:41:16.239Z"
   },
   {
    "duration": 16,
    "start_time": "2022-07-05T13:41:16.265Z"
   },
   {
    "duration": 38,
    "start_time": "2022-07-05T13:41:16.283Z"
   },
   {
    "duration": 19,
    "start_time": "2022-07-05T13:41:16.323Z"
   },
   {
    "duration": 31,
    "start_time": "2022-07-05T13:41:16.344Z"
   },
   {
    "duration": 26,
    "start_time": "2022-07-05T13:41:16.377Z"
   },
   {
    "duration": 23,
    "start_time": "2022-07-05T13:41:16.405Z"
   },
   {
    "duration": 12,
    "start_time": "2022-07-05T13:41:16.430Z"
   },
   {
    "duration": 15,
    "start_time": "2022-07-05T13:41:16.444Z"
   },
   {
    "duration": 10,
    "start_time": "2022-07-05T13:41:16.461Z"
   },
   {
    "duration": 5,
    "start_time": "2022-07-05T13:41:16.474Z"
   },
   {
    "duration": 57,
    "start_time": "2022-07-05T13:41:16.481Z"
   },
   {
    "duration": 14,
    "start_time": "2022-07-05T13:41:16.540Z"
   },
   {
    "duration": 3,
    "start_time": "2022-07-05T13:41:16.556Z"
   },
   {
    "duration": 29,
    "start_time": "2022-07-05T13:41:16.561Z"
   },
   {
    "duration": 190,
    "start_time": "2022-07-05T13:41:16.592Z"
   },
   {
    "duration": 7,
    "start_time": "2022-07-05T13:41:16.784Z"
   },
   {
    "duration": 13,
    "start_time": "2022-07-05T13:41:16.793Z"
   },
   {
    "duration": 19,
    "start_time": "2022-07-05T13:41:16.807Z"
   },
   {
    "duration": 45,
    "start_time": "2022-07-05T13:41:16.828Z"
   },
   {
    "duration": 65,
    "start_time": "2022-07-05T13:41:16.875Z"
   },
   {
    "duration": 7,
    "start_time": "2022-07-05T13:41:16.942Z"
   },
   {
    "duration": 211,
    "start_time": "2022-07-05T13:41:16.951Z"
   },
   {
    "duration": 233,
    "start_time": "2022-07-05T13:41:17.164Z"
   },
   {
    "duration": 15,
    "start_time": "2022-07-05T13:41:17.399Z"
   },
   {
    "duration": 192,
    "start_time": "2022-07-05T13:41:17.423Z"
   },
   {
    "duration": 187,
    "start_time": "2022-07-05T13:41:17.623Z"
   },
   {
    "duration": 20,
    "start_time": "2022-07-05T13:41:17.812Z"
   },
   {
    "duration": 258,
    "start_time": "2022-07-05T13:41:17.834Z"
   },
   {
    "duration": 14,
    "start_time": "2022-07-05T13:41:18.093Z"
   },
   {
    "duration": 30,
    "start_time": "2022-07-05T13:41:18.109Z"
   },
   {
    "duration": 547,
    "start_time": "2022-07-05T13:41:18.141Z"
   },
   {
    "duration": 6,
    "start_time": "2022-07-05T13:41:18.689Z"
   },
   {
    "duration": 55,
    "start_time": "2022-07-05T13:41:18.697Z"
   },
   {
    "duration": 6,
    "start_time": "2022-07-05T13:41:18.754Z"
   },
   {
    "duration": 12,
    "start_time": "2022-07-05T13:41:18.761Z"
   },
   {
    "duration": 212,
    "start_time": "2022-07-05T13:41:18.775Z"
   },
   {
    "duration": 228,
    "start_time": "2022-07-05T13:41:18.992Z"
   },
   {
    "duration": 215,
    "start_time": "2022-07-05T13:41:19.224Z"
   },
   {
    "duration": 8,
    "start_time": "2022-07-05T13:41:19.441Z"
   },
   {
    "duration": 35,
    "start_time": "2022-07-05T13:41:19.450Z"
   },
   {
    "duration": 13,
    "start_time": "2022-07-05T13:50:34.957Z"
   },
   {
    "duration": 25,
    "start_time": "2022-07-05T13:50:40.907Z"
   },
   {
    "duration": 12,
    "start_time": "2022-07-05T13:52:53.867Z"
   },
   {
    "duration": 19,
    "start_time": "2022-07-05T13:54:15.169Z"
   },
   {
    "duration": 1049,
    "start_time": "2022-07-05T13:56:21.587Z"
   },
   {
    "duration": 17,
    "start_time": "2022-07-05T13:56:22.638Z"
   },
   {
    "duration": 12,
    "start_time": "2022-07-05T13:56:22.656Z"
   },
   {
    "duration": 12,
    "start_time": "2022-07-05T13:56:22.670Z"
   },
   {
    "duration": 3,
    "start_time": "2022-07-05T13:56:22.684Z"
   },
   {
    "duration": 13,
    "start_time": "2022-07-05T13:56:22.724Z"
   },
   {
    "duration": 3,
    "start_time": "2022-07-05T13:56:22.739Z"
   },
   {
    "duration": 19,
    "start_time": "2022-07-05T13:56:22.744Z"
   },
   {
    "duration": 66,
    "start_time": "2022-07-05T13:56:22.765Z"
   },
   {
    "duration": 21,
    "start_time": "2022-07-05T13:56:22.834Z"
   },
   {
    "duration": 13,
    "start_time": "2022-07-05T13:56:22.857Z"
   },
   {
    "duration": 13,
    "start_time": "2022-07-05T13:56:22.871Z"
   },
   {
    "duration": 39,
    "start_time": "2022-07-05T13:56:22.886Z"
   },
   {
    "duration": 6,
    "start_time": "2022-07-05T13:56:22.926Z"
   },
   {
    "duration": 24,
    "start_time": "2022-07-05T13:56:22.934Z"
   },
   {
    "duration": 13,
    "start_time": "2022-07-05T13:56:22.960Z"
   },
   {
    "duration": 7,
    "start_time": "2022-07-05T13:56:22.975Z"
   },
   {
    "duration": 64,
    "start_time": "2022-07-05T13:56:22.984Z"
   },
   {
    "duration": 168,
    "start_time": "2022-07-05T13:56:23.050Z"
   },
   {
    "duration": 8,
    "start_time": "2022-07-05T13:56:23.219Z"
   },
   {
    "duration": 8,
    "start_time": "2022-07-05T13:56:23.229Z"
   },
   {
    "duration": 3,
    "start_time": "2022-07-05T13:56:23.239Z"
   },
   {
    "duration": 44,
    "start_time": "2022-07-05T13:56:23.243Z"
   },
   {
    "duration": 42,
    "start_time": "2022-07-05T13:56:23.322Z"
   },
   {
    "duration": 6,
    "start_time": "2022-07-05T13:56:23.366Z"
   },
   {
    "duration": 215,
    "start_time": "2022-07-05T13:56:23.374Z"
   },
   {
    "duration": 220,
    "start_time": "2022-07-05T13:56:23.591Z"
   },
   {
    "duration": 21,
    "start_time": "2022-07-05T13:56:23.815Z"
   },
   {
    "duration": 200,
    "start_time": "2022-07-05T13:56:23.837Z"
   },
   {
    "duration": 392,
    "start_time": "2022-07-05T13:56:24.039Z"
   },
   {
    "duration": 11,
    "start_time": "2022-07-05T13:56:24.433Z"
   },
   {
    "duration": 216,
    "start_time": "2022-07-05T13:56:24.446Z"
   },
   {
    "duration": 12,
    "start_time": "2022-07-05T13:56:24.664Z"
   },
   {
    "duration": 19,
    "start_time": "2022-07-05T13:56:24.678Z"
   },
   {
    "duration": 572,
    "start_time": "2022-07-05T13:56:24.724Z"
   },
   {
    "duration": 7,
    "start_time": "2022-07-05T13:56:25.298Z"
   },
   {
    "duration": 59,
    "start_time": "2022-07-05T13:56:25.307Z"
   },
   {
    "duration": 9,
    "start_time": "2022-07-05T13:56:25.368Z"
   },
   {
    "duration": 16,
    "start_time": "2022-07-05T13:56:25.379Z"
   },
   {
    "duration": 189,
    "start_time": "2022-07-05T13:56:25.396Z"
   },
   {
    "duration": 197,
    "start_time": "2022-07-05T13:56:25.587Z"
   },
   {
    "duration": 219,
    "start_time": "2022-07-05T13:56:25.786Z"
   },
   {
    "duration": 8,
    "start_time": "2022-07-05T13:56:26.006Z"
   },
   {
    "duration": 20,
    "start_time": "2022-07-05T13:56:26.024Z"
   },
   {
    "duration": 22,
    "start_time": "2022-07-05T13:56:26.046Z"
   },
   {
    "duration": 19,
    "start_time": "2022-07-05T13:56:39.851Z"
   },
   {
    "duration": 1056,
    "start_time": "2022-07-05T13:56:42.462Z"
   },
   {
    "duration": 17,
    "start_time": "2022-07-05T13:56:43.523Z"
   },
   {
    "duration": 11,
    "start_time": "2022-07-05T13:56:43.542Z"
   },
   {
    "duration": 13,
    "start_time": "2022-07-05T13:56:43.555Z"
   },
   {
    "duration": 4,
    "start_time": "2022-07-05T13:56:43.569Z"
   },
   {
    "duration": 55,
    "start_time": "2022-07-05T13:56:43.574Z"
   },
   {
    "duration": 2,
    "start_time": "2022-07-05T13:56:43.631Z"
   },
   {
    "duration": 22,
    "start_time": "2022-07-05T13:56:43.635Z"
   },
   {
    "duration": 31,
    "start_time": "2022-07-05T13:56:43.659Z"
   },
   {
    "duration": 48,
    "start_time": "2022-07-05T13:56:43.693Z"
   },
   {
    "duration": 12,
    "start_time": "2022-07-05T13:56:43.743Z"
   },
   {
    "duration": 10,
    "start_time": "2022-07-05T13:56:43.757Z"
   },
   {
    "duration": 6,
    "start_time": "2022-07-05T13:56:43.769Z"
   },
   {
    "duration": 5,
    "start_time": "2022-07-05T13:56:43.824Z"
   },
   {
    "duration": 20,
    "start_time": "2022-07-05T13:56:43.831Z"
   },
   {
    "duration": 12,
    "start_time": "2022-07-05T13:56:43.853Z"
   },
   {
    "duration": 6,
    "start_time": "2022-07-05T13:56:43.867Z"
   },
   {
    "duration": 59,
    "start_time": "2022-07-05T13:56:43.874Z"
   },
   {
    "duration": 168,
    "start_time": "2022-07-05T13:56:43.935Z"
   },
   {
    "duration": 7,
    "start_time": "2022-07-05T13:56:44.105Z"
   },
   {
    "duration": 10,
    "start_time": "2022-07-05T13:56:44.123Z"
   },
   {
    "duration": 4,
    "start_time": "2022-07-05T13:56:44.135Z"
   },
   {
    "duration": 43,
    "start_time": "2022-07-05T13:56:44.141Z"
   },
   {
    "duration": 71,
    "start_time": "2022-07-05T13:56:44.186Z"
   },
   {
    "duration": 6,
    "start_time": "2022-07-05T13:56:44.259Z"
   },
   {
    "duration": 208,
    "start_time": "2022-07-05T13:56:44.267Z"
   },
   {
    "duration": 207,
    "start_time": "2022-07-05T13:56:44.476Z"
   },
   {
    "duration": 16,
    "start_time": "2022-07-05T13:56:44.688Z"
   },
   {
    "duration": 204,
    "start_time": "2022-07-05T13:56:44.706Z"
   },
   {
    "duration": 198,
    "start_time": "2022-07-05T13:56:44.913Z"
   },
   {
    "duration": 18,
    "start_time": "2022-07-05T13:56:45.113Z"
   },
   {
    "duration": 203,
    "start_time": "2022-07-05T13:56:45.132Z"
   },
   {
    "duration": 13,
    "start_time": "2022-07-05T13:56:45.337Z"
   },
   {
    "duration": 17,
    "start_time": "2022-07-05T13:56:45.352Z"
   },
   {
    "duration": 594,
    "start_time": "2022-07-05T13:56:45.371Z"
   },
   {
    "duration": 6,
    "start_time": "2022-07-05T13:56:45.967Z"
   },
   {
    "duration": 71,
    "start_time": "2022-07-05T13:56:45.975Z"
   },
   {
    "duration": 8,
    "start_time": "2022-07-05T13:56:46.048Z"
   },
   {
    "duration": 9,
    "start_time": "2022-07-05T13:56:46.058Z"
   },
   {
    "duration": 199,
    "start_time": "2022-07-05T13:56:46.069Z"
   },
   {
    "duration": 197,
    "start_time": "2022-07-05T13:56:46.269Z"
   },
   {
    "duration": 229,
    "start_time": "2022-07-05T13:56:46.467Z"
   },
   {
    "duration": 8,
    "start_time": "2022-07-05T13:56:46.699Z"
   },
   {
    "duration": 21,
    "start_time": "2022-07-05T13:56:47.525Z"
   },
   {
    "duration": 2249,
    "start_time": "2022-07-05T13:56:59.696Z"
   },
   {
    "duration": 18,
    "start_time": "2022-07-05T13:57:01.947Z"
   },
   {
    "duration": 30,
    "start_time": "2022-07-05T13:57:01.967Z"
   },
   {
    "duration": 30,
    "start_time": "2022-07-05T13:57:01.999Z"
   },
   {
    "duration": 6,
    "start_time": "2022-07-05T13:57:02.031Z"
   },
   {
    "duration": 15,
    "start_time": "2022-07-05T13:57:02.038Z"
   },
   {
    "duration": 6,
    "start_time": "2022-07-05T13:57:02.055Z"
   },
   {
    "duration": 30,
    "start_time": "2022-07-05T13:57:02.063Z"
   },
   {
    "duration": 38,
    "start_time": "2022-07-05T13:57:02.095Z"
   },
   {
    "duration": 21,
    "start_time": "2022-07-05T13:57:02.136Z"
   },
   {
    "duration": 14,
    "start_time": "2022-07-05T13:57:02.159Z"
   },
   {
    "duration": 20,
    "start_time": "2022-07-05T13:57:02.175Z"
   },
   {
    "duration": 5,
    "start_time": "2022-07-05T13:57:02.224Z"
   },
   {
    "duration": 10,
    "start_time": "2022-07-05T13:57:02.231Z"
   },
   {
    "duration": 21,
    "start_time": "2022-07-05T13:57:02.243Z"
   },
   {
    "duration": 12,
    "start_time": "2022-07-05T13:57:02.266Z"
   },
   {
    "duration": 43,
    "start_time": "2022-07-05T13:57:02.280Z"
   },
   {
    "duration": 28,
    "start_time": "2022-07-05T13:57:02.325Z"
   },
   {
    "duration": 170,
    "start_time": "2022-07-05T13:57:02.355Z"
   },
   {
    "duration": 7,
    "start_time": "2022-07-05T13:57:02.527Z"
   },
   {
    "duration": 13,
    "start_time": "2022-07-05T13:57:02.536Z"
   },
   {
    "duration": 5,
    "start_time": "2022-07-05T13:57:02.552Z"
   },
   {
    "duration": 69,
    "start_time": "2022-07-05T13:57:02.559Z"
   },
   {
    "duration": 40,
    "start_time": "2022-07-05T13:57:02.630Z"
   },
   {
    "duration": 8,
    "start_time": "2022-07-05T13:57:02.672Z"
   },
   {
    "duration": 223,
    "start_time": "2022-07-05T13:57:02.682Z"
   },
   {
    "duration": 220,
    "start_time": "2022-07-05T13:57:02.906Z"
   },
   {
    "duration": 120,
    "start_time": "2022-07-05T13:57:03.129Z"
   },
   {
    "duration": 0,
    "start_time": "2022-07-05T13:57:03.252Z"
   },
   {
    "duration": 0,
    "start_time": "2022-07-05T13:57:03.253Z"
   },
   {
    "duration": 0,
    "start_time": "2022-07-05T13:57:03.254Z"
   },
   {
    "duration": 0,
    "start_time": "2022-07-05T13:57:03.255Z"
   },
   {
    "duration": 0,
    "start_time": "2022-07-05T13:57:03.256Z"
   },
   {
    "duration": 0,
    "start_time": "2022-07-05T13:57:03.257Z"
   },
   {
    "duration": 0,
    "start_time": "2022-07-05T13:57:03.258Z"
   },
   {
    "duration": 0,
    "start_time": "2022-07-05T13:57:03.259Z"
   },
   {
    "duration": 0,
    "start_time": "2022-07-05T13:57:03.260Z"
   },
   {
    "duration": 0,
    "start_time": "2022-07-05T13:57:03.261Z"
   },
   {
    "duration": 0,
    "start_time": "2022-07-05T13:57:03.262Z"
   },
   {
    "duration": 0,
    "start_time": "2022-07-05T13:57:03.264Z"
   },
   {
    "duration": 0,
    "start_time": "2022-07-05T13:57:03.265Z"
   },
   {
    "duration": 0,
    "start_time": "2022-07-05T13:57:03.266Z"
   },
   {
    "duration": 0,
    "start_time": "2022-07-05T13:57:03.267Z"
   },
   {
    "duration": 0,
    "start_time": "2022-07-05T13:57:03.268Z"
   },
   {
    "duration": 0,
    "start_time": "2022-07-05T13:57:03.270Z"
   },
   {
    "duration": 2203,
    "start_time": "2022-07-05T13:58:43.731Z"
   },
   {
    "duration": 20,
    "start_time": "2022-07-05T13:58:45.936Z"
   },
   {
    "duration": 12,
    "start_time": "2022-07-05T13:58:45.959Z"
   },
   {
    "duration": 52,
    "start_time": "2022-07-05T13:58:45.973Z"
   },
   {
    "duration": 3,
    "start_time": "2022-07-05T13:58:46.027Z"
   },
   {
    "duration": 18,
    "start_time": "2022-07-05T13:58:46.032Z"
   },
   {
    "duration": 2,
    "start_time": "2022-07-05T13:58:46.052Z"
   },
   {
    "duration": 29,
    "start_time": "2022-07-05T13:58:46.056Z"
   },
   {
    "duration": 56,
    "start_time": "2022-07-05T13:58:46.086Z"
   },
   {
    "duration": 20,
    "start_time": "2022-07-05T13:58:46.144Z"
   },
   {
    "duration": 12,
    "start_time": "2022-07-05T13:58:46.166Z"
   },
   {
    "duration": 47,
    "start_time": "2022-07-05T13:58:46.179Z"
   },
   {
    "duration": 8,
    "start_time": "2022-07-05T13:58:46.228Z"
   },
   {
    "duration": 5,
    "start_time": "2022-07-05T13:58:46.240Z"
   },
   {
    "duration": 18,
    "start_time": "2022-07-05T13:58:46.246Z"
   },
   {
    "duration": 12,
    "start_time": "2022-07-05T13:58:46.266Z"
   },
   {
    "duration": 44,
    "start_time": "2022-07-05T13:58:46.280Z"
   },
   {
    "duration": 34,
    "start_time": "2022-07-05T13:58:46.326Z"
   },
   {
    "duration": 154,
    "start_time": "2022-07-05T13:58:46.362Z"
   },
   {
    "duration": 7,
    "start_time": "2022-07-05T13:58:46.523Z"
   },
   {
    "duration": 9,
    "start_time": "2022-07-05T13:58:46.531Z"
   },
   {
    "duration": 3,
    "start_time": "2022-07-05T13:58:46.542Z"
   },
   {
    "duration": 49,
    "start_time": "2022-07-05T13:58:46.546Z"
   },
   {
    "duration": 38,
    "start_time": "2022-07-05T13:58:46.624Z"
   },
   {
    "duration": 6,
    "start_time": "2022-07-05T13:58:46.665Z"
   },
   {
    "duration": 219,
    "start_time": "2022-07-05T13:58:46.673Z"
   },
   {
    "duration": 229,
    "start_time": "2022-07-05T13:58:46.894Z"
   },
   {
    "duration": 186,
    "start_time": "2022-07-05T13:58:47.125Z"
   },
   {
    "duration": 186,
    "start_time": "2022-07-05T13:58:47.313Z"
   },
   {
    "duration": 25,
    "start_time": "2022-07-05T13:58:47.500Z"
   },
   {
    "duration": 13,
    "start_time": "2022-07-05T13:58:47.527Z"
   },
   {
    "duration": 230,
    "start_time": "2022-07-05T13:58:47.542Z"
   },
   {
    "duration": 15,
    "start_time": "2022-07-05T13:58:47.774Z"
   },
   {
    "duration": 40,
    "start_time": "2022-07-05T13:58:47.791Z"
   },
   {
    "duration": 643,
    "start_time": "2022-07-05T13:58:47.834Z"
   },
   {
    "duration": 6,
    "start_time": "2022-07-05T13:58:48.478Z"
   },
   {
    "duration": 48,
    "start_time": "2022-07-05T13:58:48.486Z"
   },
   {
    "duration": 6,
    "start_time": "2022-07-05T13:58:48.536Z"
   },
   {
    "duration": 9,
    "start_time": "2022-07-05T13:58:48.544Z"
   },
   {
    "duration": 210,
    "start_time": "2022-07-05T13:58:48.555Z"
   },
   {
    "duration": 200,
    "start_time": "2022-07-05T13:58:48.769Z"
   },
   {
    "duration": 257,
    "start_time": "2022-07-05T13:58:48.971Z"
   },
   {
    "duration": 8,
    "start_time": "2022-07-05T13:58:49.231Z"
   },
   {
    "duration": 128,
    "start_time": "2022-07-05T13:58:49.241Z"
   },
   {
    "duration": 0,
    "start_time": "2022-07-05T13:58:49.371Z"
   },
   {
    "duration": 17,
    "start_time": "2022-07-05T13:59:02.383Z"
   },
   {
    "duration": 4,
    "start_time": "2022-07-05T13:59:13.727Z"
   },
   {
    "duration": 11,
    "start_time": "2022-07-05T13:59:23.097Z"
   },
   {
    "duration": 27,
    "start_time": "2022-07-05T14:00:45.185Z"
   },
   {
    "duration": 12,
    "start_time": "2022-07-05T14:00:47.990Z"
   },
   {
    "duration": 18,
    "start_time": "2022-07-05T14:01:06.777Z"
   },
   {
    "duration": 24,
    "start_time": "2022-07-05T14:02:00.751Z"
   },
   {
    "duration": 21,
    "start_time": "2022-07-05T14:02:19.270Z"
   },
   {
    "duration": 2363,
    "start_time": "2022-07-05T14:05:42.319Z"
   },
   {
    "duration": 19,
    "start_time": "2022-07-05T14:05:44.684Z"
   },
   {
    "duration": 14,
    "start_time": "2022-07-05T14:05:44.724Z"
   },
   {
    "duration": 42,
    "start_time": "2022-07-05T14:05:44.741Z"
   },
   {
    "duration": 3,
    "start_time": "2022-07-05T14:05:44.786Z"
   },
   {
    "duration": 39,
    "start_time": "2022-07-05T14:05:44.791Z"
   },
   {
    "duration": 10,
    "start_time": "2022-07-05T14:05:44.833Z"
   },
   {
    "duration": 26,
    "start_time": "2022-07-05T14:05:44.845Z"
   },
   {
    "duration": 52,
    "start_time": "2022-07-05T14:05:44.874Z"
   },
   {
    "duration": 31,
    "start_time": "2022-07-05T14:05:44.928Z"
   },
   {
    "duration": 16,
    "start_time": "2022-07-05T14:05:44.963Z"
   },
   {
    "duration": 45,
    "start_time": "2022-07-05T14:05:44.982Z"
   },
   {
    "duration": 17,
    "start_time": "2022-07-05T14:05:45.030Z"
   },
   {
    "duration": 11,
    "start_time": "2022-07-05T14:05:45.053Z"
   },
   {
    "duration": 42,
    "start_time": "2022-07-05T14:05:45.066Z"
   },
   {
    "duration": 22,
    "start_time": "2022-07-05T14:05:45.122Z"
   },
   {
    "duration": 18,
    "start_time": "2022-07-05T14:05:45.147Z"
   },
   {
    "duration": 32,
    "start_time": "2022-07-05T14:05:45.167Z"
   },
   {
    "duration": 185,
    "start_time": "2022-07-05T14:05:45.201Z"
   },
   {
    "duration": 8,
    "start_time": "2022-07-05T14:05:45.388Z"
   },
   {
    "duration": 32,
    "start_time": "2022-07-05T14:05:45.398Z"
   },
   {
    "duration": 3,
    "start_time": "2022-07-05T14:05:45.433Z"
   },
   {
    "duration": 50,
    "start_time": "2022-07-05T14:05:45.438Z"
   },
   {
    "duration": 67,
    "start_time": "2022-07-05T14:05:45.490Z"
   },
   {
    "duration": 8,
    "start_time": "2022-07-05T14:05:45.559Z"
   },
   {
    "duration": 248,
    "start_time": "2022-07-05T14:05:45.570Z"
   },
   {
    "duration": 227,
    "start_time": "2022-07-05T14:05:45.820Z"
   },
   {
    "duration": 203,
    "start_time": "2022-07-05T14:05:46.050Z"
   },
   {
    "duration": 202,
    "start_time": "2022-07-05T14:05:46.256Z"
   },
   {
    "duration": 15,
    "start_time": "2022-07-05T14:05:46.460Z"
   },
   {
    "duration": 13,
    "start_time": "2022-07-05T14:05:46.477Z"
   },
   {
    "duration": 235,
    "start_time": "2022-07-05T14:05:46.493Z"
   },
   {
    "duration": 13,
    "start_time": "2022-07-05T14:05:46.730Z"
   },
   {
    "duration": 17,
    "start_time": "2022-07-05T14:05:46.745Z"
   },
   {
    "duration": 711,
    "start_time": "2022-07-05T14:05:46.764Z"
   },
   {
    "duration": 6,
    "start_time": "2022-07-05T14:05:47.477Z"
   },
   {
    "duration": 62,
    "start_time": "2022-07-05T14:05:47.486Z"
   },
   {
    "duration": 7,
    "start_time": "2022-07-05T14:05:47.551Z"
   },
   {
    "duration": 21,
    "start_time": "2022-07-05T14:05:47.560Z"
   },
   {
    "duration": 214,
    "start_time": "2022-07-05T14:05:47.584Z"
   },
   {
    "duration": 200,
    "start_time": "2022-07-05T14:05:47.804Z"
   },
   {
    "duration": 241,
    "start_time": "2022-07-05T14:05:48.006Z"
   },
   {
    "duration": 9,
    "start_time": "2022-07-05T14:05:48.250Z"
   },
   {
    "duration": 31,
    "start_time": "2022-07-05T14:05:48.261Z"
   },
   {
    "duration": 49,
    "start_time": "2022-07-05T14:05:48.294Z"
   },
   {
    "duration": 47,
    "start_time": "2022-07-05T14:05:48.344Z"
   },
   {
    "duration": 20,
    "start_time": "2022-07-05T14:06:28.790Z"
   },
   {
    "duration": 46,
    "start_time": "2022-07-05T14:34:58.507Z"
   },
   {
    "duration": 2249,
    "start_time": "2022-07-05T14:37:05.531Z"
   },
   {
    "duration": 41,
    "start_time": "2022-07-05T14:37:07.783Z"
   },
   {
    "duration": 14,
    "start_time": "2022-07-05T14:37:07.827Z"
   },
   {
    "duration": 17,
    "start_time": "2022-07-05T14:37:07.843Z"
   },
   {
    "duration": 15,
    "start_time": "2022-07-05T14:37:07.864Z"
   },
   {
    "duration": 19,
    "start_time": "2022-07-05T14:37:07.923Z"
   },
   {
    "duration": 31,
    "start_time": "2022-07-05T14:37:07.945Z"
   },
   {
    "duration": 56,
    "start_time": "2022-07-05T14:37:07.978Z"
   },
   {
    "duration": 14,
    "start_time": "2022-07-05T14:37:08.036Z"
   },
   {
    "duration": 16,
    "start_time": "2022-07-05T14:37:08.052Z"
   },
   {
    "duration": 11,
    "start_time": "2022-07-05T14:37:08.070Z"
   },
   {
    "duration": 49,
    "start_time": "2022-07-05T14:37:08.083Z"
   },
   {
    "duration": 24,
    "start_time": "2022-07-05T14:37:08.134Z"
   },
   {
    "duration": 14,
    "start_time": "2022-07-05T14:37:08.163Z"
   },
   {
    "duration": 5,
    "start_time": "2022-07-05T14:37:08.179Z"
   },
   {
    "duration": 29,
    "start_time": "2022-07-05T14:37:08.225Z"
   },
   {
    "duration": 184,
    "start_time": "2022-07-05T14:37:08.256Z"
   },
   {
    "duration": 7,
    "start_time": "2022-07-05T14:37:08.442Z"
   },
   {
    "duration": 11,
    "start_time": "2022-07-05T14:37:08.451Z"
   },
   {
    "duration": 72,
    "start_time": "2022-07-05T14:37:08.464Z"
   },
   {
    "duration": 39,
    "start_time": "2022-07-05T14:37:08.538Z"
   },
   {
    "duration": 6,
    "start_time": "2022-07-05T14:37:08.579Z"
   },
   {
    "duration": 241,
    "start_time": "2022-07-05T14:37:08.586Z"
   },
   {
    "duration": 280,
    "start_time": "2022-07-05T14:37:08.830Z"
   },
   {
    "duration": 218,
    "start_time": "2022-07-05T14:37:09.113Z"
   },
   {
    "duration": 195,
    "start_time": "2022-07-05T14:37:09.333Z"
   },
   {
    "duration": 17,
    "start_time": "2022-07-05T14:37:09.530Z"
   },
   {
    "duration": 15,
    "start_time": "2022-07-05T14:37:09.549Z"
   },
   {
    "duration": 224,
    "start_time": "2022-07-05T14:37:09.566Z"
   },
   {
    "duration": 31,
    "start_time": "2022-07-05T14:37:09.792Z"
   },
   {
    "duration": 21,
    "start_time": "2022-07-05T14:37:09.826Z"
   },
   {
    "duration": 687,
    "start_time": "2022-07-05T14:37:09.849Z"
   },
   {
    "duration": 5,
    "start_time": "2022-07-05T14:37:10.538Z"
   },
   {
    "duration": 40,
    "start_time": "2022-07-05T14:37:10.545Z"
   },
   {
    "duration": 6,
    "start_time": "2022-07-05T14:37:10.587Z"
   },
   {
    "duration": 31,
    "start_time": "2022-07-05T14:37:10.595Z"
   },
   {
    "duration": 216,
    "start_time": "2022-07-05T14:37:10.628Z"
   },
   {
    "duration": 201,
    "start_time": "2022-07-05T14:37:10.846Z"
   },
   {
    "duration": 238,
    "start_time": "2022-07-05T14:37:11.050Z"
   },
   {
    "duration": 9,
    "start_time": "2022-07-05T14:37:11.291Z"
   },
   {
    "duration": 24,
    "start_time": "2022-07-05T14:37:11.325Z"
   },
   {
    "duration": 29,
    "start_time": "2022-07-05T14:37:11.351Z"
   },
   {
    "duration": 2165,
    "start_time": "2022-07-05T19:41:35.737Z"
   },
   {
    "duration": 25,
    "start_time": "2022-07-05T19:41:37.905Z"
   },
   {
    "duration": 10,
    "start_time": "2022-07-05T19:41:37.932Z"
   },
   {
    "duration": 13,
    "start_time": "2022-07-05T19:41:37.944Z"
   },
   {
    "duration": 10,
    "start_time": "2022-07-05T19:41:37.958Z"
   },
   {
    "duration": 21,
    "start_time": "2022-07-05T19:41:37.970Z"
   },
   {
    "duration": 42,
    "start_time": "2022-07-05T19:41:37.993Z"
   },
   {
    "duration": 18,
    "start_time": "2022-07-05T19:41:38.037Z"
   },
   {
    "duration": 11,
    "start_time": "2022-07-05T19:41:38.056Z"
   },
   {
    "duration": 13,
    "start_time": "2022-07-05T19:41:38.070Z"
   },
   {
    "duration": 5,
    "start_time": "2022-07-05T19:41:38.085Z"
   },
   {
    "duration": 5,
    "start_time": "2022-07-05T19:41:38.125Z"
   },
   {
    "duration": 16,
    "start_time": "2022-07-05T19:41:38.132Z"
   },
   {
    "duration": 10,
    "start_time": "2022-07-05T19:41:38.150Z"
   },
   {
    "duration": 4,
    "start_time": "2022-07-05T19:41:38.162Z"
   },
   {
    "duration": 23,
    "start_time": "2022-07-05T19:41:38.168Z"
   },
   {
    "duration": 178,
    "start_time": "2022-07-05T19:41:38.193Z"
   },
   {
    "duration": 6,
    "start_time": "2022-07-05T19:41:38.372Z"
   },
   {
    "duration": 12,
    "start_time": "2022-07-05T19:41:38.379Z"
   },
   {
    "duration": 48,
    "start_time": "2022-07-05T19:41:38.392Z"
   },
   {
    "duration": 32,
    "start_time": "2022-07-05T19:41:38.442Z"
   },
   {
    "duration": 5,
    "start_time": "2022-07-05T19:41:38.476Z"
   },
   {
    "duration": 188,
    "start_time": "2022-07-05T19:41:38.483Z"
   },
   {
    "duration": 209,
    "start_time": "2022-07-05T19:41:38.673Z"
   },
   {
    "duration": 159,
    "start_time": "2022-07-05T19:41:38.884Z"
   },
   {
    "duration": 161,
    "start_time": "2022-07-05T19:41:39.045Z"
   },
   {
    "duration": 17,
    "start_time": "2022-07-05T19:41:39.208Z"
   },
   {
    "duration": 12,
    "start_time": "2022-07-05T19:41:39.230Z"
   },
   {
    "duration": 186,
    "start_time": "2022-07-05T19:41:39.244Z"
   },
   {
    "duration": 11,
    "start_time": "2022-07-05T19:41:39.432Z"
   },
   {
    "duration": 15,
    "start_time": "2022-07-05T19:41:39.444Z"
   },
   {
    "duration": 695,
    "start_time": "2022-07-05T19:41:39.461Z"
   },
   {
    "duration": 5,
    "start_time": "2022-07-05T19:41:40.158Z"
   },
   {
    "duration": 41,
    "start_time": "2022-07-05T19:41:40.165Z"
   },
   {
    "duration": 19,
    "start_time": "2022-07-05T19:41:40.208Z"
   },
   {
    "duration": 12,
    "start_time": "2022-07-05T19:41:40.229Z"
   },
   {
    "duration": 176,
    "start_time": "2022-07-05T19:41:40.243Z"
   },
   {
    "duration": 163,
    "start_time": "2022-07-05T19:41:40.423Z"
   },
   {
    "duration": 193,
    "start_time": "2022-07-05T19:41:40.587Z"
   },
   {
    "duration": 8,
    "start_time": "2022-07-05T19:41:40.782Z"
   },
   {
    "duration": 46,
    "start_time": "2022-07-05T19:41:40.792Z"
   },
   {
    "duration": 17,
    "start_time": "2022-07-05T19:41:40.840Z"
   },
   {
    "duration": 15,
    "start_time": "2022-07-05T20:41:57.246Z"
   },
   {
    "duration": 1268,
    "start_time": "2022-07-06T11:33:00.329Z"
   },
   {
    "duration": 367,
    "start_time": "2022-07-06T11:33:02.852Z"
   },
   {
    "duration": 1129,
    "start_time": "2022-07-06T11:33:15.064Z"
   },
   {
    "duration": 127,
    "start_time": "2022-07-06T11:33:17.865Z"
   },
   {
    "duration": 136,
    "start_time": "2022-07-06T11:33:32.177Z"
   },
   {
    "duration": 4,
    "start_time": "2022-07-06T11:49:26.590Z"
   },
   {
    "duration": 152,
    "start_time": "2022-07-06T11:49:26.596Z"
   },
   {
    "duration": 8,
    "start_time": "2022-07-06T11:49:29.263Z"
   },
   {
    "duration": 5,
    "start_time": "2022-07-06T11:49:43.350Z"
   },
   {
    "duration": 2,
    "start_time": "2022-07-06T11:49:45.954Z"
   },
   {
    "duration": 137,
    "start_time": "2022-07-06T11:49:45.958Z"
   },
   {
    "duration": 90,
    "start_time": "2022-07-06T11:51:50.350Z"
   },
   {
    "duration": 4,
    "start_time": "2022-07-06T11:51:57.894Z"
   },
   {
    "duration": 6,
    "start_time": "2022-07-06T11:53:09.374Z"
   },
   {
    "duration": 3,
    "start_time": "2022-07-06T11:53:14.021Z"
   },
   {
    "duration": 13,
    "start_time": "2022-07-06T11:53:23.253Z"
   },
   {
    "duration": 72,
    "start_time": "2022-07-06T11:53:49.218Z"
   },
   {
    "duration": 42,
    "start_time": "2022-07-06T11:54:20.655Z"
   },
   {
    "duration": 4,
    "start_time": "2022-07-06T12:05:06.899Z"
   },
   {
    "duration": 139,
    "start_time": "2022-07-06T12:05:06.905Z"
   },
   {
    "duration": 5,
    "start_time": "2022-07-06T12:05:07.046Z"
   },
   {
    "duration": 7,
    "start_time": "2022-07-06T12:05:07.053Z"
   },
   {
    "duration": 18,
    "start_time": "2022-07-06T12:05:07.063Z"
   },
   {
    "duration": 40,
    "start_time": "2022-07-06T12:05:07.083Z"
   },
   {
    "duration": 2,
    "start_time": "2022-07-06T12:05:07.125Z"
   },
   {
    "duration": 17,
    "start_time": "2022-07-06T12:05:07.129Z"
   },
   {
    "duration": 10,
    "start_time": "2022-07-06T12:05:07.148Z"
   },
   {
    "duration": 11,
    "start_time": "2022-07-06T12:05:07.160Z"
   },
   {
    "duration": 39,
    "start_time": "2022-07-06T12:05:07.172Z"
   },
   {
    "duration": 17,
    "start_time": "2022-07-06T12:05:07.213Z"
   },
   {
    "duration": 21,
    "start_time": "2022-07-06T12:05:07.232Z"
   },
   {
    "duration": 18,
    "start_time": "2022-07-06T12:05:07.255Z"
   },
   {
    "duration": 21,
    "start_time": "2022-07-06T12:07:33.800Z"
   },
   {
    "duration": 4,
    "start_time": "2022-07-06T12:07:37.162Z"
   },
   {
    "duration": 139,
    "start_time": "2022-07-06T12:07:37.168Z"
   },
   {
    "duration": 6,
    "start_time": "2022-07-06T12:07:37.308Z"
   },
   {
    "duration": 8,
    "start_time": "2022-07-06T12:07:37.315Z"
   },
   {
    "duration": 19,
    "start_time": "2022-07-06T12:07:37.325Z"
   },
   {
    "duration": 59,
    "start_time": "2022-07-06T12:07:37.346Z"
   },
   {
    "duration": 3,
    "start_time": "2022-07-06T12:07:37.407Z"
   },
   {
    "duration": 17,
    "start_time": "2022-07-06T12:07:37.411Z"
   },
   {
    "duration": 18,
    "start_time": "2022-07-06T12:07:37.430Z"
   },
   {
    "duration": 11,
    "start_time": "2022-07-06T12:07:37.449Z"
   },
   {
    "duration": 43,
    "start_time": "2022-07-06T12:07:37.462Z"
   },
   {
    "duration": 25,
    "start_time": "2022-07-06T12:07:37.507Z"
   },
   {
    "duration": 26,
    "start_time": "2022-07-06T12:07:37.534Z"
   },
   {
    "duration": 23,
    "start_time": "2022-07-06T12:07:38.675Z"
   },
   {
    "duration": 21,
    "start_time": "2022-07-06T12:08:05.895Z"
   },
   {
    "duration": 4,
    "start_time": "2022-07-06T12:08:08.274Z"
   },
   {
    "duration": 158,
    "start_time": "2022-07-06T12:08:08.279Z"
   },
   {
    "duration": 6,
    "start_time": "2022-07-06T12:08:08.438Z"
   },
   {
    "duration": 7,
    "start_time": "2022-07-06T12:08:08.446Z"
   },
   {
    "duration": 21,
    "start_time": "2022-07-06T12:08:08.455Z"
   },
   {
    "duration": 50,
    "start_time": "2022-07-06T12:08:08.478Z"
   },
   {
    "duration": 2,
    "start_time": "2022-07-06T12:08:08.530Z"
   },
   {
    "duration": 20,
    "start_time": "2022-07-06T12:08:08.534Z"
   },
   {
    "duration": 11,
    "start_time": "2022-07-06T12:08:08.557Z"
   },
   {
    "duration": 39,
    "start_time": "2022-07-06T12:08:08.570Z"
   },
   {
    "duration": 14,
    "start_time": "2022-07-06T12:08:08.611Z"
   },
   {
    "duration": 17,
    "start_time": "2022-07-06T12:08:08.627Z"
   },
   {
    "duration": 26,
    "start_time": "2022-07-06T12:08:08.646Z"
   },
   {
    "duration": 22,
    "start_time": "2022-07-06T12:08:09.610Z"
   },
   {
    "duration": 3,
    "start_time": "2022-07-06T12:08:33.046Z"
   },
   {
    "duration": 157,
    "start_time": "2022-07-06T12:08:33.051Z"
   },
   {
    "duration": 6,
    "start_time": "2022-07-06T12:08:33.210Z"
   },
   {
    "duration": 22,
    "start_time": "2022-07-06T12:08:33.217Z"
   },
   {
    "duration": 37,
    "start_time": "2022-07-06T12:08:33.241Z"
   },
   {
    "duration": 38,
    "start_time": "2022-07-06T12:08:33.279Z"
   },
   {
    "duration": 2,
    "start_time": "2022-07-06T12:08:33.318Z"
   },
   {
    "duration": 38,
    "start_time": "2022-07-06T12:08:33.322Z"
   },
   {
    "duration": 21,
    "start_time": "2022-07-06T12:08:33.362Z"
   },
   {
    "duration": 26,
    "start_time": "2022-07-06T12:08:33.384Z"
   },
   {
    "duration": 22,
    "start_time": "2022-07-06T12:08:33.412Z"
   },
   {
    "duration": 33,
    "start_time": "2022-07-06T12:08:33.436Z"
   },
   {
    "duration": 31,
    "start_time": "2022-07-06T12:08:33.471Z"
   },
   {
    "duration": 23,
    "start_time": "2022-07-06T12:08:34.752Z"
   },
   {
    "duration": 4,
    "start_time": "2022-07-06T12:09:16.768Z"
   },
   {
    "duration": 137,
    "start_time": "2022-07-06T12:09:16.774Z"
   },
   {
    "duration": 5,
    "start_time": "2022-07-06T12:09:16.913Z"
   },
   {
    "duration": 8,
    "start_time": "2022-07-06T12:09:16.920Z"
   },
   {
    "duration": 17,
    "start_time": "2022-07-06T12:09:16.929Z"
   },
   {
    "duration": 34,
    "start_time": "2022-07-06T12:09:16.948Z"
   },
   {
    "duration": 3,
    "start_time": "2022-07-06T12:09:17.004Z"
   },
   {
    "duration": 15,
    "start_time": "2022-07-06T12:09:17.009Z"
   },
   {
    "duration": 9,
    "start_time": "2022-07-06T12:09:17.026Z"
   },
   {
    "duration": 10,
    "start_time": "2022-07-06T12:09:17.037Z"
   },
   {
    "duration": 9,
    "start_time": "2022-07-06T12:09:17.049Z"
   },
   {
    "duration": 18,
    "start_time": "2022-07-06T12:09:17.059Z"
   },
   {
    "duration": 24,
    "start_time": "2022-07-06T12:09:17.104Z"
   },
   {
    "duration": 28,
    "start_time": "2022-07-06T12:09:20.209Z"
   },
   {
    "duration": 22,
    "start_time": "2022-07-06T12:12:39.807Z"
   },
   {
    "duration": 12,
    "start_time": "2022-07-06T12:19:00.777Z"
   },
   {
    "duration": 18,
    "start_time": "2022-07-06T12:19:00.790Z"
   },
   {
    "duration": 5,
    "start_time": "2022-07-06T12:19:00.809Z"
   },
   {
    "duration": 10,
    "start_time": "2022-07-06T12:19:00.815Z"
   },
   {
    "duration": 23,
    "start_time": "2022-07-06T12:19:00.827Z"
   },
   {
    "duration": 14,
    "start_time": "2022-07-06T12:19:00.851Z"
   },
   {
    "duration": 7,
    "start_time": "2022-07-06T12:19:00.867Z"
   },
   {
    "duration": 47,
    "start_time": "2022-07-06T12:19:00.876Z"
   },
   {
    "duration": 151,
    "start_time": "2022-07-06T12:19:00.925Z"
   },
   {
    "duration": 6,
    "start_time": "2022-07-06T12:19:01.078Z"
   },
   {
    "duration": 20,
    "start_time": "2022-07-06T12:19:01.086Z"
   },
   {
    "duration": 38,
    "start_time": "2022-07-06T12:19:01.108Z"
   },
   {
    "duration": 36,
    "start_time": "2022-07-06T12:19:01.148Z"
   },
   {
    "duration": 6,
    "start_time": "2022-07-06T12:19:01.203Z"
   },
   {
    "duration": 176,
    "start_time": "2022-07-06T12:19:01.210Z"
   },
   {
    "duration": 178,
    "start_time": "2022-07-06T12:19:01.388Z"
   },
   {
    "duration": 157,
    "start_time": "2022-07-06T12:19:01.567Z"
   },
   {
    "duration": 170,
    "start_time": "2022-07-06T12:19:01.726Z"
   },
   {
    "duration": 18,
    "start_time": "2022-07-06T12:19:01.897Z"
   },
   {
    "duration": 13,
    "start_time": "2022-07-06T12:19:01.916Z"
   },
   {
    "duration": 188,
    "start_time": "2022-07-06T12:19:01.931Z"
   },
   {
    "duration": 13,
    "start_time": "2022-07-06T12:19:02.122Z"
   },
   {
    "duration": 17,
    "start_time": "2022-07-06T12:19:02.137Z"
   },
   {
    "duration": 622,
    "start_time": "2022-07-06T12:19:02.156Z"
   },
   {
    "duration": 5,
    "start_time": "2022-07-06T12:19:02.780Z"
   },
   {
    "duration": 46,
    "start_time": "2022-07-06T12:19:02.786Z"
   },
   {
    "duration": 6,
    "start_time": "2022-07-06T12:19:02.833Z"
   },
   {
    "duration": 11,
    "start_time": "2022-07-06T12:19:02.840Z"
   },
   {
    "duration": 163,
    "start_time": "2022-07-06T12:19:02.852Z"
   },
   {
    "duration": 160,
    "start_time": "2022-07-06T12:19:03.017Z"
   },
   {
    "duration": 190,
    "start_time": "2022-07-06T12:19:03.178Z"
   },
   {
    "duration": 8,
    "start_time": "2022-07-06T12:19:03.369Z"
   },
   {
    "duration": 35,
    "start_time": "2022-07-06T12:19:03.379Z"
   },
   {
    "duration": 18,
    "start_time": "2022-07-06T12:19:03.415Z"
   },
   {
    "duration": 1132,
    "start_time": "2022-07-06T12:19:18.962Z"
   },
   {
    "duration": 145,
    "start_time": "2022-07-06T12:19:20.096Z"
   },
   {
    "duration": 5,
    "start_time": "2022-07-06T12:19:20.242Z"
   },
   {
    "duration": 8,
    "start_time": "2022-07-06T12:19:20.248Z"
   },
   {
    "duration": 16,
    "start_time": "2022-07-06T12:19:20.258Z"
   },
   {
    "duration": 40,
    "start_time": "2022-07-06T12:19:20.275Z"
   },
   {
    "duration": 2,
    "start_time": "2022-07-06T12:19:20.316Z"
   },
   {
    "duration": 20,
    "start_time": "2022-07-06T12:19:20.320Z"
   },
   {
    "duration": 10,
    "start_time": "2022-07-06T12:19:20.341Z"
   },
   {
    "duration": 12,
    "start_time": "2022-07-06T12:19:20.353Z"
   },
   {
    "duration": 11,
    "start_time": "2022-07-06T12:19:20.367Z"
   },
   {
    "duration": 16,
    "start_time": "2022-07-06T12:19:20.404Z"
   },
   {
    "duration": 25,
    "start_time": "2022-07-06T12:19:20.421Z"
   },
   {
    "duration": 24,
    "start_time": "2022-07-06T12:19:20.449Z"
   },
   {
    "duration": 51,
    "start_time": "2022-07-06T12:19:20.475Z"
   },
   {
    "duration": 106,
    "start_time": "2022-07-06T12:20:29.590Z"
   },
   {
    "duration": 5,
    "start_time": "2022-07-06T12:20:52.173Z"
   },
   {
    "duration": 6,
    "start_time": "2022-07-06T12:21:19.252Z"
   },
   {
    "duration": 6,
    "start_time": "2022-07-06T12:21:32.223Z"
   },
   {
    "duration": 7,
    "start_time": "2022-07-06T12:21:42.819Z"
   },
   {
    "duration": 5,
    "start_time": "2022-07-06T12:21:58.324Z"
   },
   {
    "duration": 9,
    "start_time": "2022-07-06T12:22:18.906Z"
   },
   {
    "duration": 62,
    "start_time": "2022-07-06T12:22:58.923Z"
   },
   {
    "duration": 10,
    "start_time": "2022-07-06T12:32:18.099Z"
   },
   {
    "duration": 8,
    "start_time": "2022-07-06T12:33:33.767Z"
   },
   {
    "duration": 1026,
    "start_time": "2022-07-06T12:35:27.649Z"
   },
   {
    "duration": 4,
    "start_time": "2022-07-06T12:36:23.336Z"
   },
   {
    "duration": 137,
    "start_time": "2022-07-06T12:36:23.366Z"
   },
   {
    "duration": 7,
    "start_time": "2022-07-06T12:36:23.505Z"
   },
   {
    "duration": 12,
    "start_time": "2022-07-06T12:36:23.513Z"
   },
   {
    "duration": 21,
    "start_time": "2022-07-06T12:36:23.527Z"
   },
   {
    "duration": 62,
    "start_time": "2022-07-06T12:36:23.550Z"
   },
   {
    "duration": 3,
    "start_time": "2022-07-06T12:36:23.614Z"
   },
   {
    "duration": 17,
    "start_time": "2022-07-06T12:36:23.618Z"
   },
   {
    "duration": 13,
    "start_time": "2022-07-06T12:36:23.637Z"
   },
   {
    "duration": 14,
    "start_time": "2022-07-06T12:36:23.652Z"
   },
   {
    "duration": 40,
    "start_time": "2022-07-06T12:36:23.668Z"
   },
   {
    "duration": 19,
    "start_time": "2022-07-06T12:36:23.711Z"
   },
   {
    "duration": 24,
    "start_time": "2022-07-06T12:36:23.732Z"
   },
   {
    "duration": 47,
    "start_time": "2022-07-06T12:36:23.757Z"
   },
   {
    "duration": 25,
    "start_time": "2022-07-06T12:36:23.806Z"
   },
   {
    "duration": 25,
    "start_time": "2022-07-06T12:36:23.833Z"
   },
   {
    "duration": 11,
    "start_time": "2022-07-06T12:36:23.860Z"
   },
   {
    "duration": 476,
    "start_time": "2022-07-06T12:36:44.230Z"
   },
   {
    "duration": 440,
    "start_time": "2022-07-06T12:40:55.907Z"
   },
   {
    "duration": 393,
    "start_time": "2022-07-06T12:41:07.261Z"
   },
   {
    "duration": 489,
    "start_time": "2022-07-06T12:41:24.309Z"
   },
   {
    "duration": 3,
    "start_time": "2022-07-06T12:41:32.084Z"
   },
   {
    "duration": 152,
    "start_time": "2022-07-06T12:41:32.090Z"
   },
   {
    "duration": 5,
    "start_time": "2022-07-06T12:41:32.244Z"
   },
   {
    "duration": 39,
    "start_time": "2022-07-06T12:41:32.251Z"
   },
   {
    "duration": 36,
    "start_time": "2022-07-06T12:41:32.292Z"
   },
   {
    "duration": 49,
    "start_time": "2022-07-06T12:41:32.330Z"
   },
   {
    "duration": 15,
    "start_time": "2022-07-06T12:41:32.380Z"
   },
   {
    "duration": 44,
    "start_time": "2022-07-06T12:41:32.397Z"
   },
   {
    "duration": 33,
    "start_time": "2022-07-06T12:41:32.443Z"
   },
   {
    "duration": 34,
    "start_time": "2022-07-06T12:41:32.479Z"
   },
   {
    "duration": 49,
    "start_time": "2022-07-06T12:41:32.515Z"
   },
   {
    "duration": 24,
    "start_time": "2022-07-06T12:41:32.566Z"
   },
   {
    "duration": 49,
    "start_time": "2022-07-06T12:41:32.592Z"
   },
   {
    "duration": 25,
    "start_time": "2022-07-06T12:41:32.643Z"
   },
   {
    "duration": 42,
    "start_time": "2022-07-06T12:41:32.670Z"
   },
   {
    "duration": 29,
    "start_time": "2022-07-06T12:41:32.714Z"
   },
   {
    "duration": 351,
    "start_time": "2022-07-06T12:41:36.132Z"
   },
   {
    "duration": 12,
    "start_time": "2022-07-06T12:41:44.190Z"
   },
   {
    "duration": 1207,
    "start_time": "2022-07-06T12:42:15.982Z"
   },
   {
    "duration": 134,
    "start_time": "2022-07-06T12:42:17.191Z"
   },
   {
    "duration": 5,
    "start_time": "2022-07-06T12:42:17.327Z"
   },
   {
    "duration": 7,
    "start_time": "2022-07-06T12:42:17.335Z"
   },
   {
    "duration": 17,
    "start_time": "2022-07-06T12:42:17.343Z"
   },
   {
    "duration": 55,
    "start_time": "2022-07-06T12:42:17.361Z"
   },
   {
    "duration": 3,
    "start_time": "2022-07-06T12:42:17.417Z"
   },
   {
    "duration": 15,
    "start_time": "2022-07-06T12:42:17.422Z"
   },
   {
    "duration": 9,
    "start_time": "2022-07-06T12:42:17.438Z"
   },
   {
    "duration": 11,
    "start_time": "2022-07-06T12:42:17.449Z"
   },
   {
    "duration": 9,
    "start_time": "2022-07-06T12:42:17.462Z"
   },
   {
    "duration": 44,
    "start_time": "2022-07-06T12:42:17.473Z"
   },
   {
    "duration": 22,
    "start_time": "2022-07-06T12:42:17.519Z"
   },
   {
    "duration": 22,
    "start_time": "2022-07-06T12:42:17.542Z"
   },
   {
    "duration": 50,
    "start_time": "2022-07-06T12:42:17.566Z"
   },
   {
    "duration": 48,
    "start_time": "2022-07-06T12:42:17.617Z"
   },
   {
    "duration": 430,
    "start_time": "2022-07-06T12:42:21.398Z"
   },
   {
    "duration": 15,
    "start_time": "2022-07-06T12:42:34.058Z"
   },
   {
    "duration": 806,
    "start_time": "2022-07-06T12:42:38.661Z"
   },
   {
    "duration": 4,
    "start_time": "2022-07-06T12:43:41.364Z"
   },
   {
    "duration": 153,
    "start_time": "2022-07-06T12:43:41.371Z"
   },
   {
    "duration": 6,
    "start_time": "2022-07-06T12:43:41.526Z"
   },
   {
    "duration": 8,
    "start_time": "2022-07-06T12:43:41.534Z"
   },
   {
    "duration": 20,
    "start_time": "2022-07-06T12:43:41.544Z"
   },
   {
    "duration": 62,
    "start_time": "2022-07-06T12:43:41.566Z"
   },
   {
    "duration": 2,
    "start_time": "2022-07-06T12:43:41.630Z"
   },
   {
    "duration": 19,
    "start_time": "2022-07-06T12:43:41.634Z"
   },
   {
    "duration": 11,
    "start_time": "2022-07-06T12:43:41.654Z"
   },
   {
    "duration": 12,
    "start_time": "2022-07-06T12:43:41.666Z"
   },
   {
    "duration": 12,
    "start_time": "2022-07-06T12:43:41.704Z"
   },
   {
    "duration": 16,
    "start_time": "2022-07-06T12:43:41.718Z"
   },
   {
    "duration": 22,
    "start_time": "2022-07-06T12:43:41.736Z"
   },
   {
    "duration": 46,
    "start_time": "2022-07-06T12:43:41.762Z"
   },
   {
    "duration": 22,
    "start_time": "2022-07-06T12:43:41.810Z"
   },
   {
    "duration": 20,
    "start_time": "2022-07-06T12:43:41.834Z"
   },
   {
    "duration": 12,
    "start_time": "2022-07-06T12:43:52.314Z"
   },
   {
    "duration": 538,
    "start_time": "2022-07-06T12:43:53.755Z"
   },
   {
    "duration": 1138,
    "start_time": "2022-07-06T12:44:07.729Z"
   },
   {
    "duration": 144,
    "start_time": "2022-07-06T12:44:08.869Z"
   },
   {
    "duration": 6,
    "start_time": "2022-07-06T12:44:09.016Z"
   },
   {
    "duration": 16,
    "start_time": "2022-07-06T12:44:09.024Z"
   },
   {
    "duration": 29,
    "start_time": "2022-07-06T12:44:09.042Z"
   },
   {
    "duration": 60,
    "start_time": "2022-07-06T12:44:09.073Z"
   },
   {
    "duration": 3,
    "start_time": "2022-07-06T12:44:09.134Z"
   },
   {
    "duration": 31,
    "start_time": "2022-07-06T12:44:09.139Z"
   },
   {
    "duration": 15,
    "start_time": "2022-07-06T12:44:09.172Z"
   },
   {
    "duration": 22,
    "start_time": "2022-07-06T12:44:09.190Z"
   },
   {
    "duration": 26,
    "start_time": "2022-07-06T12:44:09.216Z"
   },
   {
    "duration": 52,
    "start_time": "2022-07-06T12:44:09.244Z"
   },
   {
    "duration": 26,
    "start_time": "2022-07-06T12:44:09.299Z"
   },
   {
    "duration": 35,
    "start_time": "2022-07-06T12:44:09.327Z"
   },
   {
    "duration": 58,
    "start_time": "2022-07-06T12:44:09.365Z"
   },
   {
    "duration": 64,
    "start_time": "2022-07-06T12:44:09.425Z"
   },
   {
    "duration": 15,
    "start_time": "2022-07-06T12:44:09.491Z"
   },
   {
    "duration": 617,
    "start_time": "2022-07-06T12:44:11.560Z"
   },
   {
    "duration": 328,
    "start_time": "2022-07-06T12:45:46.925Z"
   },
   {
    "duration": 4,
    "start_time": "2022-07-06T12:46:11.284Z"
   },
   {
    "duration": 4,
    "start_time": "2022-07-06T12:46:22.704Z"
   },
   {
    "duration": 139,
    "start_time": "2022-07-06T12:46:22.710Z"
   },
   {
    "duration": 6,
    "start_time": "2022-07-06T12:46:22.850Z"
   },
   {
    "duration": 7,
    "start_time": "2022-07-06T12:46:22.857Z"
   },
   {
    "duration": 18,
    "start_time": "2022-07-06T12:46:22.866Z"
   },
   {
    "duration": 37,
    "start_time": "2022-07-06T12:46:22.886Z"
   },
   {
    "duration": 3,
    "start_time": "2022-07-06T12:46:22.925Z"
   },
   {
    "duration": 17,
    "start_time": "2022-07-06T12:46:22.929Z"
   },
   {
    "duration": 10,
    "start_time": "2022-07-06T12:46:22.948Z"
   },
   {
    "duration": 11,
    "start_time": "2022-07-06T12:46:22.959Z"
   },
   {
    "duration": 34,
    "start_time": "2022-07-06T12:46:22.971Z"
   },
   {
    "duration": 19,
    "start_time": "2022-07-06T12:46:23.007Z"
   },
   {
    "duration": 23,
    "start_time": "2022-07-06T12:46:23.027Z"
   },
   {
    "duration": 25,
    "start_time": "2022-07-06T12:46:23.052Z"
   },
   {
    "duration": 48,
    "start_time": "2022-07-06T12:46:23.078Z"
   },
   {
    "duration": 23,
    "start_time": "2022-07-06T12:46:23.128Z"
   },
   {
    "duration": 340,
    "start_time": "2022-07-06T12:46:25.199Z"
   },
   {
    "duration": 10,
    "start_time": "2022-07-06T12:49:15.467Z"
   },
   {
    "duration": 328,
    "start_time": "2022-07-06T12:49:50.316Z"
   },
   {
    "duration": 3,
    "start_time": "2022-07-06T12:54:32.755Z"
   },
   {
    "duration": 132,
    "start_time": "2022-07-06T12:54:32.760Z"
   },
   {
    "duration": 6,
    "start_time": "2022-07-06T12:54:32.893Z"
   },
   {
    "duration": 13,
    "start_time": "2022-07-06T12:54:32.901Z"
   },
   {
    "duration": 18,
    "start_time": "2022-07-06T12:54:32.916Z"
   },
   {
    "duration": 35,
    "start_time": "2022-07-06T12:54:32.936Z"
   },
   {
    "duration": 2,
    "start_time": "2022-07-06T12:54:32.973Z"
   },
   {
    "duration": 19,
    "start_time": "2022-07-06T12:54:32.977Z"
   },
   {
    "duration": 9,
    "start_time": "2022-07-06T12:54:33.003Z"
   },
   {
    "duration": 11,
    "start_time": "2022-07-06T12:54:33.014Z"
   },
   {
    "duration": 10,
    "start_time": "2022-07-06T12:54:33.026Z"
   },
   {
    "duration": 16,
    "start_time": "2022-07-06T12:54:33.038Z"
   },
   {
    "duration": 55,
    "start_time": "2022-07-06T12:54:33.056Z"
   },
   {
    "duration": 20,
    "start_time": "2022-07-06T12:54:33.114Z"
   },
   {
    "duration": 21,
    "start_time": "2022-07-06T12:54:33.136Z"
   },
   {
    "duration": 46,
    "start_time": "2022-07-06T12:54:33.158Z"
   },
   {
    "duration": 13,
    "start_time": "2022-07-06T12:54:33.205Z"
   },
   {
    "duration": 39,
    "start_time": "2022-07-06T12:54:33.220Z"
   },
   {
    "duration": 6,
    "start_time": "2022-07-06T12:54:33.261Z"
   },
   {
    "duration": 5,
    "start_time": "2022-07-06T12:54:33.269Z"
   },
   {
    "duration": 17,
    "start_time": "2022-07-06T12:54:33.276Z"
   },
   {
    "duration": 18,
    "start_time": "2022-07-06T12:54:33.295Z"
   },
   {
    "duration": 3,
    "start_time": "2022-07-06T12:54:33.314Z"
   },
   {
    "duration": 25,
    "start_time": "2022-07-06T12:54:33.318Z"
   },
   {
    "duration": 164,
    "start_time": "2022-07-06T12:54:33.345Z"
   },
   {
    "duration": 8,
    "start_time": "2022-07-06T12:54:33.511Z"
   },
   {
    "duration": 9,
    "start_time": "2022-07-06T12:54:33.521Z"
   },
   {
    "duration": 37,
    "start_time": "2022-07-06T12:54:33.531Z"
   },
   {
    "duration": 60,
    "start_time": "2022-07-06T12:54:33.569Z"
   },
   {
    "duration": 5,
    "start_time": "2022-07-06T12:54:33.631Z"
   },
   {
    "duration": 175,
    "start_time": "2022-07-06T12:54:33.638Z"
   },
   {
    "duration": 166,
    "start_time": "2022-07-06T12:54:33.815Z"
   },
   {
    "duration": 162,
    "start_time": "2022-07-06T12:54:33.983Z"
   },
   {
    "duration": 174,
    "start_time": "2022-07-06T12:54:34.147Z"
   },
   {
    "duration": 13,
    "start_time": "2022-07-06T12:54:34.322Z"
   },
   {
    "duration": 13,
    "start_time": "2022-07-06T12:54:34.337Z"
   },
   {
    "duration": 247,
    "start_time": "2022-07-06T12:54:34.351Z"
   },
   {
    "duration": 4,
    "start_time": "2022-07-06T12:58:34.225Z"
   },
   {
    "duration": 194,
    "start_time": "2022-07-06T12:58:34.231Z"
   },
   {
    "duration": 7,
    "start_time": "2022-07-06T12:58:34.426Z"
   },
   {
    "duration": 10,
    "start_time": "2022-07-06T12:58:34.435Z"
   },
   {
    "duration": 19,
    "start_time": "2022-07-06T12:58:34.447Z"
   },
   {
    "duration": 50,
    "start_time": "2022-07-06T12:58:34.467Z"
   },
   {
    "duration": 3,
    "start_time": "2022-07-06T12:58:34.519Z"
   },
   {
    "duration": 20,
    "start_time": "2022-07-06T12:58:34.523Z"
   },
   {
    "duration": 10,
    "start_time": "2022-07-06T12:58:34.545Z"
   },
   {
    "duration": 11,
    "start_time": "2022-07-06T12:58:34.557Z"
   },
   {
    "duration": 38,
    "start_time": "2022-07-06T12:58:34.569Z"
   },
   {
    "duration": 15,
    "start_time": "2022-07-06T12:58:34.608Z"
   },
   {
    "duration": 21,
    "start_time": "2022-07-06T12:58:34.625Z"
   },
   {
    "duration": 22,
    "start_time": "2022-07-06T12:58:34.649Z"
   },
   {
    "duration": 48,
    "start_time": "2022-07-06T12:58:34.673Z"
   },
   {
    "duration": 19,
    "start_time": "2022-07-06T12:58:34.723Z"
   },
   {
    "duration": 11,
    "start_time": "2022-07-06T12:58:34.744Z"
   },
   {
    "duration": 9,
    "start_time": "2022-07-06T12:58:34.756Z"
   },
   {
    "duration": 6,
    "start_time": "2022-07-06T12:58:34.766Z"
   },
   {
    "duration": 4,
    "start_time": "2022-07-06T12:58:34.804Z"
   },
   {
    "duration": 20,
    "start_time": "2022-07-06T12:58:34.810Z"
   },
   {
    "duration": 10,
    "start_time": "2022-07-06T12:58:34.832Z"
   },
   {
    "duration": 4,
    "start_time": "2022-07-06T12:58:34.843Z"
   },
   {
    "duration": 24,
    "start_time": "2022-07-06T12:58:34.849Z"
   },
   {
    "duration": 160,
    "start_time": "2022-07-06T12:58:34.875Z"
   },
   {
    "duration": 7,
    "start_time": "2022-07-06T12:58:35.037Z"
   },
   {
    "duration": 9,
    "start_time": "2022-07-06T12:58:35.045Z"
   },
   {
    "duration": 53,
    "start_time": "2022-07-06T12:58:35.055Z"
   },
   {
    "duration": 31,
    "start_time": "2022-07-06T12:58:35.110Z"
   },
   {
    "duration": 5,
    "start_time": "2022-07-06T12:58:35.142Z"
   },
   {
    "duration": 172,
    "start_time": "2022-07-06T12:58:35.148Z"
   },
   {
    "duration": 188,
    "start_time": "2022-07-06T12:58:35.322Z"
   },
   {
    "duration": 167,
    "start_time": "2022-07-06T12:58:35.512Z"
   },
   {
    "duration": 163,
    "start_time": "2022-07-06T12:58:35.681Z"
   },
   {
    "duration": 13,
    "start_time": "2022-07-06T12:58:35.846Z"
   },
   {
    "duration": 10,
    "start_time": "2022-07-06T12:58:35.861Z"
   },
   {
    "duration": 190,
    "start_time": "2022-07-06T12:58:35.873Z"
   },
   {
    "duration": 11,
    "start_time": "2022-07-06T12:58:36.064Z"
   },
   {
    "duration": 28,
    "start_time": "2022-07-06T12:58:36.077Z"
   },
   {
    "duration": 578,
    "start_time": "2022-07-06T12:58:42.074Z"
   },
   {
    "duration": 3,
    "start_time": "2022-07-06T12:59:59.909Z"
   },
   {
    "duration": 142,
    "start_time": "2022-07-06T12:59:59.914Z"
   },
   {
    "duration": 6,
    "start_time": "2022-07-06T13:00:00.058Z"
   },
   {
    "duration": 9,
    "start_time": "2022-07-06T13:00:00.067Z"
   },
   {
    "duration": 27,
    "start_time": "2022-07-06T13:00:00.078Z"
   },
   {
    "duration": 49,
    "start_time": "2022-07-06T13:00:00.107Z"
   },
   {
    "duration": 3,
    "start_time": "2022-07-06T13:00:00.158Z"
   },
   {
    "duration": 25,
    "start_time": "2022-07-06T13:00:00.162Z"
   },
   {
    "duration": 23,
    "start_time": "2022-07-06T13:00:00.189Z"
   },
   {
    "duration": 99,
    "start_time": "2022-07-06T13:00:00.216Z"
   },
   {
    "duration": 11,
    "start_time": "2022-07-06T13:00:00.316Z"
   },
   {
    "duration": 31,
    "start_time": "2022-07-06T13:00:00.329Z"
   },
   {
    "duration": 62,
    "start_time": "2022-07-06T13:00:00.362Z"
   },
   {
    "duration": 24,
    "start_time": "2022-07-06T13:00:00.425Z"
   },
   {
    "duration": 22,
    "start_time": "2022-07-06T13:00:00.451Z"
   },
   {
    "duration": 40,
    "start_time": "2022-07-06T13:00:00.475Z"
   },
   {
    "duration": 12,
    "start_time": "2022-07-06T13:00:00.518Z"
   },
   {
    "duration": 10,
    "start_time": "2022-07-06T13:00:00.532Z"
   },
   {
    "duration": 11,
    "start_time": "2022-07-06T13:00:00.543Z"
   },
   {
    "duration": 23,
    "start_time": "2022-07-06T13:00:00.556Z"
   },
   {
    "duration": 71,
    "start_time": "2022-07-06T13:00:00.581Z"
   },
   {
    "duration": 45,
    "start_time": "2022-07-06T13:00:00.654Z"
   },
   {
    "duration": 20,
    "start_time": "2022-07-06T13:00:00.701Z"
   },
   {
    "duration": 51,
    "start_time": "2022-07-06T13:00:00.723Z"
   },
   {
    "duration": 140,
    "start_time": "2022-07-06T13:00:00.775Z"
   },
   {
    "duration": 6,
    "start_time": "2022-07-06T13:00:00.917Z"
   },
   {
    "duration": 34,
    "start_time": "2022-07-06T13:00:00.925Z"
   },
   {
    "duration": 42,
    "start_time": "2022-07-06T13:00:00.962Z"
   },
   {
    "duration": 38,
    "start_time": "2022-07-06T13:00:01.005Z"
   },
   {
    "duration": 6,
    "start_time": "2022-07-06T13:00:01.045Z"
   },
   {
    "duration": 195,
    "start_time": "2022-07-06T13:00:01.053Z"
   },
   {
    "duration": 201,
    "start_time": "2022-07-06T13:00:01.249Z"
   },
   {
    "duration": 179,
    "start_time": "2022-07-06T13:00:01.452Z"
   },
   {
    "duration": 174,
    "start_time": "2022-07-06T13:00:01.633Z"
   },
   {
    "duration": 14,
    "start_time": "2022-07-06T13:00:01.809Z"
   },
   {
    "duration": 12,
    "start_time": "2022-07-06T13:00:01.824Z"
   },
   {
    "duration": 191,
    "start_time": "2022-07-06T13:00:01.838Z"
   },
   {
    "duration": 11,
    "start_time": "2022-07-06T13:00:02.031Z"
   },
   {
    "duration": 28,
    "start_time": "2022-07-06T13:00:02.043Z"
   },
   {
    "duration": 550,
    "start_time": "2022-07-06T13:00:02.072Z"
   },
   {
    "duration": 5,
    "start_time": "2022-07-06T13:00:02.624Z"
   },
   {
    "duration": 41,
    "start_time": "2022-07-06T13:00:02.631Z"
   },
   {
    "duration": 6,
    "start_time": "2022-07-06T13:00:02.675Z"
   },
   {
    "duration": 6,
    "start_time": "2022-07-06T13:00:02.704Z"
   },
   {
    "duration": 166,
    "start_time": "2022-07-06T13:00:02.711Z"
   },
   {
    "duration": 165,
    "start_time": "2022-07-06T13:00:02.879Z"
   },
   {
    "duration": 184,
    "start_time": "2022-07-06T13:00:03.045Z"
   },
   {
    "duration": 6,
    "start_time": "2022-07-06T13:00:03.231Z"
   },
   {
    "duration": 36,
    "start_time": "2022-07-06T13:00:03.239Z"
   },
   {
    "duration": 29,
    "start_time": "2022-07-06T13:00:03.276Z"
   },
   {
    "duration": 1524,
    "start_time": "2022-07-06T17:16:29.594Z"
   },
   {
    "duration": 668,
    "start_time": "2022-07-06T17:16:31.120Z"
   },
   {
    "duration": 8,
    "start_time": "2022-07-06T17:16:31.790Z"
   },
   {
    "duration": 15,
    "start_time": "2022-07-06T17:16:31.801Z"
   },
   {
    "duration": 19,
    "start_time": "2022-07-06T17:16:31.819Z"
   },
   {
    "duration": 67,
    "start_time": "2022-07-06T17:16:31.840Z"
   },
   {
    "duration": 3,
    "start_time": "2022-07-06T17:16:31.909Z"
   },
   {
    "duration": 19,
    "start_time": "2022-07-06T17:16:31.914Z"
   },
   {
    "duration": 19,
    "start_time": "2022-07-06T17:16:31.935Z"
   },
   {
    "duration": 17,
    "start_time": "2022-07-06T17:16:31.957Z"
   },
   {
    "duration": 13,
    "start_time": "2022-07-06T17:16:31.999Z"
   },
   {
    "duration": 19,
    "start_time": "2022-07-06T17:16:32.014Z"
   },
   {
    "duration": 25,
    "start_time": "2022-07-06T17:16:32.036Z"
   },
   {
    "duration": 66,
    "start_time": "2022-07-06T17:16:32.064Z"
   },
   {
    "duration": 28,
    "start_time": "2022-07-06T17:16:32.132Z"
   },
   {
    "duration": 83,
    "start_time": "2022-07-06T17:16:32.162Z"
   },
   {
    "duration": 14,
    "start_time": "2022-07-06T17:16:32.247Z"
   },
   {
    "duration": 15,
    "start_time": "2022-07-06T17:16:32.263Z"
   },
   {
    "duration": 13,
    "start_time": "2022-07-06T17:16:32.280Z"
   },
   {
    "duration": 10,
    "start_time": "2022-07-06T17:16:32.298Z"
   },
   {
    "duration": 22,
    "start_time": "2022-07-06T17:16:32.310Z"
   },
   {
    "duration": 19,
    "start_time": "2022-07-06T17:16:32.335Z"
   },
   {
    "duration": 8,
    "start_time": "2022-07-06T17:16:32.357Z"
   },
   {
    "duration": 56,
    "start_time": "2022-07-06T17:16:32.367Z"
   },
   {
    "duration": 193,
    "start_time": "2022-07-06T17:16:32.425Z"
   },
   {
    "duration": 8,
    "start_time": "2022-07-06T17:16:32.620Z"
   },
   {
    "duration": 24,
    "start_time": "2022-07-06T17:16:32.630Z"
   },
   {
    "duration": 54,
    "start_time": "2022-07-06T17:16:32.660Z"
   },
   {
    "duration": 42,
    "start_time": "2022-07-06T17:16:32.717Z"
   },
   {
    "duration": 8,
    "start_time": "2022-07-06T17:16:32.761Z"
   },
   {
    "duration": 251,
    "start_time": "2022-07-06T17:16:32.772Z"
   },
   {
    "duration": 217,
    "start_time": "2022-07-06T17:16:33.025Z"
   },
   {
    "duration": 191,
    "start_time": "2022-07-06T17:16:33.243Z"
   },
   {
    "duration": 205,
    "start_time": "2022-07-06T17:16:33.436Z"
   },
   {
    "duration": 18,
    "start_time": "2022-07-06T17:16:33.644Z"
   },
   {
    "duration": 20,
    "start_time": "2022-07-06T17:16:33.664Z"
   },
   {
    "duration": 216,
    "start_time": "2022-07-06T17:16:33.699Z"
   },
   {
    "duration": 14,
    "start_time": "2022-07-06T17:16:33.917Z"
   },
   {
    "duration": 18,
    "start_time": "2022-07-06T17:16:33.934Z"
   },
   {
    "duration": 704,
    "start_time": "2022-07-06T17:16:33.954Z"
   },
   {
    "duration": 7,
    "start_time": "2022-07-06T17:16:34.661Z"
   },
   {
    "duration": 73,
    "start_time": "2022-07-06T17:16:34.670Z"
   },
   {
    "duration": 7,
    "start_time": "2022-07-06T17:16:34.745Z"
   },
   {
    "duration": 12,
    "start_time": "2022-07-06T17:16:34.754Z"
   },
   {
    "duration": 206,
    "start_time": "2022-07-06T17:16:34.768Z"
   },
   {
    "duration": 202,
    "start_time": "2022-07-06T17:16:34.976Z"
   },
   {
    "duration": 223,
    "start_time": "2022-07-06T17:16:35.180Z"
   },
   {
    "duration": 9,
    "start_time": "2022-07-06T17:16:35.406Z"
   },
   {
    "duration": 33,
    "start_time": "2022-07-06T17:16:35.417Z"
   },
   {
    "duration": 50,
    "start_time": "2022-07-06T17:16:35.452Z"
   }
  ],
  "colab": {
   "name": "DA+. Сборный проект 1. Шаблон (1).ipynb",
   "provenance": []
  },
  "kernelspec": {
   "display_name": "Python 3 (ipykernel)",
   "language": "python",
   "name": "python3"
  },
  "language_info": {
   "codemirror_mode": {
    "name": "ipython",
    "version": 3
   },
   "file_extension": ".py",
   "mimetype": "text/x-python",
   "name": "python",
   "nbconvert_exporter": "python",
   "pygments_lexer": "ipython3",
   "version": "3.9.13"
  },
  "toc": {
   "base_numbering": 1,
   "nav_menu": {},
   "number_sections": true,
   "sideBar": true,
   "skip_h1_title": true,
   "title_cell": "Table of Contents",
   "title_sidebar": "Contents",
   "toc_cell": false,
   "toc_position": {
    "height": "calc(100% - 180px)",
    "left": "10px",
    "top": "150px",
    "width": "375.391px"
   },
   "toc_section_display": true,
   "toc_window_display": false
  }
 },
 "nbformat": 4,
 "nbformat_minor": 4
}
