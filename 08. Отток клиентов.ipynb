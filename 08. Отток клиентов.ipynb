{
 "cells": [
  {
   "cell_type": "markdown",
   "metadata": {
    "tags": []
   },
   "source": [
    "# Отток клиентов"
   ]
  },
  {
   "cell_type": "markdown",
   "metadata": {},
   "source": [
    "Из «Бета-Банка» стали уходить клиенты. Каждый месяц. Немного, но заметно. Банковские маркетологи посчитали: сохранять текущих клиентов дешевле, чем привлекать новых.\n",
    "\n",
    "Нужно спрогнозировать, уйдёт клиент из банка в ближайшее время или нет. Вам предоставлены исторические данные о поведении клиентов и расторжении договоров с банком. \n",
    "\n",
    "Постройте модель с предельно большим значением *F1*-меры. Необходимо довести метрику до 0.59. Проверьте *F1*-меру на тестовой выборке.\n",
    "\n",
    "Источник данных: [https://www.kaggle.com/barelydedicated/bank-customer-churn-modeling](https://www.kaggle.com/barelydedicated/bank-customer-churn-modeling)"
   ]
  },
  {
   "cell_type": "markdown",
   "metadata": {},
   "source": [
    "## Подготовка данных"
   ]
  },
  {
   "cell_type": "markdown",
   "metadata": {},
   "source": [
    "`Суть проекта` - Даны данные банка \"Бета - Банк\" по клиентам. Клиенты начали покидать немного но ежемесячно банк. Нужно построить модель с предельно большим значением F1-меры.\n",
    "\n",
    "`Конечная цель проекта` - Выбрать наиболее точную модель и довести её F1-меру до уровня выше 0.59."
   ]
  },
  {
   "cell_type": "markdown",
   "metadata": {},
   "source": [
    "Начнем с импортирования всех нужных библиотек:"
   ]
  },
  {
   "cell_type": "code",
   "execution_count": 1,
   "metadata": {},
   "outputs": [],
   "source": [
    "import pandas as pd\n",
    "import matplotlib.pyplot as plt\n",
    "\n",
    "from sklearn.utils import shuffle\n",
    "from sklearn.model_selection import train_test_split\n",
    "from sklearn.preprocessing import StandardScaler\n",
    "from sklearn.utils import shuffle\n",
    "from sklearn.metrics import mean_absolute_error\n",
    "from sklearn.metrics import f1_score\n",
    "from sklearn.metrics import roc_auc_score \n",
    "from sklearn.metrics import roc_curve \n",
    "from tqdm import tqdm\n",
    "import itertools\n",
    "\n",
    "from sklearn.tree import DecisionTreeClassifier\n",
    "from sklearn.ensemble import RandomForestClassifier\n",
    "from sklearn.linear_model import LogisticRegression\n",
    "\n",
    "import warnings\n",
    "from pandas.core.common import SettingWithCopyWarning"
   ]
  },
  {
   "cell_type": "code",
   "execution_count": 2,
   "metadata": {},
   "outputs": [
    {
     "name": "stdout",
     "output_type": "stream",
     "text": [
      "<class 'pandas.core.frame.DataFrame'>\n",
      "RangeIndex: 10000 entries, 0 to 9999\n",
      "Data columns (total 14 columns):\n",
      " #   Column           Non-Null Count  Dtype  \n",
      "---  ------           --------------  -----  \n",
      " 0   RowNumber        10000 non-null  int64  \n",
      " 1   CustomerId       10000 non-null  int64  \n",
      " 2   Surname          10000 non-null  object \n",
      " 3   CreditScore      10000 non-null  int64  \n",
      " 4   Geography        10000 non-null  object \n",
      " 5   Gender           10000 non-null  object \n",
      " 6   Age              10000 non-null  int64  \n",
      " 7   Tenure           9091 non-null   float64\n",
      " 8   Balance          10000 non-null  float64\n",
      " 9   NumOfProducts    10000 non-null  int64  \n",
      " 10  HasCrCard        10000 non-null  int64  \n",
      " 11  IsActiveMember   10000 non-null  int64  \n",
      " 12  EstimatedSalary  10000 non-null  float64\n",
      " 13  Exited           10000 non-null  int64  \n",
      "dtypes: float64(3), int64(8), object(3)\n",
      "memory usage: 1.1+ MB\n"
     ]
    }
   ],
   "source": [
    "data = pd.read_csv('Churn.csv')\n",
    "data.info()"
   ]
  },
  {
   "cell_type": "code",
   "execution_count": 3,
   "metadata": {},
   "outputs": [
    {
     "data": {
      "text/html": [
       "<div>\n",
       "<style scoped>\n",
       "    .dataframe tbody tr th:only-of-type {\n",
       "        vertical-align: middle;\n",
       "    }\n",
       "\n",
       "    .dataframe tbody tr th {\n",
       "        vertical-align: top;\n",
       "    }\n",
       "\n",
       "    .dataframe thead th {\n",
       "        text-align: right;\n",
       "    }\n",
       "</style>\n",
       "<table border=\"1\" class=\"dataframe\">\n",
       "  <thead>\n",
       "    <tr style=\"text-align: right;\">\n",
       "      <th></th>\n",
       "      <th>RowNumber</th>\n",
       "      <th>CustomerId</th>\n",
       "      <th>Surname</th>\n",
       "      <th>CreditScore</th>\n",
       "      <th>Geography</th>\n",
       "      <th>Gender</th>\n",
       "      <th>Age</th>\n",
       "      <th>Tenure</th>\n",
       "      <th>Balance</th>\n",
       "      <th>NumOfProducts</th>\n",
       "      <th>HasCrCard</th>\n",
       "      <th>IsActiveMember</th>\n",
       "      <th>EstimatedSalary</th>\n",
       "      <th>Exited</th>\n",
       "    </tr>\n",
       "  </thead>\n",
       "  <tbody>\n",
       "    <tr>\n",
       "      <th>0</th>\n",
       "      <td>1</td>\n",
       "      <td>15634602</td>\n",
       "      <td>Hargrave</td>\n",
       "      <td>619</td>\n",
       "      <td>France</td>\n",
       "      <td>Female</td>\n",
       "      <td>42</td>\n",
       "      <td>2.0</td>\n",
       "      <td>0.00</td>\n",
       "      <td>1</td>\n",
       "      <td>1</td>\n",
       "      <td>1</td>\n",
       "      <td>101348.88</td>\n",
       "      <td>1</td>\n",
       "    </tr>\n",
       "    <tr>\n",
       "      <th>1</th>\n",
       "      <td>2</td>\n",
       "      <td>15647311</td>\n",
       "      <td>Hill</td>\n",
       "      <td>608</td>\n",
       "      <td>Spain</td>\n",
       "      <td>Female</td>\n",
       "      <td>41</td>\n",
       "      <td>1.0</td>\n",
       "      <td>83807.86</td>\n",
       "      <td>1</td>\n",
       "      <td>0</td>\n",
       "      <td>1</td>\n",
       "      <td>112542.58</td>\n",
       "      <td>0</td>\n",
       "    </tr>\n",
       "    <tr>\n",
       "      <th>2</th>\n",
       "      <td>3</td>\n",
       "      <td>15619304</td>\n",
       "      <td>Onio</td>\n",
       "      <td>502</td>\n",
       "      <td>France</td>\n",
       "      <td>Female</td>\n",
       "      <td>42</td>\n",
       "      <td>8.0</td>\n",
       "      <td>159660.80</td>\n",
       "      <td>3</td>\n",
       "      <td>1</td>\n",
       "      <td>0</td>\n",
       "      <td>113931.57</td>\n",
       "      <td>1</td>\n",
       "    </tr>\n",
       "    <tr>\n",
       "      <th>3</th>\n",
       "      <td>4</td>\n",
       "      <td>15701354</td>\n",
       "      <td>Boni</td>\n",
       "      <td>699</td>\n",
       "      <td>France</td>\n",
       "      <td>Female</td>\n",
       "      <td>39</td>\n",
       "      <td>1.0</td>\n",
       "      <td>0.00</td>\n",
       "      <td>2</td>\n",
       "      <td>0</td>\n",
       "      <td>0</td>\n",
       "      <td>93826.63</td>\n",
       "      <td>0</td>\n",
       "    </tr>\n",
       "    <tr>\n",
       "      <th>4</th>\n",
       "      <td>5</td>\n",
       "      <td>15737888</td>\n",
       "      <td>Mitchell</td>\n",
       "      <td>850</td>\n",
       "      <td>Spain</td>\n",
       "      <td>Female</td>\n",
       "      <td>43</td>\n",
       "      <td>2.0</td>\n",
       "      <td>125510.82</td>\n",
       "      <td>1</td>\n",
       "      <td>1</td>\n",
       "      <td>1</td>\n",
       "      <td>79084.10</td>\n",
       "      <td>0</td>\n",
       "    </tr>\n",
       "  </tbody>\n",
       "</table>\n",
       "</div>"
      ],
      "text/plain": [
       "   RowNumber  CustomerId   Surname  CreditScore Geography  Gender  Age  \\\n",
       "0          1    15634602  Hargrave          619    France  Female   42   \n",
       "1          2    15647311      Hill          608     Spain  Female   41   \n",
       "2          3    15619304      Onio          502    France  Female   42   \n",
       "3          4    15701354      Boni          699    France  Female   39   \n",
       "4          5    15737888  Mitchell          850     Spain  Female   43   \n",
       "\n",
       "   Tenure    Balance  NumOfProducts  HasCrCard  IsActiveMember  \\\n",
       "0     2.0       0.00              1          1               1   \n",
       "1     1.0   83807.86              1          0               1   \n",
       "2     8.0  159660.80              3          1               0   \n",
       "3     1.0       0.00              2          0               0   \n",
       "4     2.0  125510.82              1          1               1   \n",
       "\n",
       "   EstimatedSalary  Exited  \n",
       "0        101348.88       1  \n",
       "1        112542.58       0  \n",
       "2        113931.57       1  \n",
       "3         93826.63       0  \n",
       "4         79084.10       0  "
      ]
     },
     "metadata": {},
     "output_type": "display_data"
    },
    {
     "data": {
      "text/html": [
       "<div>\n",
       "<style scoped>\n",
       "    .dataframe tbody tr th:only-of-type {\n",
       "        vertical-align: middle;\n",
       "    }\n",
       "\n",
       "    .dataframe tbody tr th {\n",
       "        vertical-align: top;\n",
       "    }\n",
       "\n",
       "    .dataframe thead th {\n",
       "        text-align: right;\n",
       "    }\n",
       "</style>\n",
       "<table border=\"1\" class=\"dataframe\">\n",
       "  <thead>\n",
       "    <tr style=\"text-align: right;\">\n",
       "      <th></th>\n",
       "      <th>RowNumber</th>\n",
       "      <th>CustomerId</th>\n",
       "      <th>CreditScore</th>\n",
       "      <th>Age</th>\n",
       "      <th>Tenure</th>\n",
       "      <th>Balance</th>\n",
       "      <th>NumOfProducts</th>\n",
       "      <th>HasCrCard</th>\n",
       "      <th>IsActiveMember</th>\n",
       "      <th>EstimatedSalary</th>\n",
       "      <th>Exited</th>\n",
       "    </tr>\n",
       "  </thead>\n",
       "  <tbody>\n",
       "    <tr>\n",
       "      <th>count</th>\n",
       "      <td>10000.00000</td>\n",
       "      <td>1.000000e+04</td>\n",
       "      <td>10000.000000</td>\n",
       "      <td>10000.000000</td>\n",
       "      <td>10000.00000</td>\n",
       "      <td>10000.000000</td>\n",
       "      <td>10000.000000</td>\n",
       "      <td>10000.00000</td>\n",
       "      <td>10000.000000</td>\n",
       "      <td>10000.000000</td>\n",
       "      <td>10000.000000</td>\n",
       "    </tr>\n",
       "    <tr>\n",
       "      <th>mean</th>\n",
       "      <td>5000.50000</td>\n",
       "      <td>1.569094e+07</td>\n",
       "      <td>650.528800</td>\n",
       "      <td>38.921800</td>\n",
       "      <td>4.99790</td>\n",
       "      <td>76485.889288</td>\n",
       "      <td>1.530200</td>\n",
       "      <td>0.70550</td>\n",
       "      <td>0.515100</td>\n",
       "      <td>100090.239881</td>\n",
       "      <td>0.203700</td>\n",
       "    </tr>\n",
       "    <tr>\n",
       "      <th>std</th>\n",
       "      <td>2886.89568</td>\n",
       "      <td>7.193619e+04</td>\n",
       "      <td>96.653299</td>\n",
       "      <td>10.487806</td>\n",
       "      <td>2.76001</td>\n",
       "      <td>62397.405202</td>\n",
       "      <td>0.581654</td>\n",
       "      <td>0.45584</td>\n",
       "      <td>0.499797</td>\n",
       "      <td>57510.492818</td>\n",
       "      <td>0.402769</td>\n",
       "    </tr>\n",
       "    <tr>\n",
       "      <th>min</th>\n",
       "      <td>1.00000</td>\n",
       "      <td>1.556570e+07</td>\n",
       "      <td>350.000000</td>\n",
       "      <td>18.000000</td>\n",
       "      <td>0.00000</td>\n",
       "      <td>0.000000</td>\n",
       "      <td>1.000000</td>\n",
       "      <td>0.00000</td>\n",
       "      <td>0.000000</td>\n",
       "      <td>11.580000</td>\n",
       "      <td>0.000000</td>\n",
       "    </tr>\n",
       "    <tr>\n",
       "      <th>25%</th>\n",
       "      <td>2500.75000</td>\n",
       "      <td>1.562853e+07</td>\n",
       "      <td>584.000000</td>\n",
       "      <td>32.000000</td>\n",
       "      <td>3.00000</td>\n",
       "      <td>0.000000</td>\n",
       "      <td>1.000000</td>\n",
       "      <td>0.00000</td>\n",
       "      <td>0.000000</td>\n",
       "      <td>51002.110000</td>\n",
       "      <td>0.000000</td>\n",
       "    </tr>\n",
       "    <tr>\n",
       "      <th>50%</th>\n",
       "      <td>5000.50000</td>\n",
       "      <td>1.569074e+07</td>\n",
       "      <td>652.000000</td>\n",
       "      <td>37.000000</td>\n",
       "      <td>5.00000</td>\n",
       "      <td>97198.540000</td>\n",
       "      <td>1.000000</td>\n",
       "      <td>1.00000</td>\n",
       "      <td>1.000000</td>\n",
       "      <td>100193.915000</td>\n",
       "      <td>0.000000</td>\n",
       "    </tr>\n",
       "    <tr>\n",
       "      <th>75%</th>\n",
       "      <td>7500.25000</td>\n",
       "      <td>1.575323e+07</td>\n",
       "      <td>718.000000</td>\n",
       "      <td>44.000000</td>\n",
       "      <td>7.00000</td>\n",
       "      <td>127644.240000</td>\n",
       "      <td>2.000000</td>\n",
       "      <td>1.00000</td>\n",
       "      <td>1.000000</td>\n",
       "      <td>149388.247500</td>\n",
       "      <td>0.000000</td>\n",
       "    </tr>\n",
       "    <tr>\n",
       "      <th>max</th>\n",
       "      <td>10000.00000</td>\n",
       "      <td>1.581569e+07</td>\n",
       "      <td>850.000000</td>\n",
       "      <td>92.000000</td>\n",
       "      <td>10.00000</td>\n",
       "      <td>250898.090000</td>\n",
       "      <td>4.000000</td>\n",
       "      <td>1.00000</td>\n",
       "      <td>1.000000</td>\n",
       "      <td>199992.480000</td>\n",
       "      <td>1.000000</td>\n",
       "    </tr>\n",
       "  </tbody>\n",
       "</table>\n",
       "</div>"
      ],
      "text/plain": [
       "         RowNumber    CustomerId   CreditScore           Age       Tenure  \\\n",
       "count  10000.00000  1.000000e+04  10000.000000  10000.000000  10000.00000   \n",
       "mean    5000.50000  1.569094e+07    650.528800     38.921800      4.99790   \n",
       "std     2886.89568  7.193619e+04     96.653299     10.487806      2.76001   \n",
       "min        1.00000  1.556570e+07    350.000000     18.000000      0.00000   \n",
       "25%     2500.75000  1.562853e+07    584.000000     32.000000      3.00000   \n",
       "50%     5000.50000  1.569074e+07    652.000000     37.000000      5.00000   \n",
       "75%     7500.25000  1.575323e+07    718.000000     44.000000      7.00000   \n",
       "max    10000.00000  1.581569e+07    850.000000     92.000000     10.00000   \n",
       "\n",
       "             Balance  NumOfProducts    HasCrCard  IsActiveMember  \\\n",
       "count   10000.000000   10000.000000  10000.00000    10000.000000   \n",
       "mean    76485.889288       1.530200      0.70550        0.515100   \n",
       "std     62397.405202       0.581654      0.45584        0.499797   \n",
       "min         0.000000       1.000000      0.00000        0.000000   \n",
       "25%         0.000000       1.000000      0.00000        0.000000   \n",
       "50%     97198.540000       1.000000      1.00000        1.000000   \n",
       "75%    127644.240000       2.000000      1.00000        1.000000   \n",
       "max    250898.090000       4.000000      1.00000        1.000000   \n",
       "\n",
       "       EstimatedSalary        Exited  \n",
       "count     10000.000000  10000.000000  \n",
       "mean     100090.239881      0.203700  \n",
       "std       57510.492818      0.402769  \n",
       "min          11.580000      0.000000  \n",
       "25%       51002.110000      0.000000  \n",
       "50%      100193.915000      0.000000  \n",
       "75%      149388.247500      0.000000  \n",
       "max      199992.480000      1.000000  "
      ]
     },
     "execution_count": 3,
     "metadata": {},
     "output_type": "execute_result"
    }
   ],
   "source": [
    "data['Tenure'] = data['Tenure'].fillna(data['Tenure'].median())\n",
    "data = data.fillna(0)\n",
    "display(data.head())\n",
    "data.describe()"
   ]
  },
  {
   "cell_type": "markdown",
   "metadata": {},
   "source": [
    "Целевой признак - столбец `Exited`"
   ]
  },
  {
   "cell_type": "code",
   "execution_count": 4,
   "metadata": {},
   "outputs": [],
   "source": [
    "#прямое кодирование и разделение данных\n",
    "data_ohe = pd.get_dummies(data.drop(['RowNumber', 'CustomerId', 'Surname'], axis=1), drop_first=True)\n",
    "features = data_ohe.drop(['Exited'], axis = 1)\n",
    "target = data_ohe['Exited']\n",
    "features_train, features_valid, target_train, target_valid = train_test_split(features, target, test_size=0.4, random_state=12345, stratify=target)\n",
    "features_valid, features_test, target_valid, target_test = train_test_split(features_valid, target_valid, test_size=0.5, random_state=12345, stratify=target_valid)"
   ]
  },
  {
   "cell_type": "code",
   "execution_count": 5,
   "metadata": {},
   "outputs": [],
   "source": [
    "warnings.simplefilter(action=\"ignore\", category=SettingWithCopyWarning)\n",
    "#стандартизация количественных признаков\n",
    "col_scaler = ['CreditScore', 'Age', 'Balance', 'EstimatedSalary']\n",
    "scaler = StandardScaler()\n",
    "\n",
    "scaler.fit(features_train[col_scaler])\n",
    "features_train[col_scaler] = scaler.transform(features_train[col_scaler])\n",
    "scaler.fit(features_valid[col_scaler])\n",
    "features_valid[col_scaler] = scaler.transform(features_valid[col_scaler])\n",
    "scaler.fit(features_test[col_scaler])\n",
    "features_test[col_scaler] = scaler.transform(features_test[col_scaler])"
   ]
  },
  {
   "cell_type": "code",
   "execution_count": 6,
   "metadata": {},
   "outputs": [
    {
     "name": "stdout",
     "output_type": "stream",
     "text": [
      "(6000, 11)\n",
      "(2000, 11)\n",
      "(2000, 11)\n"
     ]
    }
   ],
   "source": [
    "print(features_train.shape)\n",
    "print(features_valid.shape)\n",
    "print(features_test.shape)"
   ]
  },
  {
   "cell_type": "markdown",
   "metadata": {},
   "source": [
    "## Исследование задачи"
   ]
  },
  {
   "cell_type": "markdown",
   "metadata": {},
   "source": [
    "Баланс классов:"
   ]
  },
  {
   "cell_type": "code",
   "execution_count": 7,
   "metadata": {},
   "outputs": [
    {
     "name": "stdout",
     "output_type": "stream",
     "text": [
      "Mean:0.2037\n",
      "Std:0.40276858399484955\n"
     ]
    }
   ],
   "source": [
    "print(f'Mean:{target.mean()}')\n",
    "print(f'Std:{target.std()}')"
   ]
  },
  {
   "cell_type": "markdown",
   "metadata": {},
   "source": [
    "Баланс составляет `20% : 80%`"
   ]
  },
  {
   "cell_type": "markdown",
   "metadata": {},
   "source": [
    "Создадим модель `Случайного леса`:"
   ]
  },
  {
   "cell_type": "code",
   "execution_count": 8,
   "metadata": {},
   "outputs": [
    {
     "name": "stderr",
     "output_type": "stream",
     "text": [
      "135it [00:22,  6.03it/s]"
     ]
    },
    {
     "name": "stdout",
     "output_type": "stream",
     "text": [
      "F1-мера = 0.62925\n",
      "Кол-во деревьев: 45, Глубина: 15\n"
     ]
    },
    {
     "name": "stderr",
     "output_type": "stream",
     "text": [
      "\n"
     ]
    }
   ],
   "source": [
    "best_model_forest = None\n",
    "best_result_forest = 0\n",
    "\n",
    "for params in tqdm(itertools.product(range(10, 51, 5), range(1, 16))):\n",
    "    est, depth = params\n",
    "    model = RandomForestClassifier(n_estimators=est, max_depth=depth, random_state=12345)\n",
    "    model.fit(features_train, target_train)\n",
    "    predict_valid = model.predict(features_valid)\n",
    "    result = f1_score(target_valid, predict_valid)\n",
    "    if result > best_result_forest:\n",
    "        best_model_forest = model\n",
    "        best_result_forest = result\n",
    "        best_params_forest = params\n",
    "        \n",
    "print(f'F1-мера = {round(best_result_forest, 5)}')\n",
    "print(f'Кол-во деревьев: {best_params_forest[0]}, Глубина: {best_params_forest[1]}')"
   ]
  },
  {
   "cell_type": "markdown",
   "metadata": {},
   "source": [
    "Модель `Дерево решений`"
   ]
  },
  {
   "cell_type": "code",
   "execution_count": 9,
   "metadata": {},
   "outputs": [
    {
     "name": "stderr",
     "output_type": "stream",
     "text": [
      "60it [00:01, 43.78it/s]"
     ]
    },
    {
     "name": "stdout",
     "output_type": "stream",
     "text": [
      "F1-мера = 0.59538\n",
      "Глубина: 7, Мин. кол-во делений: 2\n"
     ]
    },
    {
     "name": "stderr",
     "output_type": "stream",
     "text": [
      "\n"
     ]
    }
   ],
   "source": [
    "best_model_tree = None\n",
    "best_result_tree = 0\n",
    "\n",
    "for params in tqdm(itertools.product(range(1, 16), range(1, 5))):\n",
    "    depth, min_s_l = params\n",
    "    model = DecisionTreeClassifier(max_depth=depth, min_samples_leaf=min_s_l, random_state=12345)\n",
    "    model.fit(features_train, target_train)\n",
    "    predict_valid = model.predict(features_valid)\n",
    "    result = f1_score(target_valid, predict_valid)\n",
    "    if result > best_result_tree:\n",
    "        best_model_tree = model\n",
    "        best_result_tree = result\n",
    "        best_params_tree = params\n",
    "\n",
    "print(f'F1-мера = {round(best_result_tree, 5)}')\n",
    "print(f'Глубина: {best_params_tree[0]}, Мин. кол-во делений: {best_params_tree[1]}')"
   ]
  },
  {
   "cell_type": "markdown",
   "metadata": {},
   "source": [
    "Модель `Логистическая регрессия`"
   ]
  },
  {
   "cell_type": "code",
   "execution_count": 10,
   "metadata": {},
   "outputs": [
    {
     "name": "stdout",
     "output_type": "stream",
     "text": [
      "F1-мера логистической регрессии: 0.31079\n"
     ]
    }
   ],
   "source": [
    "model_logistic = LogisticRegression(solver='liblinear', random_state=12345)\n",
    "model_logistic.fit(features_train, target_train) \n",
    "predictions_valid_log = model_logistic.predict(features_valid) \n",
    "result_logistic = f1_score(target_valid, predictions_valid_log) \n",
    "\n",
    "print(f'F1-мера логистической регрессии: {round(result_logistic, 5)}')"
   ]
  },
  {
   "cell_type": "markdown",
   "metadata": {},
   "source": [
    "<b>Вывод\n",
    "\n",
    "F1-меры моделей:\n",
    "1. Случайный лес = `0.62925` | Деревья=45, Глубина=15\n",
    "2. Дерево решений = `0.59538` | Глубина=7, Деления=2\n",
    "3. Логистическая регрессия = `0.31079`\n",
    "\n",
    "<b>Присутствует дисбаланс `20% : 80%`"
   ]
  },
  {
   "cell_type": "markdown",
   "metadata": {
    "tags": []
   },
   "source": [
    "## Борьба с дисбалансом"
   ]
  },
  {
   "cell_type": "markdown",
   "metadata": {
    "tags": []
   },
   "source": [
    "### Увелечение выборки"
   ]
  },
  {
   "cell_type": "code",
   "execution_count": 11,
   "metadata": {},
   "outputs": [
    {
     "name": "stdout",
     "output_type": "stream",
     "text": [
      "Дисбаланс данных: 0.50569\n"
     ]
    }
   ],
   "source": [
    "def upsample(features, target, repeat):\n",
    "    features_zeros = features[target == 0]\n",
    "    features_ones = features[target == 1]\n",
    "    target_zeros = target[target == 0]\n",
    "    target_ones = target[target  == 1]\n",
    "    \n",
    "    features_up = pd.concat([features_zeros] + [features_ones] * repeat)\n",
    "    target_up = pd.concat([target_zeros] + [target_ones] * repeat)\n",
    "    \n",
    "    features_up, target_up = shuffle(features_up, target_up, random_state=12345)\n",
    "    \n",
    "    return features_up, target_up\n",
    "\n",
    "features_up, target_up = upsample(features_train, target_train, 4)\n",
    "print(f'Дисбаланс данных: {round(target_up.mean(), 5)}')"
   ]
  },
  {
   "cell_type": "markdown",
   "metadata": {},
   "source": [
    "Модель `Случайного леса`"
   ]
  },
  {
   "cell_type": "code",
   "execution_count": 12,
   "metadata": {},
   "outputs": [
    {
     "name": "stderr",
     "output_type": "stream",
     "text": [
      "165it [00:53,  3.09it/s]"
     ]
    },
    {
     "name": "stdout",
     "output_type": "stream",
     "text": [
      "F1-мера = 0.65604\n",
      "Кол-во деревьев: 42, Глубина: 11\n"
     ]
    },
    {
     "name": "stderr",
     "output_type": "stream",
     "text": [
      "\n"
     ]
    }
   ],
   "source": [
    "best_model_forest_up = None\n",
    "best_result_forest_up = 0\n",
    "\n",
    "for params in tqdm(itertools.product(range(10, 51, 4), range(1, 16))):\n",
    "    est, depth = params\n",
    "    model = RandomForestClassifier(n_estimators=est, max_depth=depth, random_state=12345)\n",
    "    model.fit(features_up, target_up)\n",
    "    predict_valid = model.predict(features_valid)\n",
    "    result = f1_score(target_valid, predict_valid)\n",
    "    if result > best_result_forest_up:\n",
    "        best_model_forest_up = model\n",
    "        best_result_forest_up = result\n",
    "        best_params_forest_up = params\n",
    "        \n",
    "print(f'F1-мера = {round(best_result_forest_up, 5)}')\n",
    "print(f'Кол-во деревьев: {best_params_forest_up[0]}, Глубина: {best_params_forest_up[1]}')\n"
   ]
  },
  {
   "cell_type": "markdown",
   "metadata": {},
   "source": [
    "Модель `Дерево решений`"
   ]
  },
  {
   "cell_type": "code",
   "execution_count": 13,
   "metadata": {},
   "outputs": [
    {
     "name": "stderr",
     "output_type": "stream",
     "text": [
      "60it [00:02, 22.78it/s]"
     ]
    },
    {
     "name": "stdout",
     "output_type": "stream",
     "text": [
      "F1-мера = 0.57802\n",
      "Глубина: 6, Мин. кол-во делений: 3\n"
     ]
    },
    {
     "name": "stderr",
     "output_type": "stream",
     "text": [
      "\n"
     ]
    }
   ],
   "source": [
    "best_model_tree_up = None\n",
    "best_result_tree_up = 0\n",
    "\n",
    "for params in tqdm(itertools.product(range(1, 16), range(1, 5))):\n",
    "    depth, min_s_l = params\n",
    "    model = DecisionTreeClassifier(max_depth=depth, min_samples_leaf=min_s_l, random_state=12345)\n",
    "    model.fit(features_up, target_up)\n",
    "    predict_valid = model.predict(features_valid)\n",
    "    result = f1_score(target_valid, predict_valid)\n",
    "    if result > best_result_tree_up:\n",
    "        best_model_tree_up = model\n",
    "        best_result_tree_up = result\n",
    "        best_params_tree_up = params\n",
    "\n",
    "print(f'F1-мера = {round(best_result_tree_up, 5)}')\n",
    "print(f'Глубина: {best_params_tree_up[0]}, Мин. кол-во делений: {best_params_tree_up[1]}')"
   ]
  },
  {
   "cell_type": "markdown",
   "metadata": {},
   "source": [
    "Модель `Логистическая регрессия`"
   ]
  },
  {
   "cell_type": "code",
   "execution_count": 14,
   "metadata": {},
   "outputs": [
    {
     "name": "stdout",
     "output_type": "stream",
     "text": [
      "F1-мера логистической регрессии: 0.52459\n"
     ]
    }
   ],
   "source": [
    "model_logistic_up = LogisticRegression(solver='liblinear', random_state=12345)\n",
    "model_logistic_up.fit(features_up, target_up) \n",
    "predictions_valid_log_up = model_logistic_up.predict(features_valid) \n",
    "result_logistic_up = f1_score(target_valid, predictions_valid_log_up) \n",
    "\n",
    "print(f'F1-мера логистической регрессии: {round(result_logistic_up, 5)}')"
   ]
  },
  {
   "cell_type": "markdown",
   "metadata": {
    "jp-MarkdownHeadingCollapsed": true,
    "tags": []
   },
   "source": [
    "<b>Вывод\n",
    "\n",
    "Результаты увелечение выбороки (upsampling) - `было` | `стало`:\n",
    "1. Случайный лес - `0.62925` | `0.65604`\n",
    "2. Дерево решений - `0.59538` | `0.57802`\n",
    "3. Логистическая регрессия - `0.31079` | `0.52459`\n",
    "\n",
    "<b>Значение дисбаланса = 0.50569"
   ]
  },
  {
   "cell_type": "markdown",
   "metadata": {
    "tags": []
   },
   "source": [
    "### Уменьшение выборки"
   ]
  },
  {
   "cell_type": "code",
   "execution_count": 15,
   "metadata": {},
   "outputs": [
    {
     "name": "stdout",
     "output_type": "stream",
     "text": [
      "Дисбаланс данных: 0.50579\n"
     ]
    }
   ],
   "source": [
    "def downsample(features, target, fraction):\n",
    "    features_zeros = features[target == 0]\n",
    "    features_ones = features[target == 1]\n",
    "    target_zeros = target[target == 0]\n",
    "    target_ones = target[target == 1]\n",
    "\n",
    "    features_down = pd.concat([features_zeros.sample(frac=fraction, random_state=12345)] + [features_ones])\n",
    "    target_down = pd.concat([target_zeros.sample(frac=fraction, random_state=12345)] + [target_ones])\n",
    "    \n",
    "    features_down, target_down = shuffle(features_down, target_down, random_state=12345)\n",
    "    \n",
    "    return features_down, target_down\n",
    "\n",
    "features_down, target_down = downsample(features_train, target_train, 0.25)\n",
    "print(f'Дисбаланс данных: {round(target_down.mean(), 5)}')"
   ]
  },
  {
   "cell_type": "markdown",
   "metadata": {},
   "source": [
    "Модель `Случайного леса`"
   ]
  },
  {
   "cell_type": "code",
   "execution_count": 16,
   "metadata": {},
   "outputs": [
    {
     "name": "stderr",
     "output_type": "stream",
     "text": [
      "135it [00:27,  4.97it/s]"
     ]
    },
    {
     "name": "stdout",
     "output_type": "stream",
     "text": [
      "F1-мера = 0.64008\n",
      "Кол-во деревьев: 15, Глубина: 7\n"
     ]
    },
    {
     "name": "stderr",
     "output_type": "stream",
     "text": [
      "\n"
     ]
    }
   ],
   "source": [
    "best_model_forest_down = None\n",
    "best_result_forest_down = 0\n",
    "\n",
    "for params in tqdm(itertools.product(range(10, 51, 5), range(1, 16))):\n",
    "    est, depth = params\n",
    "    model = RandomForestClassifier(n_estimators=est, max_depth=depth, random_state=12345)\n",
    "    model.fit(features_down, target_down)\n",
    "    predict_valid = model.predict(features_valid)\n",
    "    result = f1_score(target_valid, predict_valid)\n",
    "    if result > best_result_forest_down:\n",
    "        best_model_forest_down = model\n",
    "        best_result_forest_down = result\n",
    "        best_params_forest_down = params\n",
    "        \n",
    "print(f'F1-мера = {round(best_result_forest_down, 5)}')\n",
    "print(f'Кол-во деревьев: {best_params_forest_down[0]}, Глубина: {best_params_forest_down[1]}')"
   ]
  },
  {
   "cell_type": "markdown",
   "metadata": {},
   "source": [
    "Модель `Дерево решений`"
   ]
  },
  {
   "cell_type": "code",
   "execution_count": 17,
   "metadata": {},
   "outputs": [
    {
     "name": "stderr",
     "output_type": "stream",
     "text": [
      "60it [00:00, 72.74it/s] "
     ]
    },
    {
     "name": "stdout",
     "output_type": "stream",
     "text": [
      "F1-мера = 0.59603\n",
      "Глубина: 6, Мин. кол-во делений: 3\n"
     ]
    },
    {
     "name": "stderr",
     "output_type": "stream",
     "text": [
      "\n"
     ]
    }
   ],
   "source": [
    "best_model_tree_down = None\n",
    "best_result_tree_down = 0\n",
    "\n",
    "for params in tqdm(itertools.product(range(1, 16), range(1, 5))):\n",
    "    depth, min_s_l = params\n",
    "    model = DecisionTreeClassifier(max_depth=depth, min_samples_leaf=min_s_l, random_state=12345)\n",
    "    model.fit(features_down, target_down)\n",
    "    predict_valid = model.predict(features_valid)\n",
    "    result = f1_score(target_valid, predict_valid)\n",
    "    if result > best_result_tree_down:\n",
    "        best_model_tree_down = model\n",
    "        best_result_tree_down = result\n",
    "        best_params_tree_down = params\n",
    "\n",
    "print(f'F1-мера = {round(best_result_tree_down, 5)}')\n",
    "print(f'Глубина: {best_params_tree_down[0]}, Мин. кол-во делений: {best_params_tree_down[1]}')"
   ]
  },
  {
   "cell_type": "markdown",
   "metadata": {},
   "source": [
    "Модель `Логистической регрессии`"
   ]
  },
  {
   "cell_type": "code",
   "execution_count": 18,
   "metadata": {},
   "outputs": [
    {
     "name": "stdout",
     "output_type": "stream",
     "text": [
      "F1-мера логистической регрессии: 0.52459\n"
     ]
    }
   ],
   "source": [
    "model_logistic_down = LogisticRegression(solver='liblinear', random_state=12345)\n",
    "model_logistic_down.fit(features_up, target_up) \n",
    "predictions_valid_log_down = model_logistic_down.predict(features_valid) \n",
    "result_logistic_down = f1_score(target_valid, predictions_valid_log_down) \n",
    "\n",
    "print(f'F1-мера логистической регрессии: {round(result_logistic_down, 5)}')"
   ]
  },
  {
   "cell_type": "markdown",
   "metadata": {
    "tags": []
   },
   "source": [
    "<b>Вывод\n",
    "\n",
    "Результаты уменьшения выбороки (downsampling) - `обычная` | `увеличенная` | `уменьшенная`:\n",
    "1. Случайный лес - `0.62925` | `0.65604` | `0.64008`\n",
    "2. Дерево решений - `0.59538` | `0.57802` | `0.59603`\n",
    "3. Логистическая регрессия - `0.31079` | `0.52459` | `0.52459`\n",
    "\n",
    "<b>Значение дисбаланса = 0.50579\n"
   ]
  },
  {
   "cell_type": "markdown",
   "metadata": {},
   "source": [
    "## Тестирование модели"
   ]
  },
  {
   "cell_type": "markdown",
   "metadata": {},
   "source": [
    "При увеличенной выборке"
   ]
  },
  {
   "cell_type": "code",
   "execution_count": 19,
   "metadata": {},
   "outputs": [
    {
     "name": "stdout",
     "output_type": "stream",
     "text": [
      "Дисбаланс: 0.50582\n"
     ]
    }
   ],
   "source": [
    "features_up, target_up = upsample(pd.concat([features_train, features_valid]), pd.concat([target_train, target_valid]), 4)\n",
    "print(f'Дисбаланс: {round(target_up.mean(), 5)}')"
   ]
  },
  {
   "cell_type": "code",
   "execution_count": 20,
   "metadata": {},
   "outputs": [
    {
     "name": "stdout",
     "output_type": "stream",
     "text": [
      "F1-мера = 0.60879\n"
     ]
    }
   ],
   "source": [
    "model = RandomForestClassifier(n_estimators=best_params_forest_up[0], max_depth=best_params_forest_up[1], random_state=12345)\n",
    "model.fit(features_up, target_up)\n",
    "predicted_test = model.predict(features_test)\n",
    "print(f'F1-мера = {round(f1_score(target_test, predicted_test), 5)}')"
   ]
  },
  {
   "cell_type": "code",
   "execution_count": 21,
   "metadata": {},
   "outputs": [
    {
     "name": "stdout",
     "output_type": "stream",
     "text": [
      "Area Under Curve ROC = 0.85551\n"
     ]
    }
   ],
   "source": [
    "probabilities_test_up = model.predict_proba(features_test)\n",
    "probabilities_one_test_up = probabilities_test_up[:, 1]\n",
    "auc_roc_up = roc_auc_score(target_test, probabilities_one_test_up)\n",
    "print(f'Area Under Curve ROC = {round(auc_roc_up, 5)}')"
   ]
  },
  {
   "cell_type": "code",
   "execution_count": 22,
   "metadata": {},
   "outputs": [
    {
     "data": {
      "image/png": "[encoded data removed]",
      "text/plain": [
       "<Figure size 640x480 with 1 Axes>"
      ]
     },
     "metadata": {},
     "output_type": "display_data"
    }
   ],
   "source": [
    "fpr, tpr, thresholds = roc_curve(target_test, probabilities_one_test_up) \n",
    "\n",
    "plt.plot(fpr, tpr, label='Случайный лес')\n",
    "plt.xlabel('False Positive Rate')\n",
    "plt.ylabel('True Positive Rate')\n",
    "plt.title('ROC-кривая')\n",
    "plt.plot([0, 1], [0, 1], linestyle='--', label='Модель 50:50')\n",
    "plt.grid()\n",
    "plt.legend()\n",
    "plt.show()"
   ]
  },
  {
   "cell_type": "markdown",
   "metadata": {},
   "source": [
    "При уменьшенной выборке"
   ]
  },
  {
   "cell_type": "code",
   "execution_count": 23,
   "metadata": {},
   "outputs": [
    {
     "name": "stdout",
     "output_type": "stream",
     "text": [
      "Дисбаланс:0.5059\n"
     ]
    }
   ],
   "source": [
    "features_down, target_down = downsample(pd.concat([features_train, features_valid]), pd.concat([target_train, target_valid]), 0.25)\n",
    "print(f'Дисбаланс:{round(target_down.mean(), 5)}')"
   ]
  },
  {
   "cell_type": "code",
   "execution_count": 29,
   "metadata": {},
   "outputs": [
    {
     "name": "stdout",
     "output_type": "stream",
     "text": [
      "F1-мера = 0.57088\n"
     ]
    }
   ],
   "source": [
    "model = RandomForestClassifier(n_estimators=best_params_forest_down[0], max_depth=best_params_forest_down[1], random_state=12345)\n",
    "model.fit(features_down, target_down)\n",
    "predicted_test = model.predict(features_test)\n",
    "print(f'F1-мера = {round(f1_score(target_test, predicted_test), 5)}')"
   ]
  },
  {
   "cell_type": "code",
   "execution_count": 25,
   "metadata": {},
   "outputs": [
    {
     "name": "stdout",
     "output_type": "stream",
     "text": [
      "Area Under Curve ROC = 0.84717\n"
     ]
    }
   ],
   "source": [
    "probabilities_test_down = model.predict_proba(features_test)\n",
    "probabilities_one_test_down = probabilities_test_down[:, 1]\n",
    "auc_roc_down = roc_auc_score(target_test, probabilities_one_test_down)\n",
    "print(f'Area Under Curve ROC = {round(auc_roc_down, 5)}')"
   ]
  },
  {
   "cell_type": "code",
   "execution_count": 27,
   "metadata": {},
   "outputs": [
    {
     "data": {
      "image/png": "[encoded data removed]",
      "text/plain": [
       "<Figure size 640x480 with 1 Axes>"
      ]
     },
     "metadata": {},
     "output_type": "display_data"
    }
   ],
   "source": [
    "fpr, tpr, thresholds = roc_curve(target_test, probabilities_one_test_down) \n",
    "\n",
    "plt.plot(fpr, tpr, label='Случайный лес')\n",
    "plt.xlabel('False Positive Rate')\n",
    "plt.ylabel('True Positive Rate')\n",
    "plt.title('ROC-кривая')\n",
    "plt.plot([0, 1], [0, 1], linestyle='--', label='Модель 50:50')\n",
    "plt.grid()\n",
    "plt.legend()\n",
    "plt.show()"
   ]
  },
  {
   "cell_type": "markdown",
   "metadata": {},
   "source": [
    "# Вывод"
   ]
  },
  {
   "cell_type": "markdown",
   "metadata": {},
   "source": [
    "После предварительной обработки данных, лучшее качество показала обученная модель `Случайного леса` при параметрах: n_estimators=42, max_depth=11 (увеличенная обучающая выборка).\n",
    "\n",
    "F1-мера = `0.60879`\n",
    "AUC ROC = `0.85551`\n",
    "\n",
    "Дизбаланс в увеличенной обучающей выборке = `0.50582`"
   ]
  }
 ],
 "metadata": {
  "ExecuteTimeLog": [
   {
    "duration": 50,
    "start_time": "2022-07-18T15:06:53.868Z"
   },
   {
    "duration": 70,
    "start_time": "2022-07-18T15:06:57.549Z"
   },
   {
    "duration": 1535,
    "start_time": "2022-07-18T15:07:02.051Z"
   },
   {
    "duration": 111,
    "start_time": "2022-07-18T15:07:04.616Z"
   },
   {
    "duration": 189,
    "start_time": "2022-07-18T15:07:18.545Z"
   },
   {
    "duration": 68,
    "start_time": "2022-07-18T15:08:05.811Z"
   },
   {
    "duration": 6,
    "start_time": "2022-07-18T15:19:44.477Z"
   },
   {
    "duration": 14,
    "start_time": "2022-07-18T15:25:10.684Z"
   },
   {
    "duration": 17,
    "start_time": "2022-07-18T15:25:16.694Z"
   },
   {
    "duration": 15,
    "start_time": "2022-07-18T15:27:52.498Z"
   },
   {
    "duration": 3,
    "start_time": "2022-07-18T15:27:54.938Z"
   },
   {
    "duration": 68,
    "start_time": "2022-07-18T15:27:54.943Z"
   },
   {
    "duration": 21,
    "start_time": "2022-07-18T15:27:56.918Z"
   },
   {
    "duration": 26,
    "start_time": "2022-07-18T15:28:15.258Z"
   },
   {
    "duration": 71,
    "start_time": "2022-07-18T15:28:15.286Z"
   },
   {
    "duration": 20,
    "start_time": "2022-07-18T15:28:16.715Z"
   },
   {
    "duration": 3,
    "start_time": "2022-07-18T15:35:58.080Z"
   },
   {
    "duration": 67,
    "start_time": "2022-07-18T15:35:58.086Z"
   },
   {
    "duration": 23,
    "start_time": "2022-07-18T15:35:58.154Z"
   },
   {
    "duration": 31,
    "start_time": "2022-07-18T15:35:58.178Z"
   },
   {
    "duration": 4,
    "start_time": "2022-07-18T15:35:58.212Z"
   },
   {
    "duration": 49,
    "start_time": "2022-07-18T15:37:22.776Z"
   },
   {
    "duration": 68,
    "start_time": "2022-07-18T15:37:22.827Z"
   },
   {
    "duration": 22,
    "start_time": "2022-07-18T15:37:22.897Z"
   },
   {
    "duration": 38,
    "start_time": "2022-07-18T15:37:22.921Z"
   },
   {
    "duration": 3,
    "start_time": "2022-07-18T15:37:22.961Z"
   },
   {
    "duration": 4,
    "start_time": "2022-07-18T15:38:31.482Z"
   },
   {
    "duration": 75,
    "start_time": "2022-07-18T15:38:31.487Z"
   },
   {
    "duration": 21,
    "start_time": "2022-07-18T15:38:31.564Z"
   },
   {
    "duration": 22,
    "start_time": "2022-07-18T15:38:31.587Z"
   },
   {
    "duration": 2,
    "start_time": "2022-07-18T15:38:31.611Z"
   },
   {
    "duration": 4,
    "start_time": "2022-07-18T15:39:56.799Z"
   },
   {
    "duration": 76,
    "start_time": "2022-07-18T15:39:56.805Z"
   },
   {
    "duration": 22,
    "start_time": "2022-07-18T15:39:56.882Z"
   },
   {
    "duration": 50,
    "start_time": "2022-07-18T15:39:56.906Z"
   },
   {
    "duration": 5,
    "start_time": "2022-07-18T15:39:56.958Z"
   },
   {
    "duration": 1599,
    "start_time": "2022-07-18T15:40:04.806Z"
   },
   {
    "duration": 71,
    "start_time": "2022-07-18T15:40:06.407Z"
   },
   {
    "duration": 21,
    "start_time": "2022-07-18T15:40:06.480Z"
   },
   {
    "duration": 42,
    "start_time": "2022-07-18T15:40:06.503Z"
   },
   {
    "duration": 3,
    "start_time": "2022-07-18T15:40:06.547Z"
   },
   {
    "duration": 4,
    "start_time": "2022-07-18T15:40:55.480Z"
   },
   {
    "duration": 74,
    "start_time": "2022-07-18T15:40:55.485Z"
   },
   {
    "duration": 22,
    "start_time": "2022-07-18T15:40:55.561Z"
   },
   {
    "duration": 125,
    "start_time": "2022-07-18T15:40:55.585Z"
   },
   {
    "duration": 0,
    "start_time": "2022-07-18T15:40:55.712Z"
   },
   {
    "duration": 4,
    "start_time": "2022-07-18T15:41:23.570Z"
   },
   {
    "duration": 76,
    "start_time": "2022-07-18T15:41:23.576Z"
   },
   {
    "duration": 23,
    "start_time": "2022-07-18T15:41:23.654Z"
   },
   {
    "duration": 30,
    "start_time": "2022-07-18T15:41:23.679Z"
   },
   {
    "duration": 4,
    "start_time": "2022-07-18T15:41:23.711Z"
   },
   {
    "duration": 4,
    "start_time": "2022-07-18T15:44:54.950Z"
   },
   {
    "duration": 79,
    "start_time": "2022-07-18T15:45:38.054Z"
   },
   {
    "duration": 11,
    "start_time": "2022-07-18T15:46:26.099Z"
   },
   {
    "duration": 20,
    "start_time": "2022-07-18T15:48:03.635Z"
   },
   {
    "duration": 20,
    "start_time": "2022-07-18T15:48:23.231Z"
   },
   {
    "duration": 4,
    "start_time": "2022-07-18T15:48:35.700Z"
   },
   {
    "duration": 84,
    "start_time": "2022-07-18T15:48:35.706Z"
   },
   {
    "duration": 26,
    "start_time": "2022-07-18T15:48:35.791Z"
   },
   {
    "duration": 36,
    "start_time": "2022-07-18T15:48:35.819Z"
   },
   {
    "duration": 4,
    "start_time": "2022-07-18T15:48:35.857Z"
   },
   {
    "duration": 10,
    "start_time": "2022-07-18T15:48:35.862Z"
   },
   {
    "duration": 22,
    "start_time": "2022-07-18T15:48:35.874Z"
   },
   {
    "duration": 43,
    "start_time": "2022-07-18T15:51:50.936Z"
   },
   {
    "duration": 64,
    "start_time": "2022-07-18T15:51:50.981Z"
   },
   {
    "duration": 20,
    "start_time": "2022-07-18T15:51:51.047Z"
   },
   {
    "duration": 27,
    "start_time": "2022-07-18T15:51:51.069Z"
   },
   {
    "duration": 4,
    "start_time": "2022-07-18T15:51:51.098Z"
   },
   {
    "duration": 11,
    "start_time": "2022-07-18T15:51:51.103Z"
   },
   {
    "duration": 65,
    "start_time": "2022-07-18T15:51:51.116Z"
   },
   {
    "duration": 30,
    "start_time": "2022-07-18T15:52:16.796Z"
   },
   {
    "duration": 8,
    "start_time": "2022-07-18T15:52:35.126Z"
   },
   {
    "duration": 87,
    "start_time": "2022-07-18T15:52:35.137Z"
   },
   {
    "duration": 19,
    "start_time": "2022-07-18T15:52:35.226Z"
   },
   {
    "duration": 35,
    "start_time": "2022-07-18T15:52:35.247Z"
   },
   {
    "duration": 0,
    "start_time": "2022-07-18T15:52:35.284Z"
   },
   {
    "duration": 0,
    "start_time": "2022-07-18T15:52:35.285Z"
   },
   {
    "duration": 0,
    "start_time": "2022-07-18T15:52:35.287Z"
   },
   {
    "duration": 5,
    "start_time": "2022-07-18T15:53:15.299Z"
   },
   {
    "duration": 78,
    "start_time": "2022-07-18T15:53:15.306Z"
   },
   {
    "duration": 22,
    "start_time": "2022-07-18T15:53:15.386Z"
   },
   {
    "duration": 45,
    "start_time": "2022-07-18T15:53:15.410Z"
   },
   {
    "duration": 5,
    "start_time": "2022-07-18T15:53:15.457Z"
   },
   {
    "duration": 18,
    "start_time": "2022-07-18T15:53:15.464Z"
   },
   {
    "duration": 63,
    "start_time": "2022-07-18T15:53:15.484Z"
   },
   {
    "duration": 4,
    "start_time": "2022-07-18T15:58:20.641Z"
   },
   {
    "duration": 76,
    "start_time": "2022-07-18T15:58:20.647Z"
   },
   {
    "duration": 25,
    "start_time": "2022-07-18T15:58:20.724Z"
   },
   {
    "duration": 28,
    "start_time": "2022-07-18T15:58:20.751Z"
   },
   {
    "duration": 3,
    "start_time": "2022-07-18T15:58:20.781Z"
   },
   {
    "duration": 17,
    "start_time": "2022-07-18T15:58:20.786Z"
   },
   {
    "duration": 40744,
    "start_time": "2022-07-18T15:58:20.805Z"
   },
   {
    "duration": 4,
    "start_time": "2022-07-18T15:59:24.744Z"
   },
   {
    "duration": 74,
    "start_time": "2022-07-18T15:59:24.750Z"
   },
   {
    "duration": 24,
    "start_time": "2022-07-18T15:59:24.825Z"
   },
   {
    "duration": 31,
    "start_time": "2022-07-18T15:59:24.851Z"
   },
   {
    "duration": 3,
    "start_time": "2022-07-18T15:59:24.885Z"
   },
   {
    "duration": 10,
    "start_time": "2022-07-18T15:59:24.891Z"
   },
   {
    "duration": 93101,
    "start_time": "2022-07-18T15:59:24.903Z"
   },
   {
    "duration": 1644,
    "start_time": "2022-07-18T16:01:15.553Z"
   },
   {
    "duration": 87,
    "start_time": "2022-07-18T16:01:17.199Z"
   },
   {
    "duration": 73,
    "start_time": "2022-07-18T16:01:17.288Z"
   },
   {
    "duration": 80,
    "start_time": "2022-07-18T16:01:17.363Z"
   },
   {
    "duration": 4,
    "start_time": "2022-07-18T16:01:17.446Z"
   },
   {
    "duration": 12,
    "start_time": "2022-07-18T16:01:17.452Z"
   },
   {
    "duration": 21704,
    "start_time": "2022-07-18T16:01:17.465Z"
   },
   {
    "duration": 114,
    "start_time": "2022-07-18T16:04:58.622Z"
   },
   {
    "duration": 19,
    "start_time": "2022-07-18T16:06:55.066Z"
   },
   {
    "duration": 11,
    "start_time": "2022-07-18T16:08:31.094Z"
   },
   {
    "duration": 19166,
    "start_time": "2022-07-18T16:09:16.858Z"
   },
   {
    "duration": 179,
    "start_time": "2022-07-18T16:09:45.790Z"
   },
   {
    "duration": 174,
    "start_time": "2022-07-18T16:10:05.480Z"
   },
   {
    "duration": 190,
    "start_time": "2022-07-18T16:10:31.046Z"
   },
   {
    "duration": 294,
    "start_time": "2022-07-18T16:10:43.359Z"
   },
   {
    "duration": 451,
    "start_time": "2022-07-18T16:10:47.961Z"
   },
   {
    "duration": 183,
    "start_time": "2022-07-18T16:10:51.819Z"
   },
   {
    "duration": 129,
    "start_time": "2022-07-18T16:16:41.024Z"
   },
   {
    "duration": 193,
    "start_time": "2022-07-18T16:16:47.047Z"
   },
   {
    "duration": 573,
    "start_time": "2022-07-18T16:16:55.068Z"
   },
   {
    "duration": 30,
    "start_time": "2022-07-18T16:17:32.380Z"
   },
   {
    "duration": 5,
    "start_time": "2022-07-18T16:32:16.453Z"
   },
   {
    "duration": 74,
    "start_time": "2022-07-18T16:32:16.460Z"
   },
   {
    "duration": 22,
    "start_time": "2022-07-18T16:32:16.536Z"
   },
   {
    "duration": 30,
    "start_time": "2022-07-18T16:32:16.560Z"
   },
   {
    "duration": 4,
    "start_time": "2022-07-18T16:32:16.593Z"
   },
   {
    "duration": 8,
    "start_time": "2022-07-18T16:32:16.599Z"
   },
   {
    "duration": 22267,
    "start_time": "2022-07-18T16:32:16.609Z"
   },
   {
    "duration": 191,
    "start_time": "2022-07-18T16:32:38.879Z"
   },
   {
    "duration": 82,
    "start_time": "2022-07-18T16:32:39.072Z"
   },
   {
    "duration": 4,
    "start_time": "2022-07-18T16:32:39.242Z"
   },
   {
    "duration": 14,
    "start_time": "2022-07-18T16:33:02.822Z"
   },
   {
    "duration": 25998,
    "start_time": "2022-07-18T16:37:13.343Z"
   },
   {
    "duration": 244,
    "start_time": "2022-07-18T16:48:01.940Z"
   },
   {
    "duration": 35,
    "start_time": "2022-07-18T16:49:23.614Z"
   },
   {
    "duration": 7,
    "start_time": "2022-07-18T16:54:37.885Z"
   },
   {
    "duration": 14,
    "start_time": "2022-07-18T16:55:03.846Z"
   },
   {
    "duration": 11909,
    "start_time": "2022-07-18T16:58:05.054Z"
   },
   {
    "duration": 112,
    "start_time": "2022-07-18T17:01:19.921Z"
   },
   {
    "duration": 17,
    "start_time": "2022-07-18T17:03:48.390Z"
   },
   {
    "duration": 80,
    "start_time": "2022-07-18T17:53:06.212Z"
   },
   {
    "duration": 11,
    "start_time": "2022-07-18T17:55:15.219Z"
   },
   {
    "duration": 13,
    "start_time": "2022-07-18T17:55:21.272Z"
   },
   {
    "duration": 11,
    "start_time": "2022-07-18T17:55:45.708Z"
   },
   {
    "duration": 736,
    "start_time": "2022-07-18T17:55:47.747Z"
   },
   {
    "duration": 134,
    "start_time": "2022-07-18T17:56:28.202Z"
   },
   {
    "duration": 78,
    "start_time": "2022-07-18T18:25:16.060Z"
   },
   {
    "duration": 75,
    "start_time": "2022-07-18T18:28:01.824Z"
   },
   {
    "duration": 78,
    "start_time": "2022-07-18T18:28:37.235Z"
   },
   {
    "duration": 306,
    "start_time": "2022-07-18T18:29:17.194Z"
   },
   {
    "duration": 85,
    "start_time": "2022-07-18T18:30:08.708Z"
   },
   {
    "duration": 51,
    "start_time": "2022-07-18T18:30:31.809Z"
   },
   {
    "duration": 81,
    "start_time": "2022-07-18T18:30:43.795Z"
   },
   {
    "duration": 138,
    "start_time": "2022-07-18T18:31:25.785Z"
   },
   {
    "duration": 335,
    "start_time": "2022-07-18T18:34:16.755Z"
   },
   {
    "duration": 5,
    "start_time": "2022-07-18T18:41:33.304Z"
   },
   {
    "duration": 77,
    "start_time": "2022-07-18T18:41:33.312Z"
   },
   {
    "duration": 22,
    "start_time": "2022-07-18T18:41:33.390Z"
   },
   {
    "duration": 50,
    "start_time": "2022-07-18T18:41:33.414Z"
   },
   {
    "duration": 3,
    "start_time": "2022-07-18T18:41:33.466Z"
   },
   {
    "duration": 9,
    "start_time": "2022-07-18T18:41:33.471Z"
   },
   {
    "duration": 19797,
    "start_time": "2022-07-18T18:41:33.482Z"
   },
   {
    "duration": 216,
    "start_time": "2022-07-18T18:41:53.281Z"
   },
   {
    "duration": 143,
    "start_time": "2022-07-18T18:41:53.499Z"
   },
   {
    "duration": 95,
    "start_time": "2022-07-18T18:41:53.646Z"
   },
   {
    "duration": 26660,
    "start_time": "2022-07-18T18:41:53.743Z"
   },
   {
    "duration": 244,
    "start_time": "2022-07-18T18:42:20.405Z"
   },
   {
    "duration": 34,
    "start_time": "2022-07-18T18:42:20.653Z"
   },
   {
    "duration": 157,
    "start_time": "2022-07-18T18:42:20.688Z"
   },
   {
    "duration": 13719,
    "start_time": "2022-07-18T18:42:20.851Z"
   },
   {
    "duration": 124,
    "start_time": "2022-07-18T18:42:34.571Z"
   },
   {
    "duration": 52,
    "start_time": "2022-07-18T18:42:34.697Z"
   },
   {
    "duration": 106,
    "start_time": "2022-07-18T18:42:34.751Z"
   },
   {
    "duration": 458,
    "start_time": "2022-07-18T18:42:34.859Z"
   },
   {
    "duration": 39,
    "start_time": "2022-07-18T18:42:35.319Z"
   },
   {
    "duration": 142,
    "start_time": "2022-07-18T18:42:35.359Z"
   },
   {
    "duration": 168,
    "start_time": "2022-07-18T18:42:35.502Z"
   },
   {
    "duration": 31,
    "start_time": "2022-07-18T18:42:35.672Z"
   },
   {
    "duration": 176,
    "start_time": "2022-07-18T18:42:35.705Z"
   },
   {
    "duration": 792,
    "start_time": "2022-07-18T18:43:28.568Z"
   },
   {
    "duration": 300,
    "start_time": "2022-07-18T18:43:32.618Z"
   },
   {
    "duration": 221,
    "start_time": "2022-07-18T18:45:17.978Z"
   },
   {
    "duration": 404,
    "start_time": "2022-07-18T18:45:24.321Z"
   },
   {
    "duration": 19,
    "start_time": "2022-07-18T18:46:17.676Z"
   },
   {
    "duration": 400,
    "start_time": "2022-07-18T18:46:19.282Z"
   },
   {
    "duration": 29,
    "start_time": "2022-07-18T18:46:20.557Z"
   },
   {
    "duration": 138,
    "start_time": "2022-07-18T18:46:24.875Z"
   },
   {
    "duration": 183,
    "start_time": "2022-07-18T18:46:28.600Z"
   },
   {
    "duration": 23,
    "start_time": "2022-07-18T18:46:30.672Z"
   },
   {
    "duration": 146,
    "start_time": "2022-07-18T18:46:31.453Z"
   },
   {
    "duration": 1490,
    "start_time": "2022-07-18T18:53:26.001Z"
   },
   {
    "duration": 81,
    "start_time": "2022-07-18T18:53:27.494Z"
   },
   {
    "duration": 24,
    "start_time": "2022-07-18T18:53:27.577Z"
   },
   {
    "duration": 51,
    "start_time": "2022-07-18T18:53:27.603Z"
   },
   {
    "duration": 4,
    "start_time": "2022-07-18T18:53:27.657Z"
   },
   {
    "duration": 11,
    "start_time": "2022-07-18T18:53:27.663Z"
   },
   {
    "duration": 20222,
    "start_time": "2022-07-18T18:53:27.676Z"
   },
   {
    "duration": 232,
    "start_time": "2022-07-18T18:53:47.900Z"
   },
   {
    "duration": 30,
    "start_time": "2022-07-18T18:53:48.134Z"
   },
   {
    "duration": 174,
    "start_time": "2022-07-18T18:53:48.167Z"
   },
   {
    "duration": 27324,
    "start_time": "2022-07-18T18:53:48.342Z"
   },
   {
    "duration": 256,
    "start_time": "2022-07-18T18:54:15.668Z"
   },
   {
    "duration": 41,
    "start_time": "2022-07-18T18:54:15.925Z"
   },
   {
    "duration": 177,
    "start_time": "2022-07-18T18:54:15.969Z"
   },
   {
    "duration": 13570,
    "start_time": "2022-07-18T18:54:16.152Z"
   },
   {
    "duration": 134,
    "start_time": "2022-07-18T18:54:29.723Z"
   },
   {
    "duration": 84,
    "start_time": "2022-07-18T18:54:29.860Z"
   },
   {
    "duration": 98,
    "start_time": "2022-07-18T18:54:29.947Z"
   },
   {
    "duration": 413,
    "start_time": "2022-07-18T18:54:30.047Z"
   },
   {
    "duration": 25,
    "start_time": "2022-07-18T18:54:30.462Z"
   },
   {
    "duration": 179,
    "start_time": "2022-07-18T18:54:30.489Z"
   },
   {
    "duration": 165,
    "start_time": "2022-07-18T18:54:30.671Z"
   },
   {
    "duration": 33,
    "start_time": "2022-07-18T18:54:30.839Z"
   },
   {
    "duration": 229,
    "start_time": "2022-07-18T18:54:30.874Z"
   }
  ],
  "kernelspec": {
   "display_name": "Python 3 (ipykernel)",
   "language": "python",
   "name": "python3"
  },
  "language_info": {
   "codemirror_mode": {
    "name": "ipython",
    "version": 3
   },
   "file_extension": ".py",
   "mimetype": "text/x-python",
   "name": "python",
   "nbconvert_exporter": "python",
   "pygments_lexer": "ipython3",
   "version": "3.9.13"
  },
  "toc": {
   "base_numbering": 1,
   "nav_menu": {},
   "number_sections": false,
   "sideBar": true,
   "skip_h1_title": true,
   "title_cell": "Содержание",
   "title_sidebar": "Contents",
   "toc_cell": true,
   "toc_position": {
    "height": "calc(100% - 180px)",
    "left": "10px",
    "top": "150px",
    "width": "366.391px"
   },
   "toc_section_display": true,
   "toc_window_display": true
  }
 },
 "nbformat": 4,
 "nbformat_minor": 4
}
