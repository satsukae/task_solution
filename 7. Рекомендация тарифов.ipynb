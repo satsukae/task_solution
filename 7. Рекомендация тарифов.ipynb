{
 "cells": [
  {
   "cell_type": "markdown",
   "metadata": {},
   "source": [
    "# Рекомендация тарифов"
   ]
  },
  {
   "cell_type": "markdown",
   "metadata": {},
   "source": [
    "В вашем распоряжении данные о поведении клиентов, которые уже перешли на эти тарифы. Нужно построить модель для задачи классификации, которая выберет подходящий тариф. Предобработка данных не понадобится — вы её уже сделали.\n",
    "\n",
    "Постройте модель с максимально большим значением *accuracy*. Чтобы сдать проект успешно, нужно довести долю правильных ответов по крайней мере до 0.7. Проверьте *accuracy* на тестовой выборке самостоятельно."
   ]
  },
  {
   "cell_type": "markdown",
   "metadata": {},
   "source": [
    "## Откройте и изучите файл"
   ]
  },
  {
   "cell_type": "markdown",
   "metadata": {},
   "source": [
    "Начнем с импортирования всех нужных библиотек:"
   ]
  },
  {
   "cell_type": "code",
   "execution_count": null,
   "metadata": {},
   "outputs": [],
   "source": [
    "#!pip install https://github.com/pandas-profiling/pandas-profiling/archive/master.zip"
   ]
  },
  {
   "cell_type": "code",
   "execution_count": 120,
   "metadata": {},
   "outputs": [],
   "source": [
    "import pandas as pd\n",
    "import numpy as np\n",
    "from ydata_profiling import ProfileReport\n",
    "import matplotlib.pyplot as plt\n",
    "\n",
    "from tqdm import tqdm\n",
    "import itertools\n",
    "\n",
    "from sklearn.model_selection import train_test_split\n",
    "from sklearn.tree import DecisionTreeClassifier\n",
    "from sklearn.linear_model import LogisticRegression\n",
    "from sklearn.ensemble import RandomForestClassifier\n",
    "from sklearn.metrics import accuracy_score\n",
    "from sklearn.dummy import DummyClassifier\n",
    "from sklearn import tree\n",
    "from sklearn.metrics import confusion_matrix\n",
    "from sklearn.metrics import ConfusionMatrixDisplay\n",
    "from sklearn.metrics import roc_curve\n",
    "from sklearn.metrics import RocCurveDisplay\n",
    "from sklearn.metrics import auc, roc_auc_score\n",
    "\n",
    "%matplotlib inline"
   ]
  },
  {
   "cell_type": "code",
   "execution_count": 4,
   "metadata": {},
   "outputs": [],
   "source": [
    "data = pd.read_csv('users_behavior.csv')"
   ]
  },
  {
   "cell_type": "code",
   "execution_count": null,
   "metadata": {},
   "outputs": [],
   "source": [
    "display(data)\n",
    "data.info()\n",
    "data.describe()"
   ]
  },
  {
   "cell_type": "code",
   "execution_count": 5,
   "metadata": {},
   "outputs": [],
   "source": [
    "profile = ProfileReport(data, title=\"Profiling Report\")"
   ]
  },
  {
   "cell_type": "code",
   "execution_count": 6,
   "metadata": {},
   "outputs": [
    {
     "data": {
      "application/vnd.jupyter.widget-view+json": {
       "model_id": "72f48720f223406f83a034cceb7762da",
       "version_major": 2,
       "version_minor": 0
      },
      "text/plain": [
       "Summarize dataset:   0%|          | 0/5 [00:00<?, ?it/s]"
      ]
     },
     "metadata": {},
     "output_type": "display_data"
    },
    {
     "data": {
      "application/vnd.jupyter.widget-view+json": {
       "model_id": "e70264476f834e9d85267291d41e3c16",
       "version_major": 2,
       "version_minor": 0
      },
      "text/plain": [
       "Generate report structure:   0%|          | 0/1 [00:00<?, ?it/s]"
      ]
     },
     "metadata": {},
     "output_type": "display_data"
    },
    {
     "data": {
      "application/vnd.jupyter.widget-view+json": {
       "model_id": "",
       "version_major": 2,
       "version_minor": 0
      },
      "text/plain": [
       "Render widgets:   0%|          | 0/1 [00:00<?, ?it/s]"
      ]
     },
     "metadata": {},
     "output_type": "display_data"
    },
    {
     "data": {
      "application/vnd.jupyter.widget-view+json": {
       "model_id": "9616829d9e814a2cafee8e1ddeef8a18",
       "version_major": 2,
       "version_minor": 0
      },
      "text/plain": [
       "VBox(children=(Tab(children=(Tab(children=(GridBox(children=(VBox(children=(GridspecLayout(children=(HTML(valu…"
      ]
     },
     "metadata": {},
     "output_type": "display_data"
    }
   ],
   "source": [
    "profile.to_widgets()"
   ]
  },
  {
   "cell_type": "markdown",
   "metadata": {},
   "source": [
    "## Разбейте данные на выборки"
   ]
  },
  {
   "cell_type": "markdown",
   "metadata": {},
   "source": [
    "Отделим 50% данных для тестовой выборки:"
   ]
  },
  {
   "cell_type": "code",
   "execution_count": 21,
   "metadata": {},
   "outputs": [],
   "source": [
    "np.random.seed(12345)"
   ]
  },
  {
   "cell_type": "code",
   "execution_count": 8,
   "metadata": {},
   "outputs": [],
   "source": [
    "data_train, data_test = train_test_split(data, test_size=0.5) "
   ]
  },
  {
   "cell_type": "markdown",
   "metadata": {},
   "source": [
    "В данном случае у нас целевым является столбец 'is_ultra':"
   ]
  },
  {
   "cell_type": "code",
   "execution_count": 9,
   "metadata": {},
   "outputs": [],
   "source": [
    "features = data_test.drop('is_ultra', axis=1)\n",
    "target = data_test['is_ultra']\n",
    "\n",
    "features_train = data_train.drop('is_ultra', axis = 1)\n",
    "target_train = data_train['is_ultra']"
   ]
  },
  {
   "cell_type": "markdown",
   "metadata": {},
   "source": [
    "Отделим 25% данных для валидационной выборки:"
   ]
  },
  {
   "cell_type": "code",
   "execution_count": 10,
   "metadata": {},
   "outputs": [],
   "source": [
    "features_valid, features_test, target_valid, target_test = train_test_split(features, target, test_size=0.5)"
   ]
  },
  {
   "cell_type": "code",
   "execution_count": 11,
   "metadata": {},
   "outputs": [
    {
     "name": "stdout",
     "output_type": "stream",
     "text": [
      "(1607, 4) (1607,) (803, 4) (803,) (804, 4) (804,) (1607, 4) (1607,)\n"
     ]
    }
   ],
   "source": [
    "print(features.shape, target.shape, features_valid.shape, target_valid.shape, features_test.shape, target_test.shape, features_train.shape, target_train.shape)"
   ]
  },
  {
   "cell_type": "markdown",
   "metadata": {},
   "source": [
    "## Исследуйте модели"
   ]
  },
  {
   "cell_type": "markdown",
   "metadata": {},
   "source": [
    "Поскольку строются модели для задачи 'Классификации' и в условии требуется построить наиболее качественную модель, то MSE в данном проекте не потребуется."
   ]
  },
  {
   "cell_type": "markdown",
   "metadata": {},
   "source": [
    "Начнем с модели `Случайный лес в регрессии`:"
   ]
  },
  {
   "cell_type": "code",
   "execution_count": 49,
   "metadata": {},
   "outputs": [
    {
     "name": "stderr",
     "output_type": "stream",
     "text": [
      "440it [00:22, 19.16it/s]"
     ]
    },
    {
     "name": "stdout",
     "output_type": "stream",
     "text": [
      "Результат наилучшей модели = 0.822\n",
      "Кол-во деревьев = 16\n",
      "Максимальная глубина = 8\n"
     ]
    },
    {
     "name": "stderr",
     "output_type": "stream",
     "text": [
      "\n"
     ]
    }
   ],
   "source": [
    "best_params = None\n",
    "best_result_forest = 0\n",
    "\n",
    "for params in tqdm(itertools.product(range(10, 21, 1), range(1, 11), range(1, 5))):\n",
    "    est, depth, min_s_l = params\n",
    "    model_forest = RandomForestClassifier(n_estimators=est, max_depth=depth, min_samples_leaf=min_s_l)\n",
    "    model_forest.fit(features_train, target_train)\n",
    "    prediction = model_forest.predict(features_valid)\n",
    "    result = accuracy_score(target_valid, prediction)\n",
    "    if result > best_result_forest:\n",
    "        best_result_forest = result\n",
    "        best_params = params\n",
    "        best_model_forest = model_forest\n",
    "        \n",
    "print(f'Результат наилучшей модели = {np.round(best_result_forest, 3)}')\n",
    "print(f'Кол-во деревьев = {best_params[0]}\\nМаксимальная глубина = {best_params[1]}')"
   ]
  },
  {
   "cell_type": "markdown",
   "metadata": {},
   "source": [
    "Следующая модель: `Дерево решений в регрессии`:"
   ]
  },
  {
   "cell_type": "code",
   "execution_count": 57,
   "metadata": {},
   "outputs": [
    {
     "name": "stderr",
     "output_type": "stream",
     "text": [
      "20it [00:00, 139.94it/s]"
     ]
    },
    {
     "name": "stdout",
     "output_type": "stream",
     "text": [
      "Результат наилучшей модели = 0.803\n"
     ]
    },
    {
     "name": "stderr",
     "output_type": "stream",
     "text": [
      "\n"
     ]
    }
   ],
   "source": [
    "best_model = None\n",
    "best_result_tree = 0\n",
    "\n",
    "for params in tqdm(itertools.product(range(1, 6), range(1, 5))):\n",
    "    depht, min_s_l = params #\n",
    "    model_tree = DecisionTreeClassifier(max_depth=depht, min_samples_leaf=min_s_l)\n",
    "    model_tree.fit(features_train, target_train)\n",
    "    result = model_tree.score(features_valid, target_valid)\n",
    "    if result > best_result_tree:\n",
    "        best_result_tree = result\n",
    "        best_params = params\n",
    "        best_model_tree = model_tree\n",
    "        \n",
    "print(f'Результат наилучшей модели = {np.round(best_result_tree, 3)}')"
   ]
  },
  {
   "cell_type": "code",
   "execution_count": 58,
   "metadata": {},
   "outputs": [
    {
     "data": {
      "image/png": "[encoded data removed]",
      "text/plain": [
       "<Figure size 3000x1000 with 1 Axes>"
      ]
     },
     "metadata": {},
     "output_type": "display_data"
    }
   ],
   "source": [
    "fig, ax = plt.subplots(figsize=(30, 10))\n",
    "tree.plot_tree(model_tree)\n",
    "plt.show()"
   ]
  },
  {
   "cell_type": "markdown",
   "metadata": {},
   "source": [
    "В случае `Дерева решений` качество модели было так же неплохим, но всё же уступающим `Случайному лесу`"
   ]
  },
  {
   "cell_type": "markdown",
   "metadata": {},
   "source": [
    "Следующая модель: `Логистическая регрессия`:"
   ]
  },
  {
   "cell_type": "code",
   "execution_count": 61,
   "metadata": {},
   "outputs": [
    {
     "name": "stdout",
     "output_type": "stream",
     "text": [
      "Результат модели логистической регрессии = 0.766\n"
     ]
    }
   ],
   "source": [
    "model_logistic = LogisticRegression()\n",
    "model_logistic.fit(features_train, target_train)\n",
    "result_logistic = model_logistic.score(features_valid, target_valid)\n",
    "print(f'Результат модели логистической регрессии = {np.round(result_logistic, 3)}')"
   ]
  },
  {
   "cell_type": "markdown",
   "metadata": {},
   "source": [
    "#### Вывод"
   ]
  },
  {
   "cell_type": "markdown",
   "metadata": {},
   "source": [
    "Точность моделей:\n",
    "1. Случайный леc: `0.822`\n",
    "2. Дерево решений: `0.803`\n",
    "3. Логистическая регрессия: `0.766`\n",
    "\n",
    "По скорости выполнения модели идут в обратном порядке, от самой быстрой к самой медленной"
   ]
  },
  {
   "cell_type": "markdown",
   "metadata": {},
   "source": [
    "## Проверьте модель на тестовой выборке"
   ]
  },
  {
   "cell_type": "markdown",
   "metadata": {},
   "source": [
    "Модель `Случайный лес в регрессии`:"
   ]
  },
  {
   "cell_type": "code",
   "execution_count": 50,
   "metadata": {},
   "outputs": [
    {
     "name": "stdout",
     "output_type": "stream",
     "text": [
      "Качество модели Случайный лес(test) = 0.804726\n"
     ]
    }
   ],
   "source": [
    "predictions_model_forest = best_model_forest.predict(features_test)\n",
    "result_forest = best_model_forest.score(features_test, target_test)\n",
    "print(f'Качество модели Случайный лес(test) = {round(result_forest, 6)}')"
   ]
  },
  {
   "cell_type": "markdown",
   "metadata": {},
   "source": [
    "Модеь `Дерево решений`:"
   ]
  },
  {
   "cell_type": "code",
   "execution_count": 59,
   "metadata": {},
   "outputs": [
    {
     "name": "stdout",
     "output_type": "stream",
     "text": [
      "Качество модели Дерево решенйи(test) = 0.788557\n"
     ]
    }
   ],
   "source": [
    "predictions_model_tree = best_model_tree.predict(features_test)\n",
    "result_tree = best_model_tree.score(features_test, target_test)\n",
    "print(f'Качество модели Дерево решенйи(test) = {round(result_tree, 6)}')"
   ]
  },
  {
   "cell_type": "markdown",
   "metadata": {},
   "source": [
    "Модель `Логистическая регрессия`:"
   ]
  },
  {
   "cell_type": "code",
   "execution_count": 63,
   "metadata": {
    "tags": []
   },
   "outputs": [
    {
     "name": "stdout",
     "output_type": "stream",
     "text": [
      "Качестов модели Логистическая регрессия(test) = 0.748756\n"
     ]
    }
   ],
   "source": [
    "predictions_model_logistic = model_logistic.predict(features_test)\n",
    "result_logic = accuracy_score(target_test, predictions_model_logistic)\n",
    "print(f'Качестов модели Логистическая регрессия(test) = {round(result_logic, 6)}')"
   ]
  },
  {
   "cell_type": "markdown",
   "metadata": {},
   "source": [
    "#### Вывод"
   ]
  },
  {
   "cell_type": "markdown",
   "metadata": {},
   "source": [
    "Модели:\n",
    "1. Случайного лес: 0.804726\n",
    "2. Дерево решений: 0.788557\n",
    "3. Логистическая регрессия: 0.748756"
   ]
  },
  {
   "cell_type": "markdown",
   "metadata": {},
   "source": [
    "## Проверьте модели на адекватность"
   ]
  },
  {
   "cell_type": "markdown",
   "metadata": {},
   "source": [
    "Модель `Случайного леса`"
   ]
  },
  {
   "cell_type": "code",
   "execution_count": 132,
   "metadata": {},
   "outputs": [
    {
     "data": {
      "image/png": "[encoded data removed]",
      "text/plain": [
       "<Figure size 640x480 with 1 Axes>"
      ]
     },
     "metadata": {},
     "output_type": "display_data"
    },
    {
     "name": "stdout",
     "output_type": "stream",
     "text": [
      "ROC AUC score: 0.7171633698537935\n"
     ]
    }
   ],
   "source": [
    "fpr, tpr, thresholds = roc_curve(target_test, predictions_model_forest)\n",
    "roc_display = RocCurveDisplay(fpr=fpr, tpr=tpr).plot()\n",
    "plt.show()\n",
    "print(f'ROC AUC score: {roc_auc_score(target_test, predictions_model_forest)}')"
   ]
  },
  {
   "cell_type": "markdown",
   "metadata": {},
   "source": [
    "Модель `Дерева решений`:"
   ]
  },
  {
   "cell_type": "code",
   "execution_count": 135,
   "metadata": {},
   "outputs": [
    {
     "name": "stdout",
     "output_type": "stream",
     "text": [
      "Качество случайной модели: 0.7077114427860697\n",
      "Качество модели Случайного леса: 0.7885572139303483\n"
     ]
    }
   ],
   "source": [
    "dummy = DummyClassifier(strategy = 'most_frequent')\n",
    "dummy.fit(features_train, target_train)\n",
    "dummy_score = dummy.score(features_test, target_test)\n",
    "print(f'Качество случайной модели: {dummy_score}')\n",
    "print(f'Качество модели Случайного леса: {result_tree}')"
   ]
  },
  {
   "cell_type": "markdown",
   "metadata": {},
   "source": [
    "Модель `Логистическая регрессия`"
   ]
  },
  {
   "cell_type": "code",
   "execution_count": 134,
   "metadata": {},
   "outputs": [
    {
     "data": {
      "image/png": "[encoded data removed]",
      "text/plain": [
       "<Figure size 640x480 with 2 Axes>"
      ]
     },
     "metadata": {},
     "output_type": "display_data"
    },
    {
     "name": "stdout",
     "output_type": "stream",
     "text": [
      "ROC AUC score: 0.6001869648132222\n"
     ]
    }
   ],
   "source": [
    "cm = confusion_matrix(target_test, predictions_model_logistic)\n",
    "cm_display = ConfusionMatrixDisplay(cm).plot()\n",
    "plt.show()\n",
    "print(f'ROC AUC score: {roc_auc_score(target_test, predictions_model_logistic)}')"
   ]
  },
  {
   "cell_type": "markdown",
   "metadata": {},
   "source": [
    "## Вывод\n",
    "\n",
    "Лучше всего проверку на адекватность прошла модель `Случайного леса`"
   ]
  }
 ],
 "metadata": {
  "ExecuteTimeLog": [
   {
    "duration": 103,
    "start_time": "2022-07-16T17:58:04.926Z"
   },
   {
    "duration": 1261,
    "start_time": "2022-07-16T18:15:08.930Z"
   },
   {
    "duration": 66,
    "start_time": "2022-07-16T18:15:11.240Z"
   },
   {
    "duration": 45,
    "start_time": "2022-07-16T18:15:23.253Z"
   },
   {
    "duration": 48,
    "start_time": "2022-07-16T18:15:38.653Z"
   },
   {
    "duration": 75,
    "start_time": "2022-07-16T18:16:48.349Z"
   },
   {
    "duration": 5,
    "start_time": "2022-07-16T18:21:14.471Z"
   },
   {
    "duration": 95,
    "start_time": "2022-07-16T18:22:21.668Z"
   },
   {
    "duration": 80,
    "start_time": "2022-07-16T18:24:14.950Z"
   },
   {
    "duration": 4,
    "start_time": "2022-07-16T18:24:36.554Z"
   },
   {
    "duration": 76,
    "start_time": "2022-07-16T18:24:36.560Z"
   },
   {
    "duration": 6,
    "start_time": "2022-07-16T18:24:36.638Z"
   },
   {
    "duration": 9,
    "start_time": "2022-07-16T18:24:36.645Z"
   },
   {
    "duration": 3,
    "start_time": "2022-07-16T18:27:45.259Z"
   },
   {
    "duration": 106,
    "start_time": "2022-07-16T18:27:45.265Z"
   },
   {
    "duration": 5,
    "start_time": "2022-07-16T18:27:45.373Z"
   },
   {
    "duration": 13,
    "start_time": "2022-07-16T18:27:45.380Z"
   },
   {
    "duration": 10,
    "start_time": "2022-07-16T18:27:47.006Z"
   },
   {
    "duration": 4,
    "start_time": "2022-07-16T18:29:13.094Z"
   },
   {
    "duration": 3,
    "start_time": "2022-07-16T18:31:25.170Z"
   },
   {
    "duration": 7,
    "start_time": "2022-07-16T18:32:30.403Z"
   },
   {
    "duration": 116,
    "start_time": "2022-07-16T18:32:30.412Z"
   },
   {
    "duration": 6,
    "start_time": "2022-07-16T18:32:30.533Z"
   },
   {
    "duration": 23,
    "start_time": "2022-07-16T18:32:30.541Z"
   },
   {
    "duration": 16,
    "start_time": "2022-07-16T18:32:30.566Z"
   },
   {
    "duration": 46,
    "start_time": "2022-07-16T18:32:30.585Z"
   },
   {
    "duration": 4,
    "start_time": "2022-07-16T18:32:32.576Z"
   },
   {
    "duration": 4,
    "start_time": "2022-07-16T18:36:32.561Z"
   },
   {
    "duration": 153,
    "start_time": "2022-07-16T18:43:47.499Z"
   },
   {
    "duration": 34,
    "start_time": "2022-07-16T18:44:13.932Z"
   },
   {
    "duration": 3,
    "start_time": "2022-07-16T18:44:44.171Z"
   },
   {
    "duration": 73,
    "start_time": "2022-07-16T18:44:44.176Z"
   },
   {
    "duration": 4,
    "start_time": "2022-07-16T18:44:44.251Z"
   },
   {
    "duration": 7,
    "start_time": "2022-07-16T18:44:44.257Z"
   },
   {
    "duration": 7,
    "start_time": "2022-07-16T18:44:44.265Z"
   },
   {
    "duration": 8,
    "start_time": "2022-07-16T18:44:44.274Z"
   },
   {
    "duration": 9,
    "start_time": "2022-07-16T18:44:44.283Z"
   },
   {
    "duration": 3577,
    "start_time": "2022-07-16T18:44:45.650Z"
   },
   {
    "duration": 3,
    "start_time": "2022-07-16T18:45:29.588Z"
   },
   {
    "duration": 76,
    "start_time": "2022-07-16T18:45:29.593Z"
   },
   {
    "duration": 5,
    "start_time": "2022-07-16T18:45:29.672Z"
   },
   {
    "duration": 7,
    "start_time": "2022-07-16T18:45:29.679Z"
   },
   {
    "duration": 8,
    "start_time": "2022-07-16T18:45:29.689Z"
   },
   {
    "duration": 14,
    "start_time": "2022-07-16T18:45:29.699Z"
   },
   {
    "duration": 9,
    "start_time": "2022-07-16T18:45:29.715Z"
   },
   {
    "duration": 6803,
    "start_time": "2022-07-16T18:45:29.726Z"
   },
   {
    "duration": 30485,
    "start_time": "2022-07-16T18:45:48.967Z"
   },
   {
    "duration": 55,
    "start_time": "2022-07-16T18:54:42.826Z"
   },
   {
    "duration": 4,
    "start_time": "2022-07-16T18:55:32.117Z"
   },
   {
    "duration": 69,
    "start_time": "2022-07-16T18:55:32.123Z"
   },
   {
    "duration": 5,
    "start_time": "2022-07-16T18:55:32.194Z"
   },
   {
    "duration": 19,
    "start_time": "2022-07-16T18:55:32.200Z"
   },
   {
    "duration": 8,
    "start_time": "2022-07-16T18:55:32.221Z"
   },
   {
    "duration": 5,
    "start_time": "2022-07-16T18:55:32.230Z"
   },
   {
    "duration": 7,
    "start_time": "2022-07-16T18:55:32.236Z"
   },
   {
    "duration": 1192,
    "start_time": "2022-07-16T18:56:06.409Z"
   },
   {
    "duration": 79,
    "start_time": "2022-07-16T18:56:07.603Z"
   },
   {
    "duration": 98,
    "start_time": "2022-07-16T18:56:07.683Z"
   },
   {
    "duration": 0,
    "start_time": "2022-07-16T18:56:07.783Z"
   },
   {
    "duration": 0,
    "start_time": "2022-07-16T18:56:07.785Z"
   },
   {
    "duration": 0,
    "start_time": "2022-07-16T18:56:07.785Z"
   },
   {
    "duration": 0,
    "start_time": "2022-07-16T18:56:07.786Z"
   },
   {
    "duration": 0,
    "start_time": "2022-07-16T18:56:07.787Z"
   },
   {
    "duration": 5,
    "start_time": "2022-07-16T18:56:59.633Z"
   },
   {
    "duration": 5,
    "start_time": "2022-07-16T18:57:04.207Z"
   },
   {
    "duration": 82,
    "start_time": "2022-07-16T18:57:04.214Z"
   },
   {
    "duration": 8,
    "start_time": "2022-07-16T18:57:04.297Z"
   },
   {
    "duration": 21,
    "start_time": "2022-07-16T18:57:04.309Z"
   },
   {
    "duration": 8,
    "start_time": "2022-07-16T18:57:04.332Z"
   },
   {
    "duration": 7,
    "start_time": "2022-07-16T18:57:04.342Z"
   },
   {
    "duration": 9,
    "start_time": "2022-07-16T18:57:04.351Z"
   },
   {
    "duration": 31112,
    "start_time": "2022-07-16T18:57:04.362Z"
   },
   {
    "duration": 37,
    "start_time": "2022-07-16T19:06:52.727Z"
   },
   {
    "duration": 74,
    "start_time": "2022-07-16T19:07:55.818Z"
   },
   {
    "duration": 3,
    "start_time": "2022-07-16T19:10:48.349Z"
   },
   {
    "duration": 112,
    "start_time": "2022-07-16T19:10:48.358Z"
   },
   {
    "duration": 5,
    "start_time": "2022-07-16T19:10:48.472Z"
   },
   {
    "duration": 11,
    "start_time": "2022-07-16T19:10:48.479Z"
   },
   {
    "duration": 20,
    "start_time": "2022-07-16T19:10:48.492Z"
   },
   {
    "duration": 30,
    "start_time": "2022-07-16T19:10:48.514Z"
   },
   {
    "duration": 11,
    "start_time": "2022-07-16T19:10:48.546Z"
   },
   {
    "duration": 31973,
    "start_time": "2022-07-16T19:10:48.559Z"
   },
   {
    "duration": 63,
    "start_time": "2022-07-16T19:11:20.536Z"
   },
   {
    "duration": 44,
    "start_time": "2022-07-16T19:11:20.606Z"
   },
   {
    "duration": 11,
    "start_time": "2022-07-16T19:24:51.940Z"
   },
   {
    "duration": 97,
    "start_time": "2022-07-16T19:25:32.640Z"
   },
   {
    "duration": 89,
    "start_time": "2022-07-16T19:30:22.182Z"
   },
   {
    "duration": 10,
    "start_time": "2022-07-16T19:31:19.291Z"
   },
   {
    "duration": 6,
    "start_time": "2022-07-16T19:31:32.369Z"
   },
   {
    "duration": 7,
    "start_time": "2022-07-16T19:33:12.929Z"
   },
   {
    "duration": 4,
    "start_time": "2022-07-16T19:48:27.312Z"
   },
   {
    "duration": 10,
    "start_time": "2022-07-16T19:54:51.299Z"
   },
   {
    "duration": 10,
    "start_time": "2022-07-16T19:54:58.027Z"
   },
   {
    "duration": 3,
    "start_time": "2022-07-16T19:55:00.675Z"
   },
   {
    "duration": 81,
    "start_time": "2022-07-16T19:55:00.680Z"
   },
   {
    "duration": 4,
    "start_time": "2022-07-16T19:55:00.763Z"
   },
   {
    "duration": 16,
    "start_time": "2022-07-16T19:55:00.769Z"
   },
   {
    "duration": 9,
    "start_time": "2022-07-16T19:55:00.787Z"
   },
   {
    "duration": 11,
    "start_time": "2022-07-16T19:55:00.798Z"
   },
   {
    "duration": 8,
    "start_time": "2022-07-16T19:55:00.811Z"
   },
   {
    "duration": 28607,
    "start_time": "2022-07-16T19:55:00.820Z"
   },
   {
    "duration": 57,
    "start_time": "2022-07-16T19:55:29.428Z"
   },
   {
    "duration": 40,
    "start_time": "2022-07-16T19:55:29.488Z"
   },
   {
    "duration": 9,
    "start_time": "2022-07-16T19:55:29.530Z"
   },
   {
    "duration": 5,
    "start_time": "2022-07-16T19:55:29.541Z"
   },
   {
    "duration": 5,
    "start_time": "2022-07-16T19:55:29.548Z"
   },
   {
    "duration": 6,
    "start_time": "2022-07-16T19:55:34.219Z"
   },
   {
    "duration": 7,
    "start_time": "2022-07-16T19:56:45.120Z"
   },
   {
    "duration": 6,
    "start_time": "2022-07-16T19:56:47.925Z"
   },
   {
    "duration": 8,
    "start_time": "2022-07-16T20:01:33.823Z"
   },
   {
    "duration": 7,
    "start_time": "2022-07-16T20:02:10.195Z"
   },
   {
    "duration": 87,
    "start_time": "2022-07-16T20:02:42.585Z"
   },
   {
    "duration": 75,
    "start_time": "2022-07-16T20:03:18.055Z"
   },
   {
    "duration": 1121,
    "start_time": "2022-07-16T20:23:40.032Z"
   },
   {
    "duration": 72,
    "start_time": "2022-07-16T20:23:41.155Z"
   },
   {
    "duration": 5,
    "start_time": "2022-07-16T20:23:41.229Z"
   },
   {
    "duration": 11,
    "start_time": "2022-07-16T20:23:41.235Z"
   },
   {
    "duration": 7,
    "start_time": "2022-07-16T20:23:41.249Z"
   },
   {
    "duration": 6,
    "start_time": "2022-07-16T20:23:41.258Z"
   },
   {
    "duration": 7,
    "start_time": "2022-07-16T20:23:41.265Z"
   },
   {
    "duration": 29280,
    "start_time": "2022-07-16T20:23:41.274Z"
   },
   {
    "duration": 70,
    "start_time": "2022-07-16T20:24:10.556Z"
   },
   {
    "duration": 34,
    "start_time": "2022-07-16T20:24:10.628Z"
   },
   {
    "duration": 11,
    "start_time": "2022-07-16T20:24:10.665Z"
   },
   {
    "duration": 26,
    "start_time": "2022-07-16T20:24:10.679Z"
   },
   {
    "duration": 9,
    "start_time": "2022-07-16T20:24:10.707Z"
   },
   {
    "duration": 6,
    "start_time": "2022-07-16T20:24:10.719Z"
   },
   {
    "duration": 7,
    "start_time": "2022-07-16T20:24:10.726Z"
   },
   {
    "duration": 5,
    "start_time": "2022-07-16T20:24:10.736Z"
   },
   {
    "duration": 1542,
    "start_time": "2022-07-17T13:12:39.952Z"
   },
   {
    "duration": 173,
    "start_time": "2022-07-17T13:12:41.496Z"
   },
   {
    "duration": 5,
    "start_time": "2022-07-17T13:12:41.671Z"
   },
   {
    "duration": 12,
    "start_time": "2022-07-17T13:12:41.678Z"
   },
   {
    "duration": 11,
    "start_time": "2022-07-17T13:12:41.692Z"
   },
   {
    "duration": 19,
    "start_time": "2022-07-17T13:12:41.705Z"
   },
   {
    "duration": 10,
    "start_time": "2022-07-17T13:12:41.726Z"
   },
   {
    "duration": 27734,
    "start_time": "2022-07-17T13:12:41.738Z"
   },
   {
    "duration": 66,
    "start_time": "2022-07-17T13:13:09.474Z"
   },
   {
    "duration": 46,
    "start_time": "2022-07-17T13:13:09.542Z"
   },
   {
    "duration": 11,
    "start_time": "2022-07-17T13:13:09.590Z"
   },
   {
    "duration": 7,
    "start_time": "2022-07-17T13:13:09.624Z"
   },
   {
    "duration": 10,
    "start_time": "2022-07-17T13:13:09.633Z"
   },
   {
    "duration": 7,
    "start_time": "2022-07-17T13:13:09.646Z"
   },
   {
    "duration": 20,
    "start_time": "2022-07-17T13:13:09.655Z"
   },
   {
    "duration": 8,
    "start_time": "2022-07-17T13:13:09.677Z"
   },
   {
    "duration": 4,
    "start_time": "2022-07-17T13:14:00.031Z"
   },
   {
    "duration": 71,
    "start_time": "2022-07-17T13:14:00.480Z"
   },
   {
    "duration": 7,
    "start_time": "2022-07-17T13:14:06.222Z"
   },
   {
    "duration": 4,
    "start_time": "2022-07-17T13:14:06.657Z"
   },
   {
    "duration": 10,
    "start_time": "2022-07-17T13:14:17.654Z"
   },
   {
    "duration": 6,
    "start_time": "2022-07-17T13:14:18.958Z"
   },
   {
    "duration": 8,
    "start_time": "2022-07-17T13:14:20.279Z"
   },
   {
    "duration": 8,
    "start_time": "2022-07-17T13:14:25.120Z"
   },
   {
    "duration": 6,
    "start_time": "2022-07-17T13:14:26.001Z"
   },
   {
    "duration": 1171,
    "start_time": "2022-07-18T15:51:21.911Z"
   },
   {
    "duration": 112,
    "start_time": "2022-07-18T15:51:23.084Z"
   },
   {
    "duration": 5,
    "start_time": "2022-07-18T15:51:23.198Z"
   },
   {
    "duration": 6,
    "start_time": "2022-07-18T15:51:23.205Z"
   },
   {
    "duration": 8,
    "start_time": "2022-07-18T15:51:23.212Z"
   },
   {
    "duration": 12,
    "start_time": "2022-07-18T15:51:23.222Z"
   },
   {
    "duration": 10,
    "start_time": "2022-07-18T15:51:23.235Z"
   },
   {
    "duration": 132,
    "start_time": "2022-07-18T15:51:23.247Z"
   },
   {
    "duration": 0,
    "start_time": "2022-07-18T15:51:23.381Z"
   },
   {
    "duration": 0,
    "start_time": "2022-07-18T15:51:23.383Z"
   },
   {
    "duration": 0,
    "start_time": "2022-07-18T15:51:23.384Z"
   },
   {
    "duration": 0,
    "start_time": "2022-07-18T15:51:23.385Z"
   },
   {
    "duration": 0,
    "start_time": "2022-07-18T15:51:23.386Z"
   },
   {
    "duration": 0,
    "start_time": "2022-07-18T15:51:23.387Z"
   },
   {
    "duration": 1,
    "start_time": "2022-07-18T15:51:23.388Z"
   },
   {
    "duration": 0,
    "start_time": "2022-07-18T15:51:23.390Z"
   },
   {
    "duration": 1159,
    "start_time": "2022-09-18T13:43:15.564Z"
   },
   {
    "duration": 113,
    "start_time": "2022-09-18T13:43:16.724Z"
   },
   {
    "duration": 5,
    "start_time": "2022-09-18T13:43:16.839Z"
   },
   {
    "duration": 30,
    "start_time": "2022-09-18T13:43:16.845Z"
   },
   {
    "duration": 21,
    "start_time": "2022-09-18T13:43:16.877Z"
   },
   {
    "duration": 9,
    "start_time": "2022-09-18T13:43:16.899Z"
   },
   {
    "duration": 36,
    "start_time": "2022-09-18T13:43:16.909Z"
   },
   {
    "duration": 29229,
    "start_time": "2022-09-18T13:43:16.947Z"
   },
   {
    "duration": 70,
    "start_time": "2022-09-18T13:43:46.177Z"
   },
   {
    "duration": 45,
    "start_time": "2022-09-18T13:43:46.248Z"
   },
   {
    "duration": 10,
    "start_time": "2022-09-18T13:43:46.295Z"
   },
   {
    "duration": 13,
    "start_time": "2022-09-18T13:43:46.307Z"
   },
   {
    "duration": 11,
    "start_time": "2022-09-18T13:43:46.322Z"
   },
   {
    "duration": 7,
    "start_time": "2022-09-18T13:43:46.336Z"
   },
   {
    "duration": 7,
    "start_time": "2022-09-18T13:43:46.345Z"
   },
   {
    "duration": 9,
    "start_time": "2022-09-18T13:43:46.353Z"
   }
  ],
  "celltoolbar": "Отсутствует",
  "kernelspec": {
   "display_name": "Python 3 (ipykernel)",
   "language": "python",
   "name": "python3"
  },
  "language_info": {
   "codemirror_mode": {
    "name": "ipython",
    "version": 3
   },
   "file_extension": ".py",
   "mimetype": "text/x-python",
   "name": "python",
   "nbconvert_exporter": "python",
   "pygments_lexer": "ipython3",
   "version": "3.9.13"
  },
  "toc": {
   "base_numbering": 1,
   "nav_menu": {},
   "number_sections": false,
   "sideBar": true,
   "skip_h1_title": true,
   "title_cell": "Table of Contents",
   "title_sidebar": "Contents",
   "toc_cell": false,
   "toc_position": {},
   "toc_section_display": true,
   "toc_window_display": false
  }
 },
 "nbformat": 4,
 "nbformat_minor": 4
}
