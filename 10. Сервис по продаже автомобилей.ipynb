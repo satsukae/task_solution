{
 "cells": [
  {
   "cell_type": "markdown",
   "metadata": {
    "tags": []
   },
   "source": [
    "# Задача"
   ]
  },
  {
   "cell_type": "markdown",
   "metadata": {},
   "source": [
    "Сервис по продаже автомобилей с пробегом «Не бит, не крашен» разрабатывает приложение для привлечения новых клиентов. В нём можно быстро узнать рыночную стоимость своего автомобиля. В вашем распоряжении исторические данные: технические характеристики, комплектации и цены автомобилей. Вам нужно построить модель для определения стоимости. \n",
    "\n",
    "Заказчику важны:\n",
    "\n",
    "- качество предсказания;\n",
    "- скорость предсказания;\n",
    "- время обучения."
   ]
  },
  {
   "cell_type": "code",
   "execution_count": 1,
   "metadata": {},
   "outputs": [],
   "source": [
    "import pandas as pd\n",
    "import numpy as np\n",
    "import matplotlib.pyplot as plt\n",
    "import seaborn as sns\n",
    "import time\n",
    "\n",
    "from sklearn.model_selection import train_test_split\n",
    "from sklearn.preprocessing import OrdinalEncoder\n",
    "from sklearn.tree import DecisionTreeRegressor\n",
    "from sklearn.ensemble import RandomForestRegressor\n",
    "from sklearn.metrics import mean_squared_error\n",
    "from sklearn.model_selection import GridSearchCV\n",
    "\n",
    "from catboost import CatBoostRegressor\n",
    "from catboost import cv\n",
    "from catboost import train\n",
    "import lightgbm\n",
    "\n",
    "import warnings\n",
    "warnings.filterwarnings(\"ignore\")\n",
    "\n",
    "plt.style.use('ggplot')\n",
    "%matplotlib inline"
   ]
  },
  {
   "cell_type": "markdown",
   "metadata": {
    "tags": []
   },
   "source": [
    "#  Подготовка данных"
   ]
  },
  {
   "cell_type": "code",
   "execution_count": 2,
   "metadata": {},
   "outputs": [],
   "source": [
    "df = pd.read_csv('autos.csv')"
   ]
  },
  {
   "cell_type": "code",
   "execution_count": 3,
   "metadata": {},
   "outputs": [
    {
     "data": {
      "text/html": [
       "<div>\n",
       "<style scoped>\n",
       "    .dataframe tbody tr th:only-of-type {\n",
       "        vertical-align: middle;\n",
       "    }\n",
       "\n",
       "    .dataframe tbody tr th {\n",
       "        vertical-align: top;\n",
       "    }\n",
       "\n",
       "    .dataframe thead th {\n",
       "        text-align: right;\n",
       "    }\n",
       "</style>\n",
       "<table border=\"1\" class=\"dataframe\">\n",
       "  <thead>\n",
       "    <tr style=\"text-align: right;\">\n",
       "      <th></th>\n",
       "      <th>DateCrawled</th>\n",
       "      <th>Price</th>\n",
       "      <th>VehicleType</th>\n",
       "      <th>RegistrationYear</th>\n",
       "      <th>Gearbox</th>\n",
       "      <th>Power</th>\n",
       "      <th>Model</th>\n",
       "      <th>Kilometer</th>\n",
       "      <th>RegistrationMonth</th>\n",
       "      <th>FuelType</th>\n",
       "      <th>Brand</th>\n",
       "      <th>Repaired</th>\n",
       "      <th>DateCreated</th>\n",
       "      <th>NumberOfPictures</th>\n",
       "      <th>PostalCode</th>\n",
       "      <th>LastSeen</th>\n",
       "    </tr>\n",
       "  </thead>\n",
       "  <tbody>\n",
       "    <tr>\n",
       "      <th>0</th>\n",
       "      <td>2016-03-24 11:52:17</td>\n",
       "      <td>480</td>\n",
       "      <td>NaN</td>\n",
       "      <td>1993</td>\n",
       "      <td>manual</td>\n",
       "      <td>0</td>\n",
       "      <td>golf</td>\n",
       "      <td>150000</td>\n",
       "      <td>0</td>\n",
       "      <td>petrol</td>\n",
       "      <td>volkswagen</td>\n",
       "      <td>NaN</td>\n",
       "      <td>2016-03-24 00:00:00</td>\n",
       "      <td>0</td>\n",
       "      <td>70435</td>\n",
       "      <td>2016-04-07 03:16:57</td>\n",
       "    </tr>\n",
       "    <tr>\n",
       "      <th>1</th>\n",
       "      <td>2016-03-24 10:58:45</td>\n",
       "      <td>18300</td>\n",
       "      <td>coupe</td>\n",
       "      <td>2011</td>\n",
       "      <td>manual</td>\n",
       "      <td>190</td>\n",
       "      <td>NaN</td>\n",
       "      <td>125000</td>\n",
       "      <td>5</td>\n",
       "      <td>gasoline</td>\n",
       "      <td>audi</td>\n",
       "      <td>yes</td>\n",
       "      <td>2016-03-24 00:00:00</td>\n",
       "      <td>0</td>\n",
       "      <td>66954</td>\n",
       "      <td>2016-04-07 01:46:50</td>\n",
       "    </tr>\n",
       "    <tr>\n",
       "      <th>2</th>\n",
       "      <td>2016-03-14 12:52:21</td>\n",
       "      <td>9800</td>\n",
       "      <td>suv</td>\n",
       "      <td>2004</td>\n",
       "      <td>auto</td>\n",
       "      <td>163</td>\n",
       "      <td>grand</td>\n",
       "      <td>125000</td>\n",
       "      <td>8</td>\n",
       "      <td>gasoline</td>\n",
       "      <td>jeep</td>\n",
       "      <td>NaN</td>\n",
       "      <td>2016-03-14 00:00:00</td>\n",
       "      <td>0</td>\n",
       "      <td>90480</td>\n",
       "      <td>2016-04-05 12:47:46</td>\n",
       "    </tr>\n",
       "    <tr>\n",
       "      <th>3</th>\n",
       "      <td>2016-03-17 16:54:04</td>\n",
       "      <td>1500</td>\n",
       "      <td>small</td>\n",
       "      <td>2001</td>\n",
       "      <td>manual</td>\n",
       "      <td>75</td>\n",
       "      <td>golf</td>\n",
       "      <td>150000</td>\n",
       "      <td>6</td>\n",
       "      <td>petrol</td>\n",
       "      <td>volkswagen</td>\n",
       "      <td>no</td>\n",
       "      <td>2016-03-17 00:00:00</td>\n",
       "      <td>0</td>\n",
       "      <td>91074</td>\n",
       "      <td>2016-03-17 17:40:17</td>\n",
       "    </tr>\n",
       "    <tr>\n",
       "      <th>4</th>\n",
       "      <td>2016-03-31 17:25:20</td>\n",
       "      <td>3600</td>\n",
       "      <td>small</td>\n",
       "      <td>2008</td>\n",
       "      <td>manual</td>\n",
       "      <td>69</td>\n",
       "      <td>fabia</td>\n",
       "      <td>90000</td>\n",
       "      <td>7</td>\n",
       "      <td>gasoline</td>\n",
       "      <td>skoda</td>\n",
       "      <td>no</td>\n",
       "      <td>2016-03-31 00:00:00</td>\n",
       "      <td>0</td>\n",
       "      <td>60437</td>\n",
       "      <td>2016-04-06 10:17:21</td>\n",
       "    </tr>\n",
       "  </tbody>\n",
       "</table>\n",
       "</div>"
      ],
      "text/plain": [
       "           DateCrawled  Price VehicleType  RegistrationYear Gearbox  Power  \\\n",
       "0  2016-03-24 11:52:17    480         NaN              1993  manual      0   \n",
       "1  2016-03-24 10:58:45  18300       coupe              2011  manual    190   \n",
       "2  2016-03-14 12:52:21   9800         suv              2004    auto    163   \n",
       "3  2016-03-17 16:54:04   1500       small              2001  manual     75   \n",
       "4  2016-03-31 17:25:20   3600       small              2008  manual     69   \n",
       "\n",
       "   Model  Kilometer  RegistrationMonth  FuelType       Brand Repaired  \\\n",
       "0   golf     150000                  0    petrol  volkswagen      NaN   \n",
       "1    NaN     125000                  5  gasoline        audi      yes   \n",
       "2  grand     125000                  8  gasoline        jeep      NaN   \n",
       "3   golf     150000                  6    petrol  volkswagen       no   \n",
       "4  fabia      90000                  7  gasoline       skoda       no   \n",
       "\n",
       "           DateCreated  NumberOfPictures  PostalCode             LastSeen  \n",
       "0  2016-03-24 00:00:00                 0       70435  2016-04-07 03:16:57  \n",
       "1  2016-03-24 00:00:00                 0       66954  2016-04-07 01:46:50  \n",
       "2  2016-03-14 00:00:00                 0       90480  2016-04-05 12:47:46  \n",
       "3  2016-03-17 00:00:00                 0       91074  2016-03-17 17:40:17  \n",
       "4  2016-03-31 00:00:00                 0       60437  2016-04-06 10:17:21  "
      ]
     },
     "execution_count": 3,
     "metadata": {},
     "output_type": "execute_result"
    }
   ],
   "source": [
    "df.head()"
   ]
  },
  {
   "cell_type": "code",
   "execution_count": 4,
   "metadata": {},
   "outputs": [
    {
     "name": "stdout",
     "output_type": "stream",
     "text": [
      "<class 'pandas.core.frame.DataFrame'>\n",
      "RangeIndex: 354369 entries, 0 to 354368\n",
      "Data columns (total 16 columns):\n",
      " #   Column             Non-Null Count   Dtype \n",
      "---  ------             --------------   ----- \n",
      " 0   DateCrawled        354369 non-null  object\n",
      " 1   Price              354369 non-null  int64 \n",
      " 2   VehicleType        316879 non-null  object\n",
      " 3   RegistrationYear   354369 non-null  int64 \n",
      " 4   Gearbox            334536 non-null  object\n",
      " 5   Power              354369 non-null  int64 \n",
      " 6   Model              334664 non-null  object\n",
      " 7   Kilometer          354369 non-null  int64 \n",
      " 8   RegistrationMonth  354369 non-null  int64 \n",
      " 9   FuelType           321474 non-null  object\n",
      " 10  Brand              354369 non-null  object\n",
      " 11  Repaired           283215 non-null  object\n",
      " 12  DateCreated        354369 non-null  object\n",
      " 13  NumberOfPictures   354369 non-null  int64 \n",
      " 14  PostalCode         354369 non-null  int64 \n",
      " 15  LastSeen           354369 non-null  object\n",
      "dtypes: int64(7), object(9)\n",
      "memory usage: 43.3+ MB\n"
     ]
    }
   ],
   "source": [
    "df.info()"
   ]
  },
  {
   "cell_type": "code",
   "execution_count": 5,
   "metadata": {},
   "outputs": [
    {
     "data": {
      "image/png": "[encoded data removed]",
      "text/plain": [
       "<Figure size 640x480 with 1 Axes>"
      ]
     },
     "metadata": {},
     "output_type": "display_data"
    },
    {
     "data": {
      "text/plain": [
       "DateCrawled          0.000000\n",
       "Price                0.000000\n",
       "VehicleType          0.105794\n",
       "RegistrationYear     0.000000\n",
       "Gearbox              0.055967\n",
       "Power                0.000000\n",
       "Model                0.055606\n",
       "Kilometer            0.000000\n",
       "RegistrationMonth    0.000000\n",
       "FuelType             0.092827\n",
       "Brand                0.000000\n",
       "Repaired             0.200791\n",
       "DateCreated          0.000000\n",
       "NumberOfPictures     0.000000\n",
       "PostalCode           0.000000\n",
       "LastSeen             0.000000\n",
       "dtype: float64"
      ]
     },
     "execution_count": 5,
     "metadata": {},
     "output_type": "execute_result"
    }
   ],
   "source": [
    "sns.heatmap(df.isna().T, cbar=False).set_title('Объем пропусков в наборе данных')\n",
    "plt.show()\n",
    "df.isna().mean()"
   ]
  },
  {
   "cell_type": "code",
   "execution_count": 6,
   "metadata": {},
   "outputs": [],
   "source": [
    "df['VehicleType'] = df['VehicleType'].fillna(df['VehicleType'].mode().values[0])\n",
    "df['Gearbox'] = df['Gearbox'].fillna(df['Gearbox'].mode().values[0])\n",
    "df['Model'] = df['Model'].fillna(df['Model'].mode().values[0])\n",
    "df['FuelType'] = df['FuelType'].fillna(df['FuelType'].mode().values[0])\n",
    "df['Repaired'] = df['Repaired'].fillna('no') "
   ]
  },
  {
   "cell_type": "code",
   "execution_count": 7,
   "metadata": {},
   "outputs": [
    {
     "data": {
      "text/plain": [
       "DateCrawled          0.0\n",
       "Price                0.0\n",
       "VehicleType          0.0\n",
       "RegistrationYear     0.0\n",
       "Gearbox              0.0\n",
       "Power                0.0\n",
       "Model                0.0\n",
       "Kilometer            0.0\n",
       "RegistrationMonth    0.0\n",
       "FuelType             0.0\n",
       "Brand                0.0\n",
       "Repaired             0.0\n",
       "DateCreated          0.0\n",
       "NumberOfPictures     0.0\n",
       "PostalCode           0.0\n",
       "LastSeen             0.0\n",
       "dtype: float64"
      ]
     },
     "execution_count": 7,
     "metadata": {},
     "output_type": "execute_result"
    }
   ],
   "source": [
    "df.isna().mean()"
   ]
  },
  {
   "cell_type": "markdown",
   "metadata": {},
   "source": [
    "## Проверка наличия дубликатов"
   ]
  },
  {
   "cell_type": "code",
   "execution_count": 8,
   "metadata": {},
   "outputs": [
    {
     "name": "stdout",
     "output_type": "stream",
     "text": [
      "VehicleType    0\n",
      "Gearbox        0\n",
      "Model          0\n",
      "FuelType       0\n",
      "Repaired       0\n",
      "dtype: int64\n"
     ]
    }
   ],
   "source": [
    "col_categorical = ['VehicleType', 'Gearbox', 'Model', 'FuelType', 'Repaired'] \n",
    "print(pd.Series([pd.Series(df[col].unique()).str.lower().duplicated().sum() \\\n",
    "                 for col in col_categorical], index=col_categorical))"
   ]
  },
  {
   "cell_type": "code",
   "execution_count": 9,
   "metadata": {},
   "outputs": [
    {
     "name": "stdout",
     "output_type": "stream",
     "text": [
      "Кол-во дубликатов: 5\n"
     ]
    }
   ],
   "source": [
    "print(f'Кол-во дубликатов: {df.duplicated().sum()}')"
   ]
  },
  {
   "cell_type": "code",
   "execution_count": 10,
   "metadata": {},
   "outputs": [
    {
     "name": "stdout",
     "output_type": "stream",
     "text": [
      "Кол-во дубликатов: 0\n"
     ]
    }
   ],
   "source": [
    "df = df.drop_duplicates()\n",
    "print(f'Кол-во дубликатов: {df.duplicated().sum()}')"
   ]
  },
  {
   "cell_type": "markdown",
   "metadata": {},
   "source": [
    "## Исследуем данные"
   ]
  },
  {
   "cell_type": "code",
   "execution_count": 11,
   "metadata": {
    "tags": []
   },
   "outputs": [
    {
     "data": {
      "text/html": [
       "<div>\n",
       "<style scoped>\n",
       "    .dataframe tbody tr th:only-of-type {\n",
       "        vertical-align: middle;\n",
       "    }\n",
       "\n",
       "    .dataframe tbody tr th {\n",
       "        vertical-align: top;\n",
       "    }\n",
       "\n",
       "    .dataframe thead th {\n",
       "        text-align: right;\n",
       "    }\n",
       "</style>\n",
       "<table border=\"1\" class=\"dataframe\">\n",
       "  <thead>\n",
       "    <tr style=\"text-align: right;\">\n",
       "      <th></th>\n",
       "      <th>count</th>\n",
       "      <th>unique</th>\n",
       "      <th>top</th>\n",
       "      <th>freq</th>\n",
       "      <th>mean</th>\n",
       "      <th>std</th>\n",
       "      <th>min</th>\n",
       "      <th>25%</th>\n",
       "      <th>50%</th>\n",
       "      <th>75%</th>\n",
       "      <th>max</th>\n",
       "    </tr>\n",
       "  </thead>\n",
       "  <tbody>\n",
       "    <tr>\n",
       "      <th>DateCrawled</th>\n",
       "      <td>354364</td>\n",
       "      <td>271174</td>\n",
       "      <td>2016-03-24 14:49:47</td>\n",
       "      <td>7</td>\n",
       "      <td>NaN</td>\n",
       "      <td>NaN</td>\n",
       "      <td>NaN</td>\n",
       "      <td>NaN</td>\n",
       "      <td>NaN</td>\n",
       "      <td>NaN</td>\n",
       "      <td>NaN</td>\n",
       "    </tr>\n",
       "    <tr>\n",
       "      <th>Price</th>\n",
       "      <td>354364.0</td>\n",
       "      <td>NaN</td>\n",
       "      <td>NaN</td>\n",
       "      <td>NaN</td>\n",
       "      <td>4416.655608</td>\n",
       "      <td>4514.15969</td>\n",
       "      <td>0.0</td>\n",
       "      <td>1050.0</td>\n",
       "      <td>2700.0</td>\n",
       "      <td>6400.0</td>\n",
       "      <td>20000.0</td>\n",
       "    </tr>\n",
       "    <tr>\n",
       "      <th>VehicleType</th>\n",
       "      <td>354364</td>\n",
       "      <td>8</td>\n",
       "      <td>sedan</td>\n",
       "      <td>128946</td>\n",
       "      <td>NaN</td>\n",
       "      <td>NaN</td>\n",
       "      <td>NaN</td>\n",
       "      <td>NaN</td>\n",
       "      <td>NaN</td>\n",
       "      <td>NaN</td>\n",
       "      <td>NaN</td>\n",
       "    </tr>\n",
       "    <tr>\n",
       "      <th>RegistrationYear</th>\n",
       "      <td>354364.0</td>\n",
       "      <td>NaN</td>\n",
       "      <td>NaN</td>\n",
       "      <td>NaN</td>\n",
       "      <td>2004.234471</td>\n",
       "      <td>90.228593</td>\n",
       "      <td>1000.0</td>\n",
       "      <td>1999.0</td>\n",
       "      <td>2003.0</td>\n",
       "      <td>2008.0</td>\n",
       "      <td>9999.0</td>\n",
       "    </tr>\n",
       "    <tr>\n",
       "      <th>Gearbox</th>\n",
       "      <td>354364</td>\n",
       "      <td>2</td>\n",
       "      <td>manual</td>\n",
       "      <td>288081</td>\n",
       "      <td>NaN</td>\n",
       "      <td>NaN</td>\n",
       "      <td>NaN</td>\n",
       "      <td>NaN</td>\n",
       "      <td>NaN</td>\n",
       "      <td>NaN</td>\n",
       "      <td>NaN</td>\n",
       "    </tr>\n",
       "    <tr>\n",
       "      <th>Power</th>\n",
       "      <td>354364.0</td>\n",
       "      <td>NaN</td>\n",
       "      <td>NaN</td>\n",
       "      <td>NaN</td>\n",
       "      <td>110.093723</td>\n",
       "      <td>189.85159</td>\n",
       "      <td>0.0</td>\n",
       "      <td>69.0</td>\n",
       "      <td>105.0</td>\n",
       "      <td>143.0</td>\n",
       "      <td>20000.0</td>\n",
       "    </tr>\n",
       "    <tr>\n",
       "      <th>Model</th>\n",
       "      <td>354364</td>\n",
       "      <td>250</td>\n",
       "      <td>golf</td>\n",
       "      <td>48937</td>\n",
       "      <td>NaN</td>\n",
       "      <td>NaN</td>\n",
       "      <td>NaN</td>\n",
       "      <td>NaN</td>\n",
       "      <td>NaN</td>\n",
       "      <td>NaN</td>\n",
       "      <td>NaN</td>\n",
       "    </tr>\n",
       "    <tr>\n",
       "      <th>Kilometer</th>\n",
       "      <td>354364.0</td>\n",
       "      <td>NaN</td>\n",
       "      <td>NaN</td>\n",
       "      <td>NaN</td>\n",
       "      <td>128211.373051</td>\n",
       "      <td>37905.136957</td>\n",
       "      <td>5000.0</td>\n",
       "      <td>125000.0</td>\n",
       "      <td>150000.0</td>\n",
       "      <td>150000.0</td>\n",
       "      <td>150000.0</td>\n",
       "    </tr>\n",
       "    <tr>\n",
       "      <th>RegistrationMonth</th>\n",
       "      <td>354364.0</td>\n",
       "      <td>NaN</td>\n",
       "      <td>NaN</td>\n",
       "      <td>NaN</td>\n",
       "      <td>5.714641</td>\n",
       "      <td>3.726433</td>\n",
       "      <td>0.0</td>\n",
       "      <td>3.0</td>\n",
       "      <td>6.0</td>\n",
       "      <td>9.0</td>\n",
       "      <td>12.0</td>\n",
       "    </tr>\n",
       "    <tr>\n",
       "      <th>FuelType</th>\n",
       "      <td>354364</td>\n",
       "      <td>7</td>\n",
       "      <td>petrol</td>\n",
       "      <td>249244</td>\n",
       "      <td>NaN</td>\n",
       "      <td>NaN</td>\n",
       "      <td>NaN</td>\n",
       "      <td>NaN</td>\n",
       "      <td>NaN</td>\n",
       "      <td>NaN</td>\n",
       "      <td>NaN</td>\n",
       "    </tr>\n",
       "    <tr>\n",
       "      <th>Brand</th>\n",
       "      <td>354364</td>\n",
       "      <td>40</td>\n",
       "      <td>volkswagen</td>\n",
       "      <td>77012</td>\n",
       "      <td>NaN</td>\n",
       "      <td>NaN</td>\n",
       "      <td>NaN</td>\n",
       "      <td>NaN</td>\n",
       "      <td>NaN</td>\n",
       "      <td>NaN</td>\n",
       "      <td>NaN</td>\n",
       "    </tr>\n",
       "    <tr>\n",
       "      <th>Repaired</th>\n",
       "      <td>354364</td>\n",
       "      <td>2</td>\n",
       "      <td>no</td>\n",
       "      <td>318311</td>\n",
       "      <td>NaN</td>\n",
       "      <td>NaN</td>\n",
       "      <td>NaN</td>\n",
       "      <td>NaN</td>\n",
       "      <td>NaN</td>\n",
       "      <td>NaN</td>\n",
       "      <td>NaN</td>\n",
       "    </tr>\n",
       "    <tr>\n",
       "      <th>DateCreated</th>\n",
       "      <td>354364</td>\n",
       "      <td>109</td>\n",
       "      <td>2016-04-03 00:00:00</td>\n",
       "      <td>13718</td>\n",
       "      <td>NaN</td>\n",
       "      <td>NaN</td>\n",
       "      <td>NaN</td>\n",
       "      <td>NaN</td>\n",
       "      <td>NaN</td>\n",
       "      <td>NaN</td>\n",
       "      <td>NaN</td>\n",
       "    </tr>\n",
       "    <tr>\n",
       "      <th>NumberOfPictures</th>\n",
       "      <td>354364.0</td>\n",
       "      <td>NaN</td>\n",
       "      <td>NaN</td>\n",
       "      <td>NaN</td>\n",
       "      <td>0.0</td>\n",
       "      <td>0.0</td>\n",
       "      <td>0.0</td>\n",
       "      <td>0.0</td>\n",
       "      <td>0.0</td>\n",
       "      <td>0.0</td>\n",
       "      <td>0.0</td>\n",
       "    </tr>\n",
       "    <tr>\n",
       "      <th>PostalCode</th>\n",
       "      <td>354364.0</td>\n",
       "      <td>NaN</td>\n",
       "      <td>NaN</td>\n",
       "      <td>NaN</td>\n",
       "      <td>50508.461698</td>\n",
       "      <td>25783.124276</td>\n",
       "      <td>1067.0</td>\n",
       "      <td>30165.0</td>\n",
       "      <td>49409.5</td>\n",
       "      <td>71083.0</td>\n",
       "      <td>99998.0</td>\n",
       "    </tr>\n",
       "    <tr>\n",
       "      <th>LastSeen</th>\n",
       "      <td>354364</td>\n",
       "      <td>179150</td>\n",
       "      <td>2016-04-06 13:45:54</td>\n",
       "      <td>17</td>\n",
       "      <td>NaN</td>\n",
       "      <td>NaN</td>\n",
       "      <td>NaN</td>\n",
       "      <td>NaN</td>\n",
       "      <td>NaN</td>\n",
       "      <td>NaN</td>\n",
       "      <td>NaN</td>\n",
       "    </tr>\n",
       "  </tbody>\n",
       "</table>\n",
       "</div>"
      ],
      "text/plain": [
       "                      count  unique                  top    freq  \\\n",
       "DateCrawled          354364  271174  2016-03-24 14:49:47       7   \n",
       "Price              354364.0     NaN                  NaN     NaN   \n",
       "VehicleType          354364       8                sedan  128946   \n",
       "RegistrationYear   354364.0     NaN                  NaN     NaN   \n",
       "Gearbox              354364       2               manual  288081   \n",
       "Power              354364.0     NaN                  NaN     NaN   \n",
       "Model                354364     250                 golf   48937   \n",
       "Kilometer          354364.0     NaN                  NaN     NaN   \n",
       "RegistrationMonth  354364.0     NaN                  NaN     NaN   \n",
       "FuelType             354364       7               petrol  249244   \n",
       "Brand                354364      40           volkswagen   77012   \n",
       "Repaired             354364       2                   no  318311   \n",
       "DateCreated          354364     109  2016-04-03 00:00:00   13718   \n",
       "NumberOfPictures   354364.0     NaN                  NaN     NaN   \n",
       "PostalCode         354364.0     NaN                  NaN     NaN   \n",
       "LastSeen             354364  179150  2016-04-06 13:45:54      17   \n",
       "\n",
       "                            mean           std     min       25%       50%  \\\n",
       "DateCrawled                  NaN           NaN     NaN       NaN       NaN   \n",
       "Price                4416.655608    4514.15969     0.0    1050.0    2700.0   \n",
       "VehicleType                  NaN           NaN     NaN       NaN       NaN   \n",
       "RegistrationYear     2004.234471     90.228593  1000.0    1999.0    2003.0   \n",
       "Gearbox                      NaN           NaN     NaN       NaN       NaN   \n",
       "Power                 110.093723     189.85159     0.0      69.0     105.0   \n",
       "Model                        NaN           NaN     NaN       NaN       NaN   \n",
       "Kilometer          128211.373051  37905.136957  5000.0  125000.0  150000.0   \n",
       "RegistrationMonth       5.714641      3.726433     0.0       3.0       6.0   \n",
       "FuelType                     NaN           NaN     NaN       NaN       NaN   \n",
       "Brand                        NaN           NaN     NaN       NaN       NaN   \n",
       "Repaired                     NaN           NaN     NaN       NaN       NaN   \n",
       "DateCreated                  NaN           NaN     NaN       NaN       NaN   \n",
       "NumberOfPictures             0.0           0.0     0.0       0.0       0.0   \n",
       "PostalCode          50508.461698  25783.124276  1067.0   30165.0   49409.5   \n",
       "LastSeen                     NaN           NaN     NaN       NaN       NaN   \n",
       "\n",
       "                        75%       max  \n",
       "DateCrawled             NaN       NaN  \n",
       "Price                6400.0   20000.0  \n",
       "VehicleType             NaN       NaN  \n",
       "RegistrationYear     2008.0    9999.0  \n",
       "Gearbox                 NaN       NaN  \n",
       "Power                 143.0   20000.0  \n",
       "Model                   NaN       NaN  \n",
       "Kilometer          150000.0  150000.0  \n",
       "RegistrationMonth       9.0      12.0  \n",
       "FuelType                NaN       NaN  \n",
       "Brand                   NaN       NaN  \n",
       "Repaired                NaN       NaN  \n",
       "DateCreated             NaN       NaN  \n",
       "NumberOfPictures        0.0       0.0  \n",
       "PostalCode          71083.0   99998.0  \n",
       "LastSeen                NaN       NaN  "
      ]
     },
     "execution_count": 11,
     "metadata": {},
     "output_type": "execute_result"
    }
   ],
   "source": [
    "df.describe(include='all').T"
   ]
  },
  {
   "cell_type": "code",
   "execution_count": 12,
   "metadata": {
    "scrolled": true
   },
   "outputs": [],
   "source": [
    "df_all = df.copy()\n",
    "df = df.drop(['DateCrawled', 'DateCreated', 'LastSeen', 'NumberOfPictures', 'PostalCode'], axis = 1)"
   ]
  },
  {
   "cell_type": "code",
   "execution_count": 13,
   "metadata": {},
   "outputs": [
    {
     "data": {
      "image/png": "[encoded data removed]",
      "text/plain": [
       "<Figure size 1000x1000 with 1 Axes>"
      ]
     },
     "metadata": {},
     "output_type": "display_data"
    }
   ],
   "source": [
    "df['RegistrationYear'].plot(kind='box',figsize=(10, 10), grid=True, title='Диаграмма разброса \"Год регистрации машины\"')\n",
    "plt.ylim((1900, 2100))\n",
    "plt.show()"
   ]
  },
  {
   "cell_type": "code",
   "execution_count": 14,
   "metadata": {},
   "outputs": [],
   "source": [
    "def RangeRegistrationYear(value):\n",
    "    if value > 2022:\n",
    "        return 2022\n",
    "    elif value < 1958:\n",
    "        return 1958\n",
    "    else:\n",
    "        return value"
   ]
  },
  {
   "cell_type": "code",
   "execution_count": 15,
   "metadata": {},
   "outputs": [],
   "source": [
    "df['RegistrationYear'] = df['RegistrationYear'].apply(RangeRegistrationYear)\n",
    "df.loc[df['RegistrationMonth'] == 0, 'RegistrationMonth'] = 1"
   ]
  },
  {
   "cell_type": "code",
   "execution_count": 16,
   "metadata": {},
   "outputs": [],
   "source": [
    "def outlier(df, col):\n",
    "    min_q = np.array(df[col].quantile(0.25) - 1.5 * (df[col].quantile(0.75) - df[col].quantile(0.25)))\n",
    "    max_q = np.array(df[col].quantile(0.75) + 1.5 * (df[col].quantile(0.75) - df[col].quantile(0.25)))\n",
    "    df = df[(df[col] >= min_q) & (df[col] <= max_q)]\n",
    "    \n",
    "    return df"
   ]
  },
  {
   "cell_type": "code",
   "execution_count": 17,
   "metadata": {},
   "outputs": [
    {
     "name": "stdout",
     "output_type": "stream",
     "text": [
      "Кол-во строк было удалено в столбце Price: 18979\n",
      "Кол-во строк было удалено в столбце Power: 5153\n"
     ]
    }
   ],
   "source": [
    "columns = ['Price', 'Power']\n",
    "for column in columns:\n",
    "    size = df.shape[0]\n",
    "    df = outlier(df, column)\n",
    "    print('Кол-во строк было удалено в столбце '+str(column)+':', (size - df.shape[0]))"
   ]
  },
  {
   "cell_type": "code",
   "execution_count": 18,
   "metadata": {},
   "outputs": [
    {
     "name": "stdout",
     "output_type": "stream",
     "text": [
      "<class 'pandas.core.frame.DataFrame'>\n",
      "Int64Index: 330232 entries, 0 to 354368\n",
      "Data columns (total 11 columns):\n",
      " #   Column             Non-Null Count   Dtype\n",
      "---  ------             --------------   -----\n",
      " 0   Price              330232 non-null  int16\n",
      " 1   VehicleType        330232 non-null  int16\n",
      " 2   RegistrationYear   330232 non-null  int16\n",
      " 3   Gearbox            330232 non-null  int16\n",
      " 4   Power              330232 non-null  int16\n",
      " 5   Model              330232 non-null  int16\n",
      " 6   Kilometer          330232 non-null  int16\n",
      " 7   RegistrationMonth  330232 non-null  int16\n",
      " 8   FuelType           330232 non-null  int16\n",
      " 9   Brand              330232 non-null  int16\n",
      " 10  Repaired           330232 non-null  int16\n",
      "dtypes: int16(11)\n",
      "memory usage: 9.4 MB\n"
     ]
    }
   ],
   "source": [
    "cat_features = ['VehicleType', 'Gearbox', 'FuelType', 'Brand', 'Repaired', 'Model']\n",
    "encoder = OrdinalEncoder(dtype=np.int16)\n",
    "encoder.fit(df[cat_features])\n",
    "df[cat_features] = encoder.transform(df[cat_features])\n",
    "df = df.astype(np.int16)\n",
    "df.info()"
   ]
  },
  {
   "cell_type": "code",
   "execution_count": 19,
   "metadata": {},
   "outputs": [
    {
     "data": {
      "image/png": "[encoded data removed]",
      "text/plain": [
       "<Figure size 2000x1000 with 2 Axes>"
      ]
     },
     "metadata": {},
     "output_type": "display_data"
    }
   ],
   "source": [
    "plt.figure(figsize=(20, 10))\n",
    "sns.set(font_scale=1.5)\n",
    "sns.heatmap(df.corr(), annot=True, fmt='.2g', cmap= 'coolwarm', annot_kws={\"fontsize\":15});"
   ]
  },
  {
   "cell_type": "markdown",
   "metadata": {},
   "source": [
    "# Разделим и закодируем выборки"
   ]
  },
  {
   "cell_type": "code",
   "execution_count": 20,
   "metadata": {},
   "outputs": [],
   "source": [
    "SEED = 12345"
   ]
  },
  {
   "cell_type": "code",
   "execution_count": 21,
   "metadata": {},
   "outputs": [],
   "source": [
    "target = df[['Price']]\n",
    "features = df.drop(['Price'], axis=1)"
   ]
  },
  {
   "cell_type": "code",
   "execution_count": 22,
   "metadata": {},
   "outputs": [
    {
     "name": "stdout",
     "output_type": "stream",
     "text": [
      "(198138, 10) (198138, 1) (66047, 10) (66047, 1) (66047, 10) (66047, 1)\n"
     ]
    }
   ],
   "source": [
    "features_80, features_test, target_80, target_test = train_test_split(\n",
    "    features, target, test_size=.2, random_state=SEED)\n",
    "features_train, features_valid, target_train, target_valid = train_test_split(\n",
    "    features_80, target_80, test_size=.25, random_state=SEED)\n",
    "print(features_train.shape, target_train.shape, features_valid.shape, target_valid.shape, features_test.shape, target_test.shape)"
   ]
  },
  {
   "cell_type": "markdown",
   "metadata": {},
   "source": [
    "#  Нахождение наилучших парметров моделей"
   ]
  },
  {
   "cell_type": "markdown",
   "metadata": {},
   "source": [
    "Модель `CatBoost`"
   ]
  },
  {
   "cell_type": "code",
   "execution_count": 23,
   "metadata": {},
   "outputs": [],
   "source": [
    "def rmse(test, predict):\n",
    "    return ((mean_squared_error(test, predict)) ** 0.5).round(2)"
   ]
  },
  {
   "cell_type": "code",
   "execution_count": 24,
   "metadata": {
    "scrolled": true,
    "tags": []
   },
   "outputs": [
    {
     "data": {
      "text/plain": [
       "\"\\nmodel_cb = CatBoostRegressor(random_state=SEED, cat_features=cat_features)\\nparams_cb = {\\n    'iterations' :  [40],\\n    'max_depth' : np.arange(4, 16, 4),\\n    'learning_rate' : [.1, .3, .4, .7, 1]\\n}\\ngs_cb = model_cb.grid_search(params_cb, features_train, target_train, plot=True)\\n\""
      ]
     },
     "execution_count": 24,
     "metadata": {},
     "output_type": "execute_result"
    }
   ],
   "source": [
    "\"\"\"\n",
    "model_cb = CatBoostRegressor(random_state=SEED, cat_features=cat_features)\n",
    "params_cb = {\n",
    "    'iterations' :  [40],\n",
    "    'max_depth' : np.arange(4, 16, 4),\n",
    "    'learning_rate' : [.1, .3, .4, .7, 1]\n",
    "}\n",
    "gs_cb = model_cb.grid_search(params_cb, features_train, target_train, plot=True)\n",
    "\"\"\""
   ]
  },
  {
   "cell_type": "code",
   "execution_count": 25,
   "metadata": {},
   "outputs": [
    {
     "name": "stdout",
     "output_type": "stream",
     "text": [
      "Наилучшие параметры модели CatBoost: 12\n",
      "RMSE-test = 1498.91511\n"
     ]
    }
   ],
   "source": [
    "print('Наилучшие параметры модели CatBoost: 12')\n",
    "print(f'RMSE-test = {1498.91511}')"
   ]
  },
  {
   "cell_type": "markdown",
   "metadata": {},
   "source": [
    "Модель `Дерево решений`"
   ]
  },
  {
   "cell_type": "code",
   "execution_count": 26,
   "metadata": {
    "tags": []
   },
   "outputs": [
    {
     "name": "stdout",
     "output_type": "stream",
     "text": [
      "Max depth = 14 ; Min samples leaf = 4\n",
      "RMSE 1686.3299146627508\n"
     ]
    }
   ],
   "source": [
    "model_dt = DecisionTreeRegressor(random_state=SEED)\n",
    "params_dt = {\n",
    "    'max_depth' : np.arange(1, 15, 1),\n",
    "    'min_samples_leaf' : np.arange(1, 5),\n",
    "   #'class_weight' : ['balanced']\n",
    "}\n",
    "gs_dt = GridSearchCV(model_dt, params_dt, cv=3)\n",
    "gs_dt.fit(features_train, target_train)\n",
    "pred_valid = gs_dt.predict(features_valid)\n",
    "result = mean_squared_error(target_valid, pred_valid) ** .5\n",
    "print('Max depth =', gs_dt.best_params_.get('max_depth'), '; '\n",
    "      'Min samples leaf =', gs_dt.best_params_.get('min_samples_leaf'))\n",
    "print('RMSE', result)"
   ]
  },
  {
   "cell_type": "markdown",
   "metadata": {},
   "source": [
    "Модель `LightGBM`"
   ]
  },
  {
   "cell_type": "code",
   "execution_count": 27,
   "metadata": {},
   "outputs": [],
   "source": [
    "lgbm_train_data = lightgbm.Dataset(features_train, label=target_train)\n",
    "\n",
    "arguments = {'learning_rate': 1,\n",
    "         'metric': 'rmse',\n",
    "         'seed': SEED,\n",
    "         'objective': 'regression',\n",
    "         'verbosity': -1,\n",
    "        }\n",
    "\n",
    "max_depth = [1, 6, 11, 16]"
   ]
  },
  {
   "cell_type": "code",
   "execution_count": 28,
   "metadata": {
    "scrolled": true
   },
   "outputs": [],
   "source": [
    "best_score = 2500\n",
    "for depth in max_depth:\n",
    "    arguments['max_depth'] = depth\n",
    "    score = lightgbm.cv(arguments, lgbm_train_data, nfold=5, categorical_feature=cat_features)\n",
    "    score = pd.DataFrame(score).iloc[-1]['rmse-mean']\n",
    "    if score < best_score:\n",
    "        best_score = score\n",
    "        best_depth = depth"
   ]
  },
  {
   "cell_type": "code",
   "execution_count": 29,
   "metadata": {},
   "outputs": [
    {
     "name": "stdout",
     "output_type": "stream",
     "text": [
      "Глубина модели: 6\n",
      "RMSE: 1538.9119\n"
     ]
    }
   ],
   "source": [
    "arguments['max_depth'] = best_depth\n",
    "lgbm_model = lightgbm.train(arguments, lgbm_train_data, categorical_feature=cat_features, num_boost_round=400)\n",
    "print(f'Глубина модели: {best_depth}\\nRMSE: {round(best_score, 5)}') "
   ]
  },
  {
   "cell_type": "markdown",
   "metadata": {
    "tags": []
   },
   "source": [
    "### Вывод\n",
    "* RMSE модели `CatBoost` = 1498.91511\n",
    "* RMSE модели `Дерево решений` = 1686.32991\n",
    "* RMSE модели `LightGBM` = 1538.9119"
   ]
  },
  {
   "cell_type": "markdown",
   "metadata": {},
   "source": [
    "# Обучение модели и выявления показателей моделей"
   ]
  },
  {
   "cell_type": "markdown",
   "metadata": {
    "tags": []
   },
   "source": [
    "## CatBoostRegressor"
   ]
  },
  {
   "cell_type": "markdown",
   "metadata": {},
   "source": [
    "#### Время обучения:"
   ]
  },
  {
   "cell_type": "code",
   "execution_count": 30,
   "metadata": {
    "scrolled": true,
    "tags": []
   },
   "outputs": [
    {
     "name": "stdout",
     "output_type": "stream",
     "text": [
      "0:\tlearn: 2673.6205098\ttotal: 79ms\tremaining: 1m 18s\n",
      "100:\tlearn: 1488.7861373\ttotal: 3.71s\tremaining: 33s\n",
      "200:\tlearn: 1424.6794815\ttotal: 6.13s\tremaining: 24.4s\n",
      "300:\tlearn: 1386.5564781\ttotal: 8.57s\tremaining: 19.9s\n",
      "400:\tlearn: 1359.2561330\ttotal: 11.7s\tremaining: 17.5s\n",
      "500:\tlearn: 1336.7328788\ttotal: 14.2s\tremaining: 14.1s\n",
      "600:\tlearn: 1318.0622891\ttotal: 16.6s\tremaining: 11s\n",
      "700:\tlearn: 1300.9964052\ttotal: 18.9s\tremaining: 8.07s\n",
      "800:\tlearn: 1287.6593552\ttotal: 21.2s\tremaining: 5.26s\n",
      "900:\tlearn: 1274.8432839\ttotal: 23.7s\tremaining: 2.6s\n",
      "999:\tlearn: 1263.4665832\ttotal: 25.9s\tremaining: 0us\n",
      "Wall time: 26.2 s\n"
     ]
    }
   ],
   "source": [
    "%%time\n",
    "start = time.time()\n",
    "model_cat = CatBoostRegressor(random_state=SEED,learning_rate=0.4, verbose=100, n_estimators=1000)\n",
    "model_cat.fit(features_train, target_train)\n",
    "end = time.time()\n",
    "time_train_cat=round(end-start, 2)"
   ]
  },
  {
   "cell_type": "markdown",
   "metadata": {},
   "source": [
    "#### Скорость предсказания:"
   ]
  },
  {
   "cell_type": "code",
   "execution_count": 31,
   "metadata": {},
   "outputs": [
    {
     "name": "stdout",
     "output_type": "stream",
     "text": [
      "Wall time: 55 ms\n"
     ]
    }
   ],
   "source": [
    "%%time\n",
    "start = time.time()\n",
    "predict_cat=model_cat.predict(features_valid)\n",
    "end = time.time()\n",
    "time_pred_cat=round(end-start, 2)"
   ]
  },
  {
   "cell_type": "markdown",
   "metadata": {},
   "source": [
    "#### Качество RMSE:"
   ]
  },
  {
   "cell_type": "code",
   "execution_count": 32,
   "metadata": {
    "tags": []
   },
   "outputs": [
    {
     "name": "stdout",
     "output_type": "stream",
     "text": [
      "RMSE = 1441.74\n"
     ]
    }
   ],
   "source": [
    "rmse_cat = rmse(target_valid, predict_cat)\n",
    "print(f'RMSE = {rmse_cat}')"
   ]
  },
  {
   "cell_type": "markdown",
   "metadata": {},
   "source": [
    "# DecisionTreeRegressor"
   ]
  },
  {
   "cell_type": "markdown",
   "metadata": {},
   "source": [
    "#### Время обучения:"
   ]
  },
  {
   "cell_type": "code",
   "execution_count": 33,
   "metadata": {},
   "outputs": [
    {
     "name": "stdout",
     "output_type": "stream",
     "text": [
      "Wall time: 593 ms\n"
     ]
    }
   ],
   "source": [
    "%%time\n",
    "start = time.time()\n",
    "model_dtr = DecisionTreeRegressor(random_state=SEED, max_depth=14, min_samples_leaf=4)\n",
    "model_dtr.fit(features_train, target_train)\n",
    "end = time.time()\n",
    "time_train_dt = round(end-start,2)"
   ]
  },
  {
   "cell_type": "markdown",
   "metadata": {},
   "source": [
    "#### Скорость предсказания:"
   ]
  },
  {
   "cell_type": "code",
   "execution_count": 34,
   "metadata": {},
   "outputs": [
    {
     "name": "stdout",
     "output_type": "stream",
     "text": [
      "Wall time: 20 ms\n"
     ]
    }
   ],
   "source": [
    "%%time\n",
    "start = time.time()\n",
    "predict_dtr = model_dtr.predict(features_valid)\n",
    "end = time.time()\n",
    "time_pred_dt = round(end-start, 2)"
   ]
  },
  {
   "cell_type": "markdown",
   "metadata": {},
   "source": [
    "#### Качество RMSE:"
   ]
  },
  {
   "cell_type": "code",
   "execution_count": 35,
   "metadata": {},
   "outputs": [
    {
     "name": "stdout",
     "output_type": "stream",
     "text": [
      "RMSE = 1686.33\n"
     ]
    }
   ],
   "source": [
    "rmse_dtr = rmse(target_valid, predict_dtr)\n",
    "print(f'RMSE = {rmse_dtr}')"
   ]
  },
  {
   "cell_type": "markdown",
   "metadata": {},
   "source": [
    "# LightGBM"
   ]
  },
  {
   "cell_type": "markdown",
   "metadata": {},
   "source": [
    "#### Время обучения:"
   ]
  },
  {
   "cell_type": "code",
   "execution_count": 36,
   "metadata": {},
   "outputs": [
    {
     "name": "stdout",
     "output_type": "stream",
     "text": [
      "Wall time: 6.2 s\n"
     ]
    }
   ],
   "source": [
    "%%time\n",
    "start = time.time()\n",
    "model_lgb = lightgbm.sklearn.LGBMRegressor(n_estimators=1000, max_depth=6, random_state=SEED, learning_rate=0.4, objective='rmse')\n",
    "model_lgb.fit(features_train, target_train)\n",
    "end = time.time()\n",
    "time_train_lgb=round(end-start, 2)"
   ]
  },
  {
   "cell_type": "markdown",
   "metadata": {},
   "source": [
    "#### Скорость предсказания:"
   ]
  },
  {
   "cell_type": "code",
   "execution_count": 37,
   "metadata": {},
   "outputs": [
    {
     "name": "stdout",
     "output_type": "stream",
     "text": [
      "Wall time: 2.27 s\n"
     ]
    }
   ],
   "source": [
    "%%time\n",
    "start = time.time()\n",
    "predict_lgb= model_lgb.predict(features_valid)\n",
    "end = time.time()\n",
    "time_pred_lgb=round(end-start, 2)"
   ]
  },
  {
   "cell_type": "markdown",
   "metadata": {},
   "source": [
    "#### Качество RMSE:"
   ]
  },
  {
   "cell_type": "code",
   "execution_count": 38,
   "metadata": {
    "tags": []
   },
   "outputs": [
    {
     "name": "stdout",
     "output_type": "stream",
     "text": [
      "RMSE = 1443.5\n"
     ]
    }
   ],
   "source": [
    "rmse_lgb=rmse(target_valid, predict_lgb)\n",
    "print(f'RMSE = {rmse_lgb}')"
   ]
  },
  {
   "cell_type": "markdown",
   "metadata": {},
   "source": [
    "#  Анализ моделей"
   ]
  },
  {
   "cell_type": "code",
   "execution_count": 39,
   "metadata": {},
   "outputs": [
    {
     "data": {
      "text/html": [
       "<div>\n",
       "<style scoped>\n",
       "    .dataframe tbody tr th:only-of-type {\n",
       "        vertical-align: middle;\n",
       "    }\n",
       "\n",
       "    .dataframe tbody tr th {\n",
       "        vertical-align: top;\n",
       "    }\n",
       "\n",
       "    .dataframe thead th {\n",
       "        text-align: right;\n",
       "    }\n",
       "</style>\n",
       "<table border=\"1\" class=\"dataframe\">\n",
       "  <thead>\n",
       "    <tr style=\"text-align: right;\">\n",
       "      <th></th>\n",
       "      <th>LightGBM</th>\n",
       "      <th>DecisionTreeRegressor</th>\n",
       "      <th>CatBoostRegressor</th>\n",
       "    </tr>\n",
       "  </thead>\n",
       "  <tbody>\n",
       "    <tr>\n",
       "      <th>Скорость обучения, сек</th>\n",
       "      <td>6.20</td>\n",
       "      <td>0.59</td>\n",
       "      <td>26.24</td>\n",
       "    </tr>\n",
       "    <tr>\n",
       "      <th>Скорость предсказания, сек</th>\n",
       "      <td>2.27</td>\n",
       "      <td>0.02</td>\n",
       "      <td>0.05</td>\n",
       "    </tr>\n",
       "    <tr>\n",
       "      <th>RMSE модели</th>\n",
       "      <td>1443.50</td>\n",
       "      <td>1686.33</td>\n",
       "      <td>1441.74</td>\n",
       "    </tr>\n",
       "  </tbody>\n",
       "</table>\n",
       "</div>"
      ],
      "text/plain": [
       "                            LightGBM  DecisionTreeRegressor  CatBoostRegressor\n",
       "Скорость обучения, сек          6.20                   0.59              26.24\n",
       "Скорость предсказания, сек      2.27                   0.02               0.05\n",
       "RMSE модели                  1443.50                1686.33            1441.74"
      ]
     },
     "metadata": {},
     "output_type": "display_data"
    }
   ],
   "source": [
    "column=['RMSE модели', 'Скорость обучения, сек','Скорость предсказания, сек']\n",
    "table = pd.DataFrame(index=['Скорость обучения, сек', 'Скорость предсказания, сек','RMSE модели'], columns=['LightGBM', 'DecisionTreeRegressor','CatBoostRegressor'])\n",
    "table['CatBoostRegressor'] = time_train_cat, time_pred_cat, rmse_cat\n",
    "table['DecisionTreeRegressor'] = time_train_dt, time_pred_dt, rmse_dtr\n",
    "table['LightGBM'] = time_train_lgb, time_pred_lgb, rmse_lgb\n",
    "\n",
    "display(table)"
   ]
  },
  {
   "cell_type": "markdown",
   "metadata": {},
   "source": [
    "### Вывод\n",
    "Из проведнного анализа целесообразно выбрать модель `LightGBM`, скорости обучения и предсказания приемлемые по времени ожидания, а главное, что оценка RMSE имеет хороший показатель"
   ]
  },
  {
   "cell_type": "markdown",
   "metadata": {},
   "source": [
    "### Проверка на тестовой выборке"
   ]
  },
  {
   "cell_type": "code",
   "execution_count": 41,
   "metadata": {},
   "outputs": [
    {
     "name": "stdout",
     "output_type": "stream",
     "text": [
      "RMSE = 1436.16\n"
     ]
    }
   ],
   "source": [
    "model_lgbm = lightgbm.sklearn.LGBMRegressor(n_estimators=1000, max_depth=6, random_state=SEED, learning_rate=0.4, objective='rmse')\n",
    "model_lgbm.fit(features_80, target_80)\n",
    "predictions_test_lgbm = model_lgbm.predict(features_test)\n",
    "print(f'RMSE = {rmse(target_test, predictions_test_lgbm)}')"
   ]
  },
  {
   "cell_type": "markdown",
   "metadata": {},
   "source": [
    "### Вывод\n",
    "Качество предсказаний на тестовой выборке получилось лучше чем на валидацинной"
   ]
  }
 ],
 "metadata": {
  "ExecuteTimeLog": [
   {
    "duration": 44,
    "start_time": "2023-02-02T17:53:34.628Z"
   },
   {
    "duration": 1537,
    "start_time": "2023-02-02T17:53:39.740Z"
   },
   {
    "duration": 4,
    "start_time": "2023-02-02T17:53:52.101Z"
   },
   {
    "duration": 999,
    "start_time": "2023-02-02T17:53:52.107Z"
   },
   {
    "duration": 16,
    "start_time": "2023-02-02T17:53:53.108Z"
   },
   {
    "duration": 99,
    "start_time": "2023-02-02T17:53:53.126Z"
   },
   {
    "duration": 890,
    "start_time": "2023-02-02T17:53:53.227Z"
   },
   {
    "duration": 0,
    "start_time": "2023-02-02T17:53:54.119Z"
   },
   {
    "duration": 0,
    "start_time": "2023-02-02T17:53:54.121Z"
   },
   {
    "duration": 0,
    "start_time": "2023-02-02T17:53:54.122Z"
   },
   {
    "duration": 0,
    "start_time": "2023-02-02T17:53:54.123Z"
   },
   {
    "duration": 0,
    "start_time": "2023-02-02T17:53:54.125Z"
   },
   {
    "duration": 0,
    "start_time": "2023-02-02T17:53:54.126Z"
   },
   {
    "duration": 0,
    "start_time": "2023-02-02T17:53:54.127Z"
   },
   {
    "duration": 0,
    "start_time": "2023-02-02T17:53:54.128Z"
   },
   {
    "duration": 120,
    "start_time": "2023-02-02T17:54:18.944Z"
   },
   {
    "duration": 780,
    "start_time": "2023-02-02T17:54:23.651Z"
   },
   {
    "duration": 99,
    "start_time": "2023-02-02T17:54:29.473Z"
   },
   {
    "duration": 422,
    "start_time": "2023-02-02T17:54:32.043Z"
   },
   {
    "duration": 879,
    "start_time": "2023-02-02T17:54:32.467Z"
   },
   {
    "duration": 100,
    "start_time": "2023-02-02T17:54:37.061Z"
   },
   {
    "duration": 98,
    "start_time": "2023-02-02T17:54:38.324Z"
   },
   {
    "duration": 1110,
    "start_time": "2023-02-02T17:54:45.598Z"
   },
   {
    "duration": 6,
    "start_time": "2023-02-02T17:54:46.711Z"
   },
   {
    "duration": 454,
    "start_time": "2023-02-02T17:54:48.067Z"
   },
   {
    "duration": 11,
    "start_time": "2023-02-02T17:54:50.740Z"
   },
   {
    "duration": 884,
    "start_time": "2023-02-02T17:55:05.351Z"
   },
   {
    "duration": 432,
    "start_time": "2023-02-02T17:56:07.233Z"
   },
   {
    "duration": 566,
    "start_time": "2023-02-02T17:56:22.133Z"
   },
   {
    "duration": 194,
    "start_time": "2023-02-02T17:56:52.301Z"
   },
   {
    "duration": 9,
    "start_time": "2023-02-02T17:57:22.817Z"
   },
   {
    "duration": 6,
    "start_time": "2023-02-02T17:57:31.353Z"
   },
   {
    "duration": 1450,
    "start_time": "2023-02-02T17:58:05.063Z"
   },
   {
    "duration": 850,
    "start_time": "2023-02-02T17:58:06.516Z"
   },
   {
    "duration": 16,
    "start_time": "2023-02-02T17:58:07.367Z"
   },
   {
    "duration": 120,
    "start_time": "2023-02-02T17:58:07.385Z"
   },
   {
    "duration": 159,
    "start_time": "2023-02-02T17:58:07.506Z"
   },
   {
    "duration": 119,
    "start_time": "2023-02-02T17:58:07.666Z"
   },
   {
    "duration": 474,
    "start_time": "2023-02-02T17:58:07.786Z"
   },
   {
    "duration": 898,
    "start_time": "2023-02-02T17:58:08.262Z"
   },
   {
    "duration": 111,
    "start_time": "2023-02-02T17:58:09.162Z"
   },
   {
    "duration": 88,
    "start_time": "2023-02-02T17:58:09.275Z"
   },
   {
    "duration": 118,
    "start_time": "2023-02-02T17:58:09.365Z"
   },
   {
    "duration": 4,
    "start_time": "2023-02-02T17:58:09.485Z"
   },
   {
    "duration": 442,
    "start_time": "2023-02-02T17:58:09.491Z"
   },
   {
    "duration": 801,
    "start_time": "2023-02-02T17:58:09.935Z"
   },
   {
    "duration": 149,
    "start_time": "2023-02-02T17:58:10.738Z"
   },
   {
    "duration": 17,
    "start_time": "2023-02-02T17:58:10.888Z"
   },
   {
    "duration": 51,
    "start_time": "2023-02-02T17:58:16.791Z"
   },
   {
    "duration": 44192,
    "start_time": "2023-02-02T17:58:42.679Z"
   },
   {
    "duration": 46,
    "start_time": "2023-02-02T18:00:53.830Z"
   },
   {
    "duration": 114,
    "start_time": "2023-02-02T18:01:11.519Z"
   },
   {
    "duration": 2827,
    "start_time": "2023-02-02T18:07:17.293Z"
   },
   {
    "duration": 4,
    "start_time": "2023-02-02T18:07:58.555Z"
   },
   {
    "duration": 29588,
    "start_time": "2023-02-02T18:08:20.525Z"
   },
   {
    "duration": 27314,
    "start_time": "2023-02-02T18:12:30.587Z"
   },
   {
    "duration": 513,
    "start_time": "2023-02-02T18:17:25.290Z"
   },
   {
    "duration": 4268,
    "start_time": "2023-02-02T18:17:47.337Z"
   },
   {
    "duration": 1416,
    "start_time": "2023-02-02T18:18:23.911Z"
   },
   {
    "duration": 716,
    "start_time": "2023-02-02T18:23:33.389Z"
   },
   {
    "duration": 46,
    "start_time": "2023-02-02T19:04:06.810Z"
   },
   {
    "duration": 1368,
    "start_time": "2023-02-02T19:04:48.934Z"
   },
   {
    "duration": 809,
    "start_time": "2023-02-02T19:04:50.304Z"
   },
   {
    "duration": 17,
    "start_time": "2023-02-02T19:04:51.115Z"
   },
   {
    "duration": 126,
    "start_time": "2023-02-02T19:04:51.133Z"
   },
   {
    "duration": 161,
    "start_time": "2023-02-02T19:04:51.261Z"
   },
   {
    "duration": 124,
    "start_time": "2023-02-02T19:04:51.424Z"
   },
   {
    "duration": 451,
    "start_time": "2023-02-02T19:04:51.550Z"
   },
   {
    "duration": 911,
    "start_time": "2023-02-02T19:04:52.003Z"
   },
   {
    "duration": 103,
    "start_time": "2023-02-02T19:04:52.916Z"
   },
   {
    "duration": 97,
    "start_time": "2023-02-02T19:04:53.021Z"
   },
   {
    "duration": 145,
    "start_time": "2023-02-02T19:04:53.119Z"
   },
   {
    "duration": 5,
    "start_time": "2023-02-02T19:04:53.266Z"
   },
   {
    "duration": 418,
    "start_time": "2023-02-02T19:04:53.273Z"
   },
   {
    "duration": 854,
    "start_time": "2023-02-02T19:04:53.693Z"
   },
   {
    "duration": 142,
    "start_time": "2023-02-02T19:04:54.548Z"
   },
   {
    "duration": 17,
    "start_time": "2023-02-02T19:04:54.692Z"
   },
   {
    "duration": 62,
    "start_time": "2023-02-02T19:04:54.710Z"
   },
   {
    "duration": 44929,
    "start_time": "2023-02-02T19:04:54.774Z"
   },
   {
    "duration": 3061,
    "start_time": "2023-02-02T19:05:39.704Z"
   },
   {
    "duration": 4,
    "start_time": "2023-02-02T19:05:42.766Z"
   },
   {
    "duration": 78639,
    "start_time": "2023-02-02T19:05:42.773Z"
   },
   {
    "duration": 20693,
    "start_time": "2023-02-02T19:07:01.414Z"
   },
   {
    "duration": 570,
    "start_time": "2023-02-02T19:07:22.109Z"
   },
   {
    "duration": 4267,
    "start_time": "2023-02-02T19:07:22.681Z"
   },
   {
    "duration": 1552,
    "start_time": "2023-02-02T19:07:26.950Z"
   },
   {
    "duration": 706,
    "start_time": "2023-02-02T19:07:28.504Z"
   },
   {
    "duration": 1696,
    "start_time": "2023-02-02T22:18:23.871Z"
   },
   {
    "duration": 1090,
    "start_time": "2023-02-02T22:18:25.568Z"
   },
   {
    "duration": 17,
    "start_time": "2023-02-02T22:18:26.660Z"
   },
   {
    "duration": 138,
    "start_time": "2023-02-02T22:18:26.679Z"
   },
   {
    "duration": 186,
    "start_time": "2023-02-02T22:18:26.819Z"
   },
   {
    "duration": 133,
    "start_time": "2023-02-02T22:18:27.007Z"
   },
   {
    "duration": 472,
    "start_time": "2023-02-02T22:18:27.142Z"
   },
   {
    "duration": 1017,
    "start_time": "2023-02-02T22:18:27.616Z"
   },
   {
    "duration": 107,
    "start_time": "2023-02-02T22:18:28.635Z"
   },
   {
    "duration": 106,
    "start_time": "2023-02-02T22:18:28.744Z"
   },
   {
    "duration": 184,
    "start_time": "2023-02-02T22:18:28.852Z"
   },
   {
    "duration": 5,
    "start_time": "2023-02-02T22:18:29.038Z"
   },
   {
    "duration": 435,
    "start_time": "2023-02-02T22:18:29.045Z"
   },
   {
    "duration": 853,
    "start_time": "2023-02-02T22:18:29.483Z"
   },
   {
    "duration": 149,
    "start_time": "2023-02-02T22:18:30.337Z"
   },
   {
    "duration": 11,
    "start_time": "2023-02-02T22:18:30.492Z"
   },
   {
    "duration": 58,
    "start_time": "2023-02-02T22:18:33.348Z"
   },
   {
    "duration": 152,
    "start_time": "2023-02-02T22:19:09.899Z"
   },
   {
    "duration": 25960,
    "start_time": "2023-02-02T22:19:27.541Z"
   },
   {
    "duration": 71,
    "start_time": "2023-02-02T22:21:43.020Z"
   },
   {
    "duration": 51,
    "start_time": "2023-02-02T22:22:27.171Z"
   },
   {
    "duration": 9,
    "start_time": "2023-02-02T22:24:38.920Z"
   },
   {
    "duration": 3,
    "start_time": "2023-02-02T22:25:38.725Z"
   },
   {
    "duration": 7,
    "start_time": "2023-02-02T22:25:40.983Z"
   },
   {
    "duration": 5,
    "start_time": "2023-02-02T22:26:19.885Z"
   },
   {
    "duration": 61,
    "start_time": "2023-02-02T22:28:14.650Z"
   },
   {
    "duration": 14,
    "start_time": "2023-02-02T22:28:30.936Z"
   },
   {
    "duration": 1506,
    "start_time": "2023-02-02T22:29:46.811Z"
   },
   {
    "duration": 824,
    "start_time": "2023-02-02T22:29:48.320Z"
   },
   {
    "duration": 16,
    "start_time": "2023-02-02T22:29:49.146Z"
   },
   {
    "duration": 141,
    "start_time": "2023-02-02T22:29:49.163Z"
   },
   {
    "duration": 165,
    "start_time": "2023-02-02T22:29:49.306Z"
   },
   {
    "duration": 110,
    "start_time": "2023-02-02T22:29:49.472Z"
   },
   {
    "duration": 473,
    "start_time": "2023-02-02T22:29:49.594Z"
   },
   {
    "duration": 942,
    "start_time": "2023-02-02T22:29:50.068Z"
   },
   {
    "duration": 101,
    "start_time": "2023-02-02T22:29:51.012Z"
   },
   {
    "duration": 93,
    "start_time": "2023-02-02T22:29:51.115Z"
   },
   {
    "duration": 139,
    "start_time": "2023-02-02T22:29:51.209Z"
   },
   {
    "duration": 4,
    "start_time": "2023-02-02T22:29:51.350Z"
   },
   {
    "duration": 446,
    "start_time": "2023-02-02T22:29:51.355Z"
   },
   {
    "duration": 920,
    "start_time": "2023-02-02T22:29:51.803Z"
   },
   {
    "duration": 152,
    "start_time": "2023-02-02T22:29:52.725Z"
   },
   {
    "duration": 15,
    "start_time": "2023-02-02T22:29:52.879Z"
   },
   {
    "duration": 55,
    "start_time": "2023-02-02T22:29:59.455Z"
   },
   {
    "duration": 3,
    "start_time": "2023-02-02T22:30:01.936Z"
   },
   {
    "duration": 26096,
    "start_time": "2023-02-02T22:30:05.164Z"
   },
   {
    "duration": 68,
    "start_time": "2023-02-02T22:30:31.262Z"
   },
   {
    "duration": 6,
    "start_time": "2023-02-02T22:30:31.332Z"
   },
   {
    "duration": 251,
    "start_time": "2023-02-02T22:30:31.340Z"
   },
   {
    "duration": 54,
    "start_time": "2023-02-02T22:32:30.418Z"
   },
   {
    "duration": 492,
    "start_time": "2023-02-02T22:32:45.309Z"
   },
   {
    "duration": 957,
    "start_time": "2023-02-02T22:32:51.192Z"
   },
   {
    "duration": 50,
    "start_time": "2023-02-02T22:33:12.369Z"
   },
   {
    "duration": 40,
    "start_time": "2023-02-02T22:34:43.872Z"
   },
   {
    "duration": 45,
    "start_time": "2023-02-02T22:34:56.524Z"
   },
   {
    "duration": 5,
    "start_time": "2023-02-02T22:35:27.467Z"
   },
   {
    "duration": 48,
    "start_time": "2023-02-02T22:37:50.123Z"
   },
   {
    "duration": 47,
    "start_time": "2023-02-02T22:39:01.441Z"
   },
   {
    "duration": 62,
    "start_time": "2023-02-02T22:40:02.586Z"
   },
   {
    "duration": 26890,
    "start_time": "2023-02-02T22:40:07.918Z"
   },
   {
    "duration": 4742,
    "start_time": "2023-02-02T22:41:09.184Z"
   },
   {
    "duration": 5,
    "start_time": "2023-02-02T22:41:13.928Z"
   },
   {
    "duration": 40,
    "start_time": "2023-02-02T22:41:32.494Z"
   },
   {
    "duration": 43,
    "start_time": "2023-02-02T22:41:53.610Z"
   },
   {
    "duration": 43165,
    "start_time": "2023-02-02T22:44:23.297Z"
   },
   {
    "duration": 3029,
    "start_time": "2023-02-02T22:45:06.464Z"
   },
   {
    "duration": 4,
    "start_time": "2023-02-02T22:45:09.496Z"
   },
   {
    "duration": 1425,
    "start_time": "2023-02-02T22:45:56.907Z"
   },
   {
    "duration": 895,
    "start_time": "2023-02-02T22:45:58.334Z"
   },
   {
    "duration": 17,
    "start_time": "2023-02-02T22:45:59.230Z"
   },
   {
    "duration": 148,
    "start_time": "2023-02-02T22:45:59.249Z"
   },
   {
    "duration": 189,
    "start_time": "2023-02-02T22:45:59.399Z"
   },
   {
    "duration": 184,
    "start_time": "2023-02-02T22:45:59.590Z"
   },
   {
    "duration": 515,
    "start_time": "2023-02-02T22:45:59.776Z"
   },
   {
    "duration": 1272,
    "start_time": "2023-02-02T22:46:00.293Z"
   },
   {
    "duration": 100,
    "start_time": "2023-02-02T22:46:01.566Z"
   },
   {
    "duration": 100,
    "start_time": "2023-02-02T22:46:01.669Z"
   },
   {
    "duration": 141,
    "start_time": "2023-02-02T22:46:01.771Z"
   },
   {
    "duration": 4,
    "start_time": "2023-02-02T22:46:01.914Z"
   },
   {
    "duration": 551,
    "start_time": "2023-02-02T22:46:01.920Z"
   },
   {
    "duration": 1050,
    "start_time": "2023-02-02T22:46:02.473Z"
   },
   {
    "duration": 202,
    "start_time": "2023-02-02T22:46:03.525Z"
   },
   {
    "duration": 14,
    "start_time": "2023-02-02T22:46:03.730Z"
   },
   {
    "duration": 97,
    "start_time": "2023-02-02T22:46:03.746Z"
   },
   {
    "duration": 3,
    "start_time": "2023-02-02T22:46:03.846Z"
   },
   {
    "duration": 44165,
    "start_time": "2023-02-02T22:46:03.851Z"
   },
   {
    "duration": 2881,
    "start_time": "2023-02-02T22:46:48.018Z"
   },
   {
    "duration": 4,
    "start_time": "2023-02-02T22:46:50.900Z"
   },
   {
    "duration": 67508,
    "start_time": "2023-02-02T22:46:50.906Z"
   },
   {
    "duration": 0,
    "start_time": "2023-02-02T22:47:58.416Z"
   },
   {
    "duration": 0,
    "start_time": "2023-02-02T22:47:58.417Z"
   },
   {
    "duration": 0,
    "start_time": "2023-02-02T22:47:58.419Z"
   },
   {
    "duration": 0,
    "start_time": "2023-02-02T22:47:58.420Z"
   },
   {
    "duration": 0,
    "start_time": "2023-02-02T22:47:58.422Z"
   },
   {
    "duration": 0,
    "start_time": "2023-02-02T22:47:58.423Z"
   },
   {
    "duration": 0,
    "start_time": "2023-02-02T22:47:58.425Z"
   },
   {
    "duration": 0,
    "start_time": "2023-02-02T22:47:58.426Z"
   },
   {
    "duration": 0,
    "start_time": "2023-02-02T22:47:58.427Z"
   },
   {
    "duration": 0,
    "start_time": "2023-02-02T22:47:58.428Z"
   },
   {
    "duration": 0,
    "start_time": "2023-02-02T22:47:58.430Z"
   },
   {
    "duration": 0,
    "start_time": "2023-02-02T22:47:58.431Z"
   },
   {
    "duration": 0,
    "start_time": "2023-02-02T22:47:58.433Z"
   },
   {
    "duration": 0,
    "start_time": "2023-02-02T22:47:58.434Z"
   },
   {
    "duration": 448298,
    "start_time": "2023-02-02T22:48:04.313Z"
   },
   {
    "duration": 0,
    "start_time": "2023-02-02T22:55:32.612Z"
   },
   {
    "duration": 0,
    "start_time": "2023-02-02T22:55:32.614Z"
   },
   {
    "duration": 0,
    "start_time": "2023-02-02T22:55:32.614Z"
   },
   {
    "duration": 0,
    "start_time": "2023-02-02T22:55:32.615Z"
   },
   {
    "duration": 0,
    "start_time": "2023-02-02T22:55:32.618Z"
   },
   {
    "duration": 0,
    "start_time": "2023-02-02T22:55:32.619Z"
   },
   {
    "duration": 0,
    "start_time": "2023-02-02T22:55:32.620Z"
   },
   {
    "duration": 0,
    "start_time": "2023-02-02T22:55:32.693Z"
   },
   {
    "duration": 0,
    "start_time": "2023-02-02T22:55:32.694Z"
   },
   {
    "duration": 0,
    "start_time": "2023-02-02T22:55:32.695Z"
   },
   {
    "duration": 0,
    "start_time": "2023-02-02T22:55:32.696Z"
   },
   {
    "duration": 0,
    "start_time": "2023-02-02T22:55:32.697Z"
   },
   {
    "duration": 0,
    "start_time": "2023-02-02T22:55:32.698Z"
   },
   {
    "duration": 0,
    "start_time": "2023-02-02T22:55:32.699Z"
   },
   {
    "duration": 1387,
    "start_time": "2023-02-02T22:56:33.858Z"
   },
   {
    "duration": 807,
    "start_time": "2023-02-02T22:56:35.247Z"
   },
   {
    "duration": 17,
    "start_time": "2023-02-02T22:56:36.056Z"
   },
   {
    "duration": 140,
    "start_time": "2023-02-02T22:56:36.074Z"
   },
   {
    "duration": 172,
    "start_time": "2023-02-02T22:56:36.216Z"
   },
   {
    "duration": 119,
    "start_time": "2023-02-02T22:56:36.392Z"
   },
   {
    "duration": 448,
    "start_time": "2023-02-02T22:56:36.513Z"
   },
   {
    "duration": 930,
    "start_time": "2023-02-02T22:56:36.963Z"
   },
   {
    "duration": 109,
    "start_time": "2023-02-02T22:56:37.895Z"
   },
   {
    "duration": 107,
    "start_time": "2023-02-02T22:56:38.006Z"
   },
   {
    "duration": 185,
    "start_time": "2023-02-02T22:56:38.115Z"
   },
   {
    "duration": 5,
    "start_time": "2023-02-02T22:56:38.303Z"
   },
   {
    "duration": 466,
    "start_time": "2023-02-02T22:56:38.310Z"
   },
   {
    "duration": 927,
    "start_time": "2023-02-02T22:56:38.779Z"
   },
   {
    "duration": 167,
    "start_time": "2023-02-02T22:56:39.708Z"
   },
   {
    "duration": 22,
    "start_time": "2023-02-02T22:56:39.877Z"
   },
   {
    "duration": 52,
    "start_time": "2023-02-02T22:56:39.901Z"
   },
   {
    "duration": 27521,
    "start_time": "2023-02-02T22:56:42.801Z"
   },
   {
    "duration": 73,
    "start_time": "2023-02-02T22:57:10.324Z"
   },
   {
    "duration": 111,
    "start_time": "2023-02-02T22:57:10.398Z"
   },
   {
    "duration": 0,
    "start_time": "2023-02-02T22:57:10.511Z"
   },
   {
    "duration": 0,
    "start_time": "2023-02-02T22:57:10.512Z"
   },
   {
    "duration": 0,
    "start_time": "2023-02-02T22:57:10.513Z"
   },
   {
    "duration": 0,
    "start_time": "2023-02-02T22:57:10.513Z"
   },
   {
    "duration": 0,
    "start_time": "2023-02-02T22:57:10.514Z"
   },
   {
    "duration": 0,
    "start_time": "2023-02-02T22:57:10.515Z"
   },
   {
    "duration": 0,
    "start_time": "2023-02-02T22:57:10.516Z"
   },
   {
    "duration": 0,
    "start_time": "2023-02-02T22:57:10.517Z"
   },
   {
    "duration": 0,
    "start_time": "2023-02-02T22:57:10.517Z"
   },
   {
    "duration": 0,
    "start_time": "2023-02-02T22:57:10.518Z"
   },
   {
    "duration": 3,
    "start_time": "2023-02-02T22:57:49.869Z"
   },
   {
    "duration": 6,
    "start_time": "2023-02-02T22:57:55.604Z"
   },
   {
    "duration": 868,
    "start_time": "2023-02-02T22:57:57.498Z"
   },
   {
    "duration": 41,
    "start_time": "2023-02-02T22:57:58.520Z"
   },
   {
    "duration": 6,
    "start_time": "2023-02-02T22:58:00.215Z"
   },
   {
    "duration": 47,
    "start_time": "2023-02-02T23:00:45.897Z"
   },
   {
    "duration": 8,
    "start_time": "2023-02-02T23:00:45.946Z"
   },
   {
    "duration": 0,
    "start_time": "2023-02-02T23:00:45.956Z"
   },
   {
    "duration": 0,
    "start_time": "2023-02-02T23:00:45.957Z"
   },
   {
    "duration": 0,
    "start_time": "2023-02-02T23:00:45.958Z"
   },
   {
    "duration": 0,
    "start_time": "2023-02-02T23:00:45.959Z"
   },
   {
    "duration": 0,
    "start_time": "2023-02-02T23:00:45.961Z"
   },
   {
    "duration": 1471,
    "start_time": "2023-02-02T23:00:55.167Z"
   },
   {
    "duration": 877,
    "start_time": "2023-02-02T23:00:56.640Z"
   },
   {
    "duration": 17,
    "start_time": "2023-02-02T23:00:57.518Z"
   },
   {
    "duration": 176,
    "start_time": "2023-02-02T23:00:57.537Z"
   },
   {
    "duration": 194,
    "start_time": "2023-02-02T23:00:57.715Z"
   },
   {
    "duration": 142,
    "start_time": "2023-02-02T23:00:57.911Z"
   },
   {
    "duration": 486,
    "start_time": "2023-02-02T23:00:58.055Z"
   },
   {
    "duration": 953,
    "start_time": "2023-02-02T23:00:58.543Z"
   },
   {
    "duration": 114,
    "start_time": "2023-02-02T23:00:59.498Z"
   },
   {
    "duration": 102,
    "start_time": "2023-02-02T23:00:59.614Z"
   },
   {
    "duration": 137,
    "start_time": "2023-02-02T23:00:59.717Z"
   },
   {
    "duration": 3,
    "start_time": "2023-02-02T23:00:59.856Z"
   },
   {
    "duration": 456,
    "start_time": "2023-02-02T23:00:59.861Z"
   },
   {
    "duration": 970,
    "start_time": "2023-02-02T23:01:00.319Z"
   },
   {
    "duration": 161,
    "start_time": "2023-02-02T23:01:01.290Z"
   },
   {
    "duration": 10,
    "start_time": "2023-02-02T23:01:01.453Z"
   },
   {
    "duration": 73,
    "start_time": "2023-02-02T23:01:01.465Z"
   },
   {
    "duration": 3,
    "start_time": "2023-02-02T23:01:01.540Z"
   },
   {
    "duration": 27490,
    "start_time": "2023-02-02T23:01:03.879Z"
   },
   {
    "duration": 68,
    "start_time": "2023-02-02T23:01:31.370Z"
   },
   {
    "duration": 5,
    "start_time": "2023-02-02T23:01:31.440Z"
   },
   {
    "duration": 875,
    "start_time": "2023-02-02T23:01:31.446Z"
   },
   {
    "duration": 44,
    "start_time": "2023-02-02T23:01:32.324Z"
   },
   {
    "duration": 5,
    "start_time": "2023-02-02T23:01:32.370Z"
   },
   {
    "duration": 28809,
    "start_time": "2023-02-02T23:01:32.393Z"
   },
   {
    "duration": 4913,
    "start_time": "2023-02-02T23:02:01.204Z"
   },
   {
    "duration": 6,
    "start_time": "2023-02-02T23:02:06.118Z"
   },
   {
    "duration": 566,
    "start_time": "2023-02-02T23:02:06.126Z"
   },
   {
    "duration": 4233,
    "start_time": "2023-02-02T23:02:06.693Z"
   },
   {
    "duration": 110,
    "start_time": "2023-02-02T23:02:10.928Z"
   },
   {
    "duration": 1,
    "start_time": "2023-02-02T23:02:11.039Z"
   },
   {
    "duration": 3,
    "start_time": "2023-02-02T23:03:31.445Z"
   },
   {
    "duration": 12,
    "start_time": "2023-02-02T23:03:39.302Z"
   },
   {
    "duration": 4887,
    "start_time": "2023-02-02T23:04:08.624Z"
   },
   {
    "duration": 668,
    "start_time": "2023-02-02T23:05:02.698Z"
   },
   {
    "duration": 52,
    "start_time": "2023-02-03T09:26:50.514Z"
   },
   {
    "duration": 1795,
    "start_time": "2023-02-03T09:27:19.156Z"
   },
   {
    "duration": 97,
    "start_time": "2023-02-03T09:27:26.585Z"
   },
   {
    "duration": 1531,
    "start_time": "2023-02-03T09:27:34.690Z"
   },
   {
    "duration": 1292,
    "start_time": "2023-02-03T09:27:36.224Z"
   },
   {
    "duration": 19,
    "start_time": "2023-02-03T09:27:37.517Z"
   },
   {
    "duration": 153,
    "start_time": "2023-02-03T09:27:37.539Z"
   },
   {
    "duration": 217,
    "start_time": "2023-02-03T09:27:37.694Z"
   },
   {
    "duration": 147,
    "start_time": "2023-02-03T09:27:37.913Z"
   },
   {
    "duration": 504,
    "start_time": "2023-02-03T09:27:38.062Z"
   },
   {
    "duration": 1043,
    "start_time": "2023-02-03T09:27:38.568Z"
   },
   {
    "duration": 1550,
    "start_time": "2023-02-03T09:28:20.725Z"
   },
   {
    "duration": 836,
    "start_time": "2023-02-03T09:28:22.278Z"
   },
   {
    "duration": 27,
    "start_time": "2023-02-03T09:28:23.116Z"
   },
   {
    "duration": 153,
    "start_time": "2023-02-03T09:28:23.145Z"
   },
   {
    "duration": 193,
    "start_time": "2023-02-03T09:28:23.301Z"
   },
   {
    "duration": 149,
    "start_time": "2023-02-03T09:28:23.496Z"
   },
   {
    "duration": 479,
    "start_time": "2023-02-03T09:28:23.647Z"
   },
   {
    "duration": 913,
    "start_time": "2023-02-03T09:28:24.128Z"
   },
   {
    "duration": 114,
    "start_time": "2023-02-03T09:28:25.043Z"
   },
   {
    "duration": 105,
    "start_time": "2023-02-03T09:28:25.159Z"
   },
   {
    "duration": 136,
    "start_time": "2023-02-03T09:28:25.266Z"
   },
   {
    "duration": 4,
    "start_time": "2023-02-03T09:28:25.404Z"
   },
   {
    "duration": 489,
    "start_time": "2023-02-03T09:28:25.410Z"
   },
   {
    "duration": 985,
    "start_time": "2023-02-03T09:28:25.901Z"
   },
   {
    "duration": 161,
    "start_time": "2023-02-03T09:28:26.889Z"
   },
   {
    "duration": 10,
    "start_time": "2023-02-03T09:28:27.052Z"
   },
   {
    "duration": 81,
    "start_time": "2023-02-03T09:28:27.064Z"
   },
   {
    "duration": 4,
    "start_time": "2023-02-03T09:28:27.146Z"
   },
   {
    "duration": 29589,
    "start_time": "2023-02-03T09:28:34.835Z"
   },
   {
    "duration": 71,
    "start_time": "2023-02-03T09:29:04.426Z"
   },
   {
    "duration": 6,
    "start_time": "2023-02-03T09:29:04.499Z"
   },
   {
    "duration": 985,
    "start_time": "2023-02-03T09:29:04.508Z"
   },
   {
    "duration": 56,
    "start_time": "2023-02-03T09:29:05.495Z"
   },
   {
    "duration": 6,
    "start_time": "2023-02-03T09:29:05.553Z"
   },
   {
    "duration": 340251,
    "start_time": "2023-02-03T09:29:05.562Z"
   },
   {
    "duration": 70,
    "start_time": "2023-02-03T09:34:45.815Z"
   },
   {
    "duration": 11,
    "start_time": "2023-02-03T09:34:45.887Z"
   },
   {
    "duration": 0,
    "start_time": "2023-02-03T09:34:45.900Z"
   },
   {
    "duration": 0,
    "start_time": "2023-02-03T09:34:45.902Z"
   },
   {
    "duration": 1509,
    "start_time": "2023-02-03T09:35:47.902Z"
   },
   {
    "duration": 820,
    "start_time": "2023-02-03T09:35:49.413Z"
   },
   {
    "duration": 18,
    "start_time": "2023-02-03T09:35:50.235Z"
   },
   {
    "duration": 153,
    "start_time": "2023-02-03T09:35:50.255Z"
   },
   {
    "duration": 187,
    "start_time": "2023-02-03T09:35:50.409Z"
   },
   {
    "duration": 136,
    "start_time": "2023-02-03T09:35:50.598Z"
   },
   {
    "duration": 483,
    "start_time": "2023-02-03T09:35:50.736Z"
   },
   {
    "duration": 932,
    "start_time": "2023-02-03T09:35:51.220Z"
   },
   {
    "duration": 114,
    "start_time": "2023-02-03T09:35:52.154Z"
   },
   {
    "duration": 99,
    "start_time": "2023-02-03T09:35:52.270Z"
   },
   {
    "duration": 129,
    "start_time": "2023-02-03T09:35:52.371Z"
   },
   {
    "duration": 5,
    "start_time": "2023-02-03T09:35:52.502Z"
   },
   {
    "duration": 452,
    "start_time": "2023-02-03T09:35:52.509Z"
   },
   {
    "duration": 948,
    "start_time": "2023-02-03T09:35:52.963Z"
   },
   {
    "duration": 160,
    "start_time": "2023-02-03T09:35:53.912Z"
   },
   {
    "duration": 9,
    "start_time": "2023-02-03T09:35:54.074Z"
   },
   {
    "duration": 68,
    "start_time": "2023-02-03T09:35:54.085Z"
   },
   {
    "duration": 3,
    "start_time": "2023-02-03T09:36:02.280Z"
   },
   {
    "duration": 29718,
    "start_time": "2023-02-03T09:36:14.778Z"
   },
   {
    "duration": 68,
    "start_time": "2023-02-03T09:36:44.498Z"
   },
   {
    "duration": 5,
    "start_time": "2023-02-03T09:36:44.568Z"
   },
   {
    "duration": 994,
    "start_time": "2023-02-03T09:36:44.576Z"
   },
   {
    "duration": 51,
    "start_time": "2023-02-03T09:36:45.572Z"
   },
   {
    "duration": 7,
    "start_time": "2023-02-03T09:36:45.639Z"
   },
   {
    "duration": 39213,
    "start_time": "2023-02-03T09:36:45.648Z"
   },
   {
    "duration": 5228,
    "start_time": "2023-02-03T09:37:24.941Z"
   },
   {
    "duration": 7,
    "start_time": "2023-02-03T09:37:30.170Z"
   },
   {
    "duration": 141,
    "start_time": "2023-02-03T09:37:30.239Z"
   },
   {
    "duration": 0,
    "start_time": "2023-02-03T09:37:30.382Z"
   },
   {
    "duration": 13,
    "start_time": "2023-02-03T09:38:25.621Z"
   },
   {
    "duration": 885,
    "start_time": "2023-02-03T09:40:20.598Z"
   },
   {
    "duration": 45,
    "start_time": "2023-02-03T09:40:22.849Z"
   },
   {
    "duration": 14,
    "start_time": "2023-02-03T09:40:25.156Z"
   },
   {
    "duration": 68,
    "start_time": "2023-02-03T09:40:42.820Z"
   },
   {
    "duration": 28,
    "start_time": "2023-02-03T09:41:10.113Z"
   },
   {
    "duration": 817,
    "start_time": "2023-02-03T09:44:58.824Z"
   }
  ],
  "kernelspec": {
   "display_name": "Python 3 (ipykernel)",
   "language": "python",
   "name": "python3"
  },
  "language_info": {
   "codemirror_mode": {
    "name": "ipython",
    "version": 3
   },
   "file_extension": ".py",
   "mimetype": "text/x-python",
   "name": "python",
   "nbconvert_exporter": "python",
   "pygments_lexer": "ipython3",
   "version": "3.9.13"
  },
  "toc": {
   "base_numbering": 1,
   "nav_menu": {},
   "number_sections": false,
   "sideBar": true,
   "skip_h1_title": false,
   "title_cell": "Содержание",
   "title_sidebar": "Contents",
   "toc_cell": true,
   "toc_position": {
    "height": "calc(100% - 180px)",
    "left": "10px",
    "top": "150px",
    "width": "366.188px"
   },
   "toc_section_display": true,
   "toc_window_display": true
  }
 },
 "nbformat": 4,
 "nbformat_minor": 4
}
